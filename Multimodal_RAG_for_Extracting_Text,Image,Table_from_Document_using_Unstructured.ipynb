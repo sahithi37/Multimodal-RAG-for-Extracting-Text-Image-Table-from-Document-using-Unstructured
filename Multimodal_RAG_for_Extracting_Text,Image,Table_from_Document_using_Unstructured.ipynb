{
  "nbformat": 4,
  "nbformat_minor": 0,
  "metadata": {
    "colab": {
      "provenance": [],
      "gpuType": "T4"
    },
    "kernelspec": {
      "name": "python3",
      "display_name": "Python 3"
    },
    "language_info": {
      "name": "python"
    },
    "accelerator": "GPU"
  },
  "cells": [
    {
      "cell_type": "code",
      "execution_count": 1,
      "metadata": {
        "colab": {
          "base_uri": "https://localhost:8080/"
        },
        "id": "OhybZnvgcLDc",
        "outputId": "91f0159f-1a66-43b0-8253-bc171c8df397"
      },
      "outputs": [
        {
          "output_type": "stream",
          "name": "stdout",
          "text": [
            "Requirement already satisfied: pillow in /usr/local/lib/python3.11/dist-packages (11.1.0)\n",
            "Requirement already satisfied: pydantic in /usr/local/lib/python3.11/dist-packages (2.10.6)\n",
            "Requirement already satisfied: lxml in /usr/local/lib/python3.11/dist-packages (5.3.1)\n",
            "Requirement already satisfied: matplotlib in /usr/local/lib/python3.11/dist-packages (3.10.0)\n",
            "Requirement already satisfied: unstructured[all-docs] in /usr/local/lib/python3.11/dist-packages (0.16.20)\n",
            "Requirement already satisfied: chardet in /usr/local/lib/python3.11/dist-packages (from unstructured[all-docs]) (5.2.0)\n",
            "Requirement already satisfied: filetype in /usr/local/lib/python3.11/dist-packages (from unstructured[all-docs]) (1.2.0)\n",
            "Requirement already satisfied: python-magic in /usr/local/lib/python3.11/dist-packages (from unstructured[all-docs]) (0.4.27)\n",
            "Requirement already satisfied: nltk in /usr/local/lib/python3.11/dist-packages (from unstructured[all-docs]) (3.9.1)\n",
            "Requirement already satisfied: requests in /usr/local/lib/python3.11/dist-packages (from unstructured[all-docs]) (2.32.3)\n",
            "Requirement already satisfied: beautifulsoup4 in /usr/local/lib/python3.11/dist-packages (from unstructured[all-docs]) (4.13.3)\n",
            "Requirement already satisfied: emoji in /usr/local/lib/python3.11/dist-packages (from unstructured[all-docs]) (2.14.1)\n",
            "Requirement already satisfied: dataclasses-json in /usr/local/lib/python3.11/dist-packages (from unstructured[all-docs]) (0.6.7)\n",
            "Requirement already satisfied: python-iso639 in /usr/local/lib/python3.11/dist-packages (from unstructured[all-docs]) (2025.2.8)\n",
            "Requirement already satisfied: langdetect in /usr/local/lib/python3.11/dist-packages (from unstructured[all-docs]) (1.0.9)\n",
            "Requirement already satisfied: numpy<2 in /usr/local/lib/python3.11/dist-packages (from unstructured[all-docs]) (1.26.4)\n",
            "Requirement already satisfied: rapidfuzz in /usr/local/lib/python3.11/dist-packages (from unstructured[all-docs]) (3.12.1)\n",
            "Requirement already satisfied: backoff in /usr/local/lib/python3.11/dist-packages (from unstructured[all-docs]) (2.2.1)\n",
            "Requirement already satisfied: typing-extensions in /usr/local/lib/python3.11/dist-packages (from unstructured[all-docs]) (4.12.2)\n",
            "Requirement already satisfied: unstructured-client in /usr/local/lib/python3.11/dist-packages (from unstructured[all-docs]) (0.30.0)\n",
            "Requirement already satisfied: wrapt in /usr/local/lib/python3.11/dist-packages (from unstructured[all-docs]) (1.17.2)\n",
            "Requirement already satisfied: tqdm in /usr/local/lib/python3.11/dist-packages (from unstructured[all-docs]) (4.67.1)\n",
            "Requirement already satisfied: psutil in /usr/local/lib/python3.11/dist-packages (from unstructured[all-docs]) (5.9.5)\n",
            "Requirement already satisfied: python-oxmsg in /usr/local/lib/python3.11/dist-packages (from unstructured[all-docs]) (0.0.2)\n",
            "Requirement already satisfied: html5lib in /usr/local/lib/python3.11/dist-packages (from unstructured[all-docs]) (1.1)\n",
            "Requirement already satisfied: pandas in /usr/local/lib/python3.11/dist-packages (from unstructured[all-docs]) (2.2.2)\n",
            "Requirement already satisfied: unstructured-inference>=0.8.6 in /usr/local/lib/python3.11/dist-packages (from unstructured[all-docs]) (0.8.7)\n",
            "Requirement already satisfied: python-docx>=1.1.2 in /usr/local/lib/python3.11/dist-packages (from unstructured[all-docs]) (1.1.2)\n",
            "Requirement already satisfied: onnx in /usr/local/lib/python3.11/dist-packages (from unstructured[all-docs]) (1.17.0)\n",
            "Requirement already satisfied: python-pptx>=1.0.1 in /usr/local/lib/python3.11/dist-packages (from unstructured[all-docs]) (1.0.2)\n",
            "Requirement already satisfied: xlrd in /usr/local/lib/python3.11/dist-packages (from unstructured[all-docs]) (2.0.1)\n",
            "Requirement already satisfied: markdown in /usr/local/lib/python3.11/dist-packages (from unstructured[all-docs]) (3.7)\n",
            "Requirement already satisfied: openpyxl in /usr/local/lib/python3.11/dist-packages (from unstructured[all-docs]) (3.1.5)\n",
            "Requirement already satisfied: effdet in /usr/local/lib/python3.11/dist-packages (from unstructured[all-docs]) (0.4.1)\n",
            "Requirement already satisfied: networkx in /usr/local/lib/python3.11/dist-packages (from unstructured[all-docs]) (3.4.2)\n",
            "Requirement already satisfied: google-cloud-vision in /usr/local/lib/python3.11/dist-packages (from unstructured[all-docs]) (3.10.0)\n",
            "Requirement already satisfied: pi-heif in /usr/local/lib/python3.11/dist-packages (from unstructured[all-docs]) (0.21.0)\n",
            "Requirement already satisfied: pypandoc in /usr/local/lib/python3.11/dist-packages (from unstructured[all-docs]) (1.15)\n",
            "Requirement already satisfied: pdfminer.six in /usr/local/lib/python3.11/dist-packages (from unstructured[all-docs]) (20240706)\n",
            "Requirement already satisfied: unstructured.pytesseract>=0.3.12 in /usr/local/lib/python3.11/dist-packages (from unstructured[all-docs]) (0.3.13)\n",
            "Requirement already satisfied: pikepdf in /usr/local/lib/python3.11/dist-packages (from unstructured[all-docs]) (9.5.2)\n",
            "Requirement already satisfied: pdf2image in /usr/local/lib/python3.11/dist-packages (from unstructured[all-docs]) (1.17.0)\n",
            "Requirement already satisfied: pypdf in /usr/local/lib/python3.11/dist-packages (from unstructured[all-docs]) (5.3.0)\n",
            "Requirement already satisfied: annotated-types>=0.6.0 in /usr/local/lib/python3.11/dist-packages (from pydantic) (0.7.0)\n",
            "Requirement already satisfied: pydantic-core==2.27.2 in /usr/local/lib/python3.11/dist-packages (from pydantic) (2.27.2)\n",
            "Requirement already satisfied: contourpy>=1.0.1 in /usr/local/lib/python3.11/dist-packages (from matplotlib) (1.3.1)\n",
            "Requirement already satisfied: cycler>=0.10 in /usr/local/lib/python3.11/dist-packages (from matplotlib) (0.12.1)\n",
            "Requirement already satisfied: fonttools>=4.22.0 in /usr/local/lib/python3.11/dist-packages (from matplotlib) (4.56.0)\n",
            "Requirement already satisfied: kiwisolver>=1.3.1 in /usr/local/lib/python3.11/dist-packages (from matplotlib) (1.4.8)\n",
            "Requirement already satisfied: packaging>=20.0 in /usr/local/lib/python3.11/dist-packages (from matplotlib) (24.2)\n",
            "Requirement already satisfied: pyparsing>=2.3.1 in /usr/local/lib/python3.11/dist-packages (from matplotlib) (3.2.1)\n",
            "Requirement already satisfied: python-dateutil>=2.7 in /usr/local/lib/python3.11/dist-packages (from matplotlib) (2.8.2)\n",
            "Requirement already satisfied: six>=1.5 in /usr/local/lib/python3.11/dist-packages (from python-dateutil>=2.7->matplotlib) (1.17.0)\n",
            "Requirement already satisfied: XlsxWriter>=0.5.7 in /usr/local/lib/python3.11/dist-packages (from python-pptx>=1.0.1->unstructured[all-docs]) (3.2.2)\n",
            "Requirement already satisfied: python-multipart in /usr/local/lib/python3.11/dist-packages (from unstructured-inference>=0.8.6->unstructured[all-docs]) (0.0.20)\n",
            "Requirement already satisfied: huggingface-hub in /usr/local/lib/python3.11/dist-packages (from unstructured-inference>=0.8.6->unstructured[all-docs]) (0.28.1)\n",
            "Requirement already satisfied: opencv-python!=4.7.0.68 in /usr/local/lib/python3.11/dist-packages (from unstructured-inference>=0.8.6->unstructured[all-docs]) (4.11.0.86)\n",
            "Requirement already satisfied: onnxruntime>=1.17.0 in /usr/local/lib/python3.11/dist-packages (from unstructured-inference>=0.8.6->unstructured[all-docs]) (1.20.1)\n",
            "Requirement already satisfied: torch in /usr/local/lib/python3.11/dist-packages (from unstructured-inference>=0.8.6->unstructured[all-docs]) (2.5.1+cu124)\n",
            "Requirement already satisfied: timm in /usr/local/lib/python3.11/dist-packages (from unstructured-inference>=0.8.6->unstructured[all-docs]) (1.0.14)\n",
            "Requirement already satisfied: transformers>=4.25.1 in /usr/local/lib/python3.11/dist-packages (from unstructured-inference>=0.8.6->unstructured[all-docs]) (4.48.3)\n",
            "Requirement already satisfied: scipy in /usr/local/lib/python3.11/dist-packages (from unstructured-inference>=0.8.6->unstructured[all-docs]) (1.13.1)\n",
            "Requirement already satisfied: pypdfium2 in /usr/local/lib/python3.11/dist-packages (from unstructured-inference>=0.8.6->unstructured[all-docs]) (4.30.1)\n",
            "Requirement already satisfied: charset-normalizer>=2.0.0 in /usr/local/lib/python3.11/dist-packages (from pdfminer.six->unstructured[all-docs]) (3.4.1)\n",
            "Requirement already satisfied: cryptography>=36.0.0 in /usr/local/lib/python3.11/dist-packages (from pdfminer.six->unstructured[all-docs]) (43.0.3)\n",
            "Requirement already satisfied: soupsieve>1.2 in /usr/local/lib/python3.11/dist-packages (from beautifulsoup4->unstructured[all-docs]) (2.6)\n",
            "Requirement already satisfied: marshmallow<4.0.0,>=3.18.0 in /usr/local/lib/python3.11/dist-packages (from dataclasses-json->unstructured[all-docs]) (3.26.1)\n",
            "Requirement already satisfied: typing-inspect<1,>=0.4.0 in /usr/local/lib/python3.11/dist-packages (from dataclasses-json->unstructured[all-docs]) (0.9.0)\n",
            "Requirement already satisfied: torchvision in /usr/local/lib/python3.11/dist-packages (from effdet->unstructured[all-docs]) (0.20.1+cu124)\n",
            "Requirement already satisfied: pycocotools>=2.0.2 in /usr/local/lib/python3.11/dist-packages (from effdet->unstructured[all-docs]) (2.0.8)\n",
            "Requirement already satisfied: omegaconf>=2.0 in /usr/local/lib/python3.11/dist-packages (from effdet->unstructured[all-docs]) (2.3.0)\n",
            "Requirement already satisfied: google-api-core!=2.0.*,!=2.1.*,!=2.10.*,!=2.2.*,!=2.3.*,!=2.4.*,!=2.5.*,!=2.6.*,!=2.7.*,!=2.8.*,!=2.9.*,<3.0.0dev,>=1.34.1 in /usr/local/lib/python3.11/dist-packages (from google-api-core[grpc]!=2.0.*,!=2.1.*,!=2.10.*,!=2.2.*,!=2.3.*,!=2.4.*,!=2.5.*,!=2.6.*,!=2.7.*,!=2.8.*,!=2.9.*,<3.0.0dev,>=1.34.1->google-cloud-vision->unstructured[all-docs]) (2.19.2)\n",
            "Requirement already satisfied: google-auth!=2.24.0,!=2.25.0,<3.0.0dev,>=2.14.1 in /usr/local/lib/python3.11/dist-packages (from google-cloud-vision->unstructured[all-docs]) (2.27.0)\n",
            "Requirement already satisfied: proto-plus<2.0.0dev,>=1.22.3 in /usr/local/lib/python3.11/dist-packages (from google-cloud-vision->unstructured[all-docs]) (1.26.0)\n",
            "Requirement already satisfied: protobuf!=4.21.0,!=4.21.1,!=4.21.2,!=4.21.3,!=4.21.4,!=4.21.5,<6.0.0dev,>=3.20.2 in /usr/local/lib/python3.11/dist-packages (from google-cloud-vision->unstructured[all-docs]) (5.29.3)\n",
            "Requirement already satisfied: webencodings in /usr/local/lib/python3.11/dist-packages (from html5lib->unstructured[all-docs]) (0.5.1)\n",
            "Requirement already satisfied: click in /usr/local/lib/python3.11/dist-packages (from nltk->unstructured[all-docs]) (8.1.8)\n",
            "Requirement already satisfied: joblib in /usr/local/lib/python3.11/dist-packages (from nltk->unstructured[all-docs]) (1.4.2)\n",
            "Requirement already satisfied: regex>=2021.8.3 in /usr/local/lib/python3.11/dist-packages (from nltk->unstructured[all-docs]) (2024.11.6)\n",
            "Requirement already satisfied: et-xmlfile in /usr/local/lib/python3.11/dist-packages (from openpyxl->unstructured[all-docs]) (2.0.0)\n",
            "Requirement already satisfied: pytz>=2020.1 in /usr/local/lib/python3.11/dist-packages (from pandas->unstructured[all-docs]) (2025.1)\n",
            "Requirement already satisfied: tzdata>=2022.7 in /usr/local/lib/python3.11/dist-packages (from pandas->unstructured[all-docs]) (2025.1)\n",
            "Requirement already satisfied: Deprecated in /usr/local/lib/python3.11/dist-packages (from pikepdf->unstructured[all-docs]) (1.2.18)\n",
            "Requirement already satisfied: olefile in /usr/local/lib/python3.11/dist-packages (from python-oxmsg->unstructured[all-docs]) (0.47)\n",
            "Requirement already satisfied: idna<4,>=2.5 in /usr/local/lib/python3.11/dist-packages (from requests->unstructured[all-docs]) (3.10)\n",
            "Requirement already satisfied: urllib3<3,>=1.21.1 in /usr/local/lib/python3.11/dist-packages (from requests->unstructured[all-docs]) (2.3.0)\n",
            "Requirement already satisfied: certifi>=2017.4.17 in /usr/local/lib/python3.11/dist-packages (from requests->unstructured[all-docs]) (2025.1.31)\n",
            "Requirement already satisfied: aiofiles>=24.1.0 in /usr/local/lib/python3.11/dist-packages (from unstructured-client->unstructured[all-docs]) (24.1.0)\n",
            "Requirement already satisfied: eval-type-backport>=0.2.0 in /usr/local/lib/python3.11/dist-packages (from unstructured-client->unstructured[all-docs]) (0.2.2)\n",
            "Requirement already satisfied: httpx>=0.27.0 in /usr/local/lib/python3.11/dist-packages (from unstructured-client->unstructured[all-docs]) (0.28.1)\n",
            "Requirement already satisfied: nest-asyncio>=1.6.0 in /usr/local/lib/python3.11/dist-packages (from unstructured-client->unstructured[all-docs]) (1.6.0)\n",
            "Requirement already satisfied: requests-toolbelt>=1.0.0 in /usr/local/lib/python3.11/dist-packages (from unstructured-client->unstructured[all-docs]) (1.0.0)\n",
            "Requirement already satisfied: cffi>=1.12 in /usr/local/lib/python3.11/dist-packages (from cryptography>=36.0.0->pdfminer.six->unstructured[all-docs]) (1.17.1)\n",
            "Requirement already satisfied: googleapis-common-protos<2.0.dev0,>=1.56.2 in /usr/local/lib/python3.11/dist-packages (from google-api-core!=2.0.*,!=2.1.*,!=2.10.*,!=2.2.*,!=2.3.*,!=2.4.*,!=2.5.*,!=2.6.*,!=2.7.*,!=2.8.*,!=2.9.*,<3.0.0dev,>=1.34.1->google-api-core[grpc]!=2.0.*,!=2.1.*,!=2.10.*,!=2.2.*,!=2.3.*,!=2.4.*,!=2.5.*,!=2.6.*,!=2.7.*,!=2.8.*,!=2.9.*,<3.0.0dev,>=1.34.1->google-cloud-vision->unstructured[all-docs]) (1.66.0)\n",
            "Requirement already satisfied: grpcio<2.0dev,>=1.33.2 in /usr/local/lib/python3.11/dist-packages (from google-api-core[grpc]!=2.0.*,!=2.1.*,!=2.10.*,!=2.2.*,!=2.3.*,!=2.4.*,!=2.5.*,!=2.6.*,!=2.7.*,!=2.8.*,!=2.9.*,<3.0.0dev,>=1.34.1->google-cloud-vision->unstructured[all-docs]) (1.70.0)\n",
            "Requirement already satisfied: grpcio-status<2.0.dev0,>=1.33.2 in /usr/local/lib/python3.11/dist-packages (from google-api-core[grpc]!=2.0.*,!=2.1.*,!=2.10.*,!=2.2.*,!=2.3.*,!=2.4.*,!=2.5.*,!=2.6.*,!=2.7.*,!=2.8.*,!=2.9.*,<3.0.0dev,>=1.34.1->google-cloud-vision->unstructured[all-docs]) (1.62.3)\n",
            "Requirement already satisfied: cachetools<6.0,>=2.0.0 in /usr/local/lib/python3.11/dist-packages (from google-auth!=2.24.0,!=2.25.0,<3.0.0dev,>=2.14.1->google-cloud-vision->unstructured[all-docs]) (5.5.1)\n",
            "Requirement already satisfied: pyasn1-modules>=0.2.1 in /usr/local/lib/python3.11/dist-packages (from google-auth!=2.24.0,!=2.25.0,<3.0.0dev,>=2.14.1->google-cloud-vision->unstructured[all-docs]) (0.4.1)\n",
            "Requirement already satisfied: rsa<5,>=3.1.4 in /usr/local/lib/python3.11/dist-packages (from google-auth!=2.24.0,!=2.25.0,<3.0.0dev,>=2.14.1->google-cloud-vision->unstructured[all-docs]) (4.9)\n",
            "Requirement already satisfied: anyio in /usr/local/lib/python3.11/dist-packages (from httpx>=0.27.0->unstructured-client->unstructured[all-docs]) (3.7.1)\n",
            "Requirement already satisfied: httpcore==1.* in /usr/local/lib/python3.11/dist-packages (from httpx>=0.27.0->unstructured-client->unstructured[all-docs]) (1.0.7)\n",
            "Requirement already satisfied: h11<0.15,>=0.13 in /usr/local/lib/python3.11/dist-packages (from httpcore==1.*->httpx>=0.27.0->unstructured-client->unstructured[all-docs]) (0.14.0)\n",
            "Requirement already satisfied: antlr4-python3-runtime==4.9.* in /usr/local/lib/python3.11/dist-packages (from omegaconf>=2.0->effdet->unstructured[all-docs]) (4.9.3)\n",
            "Requirement already satisfied: PyYAML>=5.1.0 in /usr/local/lib/python3.11/dist-packages (from omegaconf>=2.0->effdet->unstructured[all-docs]) (6.0.2)\n",
            "Requirement already satisfied: coloredlogs in /usr/local/lib/python3.11/dist-packages (from onnxruntime>=1.17.0->unstructured-inference>=0.8.6->unstructured[all-docs]) (15.0.1)\n",
            "Requirement already satisfied: flatbuffers in /usr/local/lib/python3.11/dist-packages (from onnxruntime>=1.17.0->unstructured-inference>=0.8.6->unstructured[all-docs]) (25.2.10)\n",
            "Requirement already satisfied: sympy in /usr/local/lib/python3.11/dist-packages (from onnxruntime>=1.17.0->unstructured-inference>=0.8.6->unstructured[all-docs]) (1.13.1)\n",
            "Requirement already satisfied: safetensors in /usr/local/lib/python3.11/dist-packages (from timm->unstructured-inference>=0.8.6->unstructured[all-docs]) (0.5.2)\n",
            "Requirement already satisfied: filelock in /usr/local/lib/python3.11/dist-packages (from torch->unstructured-inference>=0.8.6->unstructured[all-docs]) (3.17.0)\n",
            "Requirement already satisfied: jinja2 in /usr/local/lib/python3.11/dist-packages (from torch->unstructured-inference>=0.8.6->unstructured[all-docs]) (3.1.5)\n",
            "Requirement already satisfied: fsspec in /usr/local/lib/python3.11/dist-packages (from torch->unstructured-inference>=0.8.6->unstructured[all-docs]) (2024.10.0)\n",
            "Requirement already satisfied: nvidia-cuda-nvrtc-cu12==12.4.127 in /usr/local/lib/python3.11/dist-packages (from torch->unstructured-inference>=0.8.6->unstructured[all-docs]) (12.4.127)\n",
            "Requirement already satisfied: nvidia-cuda-runtime-cu12==12.4.127 in /usr/local/lib/python3.11/dist-packages (from torch->unstructured-inference>=0.8.6->unstructured[all-docs]) (12.4.127)\n",
            "Requirement already satisfied: nvidia-cuda-cupti-cu12==12.4.127 in /usr/local/lib/python3.11/dist-packages (from torch->unstructured-inference>=0.8.6->unstructured[all-docs]) (12.4.127)\n",
            "Requirement already satisfied: nvidia-cudnn-cu12==9.1.0.70 in /usr/local/lib/python3.11/dist-packages (from torch->unstructured-inference>=0.8.6->unstructured[all-docs]) (9.1.0.70)\n",
            "Requirement already satisfied: nvidia-cublas-cu12==12.4.5.8 in /usr/local/lib/python3.11/dist-packages (from torch->unstructured-inference>=0.8.6->unstructured[all-docs]) (12.4.5.8)\n",
            "Requirement already satisfied: nvidia-cufft-cu12==11.2.1.3 in /usr/local/lib/python3.11/dist-packages (from torch->unstructured-inference>=0.8.6->unstructured[all-docs]) (11.2.1.3)\n",
            "Requirement already satisfied: nvidia-curand-cu12==10.3.5.147 in /usr/local/lib/python3.11/dist-packages (from torch->unstructured-inference>=0.8.6->unstructured[all-docs]) (10.3.5.147)\n",
            "Requirement already satisfied: nvidia-cusolver-cu12==11.6.1.9 in /usr/local/lib/python3.11/dist-packages (from torch->unstructured-inference>=0.8.6->unstructured[all-docs]) (11.6.1.9)\n",
            "Requirement already satisfied: nvidia-cusparse-cu12==12.3.1.170 in /usr/local/lib/python3.11/dist-packages (from torch->unstructured-inference>=0.8.6->unstructured[all-docs]) (12.3.1.170)\n",
            "Requirement already satisfied: nvidia-nccl-cu12==2.21.5 in /usr/local/lib/python3.11/dist-packages (from torch->unstructured-inference>=0.8.6->unstructured[all-docs]) (2.21.5)\n",
            "Requirement already satisfied: nvidia-nvtx-cu12==12.4.127 in /usr/local/lib/python3.11/dist-packages (from torch->unstructured-inference>=0.8.6->unstructured[all-docs]) (12.4.127)\n",
            "Requirement already satisfied: nvidia-nvjitlink-cu12==12.4.127 in /usr/local/lib/python3.11/dist-packages (from torch->unstructured-inference>=0.8.6->unstructured[all-docs]) (12.4.127)\n",
            "Requirement already satisfied: triton==3.1.0 in /usr/local/lib/python3.11/dist-packages (from torch->unstructured-inference>=0.8.6->unstructured[all-docs]) (3.1.0)\n",
            "Requirement already satisfied: mpmath<1.4,>=1.1.0 in /usr/local/lib/python3.11/dist-packages (from sympy->onnxruntime>=1.17.0->unstructured-inference>=0.8.6->unstructured[all-docs]) (1.3.0)\n",
            "Requirement already satisfied: tokenizers<0.22,>=0.21 in /usr/local/lib/python3.11/dist-packages (from transformers>=4.25.1->unstructured-inference>=0.8.6->unstructured[all-docs]) (0.21.0)\n",
            "Requirement already satisfied: mypy-extensions>=0.3.0 in /usr/local/lib/python3.11/dist-packages (from typing-inspect<1,>=0.4.0->dataclasses-json->unstructured[all-docs]) (1.0.0)\n",
            "Requirement already satisfied: pycparser in /usr/local/lib/python3.11/dist-packages (from cffi>=1.12->cryptography>=36.0.0->pdfminer.six->unstructured[all-docs]) (2.22)\n",
            "Requirement already satisfied: pyasn1<0.7.0,>=0.4.6 in /usr/local/lib/python3.11/dist-packages (from pyasn1-modules>=0.2.1->google-auth!=2.24.0,!=2.25.0,<3.0.0dev,>=2.14.1->google-cloud-vision->unstructured[all-docs]) (0.6.1)\n",
            "Requirement already satisfied: sniffio>=1.1 in /usr/local/lib/python3.11/dist-packages (from anyio->httpx>=0.27.0->unstructured-client->unstructured[all-docs]) (1.3.1)\n",
            "Requirement already satisfied: humanfriendly>=9.1 in /usr/local/lib/python3.11/dist-packages (from coloredlogs->onnxruntime>=1.17.0->unstructured-inference>=0.8.6->unstructured[all-docs]) (10.0)\n",
            "Requirement already satisfied: MarkupSafe>=2.0 in /usr/local/lib/python3.11/dist-packages (from jinja2->torch->unstructured-inference>=0.8.6->unstructured[all-docs]) (3.0.2)\n"
          ]
        }
      ],
      "source": [
        "! pip install \"unstructured[all-docs]\" pillow pydantic lxml matplotlib\n"
      ]
    },
    {
      "cell_type": "code",
      "source": [
        "!sudo apt-get update"
      ],
      "metadata": {
        "colab": {
          "base_uri": "https://localhost:8080/"
        },
        "id": "pON9AsEjdQiq",
        "outputId": "7ac79b5a-e6c0-48d4-89c8-cc6f0f598b97"
      },
      "execution_count": 2,
      "outputs": [
        {
          "output_type": "stream",
          "name": "stdout",
          "text": [
            "\r0% [Working]\r            \rHit:1 https://cloud.r-project.org/bin/linux/ubuntu jammy-cran40/ InRelease\n",
            "Hit:2 https://developer.download.nvidia.com/compute/cuda/repos/ubuntu2204/x86_64  InRelease\n",
            "Hit:3 http://archive.ubuntu.com/ubuntu jammy InRelease\n",
            "Hit:4 http://security.ubuntu.com/ubuntu jammy-security InRelease\n",
            "Hit:5 http://archive.ubuntu.com/ubuntu jammy-updates InRelease\n",
            "Hit:6 http://archive.ubuntu.com/ubuntu jammy-backports InRelease\n",
            "Hit:7 https://r2u.stat.illinois.edu/ubuntu jammy InRelease\n",
            "Hit:8 https://ppa.launchpadcontent.net/deadsnakes/ppa/ubuntu jammy InRelease\n",
            "Hit:9 https://ppa.launchpadcontent.net/graphics-drivers/ppa/ubuntu jammy InRelease\n",
            "Hit:10 https://ppa.launchpadcontent.net/ubuntugis/ppa/ubuntu jammy InRelease\n",
            "Reading package lists... Done\n",
            "W: Skipping acquire of configured file 'main/source/Sources' as repository 'https://r2u.stat.illinois.edu/ubuntu jammy InRelease' does not seem to provide it (sources.list entry misspelt?)\n"
          ]
        }
      ]
    },
    {
      "cell_type": "code",
      "source": [
        "!sudo apt-get install poppler-utils"
      ],
      "metadata": {
        "colab": {
          "base_uri": "https://localhost:8080/"
        },
        "id": "3z40kmULdeO5",
        "outputId": "d747ae81-2e60-4fb9-cc5a-bc7aa452129b"
      },
      "execution_count": 3,
      "outputs": [
        {
          "output_type": "stream",
          "name": "stdout",
          "text": [
            "Reading package lists... Done\n",
            "Building dependency tree... Done\n",
            "Reading state information... Done\n",
            "poppler-utils is already the newest version (22.02.0-2ubuntu0.6).\n",
            "0 upgraded, 0 newly installed, 0 to remove and 22 not upgraded.\n"
          ]
        }
      ]
    },
    {
      "cell_type": "code",
      "source": [
        "!sudo apt-get install libleptonica-dev tesseract-ocr libtesseract-dev python3-pil tesseract-ocr-eng tesseract-ocr-script-latn\n"
      ],
      "metadata": {
        "colab": {
          "base_uri": "https://localhost:8080/"
        },
        "id": "1J99vs12dfS_",
        "outputId": "464ea480-bbd0-48b3-e805-d2f729df9d0e"
      },
      "execution_count": 4,
      "outputs": [
        {
          "output_type": "stream",
          "name": "stdout",
          "text": [
            "Reading package lists... Done\n",
            "Building dependency tree... Done\n",
            "Reading state information... Done\n",
            "libleptonica-dev is already the newest version (1.82.0-3build1).\n",
            "libtesseract-dev is already the newest version (4.1.1-2.1build1).\n",
            "tesseract-ocr is already the newest version (4.1.1-2.1build1).\n",
            "tesseract-ocr-eng is already the newest version (1:4.00~git30-7274cfa-1.1).\n",
            "tesseract-ocr-script-latn is already the newest version (1:4.00~git30-7274cfa-1.1).\n",
            "python3-pil is already the newest version (9.0.1-1ubuntu0.3).\n",
            "0 upgraded, 0 newly installed, 0 to remove and 22 not upgraded.\n"
          ]
        }
      ]
    },
    {
      "cell_type": "code",
      "source": [
        "!pip install unstructured-pytesseract\n",
        "!pip install tesseract-ocr\n"
      ],
      "metadata": {
        "colab": {
          "base_uri": "https://localhost:8080/"
        },
        "id": "iy-Jhyu4dsv7",
        "outputId": "978da2ab-758b-4e76-9c8f-6553d0418bbb"
      },
      "execution_count": 5,
      "outputs": [
        {
          "output_type": "stream",
          "name": "stdout",
          "text": [
            "Requirement already satisfied: unstructured-pytesseract in /usr/local/lib/python3.11/dist-packages (0.3.13)\n",
            "Requirement already satisfied: packaging>=21.3 in /usr/local/lib/python3.11/dist-packages (from unstructured-pytesseract) (24.2)\n",
            "Requirement already satisfied: Pillow>=8.0.0 in /usr/local/lib/python3.11/dist-packages (from unstructured-pytesseract) (11.1.0)\n",
            "Requirement already satisfied: tesseract-ocr in /usr/local/lib/python3.11/dist-packages (0.0.1)\n",
            "Requirement already satisfied: cython in /usr/local/lib/python3.11/dist-packages (from tesseract-ocr) (3.0.12)\n"
          ]
        }
      ]
    },
    {
      "cell_type": "code",
      "source": [
        "from unstructured.partition.pdf import partition_pdf"
      ],
      "metadata": {
        "id": "YWh9Cs7ydwvv"
      },
      "execution_count": 6,
      "outputs": []
    },
    {
      "cell_type": "code",
      "source": [
        "raw_pdf_elements=partition_pdf(\n",
        "    filename=\"/content/Retrieval Augmented Generation.pdf\",\n",
        "    strategy=\"hi_res\",\n",
        "    extract_images_in_pdf=True,\n",
        "    extract_image_block_types=[\"Image\", \"Table\"],\n",
        "    extract_image_block_to_payload=False,\n",
        "    extract_image_block_output_dir=\"extracted_data\"\n",
        "  )"
      ],
      "metadata": {
        "id": "lZiFBh04eHZi"
      },
      "execution_count": 7,
      "outputs": []
    },
    {
      "cell_type": "code",
      "source": [
        "raw_pdf_elements"
      ],
      "metadata": {
        "colab": {
          "base_uri": "https://localhost:8080/"
        },
        "id": "Ue_IoNhdhPWE",
        "outputId": "faf79b48-51f0-4ca5-974a-98b25e66ef27"
      },
      "execution_count": 8,
      "outputs": [
        {
          "output_type": "execute_result",
          "data": {
            "text/plain": [
              "[<unstructured.documents.elements.Text at 0x78d685913b50>,\n",
              " <unstructured.documents.elements.Text at 0x78d68657fe90>,\n",
              " <unstructured.documents.elements.Text at 0x78d7abff3190>,\n",
              " <unstructured.documents.elements.Text at 0x78d6a70f6d50>,\n",
              " <unstructured.documents.elements.Header at 0x78d686116bd0>,\n",
              " <unstructured.documents.elements.Title at 0x78d68531aa90>,\n",
              " <unstructured.documents.elements.Title at 0x78d684877b10>,\n",
              " <unstructured.documents.elements.Title at 0x78d68489a290>,\n",
              " <unstructured.documents.elements.Title at 0x78d6a4e3f090>,\n",
              " <unstructured.documents.elements.Title at 0x78d68531ab90>,\n",
              " <unstructured.documents.elements.Title at 0x78d6859cf710>,\n",
              " <unstructured.documents.elements.Title at 0x78d6864dad10>,\n",
              " <unstructured.documents.elements.NarrativeText at 0x78d685002350>,\n",
              " <unstructured.documents.elements.NarrativeText at 0x78d686116250>,\n",
              " <unstructured.documents.elements.NarrativeText at 0x78d686116550>,\n",
              " <unstructured.documents.elements.NarrativeText at 0x78d686117950>,\n",
              " <unstructured.documents.elements.NarrativeText at 0x78d686114b50>,\n",
              " <unstructured.documents.elements.Title at 0x78d686114d90>,\n",
              " <unstructured.documents.elements.NarrativeText at 0x78d686115850>,\n",
              " <unstructured.documents.elements.Title at 0x78d685885310>,\n",
              " <unstructured.documents.elements.NarrativeText at 0x78d685885d10>,\n",
              " <unstructured.documents.elements.Image at 0x78d685902d50>,\n",
              " <unstructured.documents.elements.NarrativeText at 0x78d685886e10>,\n",
              " <unstructured.documents.elements.NarrativeText at 0x78d6864b4650>,\n",
              " <unstructured.documents.elements.NarrativeText at 0x78d6864b5510>,\n",
              " <unstructured.documents.elements.NarrativeText at 0x78d6864b5910>,\n",
              " <unstructured.documents.elements.NarrativeText at 0x78d6864b5b10>,\n",
              " <unstructured.documents.elements.Title at 0x78d6864b6510>,\n",
              " <unstructured.documents.elements.NarrativeText at 0x78d6864b4790>,\n",
              " <unstructured.documents.elements.NarrativeText at 0x78d6864b56d0>,\n",
              " <unstructured.documents.elements.Footer at 0x78d6864b6050>,\n",
              " <unstructured.documents.elements.NarrativeText at 0x78d6864b6010>,\n",
              " <unstructured.documents.elements.NarrativeText at 0x78d6849a4110>,\n",
              " <unstructured.documents.elements.Title at 0x78d6849a42d0>,\n",
              " <unstructured.documents.elements.NarrativeText at 0x78d6849a4850>,\n",
              " <unstructured.documents.elements.Title at 0x78d6849e73d0>,\n",
              " <unstructured.documents.elements.Formula at 0x78d6849a5dd0>,\n",
              " <unstructured.documents.elements.NarrativeText at 0x78d6849a6590>,\n",
              " <unstructured.documents.elements.Formula at 0x78d6849a6f90>,\n",
              " <unstructured.documents.elements.NarrativeText at 0x78d6849a4bd0>,\n",
              " <unstructured.documents.elements.Title at 0x78d6849a4d10>,\n",
              " <unstructured.documents.elements.NarrativeText at 0x78d6849a5a50>,\n",
              " <unstructured.documents.elements.Title at 0x78d6a83d63d0>,\n",
              " <unstructured.documents.elements.Formula at 0x78d6849a6c10>,\n",
              " <unstructured.documents.elements.NarrativeText at 0x78d686101010>,\n",
              " <unstructured.documents.elements.Title at 0x78d684805010>,\n",
              " <unstructured.documents.elements.NarrativeText at 0x78d6a4e2cc90>,\n",
              " <unstructured.documents.elements.Title at 0x78d6a30e6350>,\n",
              " <unstructured.documents.elements.NarrativeText at 0x78d6a30e7450>,\n",
              " <unstructured.documents.elements.Footer at 0x78d6a30e7790>,\n",
              " <unstructured.documents.elements.NarrativeText at 0x78d6a33f5390>,\n",
              " <unstructured.documents.elements.NarrativeText at 0x78d6a31e63d0>,\n",
              " <unstructured.documents.elements.Title at 0x78d6a31e4d90>,\n",
              " <unstructured.documents.elements.NarrativeText at 0x78d6aaa149d0>,\n",
              " <unstructured.documents.elements.NarrativeText at 0x78d6a31e5a90>,\n",
              " <unstructured.documents.elements.NarrativeText at 0x78d6a31e5990>,\n",
              " <unstructured.documents.elements.Title at 0x78d68531b010>,\n",
              " <unstructured.documents.elements.NarrativeText at 0x78d68531aed0>,\n",
              " <unstructured.documents.elements.Title at 0x78d68531a110>,\n",
              " <unstructured.documents.elements.NarrativeText at 0x78d685319a50>,\n",
              " <unstructured.documents.elements.Title at 0x78d68531ab50>,\n",
              " <unstructured.documents.elements.NarrativeText at 0x78d68531ac50>,\n",
              " <unstructured.documents.elements.Text at 0x78d6864b5350>,\n",
              " <unstructured.documents.elements.NarrativeText at 0x78d685319bd0>,\n",
              " <unstructured.documents.elements.Title at 0x78d685318710>,\n",
              " <unstructured.documents.elements.NarrativeText at 0x78d685318dd0>,\n",
              " <unstructured.documents.elements.NarrativeText at 0x78d685318b90>,\n",
              " <unstructured.documents.elements.Title at 0x78d685318d90>,\n",
              " <unstructured.documents.elements.NarrativeText at 0x78d685319390>,\n",
              " <unstructured.documents.elements.Title at 0x78d6853199d0>,\n",
              " <unstructured.documents.elements.Title at 0x78d685319950>,\n",
              " <unstructured.documents.elements.NarrativeText at 0x78d685319fd0>,\n",
              " <unstructured.documents.elements.NarrativeText at 0x78d68531a090>,\n",
              " <unstructured.documents.elements.Footer at 0x78d68531ad50>,\n",
              " <unstructured.documents.elements.FigureCaption at 0x78d68531aad0>,\n",
              " <unstructured.documents.elements.Table at 0x78d68531b790>,\n",
              " <unstructured.documents.elements.NarrativeText at 0x78d68531bcd0>,\n",
              " <unstructured.documents.elements.Title at 0x78d68531be10>,\n",
              " <unstructured.documents.elements.NarrativeText at 0x78d6853189d0>,\n",
              " <unstructured.documents.elements.Title at 0x78d685318590>,\n",
              " <unstructured.documents.elements.NarrativeText at 0x78d685318390>,\n",
              " <unstructured.documents.elements.NarrativeText at 0x78d685350150>,\n",
              " <unstructured.documents.elements.Title at 0x78d6853503d0>,\n",
              " <unstructured.documents.elements.NarrativeText at 0x78d685350c90>,\n",
              " <unstructured.documents.elements.Text at 0x78d6864b5250>,\n",
              " <unstructured.documents.elements.Image at 0x78d6853514d0>,\n",
              " <unstructured.documents.elements.NarrativeText at 0x78d685351cd0>,\n",
              " <unstructured.documents.elements.NarrativeText at 0x78d6853528d0>,\n",
              " <unstructured.documents.elements.Table at 0x78d685352590>,\n",
              " <unstructured.documents.elements.NarrativeText at 0x78d685352950>,\n",
              " <unstructured.documents.elements.Title at 0x78d685351e90>,\n",
              " <unstructured.documents.elements.NarrativeText at 0x78d685351b10>,\n",
              " <unstructured.documents.elements.NarrativeText at 0x78d6853515d0>,\n",
              " <unstructured.documents.elements.NarrativeText at 0x78d685351410>,\n",
              " <unstructured.documents.elements.NarrativeText at 0x78d685350cd0>,\n",
              " <unstructured.documents.elements.Footer at 0x78d6853505d0>,\n",
              " <unstructured.documents.elements.NarrativeText at 0x78d6853502d0>,\n",
              " <unstructured.documents.elements.Title at 0x78d6858844d0>,\n",
              " <unstructured.documents.elements.Title at 0x78d6861e8510>,\n",
              " <unstructured.documents.elements.Table at 0x78d685332390>,\n",
              " <unstructured.documents.elements.FigureCaption at 0x78d685331b90>,\n",
              " <unstructured.documents.elements.Table at 0x78d6853321d0>,\n",
              " <unstructured.documents.elements.Title at 0x78d6a3179350>,\n",
              " <unstructured.documents.elements.Title at 0x78d6a3283f50>,\n",
              " <unstructured.documents.elements.NarrativeText at 0x78d685333290>,\n",
              " <unstructured.documents.elements.NarrativeText at 0x78d685333950>,\n",
              " <unstructured.documents.elements.Image at 0x78d685333ed0>,\n",
              " <unstructured.documents.elements.FigureCaption at 0x78d685333610>,\n",
              " <unstructured.documents.elements.Title at 0x78d685330050>,\n",
              " <unstructured.documents.elements.NarrativeText at 0x78d685333d90>,\n",
              " <unstructured.documents.elements.Footer at 0x78d6853337d0>,\n",
              " <unstructured.documents.elements.NarrativeText at 0x78d685333510>,\n",
              " <unstructured.documents.elements.NarrativeText at 0x78d685330950>,\n",
              " <unstructured.documents.elements.NarrativeText at 0x78d6853304d0>,\n",
              " <unstructured.documents.elements.NarrativeText at 0x78d685330e90>,\n",
              " <unstructured.documents.elements.Title at 0x78d685330310>,\n",
              " <unstructured.documents.elements.NarrativeText at 0x78d68532c390>,\n",
              " <unstructured.documents.elements.Text at 0x78d6a33af0d0>,\n",
              " <unstructured.documents.elements.Title at 0x78d68532c310>,\n",
              " <unstructured.documents.elements.NarrativeText at 0x78d68532c890>,\n",
              " <unstructured.documents.elements.NarrativeText at 0x78d68532cd50>,\n",
              " <unstructured.documents.elements.Title at 0x78d68532ced0>,\n",
              " <unstructured.documents.elements.NarrativeText at 0x78d68532d150>,\n",
              " <unstructured.documents.elements.Title at 0x78d68532d450>,\n",
              " <unstructured.documents.elements.ListItem at 0x78d68532d6d0>,\n",
              " <unstructured.documents.elements.ListItem at 0x78d68532d910>,\n",
              " <unstructured.documents.elements.ListItem at 0x78d68532db90>,\n",
              " <unstructured.documents.elements.ListItem at 0x78d68532dd90>,\n",
              " <unstructured.documents.elements.ListItem at 0x78d68532e010>,\n",
              " <unstructured.documents.elements.ListItem at 0x78d68532e290>,\n",
              " <unstructured.documents.elements.Footer at 0x78d68532e510>,\n",
              " <unstructured.documents.elements.ListItem at 0x78d68532e5d0>,\n",
              " <unstructured.documents.elements.ListItem at 0x78d68532ed10>,\n",
              " <unstructured.documents.elements.ListItem at 0x78d68532ef10>,\n",
              " <unstructured.documents.elements.ListItem at 0x78d68532f050>,\n",
              " <unstructured.documents.elements.ListItem at 0x78d68532f190>,\n",
              " <unstructured.documents.elements.ListItem at 0x78d68532f490>,\n",
              " <unstructured.documents.elements.ListItem at 0x78d68532f710>,\n",
              " <unstructured.documents.elements.ListItem at 0x78d68532f990>,\n",
              " <unstructured.documents.elements.ListItem at 0x78d68532fc10>,\n",
              " <unstructured.documents.elements.ListItem at 0x78d68532fe10>,\n",
              " <unstructured.documents.elements.ListItem at 0x78d6853040d0>,\n",
              " <unstructured.documents.elements.ListItem at 0x78d685304350>,\n",
              " <unstructured.documents.elements.ListItem at 0x78d685304610>,\n",
              " <unstructured.documents.elements.Footer at 0x78d685304890>,\n",
              " <unstructured.documents.elements.ListItem at 0x78d685304a50>,\n",
              " <unstructured.documents.elements.ListItem at 0x78d685304f50>,\n",
              " <unstructured.documents.elements.ListItem at 0x78d6853052d0>,\n",
              " <unstructured.documents.elements.ListItem at 0x78d685305410>,\n",
              " <unstructured.documents.elements.ListItem at 0x78d685305550>,\n",
              " <unstructured.documents.elements.ListItem at 0x78d685305810>,\n",
              " <unstructured.documents.elements.ListItem at 0x78d685305a90>,\n",
              " <unstructured.documents.elements.ListItem at 0x78d685305d10>,\n",
              " <unstructured.documents.elements.ListItem at 0x78d685305f90>,\n",
              " <unstructured.documents.elements.ListItem at 0x78d685306190>,\n",
              " <unstructured.documents.elements.ListItem at 0x78d685306410>,\n",
              " <unstructured.documents.elements.ListItem at 0x78d685306690>,\n",
              " <unstructured.documents.elements.Footer at 0x78d685306910>,\n",
              " <unstructured.documents.elements.NarrativeText at 0x78d685306ad0>,\n",
              " <unstructured.documents.elements.ListItem at 0x78d685307110>,\n",
              " <unstructured.documents.elements.ListItem at 0x78d685307310>,\n",
              " <unstructured.documents.elements.ListItem at 0x78d685307450>,\n",
              " <unstructured.documents.elements.ListItem at 0x78d685307590>,\n",
              " <unstructured.documents.elements.ListItem at 0x78d685307890>,\n",
              " <unstructured.documents.elements.ListItem at 0x78d685307b10>,\n",
              " <unstructured.documents.elements.ListItem at 0x78d685307d90>,\n",
              " <unstructured.documents.elements.ListItem at 0x78d685303bd0>,\n",
              " <unstructured.documents.elements.ListItem at 0x78d685303d90>,\n",
              " <unstructured.documents.elements.ListItem at 0x78d685303c10>,\n",
              " <unstructured.documents.elements.ListItem at 0x78d685303850>,\n",
              " <unstructured.documents.elements.ListItem at 0x78d685303650>,\n",
              " <unstructured.documents.elements.Footer at 0x78d685302fd0>,\n",
              " <unstructured.documents.elements.NarrativeText at 0x78d685303010>,\n",
              " <unstructured.documents.elements.ListItem at 0x78d685302dd0>,\n",
              " <unstructured.documents.elements.ListItem at 0x78d6853029d0>,\n",
              " <unstructured.documents.elements.ListItem at 0x78d685302810>,\n",
              " <unstructured.documents.elements.ListItem at 0x78d6853027d0>,\n",
              " <unstructured.documents.elements.ListItem at 0x78d685302490>,\n",
              " <unstructured.documents.elements.ListItem at 0x78d685302290>,\n",
              " <unstructured.documents.elements.ListItem at 0x78d685301f90>,\n",
              " <unstructured.documents.elements.ListItem at 0x78d685301dd0>,\n",
              " <unstructured.documents.elements.ListItem at 0x78d685301c90>,\n",
              " <unstructured.documents.elements.ListItem at 0x78d685301910>,\n",
              " <unstructured.documents.elements.ListItem at 0x78d685301450>,\n",
              " <unstructured.documents.elements.ListItem at 0x78d685300c90>,\n",
              " <unstructured.documents.elements.Text at 0x78d6a30af310>,\n",
              " <unstructured.documents.elements.ListItem at 0x78d685300f50>,\n",
              " <unstructured.documents.elements.ListItem at 0x78d685300ad0>,\n",
              " <unstructured.documents.elements.ListItem at 0x78d685300290>,\n",
              " <unstructured.documents.elements.ListItem at 0x78d685300590>,\n",
              " <unstructured.documents.elements.ListItem at 0x78d685300450>,\n",
              " <unstructured.documents.elements.ListItem at 0x78d685300210>,\n",
              " <unstructured.documents.elements.ListItem at 0x78d6863f0190>,\n",
              " <unstructured.documents.elements.ListItem at 0x78d6863f0410>,\n",
              " <unstructured.documents.elements.ListItem at 0x78d6863f0690>,\n",
              " <unstructured.documents.elements.ListItem at 0x78d6863f0890>,\n",
              " <unstructured.documents.elements.Footer at 0x78d6863f0b10>,\n",
              " <unstructured.documents.elements.ListItem at 0x78d6863f0cd0>,\n",
              " <unstructured.documents.elements.ListItem at 0x78d6863f1290>,\n",
              " <unstructured.documents.elements.ListItem at 0x78d6863f1490>,\n",
              " <unstructured.documents.elements.Header at 0x78d6863f15d0>,\n",
              " <unstructured.documents.elements.Title at 0x78d6863f19d0>,\n",
              " <unstructured.documents.elements.Title at 0x78d6863f1bd0>,\n",
              " <unstructured.documents.elements.NarrativeText at 0x78d6863f1cd0>,\n",
              " <unstructured.documents.elements.Title at 0x78d6863f1f10>,\n",
              " <unstructured.documents.elements.Image at 0x78d6863f2190>,\n",
              " <unstructured.documents.elements.NarrativeText at 0x78d6863f2490>,\n",
              " <unstructured.documents.elements.NarrativeText at 0x78d6863f2710>,\n",
              " <unstructured.documents.elements.Title at 0x78d6863f2990>,\n",
              " <unstructured.documents.elements.NarrativeText at 0x78d6863f2c10>,\n",
              " <unstructured.documents.elements.Title at 0x78d6a30adf10>,\n",
              " <unstructured.documents.elements.Title at 0x78d6a4e17050>,\n",
              " <unstructured.documents.elements.Footer at 0x78d6863f3310>,\n",
              " <unstructured.documents.elements.Title at 0x78d6863f34d0>,\n",
              " <unstructured.documents.elements.NarrativeText at 0x78d6863f3bd0>,\n",
              " <unstructured.documents.elements.NarrativeText at 0x78d6863f3cd0>,\n",
              " <unstructured.documents.elements.NarrativeText at 0x78d6863f3e10>,\n",
              " <unstructured.documents.elements.Title at 0x78d6863f3f90>,\n",
              " <unstructured.documents.elements.NarrativeText at 0x78d6863302d0>,\n",
              " <unstructured.documents.elements.Title at 0x78d686330550>,\n",
              " <unstructured.documents.elements.NarrativeText at 0x78d6863307d0>,\n",
              " <unstructured.documents.elements.Title at 0x78d686330a50>,\n",
              " <unstructured.documents.elements.NarrativeText at 0x78d686330c50>,\n",
              " <unstructured.documents.elements.Footer at 0x78d686330ed0>,\n",
              " <unstructured.documents.elements.FigureCaption at 0x78d686331090>,\n",
              " <unstructured.documents.elements.Table at 0x78d686331650>,\n",
              " <unstructured.documents.elements.NarrativeText at 0x78d686331850>,\n",
              " <unstructured.documents.elements.Title at 0x78d686331990>,\n",
              " <unstructured.documents.elements.NarrativeText at 0x78d686331b50>,\n",
              " <unstructured.documents.elements.Title at 0x78d686331e50>,\n",
              " <unstructured.documents.elements.NarrativeText at 0x78d6863320d0>,\n",
              " <unstructured.documents.elements.Header at 0x78d686332350>]"
            ]
          },
          "metadata": {},
          "execution_count": 8
        }
      ]
    },
    {
      "cell_type": "code",
      "source": [
        "Header=[]\n",
        "Footer=[]\n",
        "Title=[]\n",
        "NarrativeText=[]\n",
        "Text=[]\n",
        "ListItem=[]\n",
        "\n",
        "\n",
        "for element in raw_pdf_elements:\n",
        "  if \"unstructured.documents.elements.Header\" in str(type(element)):\n",
        "            Header.append(str(element))\n",
        "  elif \"unstructured.documents.elements.Footer\" in str(type(element)):\n",
        "            Footer.append(str(element))\n",
        "  elif \"unstructured.documents.elements.Title\" in str(type(element)):\n",
        "            Title.append(str(element))\n",
        "  elif \"unstructured.documents.elements.NarrativeText\" in str(type(element)):\n",
        "            NarrativeText.append(str(element))\n",
        "  elif \"unstructured.documents.elements.Text\" in str(type(element)):\n",
        "            Text.append(str(element))\n",
        "  elif \"unstructured.documents.elements.ListItem\" in str(type(element)):\n",
        "            ListItem.append(str(element))"
      ],
      "metadata": {
        "id": "7fQCxiyIiJcr"
      },
      "execution_count": 9,
      "outputs": []
    },
    {
      "cell_type": "code",
      "source": [
        "img=[]\n",
        "for element in raw_pdf_elements:\n",
        "  if \"unstructured.documents.elements.Image\" in str(type(element)):\n",
        "            img.append(str(element))"
      ],
      "metadata": {
        "id": "XnDumo3RjaaV"
      },
      "execution_count": 10,
      "outputs": []
    },
    {
      "cell_type": "code",
      "source": [
        "img\n"
      ],
      "metadata": {
        "colab": {
          "base_uri": "https://localhost:8080/"
        },
        "id": "Wq6g1JmXjlXG",
        "outputId": "f3581581-9dec-4130-ca69-2a98c6f74ced"
      },
      "execution_count": 11,
      "outputs": [
        {
          "output_type": "execute_result",
          "data": {
            "text/plain": [
              "['@--- ee ee ee ee ee ee ee ee ee ee eee The middle ear includes End-to-End Backprop through q and pe the tympanic cavity and the three ossicles. (y) Define \"middle ear\" (x) Question Answering: Question Query Retriever py Document Generator pg “fnower Generation x (Non-Parametric) (Parametric) d(z) supports (y) Barack Obama was born in Hawaii. (x) q(x) Fact Verification: Fact Query Fact Verification: Label Generation The Divine This 14th century work Comedy (x) is divided into 3 Jeopardy Question Generation: Answer Query sections: \"Inferno\", \"purgatorio\" & \"Paradiso\" @) Question Generation',\n",
              " 'Document 1: his works are considered classics of American Doc 1 | | literature ... His wartime experiences formed the basis for his novel poe 2 | | “A Farewell to Arms” (1929) ... Doc 3 Document 2: ... artists of the 1920s “Lost Generation” expatriate Doe 4 community. His debut novel, \"The Sun Also Rises”, was published °° in 1926. Doc 5 & , es ee £ te os & ss . TES eS',\n",
              " 'Bee TT M0, Ta] yf eecemm ss caassscocessscccseses ga g / Z fr = 70 2 |i z RAG TORRE 2 nf |! g <= RAG-Tok B-1 Ba Ze H=- RAGSeq RL a ; a i, == RAG-Seq BA Q 50 > 50 ZO — reactor | & 3 soft === RAGSeq | Z 40 2 4s rr rr rr nr) rr nr K Retrieved Docs K Retrieved Docs K Retrieved Docs',\n",
              " 'View full instructions Which sentence is more factually true? View tool guide Select an option Subject : Hemingway eI Note: Some questions are Sentence Ais more 1 control questions. We require Sentence A : \"The Sun Also Rises\" is a novel by this author of \"A true good accuracy on our control Farewell to Arms\" Sentence Bis more 2 questions to accept true responses. Sentence B : This author of \"The Sun Also Rises\" was born in Both sentences are 8 Havana, Cuba, the son of Spanish immigrants ‘rue Indicate which one of the P a following sentences is more Both sentences are factually true with respect to completely untrue the subject. Using the internet to check whether the sentences are true is encouraged.']"
            ]
          },
          "metadata": {},
          "execution_count": 11
        }
      ]
    },
    {
      "cell_type": "code",
      "source": [
        "tab=[]\n",
        "for element in raw_pdf_elements:\n",
        "  if \"unstructured.documents.elements.Table\" in str(type(element)):\n",
        "            tab.append(str(element))\n"
      ],
      "metadata": {
        "id": "bv3e31TYjogS"
      },
      "execution_count": 12,
      "outputs": []
    },
    {
      "cell_type": "code",
      "source": [
        "tab[0]"
      ],
      "metadata": {
        "colab": {
          "base_uri": "https://localhost:8080/",
          "height": 126
        },
        "id": "K5zuL8aWjvqc",
        "outputId": "70ee4ee6-b308-42a2-e684-c94c9f9b69ae"
      },
      "execution_count": 13,
      "outputs": [
        {
          "output_type": "execute_result",
          "data": {
            "text/plain": [
              "'Model NQ TQA WQ CT Closed Book T5-11B [52] 34.5 T5-11B+SSM[52] 36.6 - - /50.1 37.4 /60.5 44.7 - - Model Jeopardy MSMARCO FVR3 FVR2 B-1 QB-1 R-L B-1 Label Acc. Open REALM [20] 40.4 - / - 40.7 46.8 SotA - - 49.8* 49.9* 76.8 92.2* Book DPR [26] 41.5 57.9/ - 41.1 50.6 BART 15.1 19.7 38.2 41.6 64.0 81.1 RAG-Token RAG-Seq. 44.1 55.2/66.1 45.5 50.0 44.5 56.8/68.0 45.2 52.2 RAG-Tok. 17.3 22.2 RAG-Seq. 14.7 21.4 40.1 40.8 41.5 44.2 72.5 89.5'"
            ],
            "application/vnd.google.colaboratory.intrinsic+json": {
              "type": "string"
            }
          },
          "metadata": {},
          "execution_count": 13
        }
      ]
    },
    {
      "cell_type": "code",
      "source": [
        "NarrativeText=[]\n",
        "for element in raw_pdf_elements:\n",
        "  if \"unstructured.documents.elements.NarrativeText\" in str(type(element)):\n",
        "            NarrativeText.append(str(element))"
      ],
      "metadata": {
        "id": "lo6sb-DGjzBx"
      },
      "execution_count": 14,
      "outputs": []
    },
    {
      "cell_type": "code",
      "source": [
        "ListItem=[]\n",
        "for element in raw_pdf_elements:\n",
        "  if \"unstructured.documents.elements.ListItem\" in str(type(element)):\n",
        "            ListItem.append(str(element))"
      ],
      "metadata": {
        "id": "ab6WH2o_j3p6"
      },
      "execution_count": 15,
      "outputs": []
    },
    {
      "cell_type": "code",
      "source": [
        "Text=[]\n",
        "for element in raw_pdf_elements:\n",
        "  if \"unstructured.documents.elements.NarrativeText\" in str(type(element)):\n",
        "            Text.append(str(element))\n",
        ""
      ],
      "metadata": {
        "id": "W9cm63LsYu_v"
      },
      "execution_count": 16,
      "outputs": []
    },
    {
      "cell_type": "code",
      "source": [
        "Text"
      ],
      "metadata": {
        "colab": {
          "base_uri": "https://localhost:8080/"
        },
        "id": "Fef7fKuyY5Gu",
        "outputId": "7bd0f8e6-f0c0-43c2-fb96-1b4bc54b0547"
      },
      "execution_count": 17,
      "outputs": [
        {
          "output_type": "execute_result",
          "data": {
            "text/plain": [
              "[\"Patrick Lewis't, Ethan Perez*,\",\n",
              " 'Aleksandra Piktus†, Fabio Petroni†, Vladimir Karpukhin†, Naman Goyal†, Heinrich Küttler†,',\n",
              " 'Mike Lewis†, Wen-tau Yih†, Tim Rocktäschel†‡, Sebastian Riedel†‡, Douwe Kiela†',\n",
              " '+Racebook AI Research; *University College London; *New York University;',\n",
              " 'plewis@fb.com',\n",
              " 'Large pre-trained language models have been shown to store factual knowledge in their parameters, and achieve state-of-the-art results when ﬁne-tuned on down- stream NLP tasks. However, their ability to access and precisely manipulate knowl- edge is still limited, and hence on knowledge-intensive tasks, their performance lags behind task-speciﬁc architectures. Additionally, providing provenance for their decisions and updating their world knowledge remain open research problems. Pre- trained models with a differentiable access mechanism to explicit non-parametric memory have so far been only investigated for extractive downstream tasks. We explore a general-purpose ﬁne-tuning recipe for retrieval-augmented generation (RAG) — models which combine pre-trained parametric and non-parametric mem- ory for language generation. We introduce RAG models where the parametric memory is a pre-trained seq2seq model and the non-parametric memory is a dense vector index of Wikipedia, accessed with a pre-trained neural retriever. We com- pare two RAG formulations, one which conditions on the same retrieved passages across the whole generated sequence, and another which can use different passages per token. We ﬁne-tune and evaluate our models on a wide range of knowledge- intensive NLP tasks and set the state of the art on three open domain QA tasks, outperforming parametric seq2seq models and task-speciﬁc retrieve-and-extract architectures. For language generation tasks, we ﬁnd that RAG models generate more speciﬁc, diverse and factual language than a state-of-the-art parametric-only seq2seq baseline.',\n",
              " 'Pre-trained neural language models have been shown to learn a substantial amount of in-depth knowl- edge from data [47]. They can do so without any access to an external memory, as a parameterized implicit knowledge base [51, 52]. While this development is exciting, such models do have down- sides: They cannot easily expand or revise their memory, can’t straightforwardly provide insight into their predictions, and may produce “hallucinations” [38]. Hybrid models that combine parametric memory with non-parametric (i.e., retrieval-based) memories [20, 26, 48] can address some of these issues because knowledge can be directly revised and expanded, and accessed knowledge can be inspected and interpreted. REALM [20] and ORQA [31], two recently introduced models that combine masked language models [8] with a differentiable retriever, have shown promising results,',\n",
              " 'Figure 1: Overview of our approach. We combine a pre-trained retriever (Query Encoder + Document Index) with a pre-trained seq2seq model (Generator) and ﬁne-tune end-to-end. For query x, we use Maximum Inner Product Search (MIPS) to ﬁnd the top-K documents zi. For ﬁnal prediction y, we treat z as a latent variable and marginalize over seq2seq predictions given different documents.',\n",
              " 'but have only explored open-domain extractive question answering. Here, we bring hybrid parametric and non-parametric memory to the “workhorse of NLP,” i.e. sequence-to-sequence (seq2seq) models.',\n",
              " 'We endow pre-trained, parametric-memory generation models with a non-parametric memory through a general-purpose ﬁne-tuning approach which we refer to as retrieval-augmented generation (RAG). We build RAG models where the parametric memory is a pre-trained seq2seq transformer, and the non-parametric memory is a dense vector index of Wikipedia, accessed with a pre-trained neural retriever. We combine these components in a probabilistic model trained end-to-end (Fig. 1). The retriever (Dense Passage Retriever [26], henceforth DPR) provides latent documents conditioned on the input, and the seq2seq model (BART [32]) then conditions on these latent documents together with the input to generate the output. We marginalize the latent documents with a top-K approximation, either on a per-output basis (assuming the same document is responsible for all tokens) or a per-token basis (where different documents are responsible for different tokens). Like T5 [51] or BART, RAG can be ﬁne-tuned on any seq2seq task, whereby both the generator and retriever are jointly learned.',\n",
              " 'There has been extensive previous work proposing architectures to enrich systems with non-parametric memory which are trained from scratch for speciﬁc tasks, e.g. memory networks [64, 55], stack- augmented networks [25] and memory layers [30]. In contrast, we explore a setting where both parametric and non-parametric memory components are pre-trained and pre-loaded with extensive knowledge. Crucially, by using pre-trained access mechanisms, the ability to access knowledge is present without additional training.',\n",
              " 'Our results highlight the beneﬁts of combining parametric and non-parametric memory with genera- tion for knowledge-intensive tasks—tasks that humans could not reasonably be expected to perform without access to an external knowledge source. Our RAG models achieve state-of-the-art results on open Natural Questions [29], WebQuestions [3] and CuratedTrec [2] and strongly outperform recent approaches that use specialised pre-training objectives on TriviaQA [24]. Despite these being extractive tasks, we ﬁnd that unconstrained generation outperforms previous extractive approaches. For knowledge-intensive generation, we experiment with MS-MARCO [1] and Jeopardy question generation, and we ﬁnd that our models generate responses that are more factual, speciﬁc, and diverse than a BART baseline. For FEVER [56] fact veriﬁcation, we achieve results within 4.3% of state-of-the-art pipeline models which use strong retrieval supervision. Finally, we demonstrate that the non-parametric memory can be replaced to update the models’ knowledge as the world changes.1',\n",
              " 'We explore RAG models, which use the input sequence x to retrieve text documents z and use them as additional context when generating the target sequence y. As shown in Figure 1, our models leverage two components: (i) a retriever pη(z|x) with parameters η that returns (top-K truncated) distributions over text passages given a query x and (ii) a generator pθ(yi|x, z, y1:i−1) parametrized',\n",
              " '1Code to run experiments with RAG has been open-sourced as part of the HuggingFace Transform- ers Library [66] and can be found at https://github.com/huggingface/transformers/blob/master/ examples/rag/. An interactive demo of RAG models can be found at https://huggingface.co/rag/',\n",
              " 'by θ that generates a current token based on a context of the previous i − 1 tokens y1:i−1, the original input x and a retrieved passage z.',\n",
              " 'To train the retriever and generator end-to-end, we treat the retrieved document as a latent variable. We propose two models that marginalize over the latent documents in different ways to produce a distribution over generated text. In one approach, RAG-Sequence, the model uses the same document to predict each target token. The second approach, RAG-Token, can predict each target token based on a different document. In the following, we formally introduce both models and then describe the pη and pθ components, as well as the training and decoding procedure.',\n",
              " 'RAG-Sequence Model The RAG-Sequence model uses the same retrieved document to generate the complete sequence. Technically, it treats the retrieved document as a single latent variable that is marginalized to get the seq2seq probability p(y|x) via a top-K approximation. Concretely, the top K documents are retrieved using the retriever, and the generator produces the output sequence probability for each document, which are then marginalized,',\n",
              " 'RAG-Token Model In the RAG-Token model we can draw a different latent document for each target token and marginalize accordingly. This allows the generator to choose content from several documents when producing an answer. Concretely, the top K documents are retrieved using the retriever, and then the generator produces a distribution for the next output token for each document, before marginalizing, and repeating the process with the following output token, Formally, we deﬁne:',\n",
              " 'Finally, we note that RAG can be used for sequence classiﬁcation tasks by considering the target class as a target sequence of length one, in which case RAG-Sequence and RAG-Token are equivalent.',\n",
              " 'The retrieval component pη(z|x) is based on DPR [26]. DPR follows a bi-encoder architecture:',\n",
              " 'where d(z) is a dense representation of a document produced by a BERTBASE document encoder [8], and q(x) a query representation produced by a query encoder, also based on BERTBASE. Calculating top-k(pη(·|x)), the list of k documents z with highest prior probability pη(z|x), is a Maximum Inner Product Search (MIPS) problem, which can be approximately solved in sub-linear time [23]. We use a pre-trained bi-encoder from DPR to initialize our retriever and to build the document index. This retriever was trained to retrieve documents which contain answers to TriviaQA [24] questions and Natural Questions [29]. We refer to the document index as the non-parametric memory.',\n",
              " 'The generator component pθ(yi|x, z, y1:i−1) could be modelled using any encoder-decoder. We use BART-large [32], a pre-trained seq2seq transformer [58] with 400M parameters. To combine the input x with the retrieved content z when generating from BART, we simply concatenate them. BART was pre-trained using a denoising objective and a variety of different noising functions. It has obtained state-of-the-art results on a diverse set of generation tasks and outperforms comparably-sized T5 models [32]. We refer to the BART generator parameters θ as the parametric memory henceforth.',\n",
              " 'We jointly train the retriever and generator components without any direct supervision on what document should be retrieved. Given a ﬁne-tuning training corpus of input/output pairs (xj, yj), we',\n",
              " 'minimize the negative marginal log-likelihood of each target, ar',\n",
              " 'j − log p(yj|xj) using stochastic gradient descent with Adam [28]. Updating the document encoder BERTd during training is costly as it requires the document index to be periodically updated as REALM does during pre-training [20]. We do not ﬁnd this step necessary for strong performance, and keep the document encoder (and index) ﬁxed, only ﬁne-tuning the query encoder BERTq and the BART generator.',\n",
              " 'At test time, RAG-Sequence and RAG-Token require different ways to approximate arg maxy p(y|x).',\n",
              " 'RAG-Token The RAG-Token model can be seen as a standard, autoregressive seq2seq genera- tor with transition probability: pj (yi|z, yii—1) = zetop-k(p(-|2)) Pn (zil@)po(yil@, Zi, Y1e—1) To decode, we can plug Po(yi |x, y1i—1) into a standard beam decoder.',\n",
              " 'RAG-Sequence For RAG-Sequence, the likelihood p(y|x) does not break into a conventional per- token likelihood, hence we cannot solve it with a single beam search. Instead, we run beam search for each document z, scoring each hypothesis using pθ(yi|x, z, y1:i−1). This yields a set of hypotheses Y , some of which may not have appeared in the beams of all documents. To estimate the probability of an hypothesis y we run an additional forward pass for each document z for which y does not appear in the beam, multiply generator probability with pη(z|x) and then sum the probabilities across beams for the marginals. We refer to this decoding procedure as “Thorough Decoding.” For longer output sequences, |Y | can become large, requiring many forward passes. For more efﬁcient decoding, we can make a further approximation that pθ(y|x, zi) ≈ 0 where y was not generated during beam search from x, zi. This avoids the need to run additional forward passes once the candidate set Y has been generated. We refer to this decoding procedure as “Fast Decoding.”',\n",
              " 'We experiment with RAG in a wide range of knowledge-intensive tasks. For all experiments, we use a single Wikipedia dump for our non-parametric knowledge source. Following Lee et al. [31] and Karpukhin et al. [26], we use the December 2018 dump. Each Wikipedia article is split into disjoint 100-word chunks, to make a total of 21M documents. We use the document encoder to compute an embedding for each document, and build a single MIPS index using FAISS [23] with a Hierarchical Navigable Small World approximation for fast retrieval [37]. During training, we retrieve the top k documents for each query. We consider k ∈ {5, 10} for training and set k for test time using dev data. We now discuss experimental details for each task.',\n",
              " 'Open-domain question answering (QA) is an important real-world application and common testbed for knowledge-intensive tasks [20]. We treat questions and answers as input-output text pairs (x, y) and train RAG by directly minimizing the negative log-likelihood of answers. We compare RAG to the popular extractive QA paradigm [5, 7, 31, 26], where answers are extracted spans from retrieved documents, relying primarily on non-parametric knowledge. We also compare to “Closed-Book QA” approaches [52], which, like RAG, generate answers, but which do not exploit retrieval, instead relying purely on parametric knowledge. We consider four popular open-domain QA datasets: Natural Questions (NQ) [29], TriviaQA (TQA) [24]. WebQuestions (WQ) [3] and CuratedTrec (CT) [2]. As CT and WQ are small, we follow DPR [26] by initializing CT and WQ models with our NQ RAG model. We use the same train/dev/test splits as prior work [31, 26] and report Exact Match (EM) scores. For TQA, to compare with T5 [52], we also evaluate on the TQA Wiki test set.',\n",
              " 'RAG models can go beyond simple extractive QA and answer questions with free-form, abstractive text generation. To test RAG’s natural language generation (NLG) in a knowledge-intensive setting, we use the MSMARCO NLG task v2.1 [43]. The task consists of questions, ten gold passages retrieved from a search engine for each question, and a full sentence answer annotated from the retrieved passages. We do not use the supplied passages, only the questions and answers, to treat',\n",
              " 'MSMARCO as an open-domain abstractive QA task. MSMARCO has some questions that cannot be answered in a way that matches the reference answer without access to the gold passages, such as “What is the weather in Volcano, CA?” so performance will be lower without using gold passages. We also note that some MSMARCO questions cannot be answered using Wikipedia alone. Here, RAG can rely on parametric knowledge to generate reasonable responses.',\n",
              " 'To evaluate RAG’s generation abilities in a non-QA setting, we study open-domain question gen- eration. Rather than use questions from standard open-domain QA tasks, which typically consist of short, simple questions, we propose the more demanding task of generating Jeopardy questions. Jeopardy is an unusual format that consists of trying to guess an entity from a fact about that entity. For example, “The World Cup” is the answer to the question “In 1986 Mexico scored as the ﬁrst country to host this international sports competition twice.” As Jeopardy questions are precise, factual statements, generating Jeopardy questions conditioned on their answer entities constitutes a challenging knowledge-intensive generation task.',\n",
              " 'We use the splits from SearchQA [10], with 100K train, 14K dev, and 27K test examples. As this is a new task, we train a BART model for comparison. Following [67], we evaluate using the SQuAD-tuned Q-BLEU-1 metric [42]. Q-BLEU is a variant of BLEU with a higher weight for matching entities and has higher correlation with human judgment for question generation than standard metrics. We also perform two human evaluations, one to assess generation factuality, and one for speciﬁcity. We deﬁne factuality as whether a statement can be corroborated by trusted external sources, and speciﬁcity as high mutual dependence between the input and output [33]. We follow best practice and use pairwise comparative evaluation [34]. Evaluators are shown an answer and two generated questions, one from BART and one from RAG. They are then asked to pick one of four options—quuestion A is better, question B is better, both are good, or neither is good.',\n",
              " 'FEVER [56] requires classifying whether a natural language claim is supported or refuted by Wikipedia, or whether there is not enough information to decide. The task requires retrieving evidence from Wikipedia relating to the claim and then reasoning over this evidence to classify whether the claim is true, false, or unveriﬁable from Wikipedia alone. FEVER is a retrieval problem coupled with an challenging entailment reasoning task. It also provides an appropriate testbed for exploring the RAG models’ ability to handle classiﬁcation rather than generation. We map FEVER class labels (supports, refutes, or not enough info) to single output tokens and directly train with claim-class pairs. Crucially, unlike most other approaches to FEVER, we do not use supervision on retrieved evidence. In many real-world applications, retrieval supervision signals aren’t available, and models that do not require such supervision will be applicable to a wider range of tasks. We explore two variants: the standard 3-way classiﬁcation task (supports/refutes/not enough info) and the 2-way (supports/refutes) task studied in Thorne and Vlachos [57]. In both cases we report label accuracy.',\n",
              " 'Table 1 shows results for RAG along with state-of-the-art models. On all four open-domain QA tasks, RAG sets a new state of the art (only on the T5-comparable split for TQA). RAG combines the generation ﬂexibility of the “closed-book” (parametric only) approaches and the performance of \"open-book\" retrieval-based approaches. Unlike REALM and T5+SSM, RAG enjoys strong results without expensive, specialized “salient span masking” pre-training [20]. It is worth noting that RAG’s retriever is initialized using DPR’s retriever, which uses retrieval supervision on Natural Questions and TriviaQA. RAG compares favourably to the DPR QA system, which uses a BERT-based “cross- encoder” to re-rank documents, along with an extractive reader. RAG demonstrates that neither a re-ranker nor extractive reader is necessary for state-of-the-art performance.',\n",
              " 'There are several advantages to generating answers even when it is possible to extract them. Docu- ments with clues about the answer but do not contain the answer verbatim can still contribute towards a correct answer being generated, which is not possible with standard extractive approaches, leading',\n",
              " 'to more effective marginalization over documents. Furthermore, RAG can generate correct answers even when the correct answer is not in any retrieved document, achieving 11.8% accuracy in such cases for NQ, where an extractive model would score 0%.',\n",
              " 'As shown in Table 2, RAG-Sequence outperforms BART on Open MS-MARCO NLG by 2.6 Bleu points and 2.6 Rouge-L points. RAG approaches state-of-the-art model performance, which is impressive given that (i) those models access gold passages with speciﬁc information required to generate the reference answer , (ii) many questions are unanswerable without the gold passages, and (iii) not all questions are answerable from Wikipedia alone. Table 3 shows some generated answers from our models. Qualitatively, we ﬁnd that RAG models hallucinate less and generate factually correct text more often than BART. Later, we also show that RAG generations are more diverse than BART generations (see §4.5).',\n",
              " 'Table 2 shows that RAG-Token performs better than RAG-Sequence on Jeopardy question generation, with both models outperforming BART on Q-BLEU-1. 4 shows human evaluation results, over 452 pairs of generations from BART and RAG-Token. Evaluators indicated that BART was more factual than RAG in only 7.1% of cases, while RAG was more factual in 42.7% of cases, and both RAG and BART were factual in a further 17% of cases, clearly demonstrating the effectiveness of RAG on the task over a state-of-the-art generation model. Evaluators also ﬁnd RAG generations to be more speciﬁc by a large margin. Table 3 shows typical generations from each model.',\n",
              " 'Jeopardy questions often contain two separate pieces of information, and RAG-Token may perform best because it can generate responses that combine content from several documents. Figure 2 shows an example. When generating “Sun”, the posterior is high for document 2 which mentions “The Sun Also Rises”. Similarly, document 1 dominates the posterior when “A Farewell to Arms” is generated. Intriguingly, after the ﬁrst token of each book is generated, the document posterior ﬂattens. This observation suggests that the generator can complete the titles without depending on speciﬁc documents. In other words, the model’s parametric knowledge is sufﬁcient to complete the titles. We ﬁnd evidence for this hypothesis by feeding the BART-only baseline with the partial decoding \"The Sun. BART completes the generation \"The Sun Also Rises\" is a novel by this author of \"The Sun Also Rises\" indicating the title \"The Sun Also Rises\" is stored in BART’s parameters. Similarly, BART will complete the partial decoding \"The Sun Also Rises\" is a novel by this author of \"A with \"The Sun Also Rises\" is a novel by this author of \"A Farewell to Arms\". This example shows how parametric and non-parametric memories work together—the non-parametric component helps to guide the generation, drawing out speciﬁc knowledge stored in the parametric memory.',\n",
              " 'Table 2 shows our results on FEVER. For 3-way classiﬁcation, RAG scores are within 4.3% of state-of-the-art models, which are complex pipeline systems with domain-speciﬁc architectures and substantial engineering, trained using intermediate retrieval supervision, which RAG does not require.',\n",
              " 'Figure 2: RAG-Token document posterior p(zi|x, yi, y−i) for each generated token for input “Hem- ingway\" for Jeopardy generation with 5 retrieved documents. The posterior for document 1 is high when generating “A Farewell to Arms\" and for document 2 when generating “The Sun Also Rises\".',\n",
              " 'Table 3: Examples from generation tasks. RAG models generate more speciﬁc and factually accurate responses. ‘?’ indicates factually incorrect responses, * indicates partially correct responses.',\n",
              " 'For 2-way classiﬁcation, we compare against Thorne and Vlachos [57], who train RoBERTa [35] to classify the claim as true or false given the gold evidence sentence. RAG achieves an accuracy within 2.7% of this model, despite being supplied with only the claim and retrieving its own evidence. We also analyze whether documents retrieved by RAG correspond to documents annotated as gold evidence in FEVER. We calculate the overlap in article titles between the top k documents retrieved by RAG and gold evidence annotations. We ﬁnd that the top retrieved document is from a gold article in 71% of cases, and a gold article is present in the top 10 retrieved articles in 90% of cases.',\n",
              " 'Generation Diversity Section 4.3 shows that RAG models are more factual and speciﬁc than BART for Jeopardy question generation. Following recent work on diversity-promoting decoding [33, 59, 39], we also investigate generation diversity by calculating the ratio of distinct ngrams to total ngrams generated by different models. Table 5 shows that RAG-Sequence’s generations are more diverse than RAG-Token’s, and both are signiﬁcantly more diverse than BART without needing any diversity-promoting decoding.',\n",
              " 'Retrieval Ablations A key feature of RAG is learning to retrieve relevant information for the task. To assess the effectiveness of the retrieval mechanism, we run ablations where we freeze the retriever during training. As shown in Table 6, learned retrieval improves results for all tasks.',\n",
              " 'We compare RAG’s dense retriever to a word overlap-based BM25 retriever [53]. Here, we replace RAG’s retriever with a ﬁxed BM25 system, and use BM25 retrieval scores as logits when calculating p(z|x). Table 6 shows the results. For FEVER, BM25 performs best, perhaps since FEVER claims are heavily entity-centric and thus well-suited for word overlap-based retrieval. Differentiable retrieval improves results on all other tasks, especially for Open-Domain QA, where it is crucial.',\n",
              " 'Index hot-swapping An advantage of non-parametric memory models like RAG is that knowledge can be easily updated at test time. Parametric-only models like T5 or BART need further training to update their behavior as the world changes. To demonstrate, we build an index using the DrQA [5] Wikipedia dump from December 2016 and compare outputs from RAG using this index to the newer index from our main results (December 2018). We prepare a list of 82 world leaders who had changed',\n",
              " 'Table 4: Human assessments for the Jeopardy Question Generation Task.',\n",
              " 'between these dates and use a template “Who is {position}?” (e.g. “Who is the President of Peru?”) to query our NQ RAG model with each index. RAG answers 70% correctly using the 2016 index for 2016 world leaders and 68% using the 2018 index for 2018 world leaders. Accuracy with mismatched indices is low (12% with the 2018 index and 2016 leaders, 4% with the 2016 index and 2018 leaders). This shows we can update RAG’s world knowledge by simply replacing its non-parametric memory.',\n",
              " 'Effect of Retrieving more documents Models are trained with either 5 or 10 retrieved latent documents, and we do not observe signiﬁcant differences in performance between them. We have the ﬂexibility to adjust the number of retrieved documents at test time, which can affect performance and runtime. Figure 3 (left) shows that retrieving more documents at test time monotonically improves Open-domain QA results for RAG-Sequence, but performance peaks for RAG-Token at 10 retrieved documents. Figure 3 (right) shows that retrieving more documents leads to higher Rouge-L for RAG-Token at the expense of Bleu-1, but the effect is less pronounced for RAG-Sequence.',\n",
              " 'Single-Task Retrieval Prior work has shown that retrieval improves performance across a variety of NLP tasks when considered in isolation. Such tasks include open-domain question answering [5, 29], fact checking [56], fact completion [48], long-form question answering [12], Wikipedia article generation [36], dialogue [41, 65, 9, 13], translation [17], and language modeling [19, 27]. Our work uniﬁes previous successes in incorporating retrieval into individual tasks, showing that a single retrieval-based architecture is capable of achieving strong performance across several tasks.',\n",
              " 'General-Purpose Architectures for NLP Prior work on general-purpose architectures for NLP tasks has shown great success without the use of retrieval. A single, pre-trained language model has been shown to achieve strong performance on various classiﬁcation tasks in the GLUE bench- marks [60, 61] after ﬁne-tuning [49, 8]. GPT-2 [50] later showed that a single, left-to-right, pre-trained language model could achieve strong performance across both discriminative and generative tasks. For further improvement, BART [32] and T5 [51, 52] propose a single, pre-trained encoder-decoder model that leverages bi-directional attention to achieve stronger performance on discriminative and generative tasks. Our work aims to expand the space of possible tasks with a single, uniﬁed architecture, by learning a retrieval module to augment pre-trained, generative language models.',\n",
              " 'Learned Retrieval There is signiﬁcant work on learning to retrieve documents in information retrieval, more recently with pre-trained, neural language models [44, 26] similar to ours. Some work optimizes the retrieval module to aid in a speciﬁc, downstream task such as question answering, using search [46], reinforcement learning [6, 63, 62], or a latent variable approach [31, 20] as in our work. These successes leverage different retrieval-based architectures and optimization techniques to achieve strong performance on a single task, while we show that a single retrieval-based architecture can be ﬁne-tuned for strong performance on a variety of tasks.',\n",
              " 'Memory-based Architectures Our document index can be seen as a large external memory for neural networks to attend to, analogous to memory networks [64, 55]. Concurrent work [14] learns to retrieve a trained embedding for each entity in the input, rather than to retrieve raw text as in our work. Other work improves the ability of dialog models to generate factual text by attending over fact embeddings [15, 13]. A key feature of our memory is that it is comprised of raw text rather distributed representations, which makes the memory both (i) human-readable, lending a form of interpretability to our model, and (ii) human-writable, enabling us to dynamically update the model’s memory by editing the document index. This approach has also been used in knowledge-intensive dialog, where generators have been conditioned on retrieved text directly, albeit obtained via TF-IDF rather than end-to-end learnt retrieval [9].',\n",
              " 'Retrieve-and-Edit approaches Our method shares some similarities with retrieve-and-edit style approaches, where a similar training input-output pair is retrieved for a given input, and then edited to provide a ﬁnal output. These approaches have proved successful in a number of domains including Machine Translation [18, 22] and Semantic Parsing [21]. Our approach does have several differences, including less of emphasis on lightly editing a retrieved item, but on aggregating content from several pieces of retrieved content, as well as learning latent retrieval, and retrieving evidence documents rather than related training pairs. This said, RAG techniques may work well in these settings, and could represent promising future work.',\n",
              " 'In this work, we presented hybrid generation models with access to parametric and non-parametric memory. We showed that our RAG models obtain state of the art results on open-domain QA. We found that people prefer RAG’s generation over purely parametric BART, ﬁnding RAG more factual and speciﬁc. We conducted an thorough investigation of the learned retrieval component, validating its effectiveness, and we illustrated how the retrieval index can be hot-swapped to update the model without requiring any retraining. In future work, it may be fruitful to investigate if the two components can be jointly pre-trained from scratch, either with a denoising objective similar to BART or some another objective. Our work opens up new research directions on how parametric and non-parametric memories interact and how to most effectively combine them, showing promise in being applied to a wide variety of NLP tasks.',\n",
              " 'This work offers several positive societal beneﬁts over previous work: the fact that it is more strongly grounded in real factual knowledge (in this case Wikipedia) makes it “hallucinate” less with generations that are more factual, and offers more control and interpretability. RAG could be employed in a wide variety of scenarios with direct beneﬁt to society, for example by endowing it with a medical index and asking it open-domain questions on that topic, or by helping people be more effective at their jobs.',\n",
              " 'With these advantages also come potential downsides: Wikipedia, or any potential external knowledge source, will probably never be entirely factual and completely devoid of bias. Since RAG can be employed as a language model, similar concerns as for GPT-2 [50] are valid here, although arguably to a lesser extent, including that it might be used to generate abuse, faked or misleading content in the news or on social media; to impersonate others; or to automate the production of spam/phishing content [54]. Advanced language models may also lead to the automation of various jobs in the coming decades [16]. In order to mitigate these risks, AI systems could be employed to ﬁght against misleading content and automated spam/phishing.',\n",
              " 'The authors would like to thank the reviewers for their thoughtful and constructive feedback on this paper, as well as HuggingFace for their help in open-sourcing code to run RAG models. The authors would also like to thank Kyunghyun Cho and Sewon Min for productive discussions and advice. EP thanks supports from the NSF Graduate Research Fellowship. PL is supported by the FAIR PhD program.',\n",
              " 'for Computational Linguistics, pages 6086–6096, Florence, Italy, July 2019. Association for Computational Linguistics. doi: 10.18653/v1/P19-1612. URL https://www.aclweb.org/ anthology/P19-1612.',\n",
              " 'approaches 2016 co-located with the 30th Annual Conference on Neural Information Processing Systems (NIPS 2016), Barcelona, Spain, December 9, 2016, volume 1773 of CEUR Workshop Proceedings. CEUR-WS.org, 2016. URL http://ceur-ws.org/Vol-1773/CoCoNIPS_ 2016_paper9.pdf.',\n",
              " 'For Open-domain QA we report test numbers using 15 retrieved documents for RAG-Token models. For RAG-Sequence models, we report test results using 50 retrieved documents, and we use the Thorough Decoding approach since answers are generally short. We use greedy decoding for QA as we did not ﬁnd beam search improved results. For Open-MSMarco and Jeopardy question generation, we report test numbers using ten retrieved documents for both RAG-Token and RAG-Sequence, and we also train a BART-large model as a baseline. We use a beam size of four, and use the Fast Decoding approach for RAG-Sequence models, as Thorough Decoding did not improve performance.',\n",
              " 'Figure 4: Annotation interface for human evaluation of factuality. A pop-out for detailed instructions and a worked example appear when clicking \"view tool guide\".',\n",
              " 'Figure 4 shows the user interface for human evaluation. To avoid any biases for screen position, which model corresponded to sentence A and sentence B was randomly selected for each example. Annotators were encouraged to research the topic using the internet, and were given detailed instruc- tions and worked examples in a full instructions tab. We included some gold sentences in order to assess the accuracy of the annotators. Two annotators did not perform well on these examples and their annotations were removed from the results.',\n",
              " 'We train all RAG models and BART baselines using Fairseq [45].2 We train with mixed precision ﬂoating point arithmetic [40], distributing training across 8, 32GB NVIDIA V100 GPUs, though training and inference can be run on one GPU. We ﬁnd that doing Maximum Inner Product Search with FAISS is sufﬁciently fast on CPU, so we store document index vectors on CPU, requiring ∼ 100 GB of CPU memory for all of Wikipedia. After submission, We have ported our code to HuggingFace Transformers [66]3, which achieves equivalent performance to the previous version but is a cleaner and easier to use implementation. This version is also open-sourced. We also compress the document index using FAISS’s compression tools, reducing the CPU memory requirement to 36GB. Scripts to run experiments with RAG can be found at https://github.com/huggingface/transformers/ blob/master/examples/rag/README.md and an interactive demo of a RAG model can be found at https://huggingface.co/rag/',\n",
              " 'For open-domain QA, multiple answer annotations are often available for a given question. These answer annotations are exploited by extractive models during training as typically all the answer annotations are used to ﬁnd matches within documents when preparing training data. For RAG, we also make use of multiple annotation examples for Natural Questions and WebQuestions by training the model with each (q, a) pair separately, leading to a small increase in accuracy. For TriviaQA, there are often many valid answers to a given question, some of which are not suitable training targets, such as emoji or spelling variants. For TriviaQA, we ﬁlter out answer candidates if they do not occur in top 1000 documents for the query.',\n",
              " 'CuratedTrec preprocessing The answers for CuratedTrec are given in the form of regular expres- sions, which has been suggested as a reason why it is unsuitable for answer-generation models [20]. To overcome this, we use a pre-processing step where we ﬁrst retrieve the top 1000 documents for each query, and use the answer that most frequently matches the regex pattern as the supervision target. If no matches are found, we resort to a simple heuristic: generate all possible permutations for each regex, replacing non-deterministic symbols in the regex nested tree structure with a whitespace.',\n",
              " 'TriviaQA Evaluation setups The open-domain QA community customarily uses public develop- ment datasets as test datasets, as test data for QA datasets is often restricted and dedicated to reading compehension purposes. We report our results using the datasets splits used in DPR [26], which are consistent with common practice in Open-domain QA. For TriviaQA, this test dataset is the public TriviaQA Web Development split. Roberts et al. [52] used the TriviaQA ofﬁcial Wikipedia test set instead. Févry et al. [14] follow this convention in order to compare with Roberts et al. [52] (See appendix of [14]). We report results on both test sets to enable fair comparison to both approaches. We ﬁnd that our performance is much higher using the ofﬁcial Wiki test set, rather than the more conventional open-domain test set, which we attribute to the ofﬁcial Wiki test set questions being simpler to answer from Wikipedia.',\n",
              " 'For FEVER classiﬁcation, we follow the practice from [32], and ﬁrst re-generate the claim, and then classify using the representation of the ﬁnal hidden state, before ﬁnally marginalizing across documents to obtain the class probabilities. The FEVER task traditionally has two sub-tasks. The ﬁrst is to classify the claim as either \"Supported\", \"Refuted\" or \"Not Enough Info\", which is the task we explore in the main paper. FEVER’s other sub-task involves extracting sentences from Wikipedia as evidence supporting the classiﬁcation prediction. As FEVER uses a different Wikipedia dump to us, directly tackling this task is not straightforward. We hope to address this in future work.',\n",
              " 'We experimented with adding \"Null document\" mechanism to RAG, similar to REALM [20] in order to model cases where no useful information could be retrieved for a given input. Here, if k documents were retrieved, we would additionally \"retrieve\" an empty document and predict a logit for the null document, before marginalizing over k + 1 predictions. We explored modelling this null document logit by learning (i) a document embedding for the null document, (ii) a static learnt bias term, or (iii) a neural network to predict the logit. We did not ﬁnd that these improved performance, so in the interests of simplicity, we omit them. For Open MS-MARCO, where useful retrieved documents cannot always be retrieved, we observe that the model learns to always retrieve a particular set of documents for questions that are less likely to beneﬁt from retrieval, suggesting that null document mechanisms may not be necessary for RAG.',\n",
              " 'Our RAG models contain the trainable parameters for the BERT-base query and document encoder of DPR, with 110M parameters each (although we do not train the document encoder ourselves) and 406M trainable parameters from BART-large, 406M parameters, making a total of 626M trainable',\n",
              " 'parameters. The best performing \"closed-book\" (parametric only) open-domain QA model is T5-11B with 11 Billion trainable parameters. The T5 model with the closest number of parameters to our models is T5-large (770M parameters), which achieves a score of 28.9 EM on Natural Questions [52], substantially below the 44.5 that RAG-Sequence achieves, indicating that hybrid parametric/non- parametric models require far fewer trainable parameters for strong open-domain QA performance. The non-parametric memory index does not consist of trainable parameters, but does consists of 21M 728 dimensional vectors, consisting of 15.3B values. These can be easily be stored at 8-bit ﬂoating point precision to manage memory and disk footprints.',\n",
              " 'In preliminary experiments, we observed that for some tasks such as story generation [11], the retrieval component would “collapse” and learn to retrieve the same documents regardless of the input. In these cases, once retrieval had collapsed, the generator would learn to ignore the documents, and the RAG model would perform equivalently to BART. The collapse could be due to a less-explicit requirement for factual knowledge in some tasks, or the longer target sequences, which could result in less informative gradients for the retriever. Perez et al. [46] also found spurious retrieval results when optimizing a retrieval component in order to improve performance on downstream tasks.',\n",
              " 'The number of training, development and test datapoints in each of our datasets is shown in Table 7.']"
            ]
          },
          "metadata": {},
          "execution_count": 17
        }
      ]
    },
    {
      "cell_type": "code",
      "source": [
        "NarrativeText"
      ],
      "metadata": {
        "colab": {
          "base_uri": "https://localhost:8080/"
        },
        "id": "G17h10_gj7dm",
        "outputId": "27978f82-176f-46f1-f1f1-ea6468588f35"
      },
      "execution_count": 18,
      "outputs": [
        {
          "output_type": "execute_result",
          "data": {
            "text/plain": [
              "[\"Patrick Lewis't, Ethan Perez*,\",\n",
              " 'Aleksandra Piktus†, Fabio Petroni†, Vladimir Karpukhin†, Naman Goyal†, Heinrich Küttler†,',\n",
              " 'Mike Lewis†, Wen-tau Yih†, Tim Rocktäschel†‡, Sebastian Riedel†‡, Douwe Kiela†',\n",
              " '+Racebook AI Research; *University College London; *New York University;',\n",
              " 'plewis@fb.com',\n",
              " 'Large pre-trained language models have been shown to store factual knowledge in their parameters, and achieve state-of-the-art results when ﬁne-tuned on down- stream NLP tasks. However, their ability to access and precisely manipulate knowl- edge is still limited, and hence on knowledge-intensive tasks, their performance lags behind task-speciﬁc architectures. Additionally, providing provenance for their decisions and updating their world knowledge remain open research problems. Pre- trained models with a differentiable access mechanism to explicit non-parametric memory have so far been only investigated for extractive downstream tasks. We explore a general-purpose ﬁne-tuning recipe for retrieval-augmented generation (RAG) — models which combine pre-trained parametric and non-parametric mem- ory for language generation. We introduce RAG models where the parametric memory is a pre-trained seq2seq model and the non-parametric memory is a dense vector index of Wikipedia, accessed with a pre-trained neural retriever. We com- pare two RAG formulations, one which conditions on the same retrieved passages across the whole generated sequence, and another which can use different passages per token. We ﬁne-tune and evaluate our models on a wide range of knowledge- intensive NLP tasks and set the state of the art on three open domain QA tasks, outperforming parametric seq2seq models and task-speciﬁc retrieve-and-extract architectures. For language generation tasks, we ﬁnd that RAG models generate more speciﬁc, diverse and factual language than a state-of-the-art parametric-only seq2seq baseline.',\n",
              " 'Pre-trained neural language models have been shown to learn a substantial amount of in-depth knowl- edge from data [47]. They can do so without any access to an external memory, as a parameterized implicit knowledge base [51, 52]. While this development is exciting, such models do have down- sides: They cannot easily expand or revise their memory, can’t straightforwardly provide insight into their predictions, and may produce “hallucinations” [38]. Hybrid models that combine parametric memory with non-parametric (i.e., retrieval-based) memories [20, 26, 48] can address some of these issues because knowledge can be directly revised and expanded, and accessed knowledge can be inspected and interpreted. REALM [20] and ORQA [31], two recently introduced models that combine masked language models [8] with a differentiable retriever, have shown promising results,',\n",
              " 'Figure 1: Overview of our approach. We combine a pre-trained retriever (Query Encoder + Document Index) with a pre-trained seq2seq model (Generator) and ﬁne-tune end-to-end. For query x, we use Maximum Inner Product Search (MIPS) to ﬁnd the top-K documents zi. For ﬁnal prediction y, we treat z as a latent variable and marginalize over seq2seq predictions given different documents.',\n",
              " 'but have only explored open-domain extractive question answering. Here, we bring hybrid parametric and non-parametric memory to the “workhorse of NLP,” i.e. sequence-to-sequence (seq2seq) models.',\n",
              " 'We endow pre-trained, parametric-memory generation models with a non-parametric memory through a general-purpose ﬁne-tuning approach which we refer to as retrieval-augmented generation (RAG). We build RAG models where the parametric memory is a pre-trained seq2seq transformer, and the non-parametric memory is a dense vector index of Wikipedia, accessed with a pre-trained neural retriever. We combine these components in a probabilistic model trained end-to-end (Fig. 1). The retriever (Dense Passage Retriever [26], henceforth DPR) provides latent documents conditioned on the input, and the seq2seq model (BART [32]) then conditions on these latent documents together with the input to generate the output. We marginalize the latent documents with a top-K approximation, either on a per-output basis (assuming the same document is responsible for all tokens) or a per-token basis (where different documents are responsible for different tokens). Like T5 [51] or BART, RAG can be ﬁne-tuned on any seq2seq task, whereby both the generator and retriever are jointly learned.',\n",
              " 'There has been extensive previous work proposing architectures to enrich systems with non-parametric memory which are trained from scratch for speciﬁc tasks, e.g. memory networks [64, 55], stack- augmented networks [25] and memory layers [30]. In contrast, we explore a setting where both parametric and non-parametric memory components are pre-trained and pre-loaded with extensive knowledge. Crucially, by using pre-trained access mechanisms, the ability to access knowledge is present without additional training.',\n",
              " 'Our results highlight the beneﬁts of combining parametric and non-parametric memory with genera- tion for knowledge-intensive tasks—tasks that humans could not reasonably be expected to perform without access to an external knowledge source. Our RAG models achieve state-of-the-art results on open Natural Questions [29], WebQuestions [3] and CuratedTrec [2] and strongly outperform recent approaches that use specialised pre-training objectives on TriviaQA [24]. Despite these being extractive tasks, we ﬁnd that unconstrained generation outperforms previous extractive approaches. For knowledge-intensive generation, we experiment with MS-MARCO [1] and Jeopardy question generation, and we ﬁnd that our models generate responses that are more factual, speciﬁc, and diverse than a BART baseline. For FEVER [56] fact veriﬁcation, we achieve results within 4.3% of state-of-the-art pipeline models which use strong retrieval supervision. Finally, we demonstrate that the non-parametric memory can be replaced to update the models’ knowledge as the world changes.1',\n",
              " 'We explore RAG models, which use the input sequence x to retrieve text documents z and use them as additional context when generating the target sequence y. As shown in Figure 1, our models leverage two components: (i) a retriever pη(z|x) with parameters η that returns (top-K truncated) distributions over text passages given a query x and (ii) a generator pθ(yi|x, z, y1:i−1) parametrized',\n",
              " '1Code to run experiments with RAG has been open-sourced as part of the HuggingFace Transform- ers Library [66] and can be found at https://github.com/huggingface/transformers/blob/master/ examples/rag/. An interactive demo of RAG models can be found at https://huggingface.co/rag/',\n",
              " 'by θ that generates a current token based on a context of the previous i − 1 tokens y1:i−1, the original input x and a retrieved passage z.',\n",
              " 'To train the retriever and generator end-to-end, we treat the retrieved document as a latent variable. We propose two models that marginalize over the latent documents in different ways to produce a distribution over generated text. In one approach, RAG-Sequence, the model uses the same document to predict each target token. The second approach, RAG-Token, can predict each target token based on a different document. In the following, we formally introduce both models and then describe the pη and pθ components, as well as the training and decoding procedure.',\n",
              " 'RAG-Sequence Model The RAG-Sequence model uses the same retrieved document to generate the complete sequence. Technically, it treats the retrieved document as a single latent variable that is marginalized to get the seq2seq probability p(y|x) via a top-K approximation. Concretely, the top K documents are retrieved using the retriever, and the generator produces the output sequence probability for each document, which are then marginalized,',\n",
              " 'RAG-Token Model In the RAG-Token model we can draw a different latent document for each target token and marginalize accordingly. This allows the generator to choose content from several documents when producing an answer. Concretely, the top K documents are retrieved using the retriever, and then the generator produces a distribution for the next output token for each document, before marginalizing, and repeating the process with the following output token, Formally, we deﬁne:',\n",
              " 'Finally, we note that RAG can be used for sequence classiﬁcation tasks by considering the target class as a target sequence of length one, in which case RAG-Sequence and RAG-Token are equivalent.',\n",
              " 'The retrieval component pη(z|x) is based on DPR [26]. DPR follows a bi-encoder architecture:',\n",
              " 'where d(z) is a dense representation of a document produced by a BERTBASE document encoder [8], and q(x) a query representation produced by a query encoder, also based on BERTBASE. Calculating top-k(pη(·|x)), the list of k documents z with highest prior probability pη(z|x), is a Maximum Inner Product Search (MIPS) problem, which can be approximately solved in sub-linear time [23]. We use a pre-trained bi-encoder from DPR to initialize our retriever and to build the document index. This retriever was trained to retrieve documents which contain answers to TriviaQA [24] questions and Natural Questions [29]. We refer to the document index as the non-parametric memory.',\n",
              " 'The generator component pθ(yi|x, z, y1:i−1) could be modelled using any encoder-decoder. We use BART-large [32], a pre-trained seq2seq transformer [58] with 400M parameters. To combine the input x with the retrieved content z when generating from BART, we simply concatenate them. BART was pre-trained using a denoising objective and a variety of different noising functions. It has obtained state-of-the-art results on a diverse set of generation tasks and outperforms comparably-sized T5 models [32]. We refer to the BART generator parameters θ as the parametric memory henceforth.',\n",
              " 'We jointly train the retriever and generator components without any direct supervision on what document should be retrieved. Given a ﬁne-tuning training corpus of input/output pairs (xj, yj), we',\n",
              " 'minimize the negative marginal log-likelihood of each target, ar',\n",
              " 'j − log p(yj|xj) using stochastic gradient descent with Adam [28]. Updating the document encoder BERTd during training is costly as it requires the document index to be periodically updated as REALM does during pre-training [20]. We do not ﬁnd this step necessary for strong performance, and keep the document encoder (and index) ﬁxed, only ﬁne-tuning the query encoder BERTq and the BART generator.',\n",
              " 'At test time, RAG-Sequence and RAG-Token require different ways to approximate arg maxy p(y|x).',\n",
              " 'RAG-Token The RAG-Token model can be seen as a standard, autoregressive seq2seq genera- tor with transition probability: pj (yi|z, yii—1) = zetop-k(p(-|2)) Pn (zil@)po(yil@, Zi, Y1e—1) To decode, we can plug Po(yi |x, y1i—1) into a standard beam decoder.',\n",
              " 'RAG-Sequence For RAG-Sequence, the likelihood p(y|x) does not break into a conventional per- token likelihood, hence we cannot solve it with a single beam search. Instead, we run beam search for each document z, scoring each hypothesis using pθ(yi|x, z, y1:i−1). This yields a set of hypotheses Y , some of which may not have appeared in the beams of all documents. To estimate the probability of an hypothesis y we run an additional forward pass for each document z for which y does not appear in the beam, multiply generator probability with pη(z|x) and then sum the probabilities across beams for the marginals. We refer to this decoding procedure as “Thorough Decoding.” For longer output sequences, |Y | can become large, requiring many forward passes. For more efﬁcient decoding, we can make a further approximation that pθ(y|x, zi) ≈ 0 where y was not generated during beam search from x, zi. This avoids the need to run additional forward passes once the candidate set Y has been generated. We refer to this decoding procedure as “Fast Decoding.”',\n",
              " 'We experiment with RAG in a wide range of knowledge-intensive tasks. For all experiments, we use a single Wikipedia dump for our non-parametric knowledge source. Following Lee et al. [31] and Karpukhin et al. [26], we use the December 2018 dump. Each Wikipedia article is split into disjoint 100-word chunks, to make a total of 21M documents. We use the document encoder to compute an embedding for each document, and build a single MIPS index using FAISS [23] with a Hierarchical Navigable Small World approximation for fast retrieval [37]. During training, we retrieve the top k documents for each query. We consider k ∈ {5, 10} for training and set k for test time using dev data. We now discuss experimental details for each task.',\n",
              " 'Open-domain question answering (QA) is an important real-world application and common testbed for knowledge-intensive tasks [20]. We treat questions and answers as input-output text pairs (x, y) and train RAG by directly minimizing the negative log-likelihood of answers. We compare RAG to the popular extractive QA paradigm [5, 7, 31, 26], where answers are extracted spans from retrieved documents, relying primarily on non-parametric knowledge. We also compare to “Closed-Book QA” approaches [52], which, like RAG, generate answers, but which do not exploit retrieval, instead relying purely on parametric knowledge. We consider four popular open-domain QA datasets: Natural Questions (NQ) [29], TriviaQA (TQA) [24]. WebQuestions (WQ) [3] and CuratedTrec (CT) [2]. As CT and WQ are small, we follow DPR [26] by initializing CT and WQ models with our NQ RAG model. We use the same train/dev/test splits as prior work [31, 26] and report Exact Match (EM) scores. For TQA, to compare with T5 [52], we also evaluate on the TQA Wiki test set.',\n",
              " 'RAG models can go beyond simple extractive QA and answer questions with free-form, abstractive text generation. To test RAG’s natural language generation (NLG) in a knowledge-intensive setting, we use the MSMARCO NLG task v2.1 [43]. The task consists of questions, ten gold passages retrieved from a search engine for each question, and a full sentence answer annotated from the retrieved passages. We do not use the supplied passages, only the questions and answers, to treat',\n",
              " 'MSMARCO as an open-domain abstractive QA task. MSMARCO has some questions that cannot be answered in a way that matches the reference answer without access to the gold passages, such as “What is the weather in Volcano, CA?” so performance will be lower without using gold passages. We also note that some MSMARCO questions cannot be answered using Wikipedia alone. Here, RAG can rely on parametric knowledge to generate reasonable responses.',\n",
              " 'To evaluate RAG’s generation abilities in a non-QA setting, we study open-domain question gen- eration. Rather than use questions from standard open-domain QA tasks, which typically consist of short, simple questions, we propose the more demanding task of generating Jeopardy questions. Jeopardy is an unusual format that consists of trying to guess an entity from a fact about that entity. For example, “The World Cup” is the answer to the question “In 1986 Mexico scored as the ﬁrst country to host this international sports competition twice.” As Jeopardy questions are precise, factual statements, generating Jeopardy questions conditioned on their answer entities constitutes a challenging knowledge-intensive generation task.',\n",
              " 'We use the splits from SearchQA [10], with 100K train, 14K dev, and 27K test examples. As this is a new task, we train a BART model for comparison. Following [67], we evaluate using the SQuAD-tuned Q-BLEU-1 metric [42]. Q-BLEU is a variant of BLEU with a higher weight for matching entities and has higher correlation with human judgment for question generation than standard metrics. We also perform two human evaluations, one to assess generation factuality, and one for speciﬁcity. We deﬁne factuality as whether a statement can be corroborated by trusted external sources, and speciﬁcity as high mutual dependence between the input and output [33]. We follow best practice and use pairwise comparative evaluation [34]. Evaluators are shown an answer and two generated questions, one from BART and one from RAG. They are then asked to pick one of four options—quuestion A is better, question B is better, both are good, or neither is good.',\n",
              " 'FEVER [56] requires classifying whether a natural language claim is supported or refuted by Wikipedia, or whether there is not enough information to decide. The task requires retrieving evidence from Wikipedia relating to the claim and then reasoning over this evidence to classify whether the claim is true, false, or unveriﬁable from Wikipedia alone. FEVER is a retrieval problem coupled with an challenging entailment reasoning task. It also provides an appropriate testbed for exploring the RAG models’ ability to handle classiﬁcation rather than generation. We map FEVER class labels (supports, refutes, or not enough info) to single output tokens and directly train with claim-class pairs. Crucially, unlike most other approaches to FEVER, we do not use supervision on retrieved evidence. In many real-world applications, retrieval supervision signals aren’t available, and models that do not require such supervision will be applicable to a wider range of tasks. We explore two variants: the standard 3-way classiﬁcation task (supports/refutes/not enough info) and the 2-way (supports/refutes) task studied in Thorne and Vlachos [57]. In both cases we report label accuracy.',\n",
              " 'Table 1 shows results for RAG along with state-of-the-art models. On all four open-domain QA tasks, RAG sets a new state of the art (only on the T5-comparable split for TQA). RAG combines the generation ﬂexibility of the “closed-book” (parametric only) approaches and the performance of \"open-book\" retrieval-based approaches. Unlike REALM and T5+SSM, RAG enjoys strong results without expensive, specialized “salient span masking” pre-training [20]. It is worth noting that RAG’s retriever is initialized using DPR’s retriever, which uses retrieval supervision on Natural Questions and TriviaQA. RAG compares favourably to the DPR QA system, which uses a BERT-based “cross- encoder” to re-rank documents, along with an extractive reader. RAG demonstrates that neither a re-ranker nor extractive reader is necessary for state-of-the-art performance.',\n",
              " 'There are several advantages to generating answers even when it is possible to extract them. Docu- ments with clues about the answer but do not contain the answer verbatim can still contribute towards a correct answer being generated, which is not possible with standard extractive approaches, leading',\n",
              " 'to more effective marginalization over documents. Furthermore, RAG can generate correct answers even when the correct answer is not in any retrieved document, achieving 11.8% accuracy in such cases for NQ, where an extractive model would score 0%.',\n",
              " 'As shown in Table 2, RAG-Sequence outperforms BART on Open MS-MARCO NLG by 2.6 Bleu points and 2.6 Rouge-L points. RAG approaches state-of-the-art model performance, which is impressive given that (i) those models access gold passages with speciﬁc information required to generate the reference answer , (ii) many questions are unanswerable without the gold passages, and (iii) not all questions are answerable from Wikipedia alone. Table 3 shows some generated answers from our models. Qualitatively, we ﬁnd that RAG models hallucinate less and generate factually correct text more often than BART. Later, we also show that RAG generations are more diverse than BART generations (see §4.5).',\n",
              " 'Table 2 shows that RAG-Token performs better than RAG-Sequence on Jeopardy question generation, with both models outperforming BART on Q-BLEU-1. 4 shows human evaluation results, over 452 pairs of generations from BART and RAG-Token. Evaluators indicated that BART was more factual than RAG in only 7.1% of cases, while RAG was more factual in 42.7% of cases, and both RAG and BART were factual in a further 17% of cases, clearly demonstrating the effectiveness of RAG on the task over a state-of-the-art generation model. Evaluators also ﬁnd RAG generations to be more speciﬁc by a large margin. Table 3 shows typical generations from each model.',\n",
              " 'Jeopardy questions often contain two separate pieces of information, and RAG-Token may perform best because it can generate responses that combine content from several documents. Figure 2 shows an example. When generating “Sun”, the posterior is high for document 2 which mentions “The Sun Also Rises”. Similarly, document 1 dominates the posterior when “A Farewell to Arms” is generated. Intriguingly, after the ﬁrst token of each book is generated, the document posterior ﬂattens. This observation suggests that the generator can complete the titles without depending on speciﬁc documents. In other words, the model’s parametric knowledge is sufﬁcient to complete the titles. We ﬁnd evidence for this hypothesis by feeding the BART-only baseline with the partial decoding \"The Sun. BART completes the generation \"The Sun Also Rises\" is a novel by this author of \"The Sun Also Rises\" indicating the title \"The Sun Also Rises\" is stored in BART’s parameters. Similarly, BART will complete the partial decoding \"The Sun Also Rises\" is a novel by this author of \"A with \"The Sun Also Rises\" is a novel by this author of \"A Farewell to Arms\". This example shows how parametric and non-parametric memories work together—the non-parametric component helps to guide the generation, drawing out speciﬁc knowledge stored in the parametric memory.',\n",
              " 'Table 2 shows our results on FEVER. For 3-way classiﬁcation, RAG scores are within 4.3% of state-of-the-art models, which are complex pipeline systems with domain-speciﬁc architectures and substantial engineering, trained using intermediate retrieval supervision, which RAG does not require.',\n",
              " 'Figure 2: RAG-Token document posterior p(zi|x, yi, y−i) for each generated token for input “Hem- ingway\" for Jeopardy generation with 5 retrieved documents. The posterior for document 1 is high when generating “A Farewell to Arms\" and for document 2 when generating “The Sun Also Rises\".',\n",
              " 'Table 3: Examples from generation tasks. RAG models generate more speciﬁc and factually accurate responses. ‘?’ indicates factually incorrect responses, * indicates partially correct responses.',\n",
              " 'For 2-way classiﬁcation, we compare against Thorne and Vlachos [57], who train RoBERTa [35] to classify the claim as true or false given the gold evidence sentence. RAG achieves an accuracy within 2.7% of this model, despite being supplied with only the claim and retrieving its own evidence. We also analyze whether documents retrieved by RAG correspond to documents annotated as gold evidence in FEVER. We calculate the overlap in article titles between the top k documents retrieved by RAG and gold evidence annotations. We ﬁnd that the top retrieved document is from a gold article in 71% of cases, and a gold article is present in the top 10 retrieved articles in 90% of cases.',\n",
              " 'Generation Diversity Section 4.3 shows that RAG models are more factual and speciﬁc than BART for Jeopardy question generation. Following recent work on diversity-promoting decoding [33, 59, 39], we also investigate generation diversity by calculating the ratio of distinct ngrams to total ngrams generated by different models. Table 5 shows that RAG-Sequence’s generations are more diverse than RAG-Token’s, and both are signiﬁcantly more diverse than BART without needing any diversity-promoting decoding.',\n",
              " 'Retrieval Ablations A key feature of RAG is learning to retrieve relevant information for the task. To assess the effectiveness of the retrieval mechanism, we run ablations where we freeze the retriever during training. As shown in Table 6, learned retrieval improves results for all tasks.',\n",
              " 'We compare RAG’s dense retriever to a word overlap-based BM25 retriever [53]. Here, we replace RAG’s retriever with a ﬁxed BM25 system, and use BM25 retrieval scores as logits when calculating p(z|x). Table 6 shows the results. For FEVER, BM25 performs best, perhaps since FEVER claims are heavily entity-centric and thus well-suited for word overlap-based retrieval. Differentiable retrieval improves results on all other tasks, especially for Open-Domain QA, where it is crucial.',\n",
              " 'Index hot-swapping An advantage of non-parametric memory models like RAG is that knowledge can be easily updated at test time. Parametric-only models like T5 or BART need further training to update their behavior as the world changes. To demonstrate, we build an index using the DrQA [5] Wikipedia dump from December 2016 and compare outputs from RAG using this index to the newer index from our main results (December 2018). We prepare a list of 82 world leaders who had changed',\n",
              " 'Table 4: Human assessments for the Jeopardy Question Generation Task.',\n",
              " 'between these dates and use a template “Who is {position}?” (e.g. “Who is the President of Peru?”) to query our NQ RAG model with each index. RAG answers 70% correctly using the 2016 index for 2016 world leaders and 68% using the 2018 index for 2018 world leaders. Accuracy with mismatched indices is low (12% with the 2018 index and 2016 leaders, 4% with the 2016 index and 2018 leaders). This shows we can update RAG’s world knowledge by simply replacing its non-parametric memory.',\n",
              " 'Effect of Retrieving more documents Models are trained with either 5 or 10 retrieved latent documents, and we do not observe signiﬁcant differences in performance between them. We have the ﬂexibility to adjust the number of retrieved documents at test time, which can affect performance and runtime. Figure 3 (left) shows that retrieving more documents at test time monotonically improves Open-domain QA results for RAG-Sequence, but performance peaks for RAG-Token at 10 retrieved documents. Figure 3 (right) shows that retrieving more documents leads to higher Rouge-L for RAG-Token at the expense of Bleu-1, but the effect is less pronounced for RAG-Sequence.',\n",
              " 'Single-Task Retrieval Prior work has shown that retrieval improves performance across a variety of NLP tasks when considered in isolation. Such tasks include open-domain question answering [5, 29], fact checking [56], fact completion [48], long-form question answering [12], Wikipedia article generation [36], dialogue [41, 65, 9, 13], translation [17], and language modeling [19, 27]. Our work uniﬁes previous successes in incorporating retrieval into individual tasks, showing that a single retrieval-based architecture is capable of achieving strong performance across several tasks.',\n",
              " 'General-Purpose Architectures for NLP Prior work on general-purpose architectures for NLP tasks has shown great success without the use of retrieval. A single, pre-trained language model has been shown to achieve strong performance on various classiﬁcation tasks in the GLUE bench- marks [60, 61] after ﬁne-tuning [49, 8]. GPT-2 [50] later showed that a single, left-to-right, pre-trained language model could achieve strong performance across both discriminative and generative tasks. For further improvement, BART [32] and T5 [51, 52] propose a single, pre-trained encoder-decoder model that leverages bi-directional attention to achieve stronger performance on discriminative and generative tasks. Our work aims to expand the space of possible tasks with a single, uniﬁed architecture, by learning a retrieval module to augment pre-trained, generative language models.',\n",
              " 'Learned Retrieval There is signiﬁcant work on learning to retrieve documents in information retrieval, more recently with pre-trained, neural language models [44, 26] similar to ours. Some work optimizes the retrieval module to aid in a speciﬁc, downstream task such as question answering, using search [46], reinforcement learning [6, 63, 62], or a latent variable approach [31, 20] as in our work. These successes leverage different retrieval-based architectures and optimization techniques to achieve strong performance on a single task, while we show that a single retrieval-based architecture can be ﬁne-tuned for strong performance on a variety of tasks.',\n",
              " 'Memory-based Architectures Our document index can be seen as a large external memory for neural networks to attend to, analogous to memory networks [64, 55]. Concurrent work [14] learns to retrieve a trained embedding for each entity in the input, rather than to retrieve raw text as in our work. Other work improves the ability of dialog models to generate factual text by attending over fact embeddings [15, 13]. A key feature of our memory is that it is comprised of raw text rather distributed representations, which makes the memory both (i) human-readable, lending a form of interpretability to our model, and (ii) human-writable, enabling us to dynamically update the model’s memory by editing the document index. This approach has also been used in knowledge-intensive dialog, where generators have been conditioned on retrieved text directly, albeit obtained via TF-IDF rather than end-to-end learnt retrieval [9].',\n",
              " 'Retrieve-and-Edit approaches Our method shares some similarities with retrieve-and-edit style approaches, where a similar training input-output pair is retrieved for a given input, and then edited to provide a ﬁnal output. These approaches have proved successful in a number of domains including Machine Translation [18, 22] and Semantic Parsing [21]. Our approach does have several differences, including less of emphasis on lightly editing a retrieved item, but on aggregating content from several pieces of retrieved content, as well as learning latent retrieval, and retrieving evidence documents rather than related training pairs. This said, RAG techniques may work well in these settings, and could represent promising future work.',\n",
              " 'In this work, we presented hybrid generation models with access to parametric and non-parametric memory. We showed that our RAG models obtain state of the art results on open-domain QA. We found that people prefer RAG’s generation over purely parametric BART, ﬁnding RAG more factual and speciﬁc. We conducted an thorough investigation of the learned retrieval component, validating its effectiveness, and we illustrated how the retrieval index can be hot-swapped to update the model without requiring any retraining. In future work, it may be fruitful to investigate if the two components can be jointly pre-trained from scratch, either with a denoising objective similar to BART or some another objective. Our work opens up new research directions on how parametric and non-parametric memories interact and how to most effectively combine them, showing promise in being applied to a wide variety of NLP tasks.',\n",
              " 'This work offers several positive societal beneﬁts over previous work: the fact that it is more strongly grounded in real factual knowledge (in this case Wikipedia) makes it “hallucinate” less with generations that are more factual, and offers more control and interpretability. RAG could be employed in a wide variety of scenarios with direct beneﬁt to society, for example by endowing it with a medical index and asking it open-domain questions on that topic, or by helping people be more effective at their jobs.',\n",
              " 'With these advantages also come potential downsides: Wikipedia, or any potential external knowledge source, will probably never be entirely factual and completely devoid of bias. Since RAG can be employed as a language model, similar concerns as for GPT-2 [50] are valid here, although arguably to a lesser extent, including that it might be used to generate abuse, faked or misleading content in the news or on social media; to impersonate others; or to automate the production of spam/phishing content [54]. Advanced language models may also lead to the automation of various jobs in the coming decades [16]. In order to mitigate these risks, AI systems could be employed to ﬁght against misleading content and automated spam/phishing.',\n",
              " 'The authors would like to thank the reviewers for their thoughtful and constructive feedback on this paper, as well as HuggingFace for their help in open-sourcing code to run RAG models. The authors would also like to thank Kyunghyun Cho and Sewon Min for productive discussions and advice. EP thanks supports from the NSF Graduate Research Fellowship. PL is supported by the FAIR PhD program.',\n",
              " 'for Computational Linguistics, pages 6086–6096, Florence, Italy, July 2019. Association for Computational Linguistics. doi: 10.18653/v1/P19-1612. URL https://www.aclweb.org/ anthology/P19-1612.',\n",
              " 'approaches 2016 co-located with the 30th Annual Conference on Neural Information Processing Systems (NIPS 2016), Barcelona, Spain, December 9, 2016, volume 1773 of CEUR Workshop Proceedings. CEUR-WS.org, 2016. URL http://ceur-ws.org/Vol-1773/CoCoNIPS_ 2016_paper9.pdf.',\n",
              " 'For Open-domain QA we report test numbers using 15 retrieved documents for RAG-Token models. For RAG-Sequence models, we report test results using 50 retrieved documents, and we use the Thorough Decoding approach since answers are generally short. We use greedy decoding for QA as we did not ﬁnd beam search improved results. For Open-MSMarco and Jeopardy question generation, we report test numbers using ten retrieved documents for both RAG-Token and RAG-Sequence, and we also train a BART-large model as a baseline. We use a beam size of four, and use the Fast Decoding approach for RAG-Sequence models, as Thorough Decoding did not improve performance.',\n",
              " 'Figure 4: Annotation interface for human evaluation of factuality. A pop-out for detailed instructions and a worked example appear when clicking \"view tool guide\".',\n",
              " 'Figure 4 shows the user interface for human evaluation. To avoid any biases for screen position, which model corresponded to sentence A and sentence B was randomly selected for each example. Annotators were encouraged to research the topic using the internet, and were given detailed instruc- tions and worked examples in a full instructions tab. We included some gold sentences in order to assess the accuracy of the annotators. Two annotators did not perform well on these examples and their annotations were removed from the results.',\n",
              " 'We train all RAG models and BART baselines using Fairseq [45].2 We train with mixed precision ﬂoating point arithmetic [40], distributing training across 8, 32GB NVIDIA V100 GPUs, though training and inference can be run on one GPU. We ﬁnd that doing Maximum Inner Product Search with FAISS is sufﬁciently fast on CPU, so we store document index vectors on CPU, requiring ∼ 100 GB of CPU memory for all of Wikipedia. After submission, We have ported our code to HuggingFace Transformers [66]3, which achieves equivalent performance to the previous version but is a cleaner and easier to use implementation. This version is also open-sourced. We also compress the document index using FAISS’s compression tools, reducing the CPU memory requirement to 36GB. Scripts to run experiments with RAG can be found at https://github.com/huggingface/transformers/ blob/master/examples/rag/README.md and an interactive demo of a RAG model can be found at https://huggingface.co/rag/',\n",
              " 'For open-domain QA, multiple answer annotations are often available for a given question. These answer annotations are exploited by extractive models during training as typically all the answer annotations are used to ﬁnd matches within documents when preparing training data. For RAG, we also make use of multiple annotation examples for Natural Questions and WebQuestions by training the model with each (q, a) pair separately, leading to a small increase in accuracy. For TriviaQA, there are often many valid answers to a given question, some of which are not suitable training targets, such as emoji or spelling variants. For TriviaQA, we ﬁlter out answer candidates if they do not occur in top 1000 documents for the query.',\n",
              " 'CuratedTrec preprocessing The answers for CuratedTrec are given in the form of regular expres- sions, which has been suggested as a reason why it is unsuitable for answer-generation models [20]. To overcome this, we use a pre-processing step where we ﬁrst retrieve the top 1000 documents for each query, and use the answer that most frequently matches the regex pattern as the supervision target. If no matches are found, we resort to a simple heuristic: generate all possible permutations for each regex, replacing non-deterministic symbols in the regex nested tree structure with a whitespace.',\n",
              " 'TriviaQA Evaluation setups The open-domain QA community customarily uses public develop- ment datasets as test datasets, as test data for QA datasets is often restricted and dedicated to reading compehension purposes. We report our results using the datasets splits used in DPR [26], which are consistent with common practice in Open-domain QA. For TriviaQA, this test dataset is the public TriviaQA Web Development split. Roberts et al. [52] used the TriviaQA ofﬁcial Wikipedia test set instead. Févry et al. [14] follow this convention in order to compare with Roberts et al. [52] (See appendix of [14]). We report results on both test sets to enable fair comparison to both approaches. We ﬁnd that our performance is much higher using the ofﬁcial Wiki test set, rather than the more conventional open-domain test set, which we attribute to the ofﬁcial Wiki test set questions being simpler to answer from Wikipedia.',\n",
              " 'For FEVER classiﬁcation, we follow the practice from [32], and ﬁrst re-generate the claim, and then classify using the representation of the ﬁnal hidden state, before ﬁnally marginalizing across documents to obtain the class probabilities. The FEVER task traditionally has two sub-tasks. The ﬁrst is to classify the claim as either \"Supported\", \"Refuted\" or \"Not Enough Info\", which is the task we explore in the main paper. FEVER’s other sub-task involves extracting sentences from Wikipedia as evidence supporting the classiﬁcation prediction. As FEVER uses a different Wikipedia dump to us, directly tackling this task is not straightforward. We hope to address this in future work.',\n",
              " 'We experimented with adding \"Null document\" mechanism to RAG, similar to REALM [20] in order to model cases where no useful information could be retrieved for a given input. Here, if k documents were retrieved, we would additionally \"retrieve\" an empty document and predict a logit for the null document, before marginalizing over k + 1 predictions. We explored modelling this null document logit by learning (i) a document embedding for the null document, (ii) a static learnt bias term, or (iii) a neural network to predict the logit. We did not ﬁnd that these improved performance, so in the interests of simplicity, we omit them. For Open MS-MARCO, where useful retrieved documents cannot always be retrieved, we observe that the model learns to always retrieve a particular set of documents for questions that are less likely to beneﬁt from retrieval, suggesting that null document mechanisms may not be necessary for RAG.',\n",
              " 'Our RAG models contain the trainable parameters for the BERT-base query and document encoder of DPR, with 110M parameters each (although we do not train the document encoder ourselves) and 406M trainable parameters from BART-large, 406M parameters, making a total of 626M trainable',\n",
              " 'parameters. The best performing \"closed-book\" (parametric only) open-domain QA model is T5-11B with 11 Billion trainable parameters. The T5 model with the closest number of parameters to our models is T5-large (770M parameters), which achieves a score of 28.9 EM on Natural Questions [52], substantially below the 44.5 that RAG-Sequence achieves, indicating that hybrid parametric/non- parametric models require far fewer trainable parameters for strong open-domain QA performance. The non-parametric memory index does not consist of trainable parameters, but does consists of 21M 728 dimensional vectors, consisting of 15.3B values. These can be easily be stored at 8-bit ﬂoating point precision to manage memory and disk footprints.',\n",
              " 'In preliminary experiments, we observed that for some tasks such as story generation [11], the retrieval component would “collapse” and learn to retrieve the same documents regardless of the input. In these cases, once retrieval had collapsed, the generator would learn to ignore the documents, and the RAG model would perform equivalently to BART. The collapse could be due to a less-explicit requirement for factual knowledge in some tasks, or the longer target sequences, which could result in less informative gradients for the retriever. Perez et al. [46] also found spurious retrieval results when optimizing a retrieval component in order to improve performance on downstream tasks.',\n",
              " 'The number of training, development and test datapoints in each of our datasets is shown in Table 7.']"
            ]
          },
          "metadata": {},
          "execution_count": 18
        }
      ]
    },
    {
      "cell_type": "code",
      "source": [
        "ListItem\n"
      ],
      "metadata": {
        "colab": {
          "base_uri": "https://localhost:8080/"
        },
        "id": "O0J745Hfj8gi",
        "outputId": "16d17396-c1f6-4edf-bf24-87495bb497d1"
      },
      "execution_count": 19,
      "outputs": [
        {
          "output_type": "execute_result",
          "data": {
            "text/plain": [
              "['[1] Payal Bajaj, Daniel Campos, Nick Craswell, Li Deng, Jianfeng Gao, Xiaodong Liu, Rangan Majumder, Andrew McNamara, Bhaskar Mitra, Tri Nguyen, Mir Rosenberg, Xia Song, Alina Stoica, Saurabh Tiwary, and Tong Wang. MS MARCO: A Human Generated MAchine Reading COmprehension Dataset. arXiv:1611.09268 [cs], November 2016. URL http: //arxiv.org/abs/1611.09268. arXiv: 1611.09268.',\n",
              " '[2] Petr Baudiš and Jan Šediv`y. Modeling of the question answering task in the yodaqa system. In International Conference of the Cross-Language Evaluation Forum for European Languages, pages 222–228. Springer, 2015. URL https://link.springer.com/chapter/10.1007% 2F978-3-319-24027-5_20.',\n",
              " '[3] Jonathan Berant, Andrew Chou, Roy Frostig, and Percy Liang. Semantic Parsing on Freebase from Question-Answer Pairs. In Proceedings of the 2013 Conference on Empirical Methods in Natural Language Processing, pages 1533–1544, Seattle, Washington, USA, October 2013. Association for Computational Linguistics. URL http://www.aclweb.org/anthology/ D13-1160.',\n",
              " '[4] Bin Bi, Chenliang Li, Chen Wu, Ming Yan, and Wei Wang. Palm: Pre-training an autoencod- ing&autoregressive language model for context-conditioned generation. ArXiv, abs/2004.07159, 2020. URL https://arxiv.org/abs/2004.07159.',\n",
              " '[5] Danqi Chen, Adam Fisch, Jason Weston, and Antoine Bordes. Reading Wikipedia to Answer Open-Domain Questions. In Proceedings of the 55th Annual Meeting of the Association for Computational Linguistics (Volume 1: Long Papers), pages 1870–1879, Vancouver, Canada, July 2017. Association for Computational Linguistics. doi: 10.18653/v1/P17-1171. URL https://www.aclweb.org/anthology/P17-1171.',\n",
              " '[6] Eunsol Choi, Daniel Hewlett, Jakob Uszkoreit, Illia Polosukhin, Alexandre Lacoste, and Jonathan Berant. Coarse-to-ﬁne question answering for long documents. In Proceedings of the 55th Annual Meeting of the Association for Computational Linguistics (Volume 1: Long Papers), pages 209–220, Vancouver, Canada, July 2017. Association for Computational Linguistics. doi: 10.18653/v1/P17-1020. URL https://www.aclweb.org/anthology/P17-1020.',\n",
              " '[7] Christopher Clark and Matt Gardner. Simple and Effective Multi-Paragraph Reading Compre- hension. arXiv:1710.10723 [cs], October 2017. URL http://arxiv.org/abs/1710.10723. arXiv: 1710.10723.',\n",
              " '[8] Jacob Devlin, Ming-Wei Chang, Kenton Lee, and Kristina Toutanova. BERT: Pre-training of Deep Bidirectional Transformers for Language Understanding. In Proceedings of the 2019 Con- ference of the North American Chapter of the Association for Computational Linguistics: Human Language Technologies, Volume 1 (Long and Short Papers), pages 4171–4186, Minneapolis, Minnesota, June 2019. Association for Computational Linguistics. doi: 10.18653/v1/N19-1423. URL https://www.aclweb.org/anthology/N19-1423.',\n",
              " '[9] Emily Dinan, Stephen Roller, Kurt Shuster, Angela Fan, Michael Auli, and Jason Weston. Wiz- ard of wikipedia: Knowledge-powered conversational agents. In International Conference on Learning Representations, 2019. URL https://openreview.net/forum?id=r1l73iRqKm.',\n",
              " '[10] Matthew Dunn, Levent Sagun, Mike Higgins, V. Ugur Guney, Volkan Cirik, and Kyunghyun Cho. SearchQA: A New Q&A Dataset Augmented with Context from a Search Engine. arXiv:1704.05179 [cs], April 2017. URL http://arxiv.org/abs/1704.05179. arXiv: 1704.05179.',\n",
              " '[11] Angela Fan, Mike Lewis, and Yann Dauphin. Hierarchical neural story generation. In Proceed- ings of the 56th Annual Meeting of the Association for Computational Linguistics (Volume 1: Long Papers), pages 889–898, Melbourne, Australia, July 2018. Association for Computational Linguistics. doi: 10.18653/v1/P18-1082. URL https://www.aclweb.org/anthology/ P18-1082.',\n",
              " '[12] Angela Fan, Yacine Jernite, Ethan Perez, David Grangier, Jason Weston, and Michael Auli. ELI5: Long form question answering. In Proceedings of the 57th Annual Meeting of the Association for Computational Linguistics, pages 3558–3567, Florence, Italy, July 2019. Association for Computational Linguistics. doi: 10.18653/v1/P19-1346. URL https://www.aclweb.org/ anthology/P19-1346.',\n",
              " '[13] Angela Fan, Claire Gardent, Chloe Braud, and Antoine Bordes. Augmenting transformers with KNN-based composite memory, 2020. URL https://openreview.net/forum?id= H1gx1CNKPH.',\n",
              " '[14] Thibault Févry, Livio Baldini Soares, Nicholas FitzGerald, Eunsol Choi, and Tom Kwiatkowski. Entities as experts: Sparse memory access with entity supervision. ArXiv, abs/2004.07202, 2020. URL https://arxiv.org/abs/2004.07202.',\n",
              " '[15] Marjan Ghazvininejad, Chris Brockett, Ming-Wei Chang, Bill Dolan, Jianfeng Gao, Wen tau Yih, and Michel Galley. A knowledge-grounded neural conversation model. In AAAI Conference on Artiﬁcial Intelligence, 2018. URL https://www.aaai.org/ocs/index.php/ AAAI/AAAI18/paper/view/16710.',\n",
              " '[16] Katja Grace, John Salvatier, Allan Dafoe, Baobao Zhang, and Owain Evans. When will AI exceed human performance? evidence from AI experts. CoRR, abs/1705.08807, 2017. URL http://arxiv.org/abs/1705.08807.',\n",
              " '[17] Jiatao Gu, Yong Wang, Kyunghyun Cho, and Victor O.K. Li. Search engine guided neural machine translation. In AAAI Conference on Artiﬁcial Intelligence, 2018. URL https: //www.aaai.org/ocs/index.php/AAAI/AAAI18/paper/view/17282.',\n",
              " '[18] Jiatao Gu, Yong Wang, Kyunghyun Cho, and Victor O.K. Li. Search engine guided neural machine translation. In 32nd AAAI Conference on Artiﬁcial Intelligence, AAAI 2018, 32nd AAAI Conference on Artiﬁcial Intelligence, AAAI 2018, pages 5133–5140. AAAI press, 2018. 32nd AAAI Conference on Artiﬁcial Intelligence, AAAI 2018 ; Conference date: 02-02-2018 Through 07-02-2018.',\n",
              " '[19] Kelvin Guu, Tatsunori B. Hashimoto, Yonatan Oren, and Percy Liang. Generating sentences by editing prototypes. Transactions of the Association for Computational Linguistics, 6:437–450, 2018. doi: 10.1162/tacl_a_00030. URL https://www.aclweb.org/anthology/Q18-1031.',\n",
              " '[20] Kelvin Guu, Kenton Lee, Zora Tung, Panupong Pasupat, and Ming-Wei Chang. REALM: Retrieval-augmented language model pre-training. ArXiv, abs/2002.08909, 2020. URL https: //arxiv.org/abs/2002.08909.',\n",
              " '[21] Tatsunori B Hashimoto, Kelvin Guu, Yonatan Oren, and Percy S Liang. A retrieve-and-edit framework for predicting structured outputs. In S. Bengio, H. Wallach, H. Larochelle, K. Grauman, N. Cesa-Bianchi, and R. Garnett, ed- itors, Advances in Neural Information Processing Systems 31, pages 10052– 10062. Curran Associates, Inc., 2018. URL http://papers.nips.cc/paper/ 8209-a-retrieve-and-edit-framework-for-predicting-structured-outputs. pdf.',\n",
              " '[22] Nabil Hossain, Marjan Ghazvininejad, and Luke Zettlemoyer. Simple and effective retrieve- edit-rerank text generation. In Proceedings of the 58th Annual Meeting of the Association for Computational Linguistics, pages 2532–2538, Online, July 2020. Association for Computa- tional Linguistics. doi: 10.18653/v1/2020.acl-main.228. URL https://www.aclweb.org/ anthology/2020.acl-main.228.',\n",
              " '[23] Jeff Johnson, Matthijs Douze, and Hervé Jégou. Billion-scale similarity search with gpus. arXiv preprint arXiv:1702.08734, 2017. URL https://arxiv.org/abs/1702.08734.',\n",
              " '[24] Mandar Joshi, Eunsol Choi, Daniel Weld, and Luke Zettlemoyer. TriviaQA: A Large Scale Distantly Supervised Challenge Dataset for Reading Comprehension. In Proceedings of the 55th Annual Meeting of the Association for Computational Linguistics (Volume 1: Long Papers), pages 1601–1611, Vancouver, Canada, July 2017. Association for Computational Linguistics. doi: 10.18653/v1/P17-1147. URL https://www.aclweb.org/anthology/P17-1147.',\n",
              " '[25] Armand Joulin and Tomas Mikolov. Inferring algorithmic patterns with stack- augmented recurrent nets. In Proceedings of the 28th International Conference on Neural Information Processing Systems - Volume 1, NIPS’15, page 190–198, Cam- bridge, MA, USA, 2015. MIT Press. URL https://papers.nips.cc/paper/ 5857-inferring-algorithmic-patterns-with-stack-augmented-recurrent-nets.',\n",
              " '[26] Vladimir Karpukhin, Barlas Oguz, Sewon Min, Ledell Wu, Sergey Edunov, Danqi Chen, and Wen-tau Yih. Dense passage retrieval for open-domain question answering. arXiv preprint arXiv:2004.04906, 2020. URL https://arxiv.org/abs/2004.04906.',\n",
              " '[27] Urvashi Khandelwal, Omer Levy, Dan Jurafsky, Luke Zettlemoyer, and Mike Lewis. Generaliza- tion through memorization: Nearest neighbor language models. In International Conference on Learning Representations, 2020. URL https://openreview.net/forum?id=HklBjCEKvH.',\n",
              " '[28] Diederik P. Kingma and Jimmy Ba. Adam: A method for stochastic optimization. In Yoshua Bengio and Yann LeCun, editors, 3rd International Conference on Learning Representations, ICLR 2015, San Diego, CA, USA, May 7-9, 2015, Conference Track Proceedings, 2015. URL http://arxiv.org/abs/1412.6980.',\n",
              " '[29] Tom Kwiatkowski, Jennimaria Palomaki, Olivia Redﬁeld, Michael Collins, Ankur Parikh, Chris Alberti, Danielle Epstein, Illia Polosukhin, Matthew Kelcey, Jacob Devlin, Ken- ton Lee, Kristina N. Toutanova, Llion Jones, Ming-Wei Chang, Andrew Dai, Jakob Uszkoreit, Quoc Le, and Slav Petrov. Natural Questions: a Benchmark for Ques- tion Answering Research. Transactions of the Association of Computational Lin- guistics, 2019. URL https://tomkwiat.users.x20web.corp.google.com/papers/ natural-questions/main-1455-kwiatkowski.pdf.',\n",
              " '[30] Guillaume Lample, Alexandre Sablayrolles, Marc’ Aurelio Ranzato, Ludovic Denoyer, and Herve Jegou. Large memory layers with product keys. In H. Wallach, H. Larochelle, A. Beygelzimer, F. d’ Alché-Buc, E. Fox, and R. Garnett, editors, Advances in Neural In- formation Processing Systems 32, pages 8548–8559. Curran Associates, Inc., 2019. URL http: //papers.nips.cc/paper/9061-large-memory-layers-with-product-keys.pdf.',\n",
              " '[31] Kenton Lee, Ming-Wei Chang, and Kristina Toutanova. Latent retrieval for weakly supervised open domain question answering. In Proceedings of the 57th Annual Meeting of the Association',\n",
              " '[32] Mike Lewis, Yinhan Liu, Naman Goyal, Marjan Ghazvininejad, Abdelrahman Mohamed, Omer Levy, Veselin Stoyanov, and Luke Zettlemoyer. BART: Denoising sequence-to-sequence pre-training for natural language generation, translation, and comprehension. arXiv preprint arXiv:1910.13461, 2019. URL https://arxiv.org/abs/1910.13461.',\n",
              " '[33] Jiwei Li, Michel Galley, Chris Brockett, Jianfeng Gao, and Bill Dolan. A diversity-promoting objective function for neural conversation models. In Proceedings of the 2016 Conference of the North American Chapter of the Association for Computational Linguistics: Human Language Technologies, pages 110–119, San Diego, California, June 2016. Association for Computational Linguistics. doi: 10.18653/v1/N16-1014. URL https://www.aclweb.org/anthology/ N16-1014.',\n",
              " '[34] Margaret Li, Jason Weston, and Stephen Roller. Acute-eval: Improved dialogue evaluation with optimized questions and multi-turn comparisons. ArXiv, abs/1909.03087, 2019. URL https://arxiv.org/abs/1909.03087.',\n",
              " '[35] Hairong Liu, Mingbo Ma, Liang Huang, Hao Xiong, and Zhongjun He. Robust neural machine translation with joint textual and phonetic embedding. In Proceedings of the 57th Annual Meeting of the Association for Computational Linguistics, pages 3044–3049, Florence, Italy, July 2019. Association for Computational Linguistics. doi: 10.18653/v1/P19-1291. URL https://www.aclweb.org/anthology/P19-1291.',\n",
              " '[36] Peter J. Liu*, Mohammad Saleh*, Etienne Pot, Ben Goodrich, Ryan Sepassi, Lukasz Kaiser, and Noam Shazeer. Generating wikipedia by summarizing long sequences. In International Conference on Learning Representations, 2018. URL https://openreview.net/forum? id=Hyg0vbWC-.',\n",
              " '[37] Yury A. Malkov and D. A. Yashunin. Efﬁcient and robust approximate nearest neighbor search using hierarchical navigable small world graphs. IEEE Transactions on Pattern Analysis and Machine Intelligence, 42:824–836, 2016. URL https://arxiv.org/abs/1603.09320.',\n",
              " '[38] Gary Marcus. The next decade in ai: four steps towards robust artiﬁcial intelligence. arXiv preprint arXiv:2002.06177, 2020. URL https://arxiv.org/abs/2002.06177.',\n",
              " '[39] Luca Massarelli, Fabio Petroni, Aleksandra Piktus, Myle Ott, Tim Rocktäschel, Vassilis Plachouras, Fabrizio Silvestri, and Sebastian Riedel. How decoding strategies affect the veriﬁability of generated text. arXiv preprint arXiv:1911.03587, 2019. URL https: //arxiv.org/abs/1911.03587.',\n",
              " '[40] Paulius Micikevicius, Sharan Narang, Jonah Alben, Gregory Diamos, Erich Elsen, David Garcia, Boris Ginsburg, Michael Houston, Oleksii Kuchaiev, Ganesh Venkatesh, and Hao Wu. Mixed precision training. In ICLR, 2018. URL https://openreview.net/forum?id=r1gs9JgRZ.',\n",
              " '[41] Nikita Moghe, Siddhartha Arora, Suman Banerjee, and Mitesh M. Khapra. Towards exploit- ing background knowledge for building conversation systems. In Proceedings of the 2018 Conference on Empirical Methods in Natural Language Processing, pages 2322–2332, Brus- sels, Belgium, October-November 2018. Association for Computational Linguistics. doi: 10.18653/v1/D18-1255. URL https://www.aclweb.org/anthology/D18-1255.',\n",
              " '[42] Preksha Nema and Mitesh M. Khapra. Towards a better metric for evaluating question generation systems. In Proceedings of the 2018 Conference on Empirical Methods in Natural Language Processing, pages 3950–3959, Brussels, Belgium, October-November 2018. Association for Computational Linguistics. doi: 10.18653/v1/D18-1429. URL https://www.aclweb.org/ anthology/D18-1429.',\n",
              " '[43] Tri Nguyen, Mir Rosenberg, Xia Song, Jianfeng Gao, Saurabh Tiwary, Rangan Majumder, and Li Deng. MS MARCO: A human generated machine reading comprehension dataset. In Tarek Richard Besold, Antoine Bordes, Artur S. d’Avila Garcez, and Greg Wayne, editors, Proceedings of the Workshop on Cognitive Computation: Integrating neural and symbolic',\n",
              " '[44] Rodrigo Nogueira and Kyunghyun Cho. Passage re-ranking with BERT. arXiv preprint arXiv:1901.04085, 2019. URL https://arxiv.org/abs/1901.04085.',\n",
              " '[45] Myle Ott, Sergey Edunov, Alexei Baevski, Angela Fan, Sam Gross, Nathan Ng, David Grangier, and Michael Auli. fairseq: A fast, extensible toolkit for sequence modeling. In Proceedings of the 2019 Conference of the North American Chapter of the Association for Computational Linguistics (Demonstrations), pages 48–53, Minneapolis, Minnesota, June 2019. Association for Computational Linguistics. doi: 10.18653/v1/N19-4009. URL https://www.aclweb. org/anthology/N19-4009.',\n",
              " '[46] Ethan Perez, Siddharth Karamcheti, Rob Fergus, Jason Weston, Douwe Kiela, and Kyunghyun Cho. Finding generalizable evidence by learning to convince q&a models. In Proceedings of the 2019 Conference on Empirical Methods in Natural Language Processing and the 9th International Joint Conference on Natural Language Processing (EMNLP-IJCNLP), pages 2402–2411, Hong Kong, China, November 2019. Association for Computational Linguistics. doi: 10.18653/v1/D19-1244. URL https://www.aclweb.org/anthology/D19-1244.',\n",
              " '[47] Fabio Petroni, Tim Rocktäschel, Sebastian Riedel, Patrick Lewis, Anton Bakhtin, Yuxiang Wu, and Alexander Miller. Language models as knowledge bases? In Proceedings of the 2019 Conference on Empirical Methods in Natural Language Processing and the 9th International Joint Conference on Natural Language Processing (EMNLP-IJCNLP), pages 2463–2473, Hong Kong, China, November 2019. Association for Computational Linguistics. doi: 10.18653/v1/ D19-1250. URL https://www.aclweb.org/anthology/D19-1250.',\n",
              " '[48] Fabio Petroni, Patrick Lewis, Aleksandra Piktus, Tim Rocktäschel, Yuxiang Wu, Alexander H. Miller, and Sebastian Riedel. How context affects language models’ factual predictions. In Automated Knowledge Base Construction, 2020. URL https://openreview.net/forum? id=025X0zPfn.',\n",
              " '[49] Alec Radford, Karthik Narasimhan, Tim Salimans, and Ilya Sutskever. Im- proving Language Understanding by Generative Pre-Training, 2018. URL https://s3-us-west-2.amazonaws.com/openai-assets/research-covers/ language-unsupervised/language_understanding_paper.pdf.',\n",
              " '[50] Alec Radford, Jeff Wu, Rewon Child, David Luan, Dario Amodei, and Ilya Sutskever. Language models are unsupervised multitask learners, 2019. URL https://d4mucfpksywv.cloudfront.net/better-language-models/language_ models_are_unsupervised_multitask_learners.pdf.',\n",
              " '[51] Colin Raffel, Noam Shazeer, Adam Roberts, Katherine Lee, Sharan Narang, Michael Matena, Yanqi Zhou, Wei Li, and Peter J. Liu. Exploring the limits of transfer learning with a uniﬁed text-to-text transformer. arXiv e-prints, 2019. URL https://arxiv.org/abs/1910.10683.',\n",
              " '[52] Adam Roberts, Colin Raffel, and Noam Shazeer. How much knowledge can you pack into the parameters of a language model? arXiv e-prints, 2020. URL https://arxiv.org/abs/ 2002.08910.',\n",
              " '[53] Stephen Robertson and Hugo Zaragoza. The probabilistic relevance framework: Bm25 and beyond. Found. Trends Inf. Retr., 3(4):333–389, April 2009. ISSN 1554-0669. doi: 10.1561/ 1500000019. URL https://doi.org/10.1561/1500000019.',\n",
              " '[54] Irene Solaiman, Miles Brundage, Jack Clark, Amanda Askell, Ariel Herbert-Voss, Jeff Wu, Alec Radford, and Jian-Bing Wang. Release strategies and the social impacts of language models. ArXiv, abs/1908.09203, 2019.',\n",
              " '[55] Sainbayar Sukhbaatar, Arthur Szlam, Jason Weston, and Rob Fergus. End-to-end memory net- works. In C. Cortes, N. D. Lawrence, D. D. Lee, M. Sugiyama, and R. Garnett, editors, Advances in Neural Information Processing Systems 28, pages 2440–2448. Curran Associates, Inc., 2015. URL http://papers.nips.cc/paper/5846-end-to-end-memory-networks.pdf.',\n",
              " '[56] James Thorne, Andreas Vlachos, Christos Christodoulopoulos, and Arpit Mittal. FEVER: a large-scale dataset for fact extraction and VERiﬁcation. In Proceedings of the 2018 Conference of the North American Chapter of the Association for Computational Linguistics: Human Language Technologies, Volume 1 (Long Papers), pages 809–819, New Orleans, Louisiana, June 2018. Association for Computational Linguistics. doi: 10.18653/v1/N18-1074. URL https://www.aclweb.org/anthology/N18-1074.',\n",
              " '[57] James H. Thorne and Andreas Vlachos. Avoiding catastrophic forgetting in mitigating model biases in sentence-pair classiﬁcation with elastic weight consolidation. ArXiv, abs/2004.14366, 2020. URL https://arxiv.org/abs/2004.14366.',\n",
              " '[58] Ashish Vaswani, Noam Shazeer, Niki Parmar, Jakob Uszkoreit, Llion Jones, Aidan N Gomez, Ł ukasz Kaiser, and Illia Polosukhin. Attention is all you need. In I. Guyon, U. V. Luxburg, S. Bengio, H. Wallach, R. Fergus, S. Vishwanathan, and R. Garnett, editors, Advances in Neural Information Processing Systems 30, pages 5998–6008. Curran Associates, Inc., 2017. URL http://papers.nips.cc/paper/7181-attention-is-all-you-need.pdf.',\n",
              " '[59] Ashwin Vijayakumar, Michael Cogswell, Ramprasaath Selvaraju, Qing Sun, Stefan Lee, David Crandall, and Dhruv Batra. Diverse beam search for improved description of complex scenes. AAAI Conference on Artiﬁcial Intelligence, 2018. URL https://www.aaai.org/ocs/index. php/AAAI/AAAI18/paper/view/17329.',\n",
              " '[60] Alex Wang, Amanpreet Singh, Julian Michael, Felix Hill, Omer Levy, and Samuel Bowman. GLUE: A multi-task benchmark and analysis platform for natural language understanding. In Proceedings of the 2018 EMNLP Workshop BlackboxNLP: Analyzing and Interpreting Neural Networks for NLP, pages 353–355, Brussels, Belgium, November 2018. Association for Computational Linguistics. doi: 10.18653/v1/W18-5446. URL https://www.aclweb.org/ anthology/W18-5446.',\n",
              " '[61] Alex Wang, Yada Pruksachatkun, Nikita Nangia, Amanpreet Singh, Julian Michael, Felix Hill, Omer Levy, and Samuel Bowman. SuperGLUE: A Stickier Benchmark for General- Purpose Language Understanding Systems. In H. Wallach, H. Larochelle, A. Beygelzimer, F. d\\\\textquotesingle Alché-Buc, E. Fox, and R. Garnett, editors, Advances in Neural Information Processing Systems 32, pages 3261–3275. Curran Associates, Inc., 2019. URL https:// arxiv.org/abs/1905.00537.',\n",
              " '[62] Shuohang Wang, Mo Yu, Xiaoxiao Guo, Zhiguo Wang, Tim Klinger, Wei Zhang, Shiyu Chang, Gerry Tesauro, Bowen Zhou, and Jing Jiang. R3: Reinforced ranker-reader for open-domain question answering. In Sheila A. McIlraith and Kilian Q. Weinberger, editors, Proceedings of the Thirty-Second AAAI Conference on Artiﬁcial Intelligence, (AAAI-18), the 30th innovative Applications of Artiﬁcial Intelligence (IAAI-18), and the 8th AAAI Symposium on Educational Advances in Artiﬁcial Intelligence (EAAI-18), New Orleans, Louisiana, USA, February 2-7, 2018, pages 5981–5988. AAAI Press, 2018. URL https://www.aaai.org/ocs/index. php/AAAI/AAAI18/paper/view/16712.',\n",
              " '[63] Shuohang Wang, Mo Yu, Jing Jiang, Wei Zhang, Xiaoxiao Guo, Shiyu Chang, Zhiguo Wang, Tim Klinger, Gerald Tesauro, and Murray Campbell. Evidence aggregation for answer re- ranking in open-domain question answering. In ICLR, 2018. URL https://openreview. net/forum?id=rJl3yM-Ab.',\n",
              " '[64] Jason Weston, Sumit Chopra, and Antoine Bordes. Memory networks. In Yoshua Bengio and Yann LeCun, editors, 3rd International Conference on Learning Representations, ICLR 2015, San Diego, CA, USA, May 7-9, 2015, Conference Track Proceedings, 2015. URL http://arxiv.org/abs/1410.3916.',\n",
              " '[65] Jason Weston, Emily Dinan, and Alexander Miller. Retrieve and reﬁne: Improved sequence generation models for dialogue. In Proceedings of the 2018 EMNLP Workshop SCAI: The 2nd International Workshop on Search-Oriented Conversational AI, pages 87–92, Brussels, Belgium, October 2018. Association for Computational Linguistics. doi: 10.18653/v1/W18-5713. URL https://www.aclweb.org/anthology/W18-5713.',\n",
              " '[66] Thomas Wolf, Lysandre Debut, Victor Sanh, Julien Chaumond, Clement Delangue, Anthony Moi, Pierric Cistac, Tim Rault, Rémi Louf, Morgan Funtowicz, Joe Davison, Sam Shleifer, Patrick von Platen, Clara Ma, Yacine Jernite, Julien Plu, Canwen Xu, Teven Le Scao, Sylvain Gugger, Mariama Drame, Quentin Lhoest, and Alexander M. Rush. Huggingface’s transformers: State-of-the-art natural language processing. ArXiv, abs/1910.03771, 2019.',\n",
              " '[67] Shiyue Zhang and Mohit Bansal. Addressing semantic drift in question generation for semi- supervised question answering. In Proceedings of the 2019 Conference on Empirical Meth- ods in Natural Language Processing and the 9th International Joint Conference on Natural Language Processing (EMNLP-IJCNLP), pages 2495–2509, Hong Kong, China, Novem- ber 2019. Association for Computational Linguistics. doi: 10.18653/v1/D19-1253. URL https://www.aclweb.org/anthology/D19-1253.',\n",
              " '[68] Wanjun Zhong, Jingjing Xu, Duyu Tang, Zenan Xu, Nan Duan, Ming Zhou, Jiahai Wang, and Jian Yin. Reasoning over semantic-level graph for fact checking. ArXiv, abs/1909.03745, 2019. URL https://arxiv.org/abs/1909.03745.']"
            ]
          },
          "metadata": {},
          "execution_count": 19
        }
      ]
    },
    {
      "cell_type": "code",
      "source": [
        "!pip install langchain_core"
      ],
      "metadata": {
        "colab": {
          "base_uri": "https://localhost:8080/"
        },
        "id": "eEKlebp0gAts",
        "outputId": "6fc08ac8-4740-4b9d-9a40-098912c652ac"
      },
      "execution_count": 20,
      "outputs": [
        {
          "output_type": "stream",
          "name": "stdout",
          "text": [
            "Requirement already satisfied: langchain_core in /usr/local/lib/python3.11/dist-packages (0.3.35)\n",
            "Requirement already satisfied: langsmith<0.4,>=0.1.125 in /usr/local/lib/python3.11/dist-packages (from langchain_core) (0.3.8)\n",
            "Requirement already satisfied: tenacity!=8.4.0,<10.0.0,>=8.1.0 in /usr/local/lib/python3.11/dist-packages (from langchain_core) (9.0.0)\n",
            "Requirement already satisfied: jsonpatch<2.0,>=1.33 in /usr/local/lib/python3.11/dist-packages (from langchain_core) (1.33)\n",
            "Requirement already satisfied: PyYAML>=5.3 in /usr/local/lib/python3.11/dist-packages (from langchain_core) (6.0.2)\n",
            "Requirement already satisfied: packaging<25,>=23.2 in /usr/local/lib/python3.11/dist-packages (from langchain_core) (24.2)\n",
            "Requirement already satisfied: typing-extensions>=4.7 in /usr/local/lib/python3.11/dist-packages (from langchain_core) (4.12.2)\n",
            "Requirement already satisfied: pydantic<3.0.0,>=2.5.2 in /usr/local/lib/python3.11/dist-packages (from langchain_core) (2.10.6)\n",
            "Requirement already satisfied: jsonpointer>=1.9 in /usr/local/lib/python3.11/dist-packages (from jsonpatch<2.0,>=1.33->langchain_core) (3.0.0)\n",
            "Requirement already satisfied: httpx<1,>=0.23.0 in /usr/local/lib/python3.11/dist-packages (from langsmith<0.4,>=0.1.125->langchain_core) (0.28.1)\n",
            "Requirement already satisfied: orjson<4.0.0,>=3.9.14 in /usr/local/lib/python3.11/dist-packages (from langsmith<0.4,>=0.1.125->langchain_core) (3.10.15)\n",
            "Requirement already satisfied: requests<3,>=2 in /usr/local/lib/python3.11/dist-packages (from langsmith<0.4,>=0.1.125->langchain_core) (2.32.3)\n",
            "Requirement already satisfied: requests-toolbelt<2.0.0,>=1.0.0 in /usr/local/lib/python3.11/dist-packages (from langsmith<0.4,>=0.1.125->langchain_core) (1.0.0)\n",
            "Requirement already satisfied: zstandard<0.24.0,>=0.23.0 in /usr/local/lib/python3.11/dist-packages (from langsmith<0.4,>=0.1.125->langchain_core) (0.23.0)\n",
            "Requirement already satisfied: annotated-types>=0.6.0 in /usr/local/lib/python3.11/dist-packages (from pydantic<3.0.0,>=2.5.2->langchain_core) (0.7.0)\n",
            "Requirement already satisfied: pydantic-core==2.27.2 in /usr/local/lib/python3.11/dist-packages (from pydantic<3.0.0,>=2.5.2->langchain_core) (2.27.2)\n",
            "Requirement already satisfied: anyio in /usr/local/lib/python3.11/dist-packages (from httpx<1,>=0.23.0->langsmith<0.4,>=0.1.125->langchain_core) (3.7.1)\n",
            "Requirement already satisfied: certifi in /usr/local/lib/python3.11/dist-packages (from httpx<1,>=0.23.0->langsmith<0.4,>=0.1.125->langchain_core) (2025.1.31)\n",
            "Requirement already satisfied: httpcore==1.* in /usr/local/lib/python3.11/dist-packages (from httpx<1,>=0.23.0->langsmith<0.4,>=0.1.125->langchain_core) (1.0.7)\n",
            "Requirement already satisfied: idna in /usr/local/lib/python3.11/dist-packages (from httpx<1,>=0.23.0->langsmith<0.4,>=0.1.125->langchain_core) (3.10)\n",
            "Requirement already satisfied: h11<0.15,>=0.13 in /usr/local/lib/python3.11/dist-packages (from httpcore==1.*->httpx<1,>=0.23.0->langsmith<0.4,>=0.1.125->langchain_core) (0.14.0)\n",
            "Requirement already satisfied: charset-normalizer<4,>=2 in /usr/local/lib/python3.11/dist-packages (from requests<3,>=2->langsmith<0.4,>=0.1.125->langchain_core) (3.4.1)\n",
            "Requirement already satisfied: urllib3<3,>=1.21.1 in /usr/local/lib/python3.11/dist-packages (from requests<3,>=2->langsmith<0.4,>=0.1.125->langchain_core) (2.3.0)\n",
            "Requirement already satisfied: sniffio>=1.1 in /usr/local/lib/python3.11/dist-packages (from anyio->httpx<1,>=0.23.0->langsmith<0.4,>=0.1.125->langchain_core) (1.3.1)\n"
          ]
        }
      ]
    },
    {
      "cell_type": "code",
      "source": [
        "!pip install langchain-openai\n"
      ],
      "metadata": {
        "colab": {
          "base_uri": "https://localhost:8080/"
        },
        "id": "rRaRh0yJiapS",
        "outputId": "4763ead0-daad-4bcd-e2b7-ce3c1be0c894"
      },
      "execution_count": 21,
      "outputs": [
        {
          "output_type": "stream",
          "name": "stdout",
          "text": [
            "Requirement already satisfied: langchain-openai in /usr/local/lib/python3.11/dist-packages (0.3.5)\n",
            "Requirement already satisfied: langchain-core<1.0.0,>=0.3.34 in /usr/local/lib/python3.11/dist-packages (from langchain-openai) (0.3.35)\n",
            "Requirement already satisfied: openai<2.0.0,>=1.58.1 in /usr/local/lib/python3.11/dist-packages (from langchain-openai) (1.61.1)\n",
            "Requirement already satisfied: tiktoken<1,>=0.7 in /usr/local/lib/python3.11/dist-packages (from langchain-openai) (0.9.0)\n",
            "Requirement already satisfied: langsmith<0.4,>=0.1.125 in /usr/local/lib/python3.11/dist-packages (from langchain-core<1.0.0,>=0.3.34->langchain-openai) (0.3.8)\n",
            "Requirement already satisfied: tenacity!=8.4.0,<10.0.0,>=8.1.0 in /usr/local/lib/python3.11/dist-packages (from langchain-core<1.0.0,>=0.3.34->langchain-openai) (9.0.0)\n",
            "Requirement already satisfied: jsonpatch<2.0,>=1.33 in /usr/local/lib/python3.11/dist-packages (from langchain-core<1.0.0,>=0.3.34->langchain-openai) (1.33)\n",
            "Requirement already satisfied: PyYAML>=5.3 in /usr/local/lib/python3.11/dist-packages (from langchain-core<1.0.0,>=0.3.34->langchain-openai) (6.0.2)\n",
            "Requirement already satisfied: packaging<25,>=23.2 in /usr/local/lib/python3.11/dist-packages (from langchain-core<1.0.0,>=0.3.34->langchain-openai) (24.2)\n",
            "Requirement already satisfied: typing-extensions>=4.7 in /usr/local/lib/python3.11/dist-packages (from langchain-core<1.0.0,>=0.3.34->langchain-openai) (4.12.2)\n",
            "Requirement already satisfied: pydantic<3.0.0,>=2.5.2 in /usr/local/lib/python3.11/dist-packages (from langchain-core<1.0.0,>=0.3.34->langchain-openai) (2.10.6)\n",
            "Requirement already satisfied: anyio<5,>=3.5.0 in /usr/local/lib/python3.11/dist-packages (from openai<2.0.0,>=1.58.1->langchain-openai) (3.7.1)\n",
            "Requirement already satisfied: distro<2,>=1.7.0 in /usr/local/lib/python3.11/dist-packages (from openai<2.0.0,>=1.58.1->langchain-openai) (1.9.0)\n",
            "Requirement already satisfied: httpx<1,>=0.23.0 in /usr/local/lib/python3.11/dist-packages (from openai<2.0.0,>=1.58.1->langchain-openai) (0.28.1)\n",
            "Requirement already satisfied: jiter<1,>=0.4.0 in /usr/local/lib/python3.11/dist-packages (from openai<2.0.0,>=1.58.1->langchain-openai) (0.8.2)\n",
            "Requirement already satisfied: sniffio in /usr/local/lib/python3.11/dist-packages (from openai<2.0.0,>=1.58.1->langchain-openai) (1.3.1)\n",
            "Requirement already satisfied: tqdm>4 in /usr/local/lib/python3.11/dist-packages (from openai<2.0.0,>=1.58.1->langchain-openai) (4.67.1)\n",
            "Requirement already satisfied: regex>=2022.1.18 in /usr/local/lib/python3.11/dist-packages (from tiktoken<1,>=0.7->langchain-openai) (2024.11.6)\n",
            "Requirement already satisfied: requests>=2.26.0 in /usr/local/lib/python3.11/dist-packages (from tiktoken<1,>=0.7->langchain-openai) (2.32.3)\n",
            "Requirement already satisfied: idna>=2.8 in /usr/local/lib/python3.11/dist-packages (from anyio<5,>=3.5.0->openai<2.0.0,>=1.58.1->langchain-openai) (3.10)\n",
            "Requirement already satisfied: certifi in /usr/local/lib/python3.11/dist-packages (from httpx<1,>=0.23.0->openai<2.0.0,>=1.58.1->langchain-openai) (2025.1.31)\n",
            "Requirement already satisfied: httpcore==1.* in /usr/local/lib/python3.11/dist-packages (from httpx<1,>=0.23.0->openai<2.0.0,>=1.58.1->langchain-openai) (1.0.7)\n",
            "Requirement already satisfied: h11<0.15,>=0.13 in /usr/local/lib/python3.11/dist-packages (from httpcore==1.*->httpx<1,>=0.23.0->openai<2.0.0,>=1.58.1->langchain-openai) (0.14.0)\n",
            "Requirement already satisfied: jsonpointer>=1.9 in /usr/local/lib/python3.11/dist-packages (from jsonpatch<2.0,>=1.33->langchain-core<1.0.0,>=0.3.34->langchain-openai) (3.0.0)\n",
            "Requirement already satisfied: orjson<4.0.0,>=3.9.14 in /usr/local/lib/python3.11/dist-packages (from langsmith<0.4,>=0.1.125->langchain-core<1.0.0,>=0.3.34->langchain-openai) (3.10.15)\n",
            "Requirement already satisfied: requests-toolbelt<2.0.0,>=1.0.0 in /usr/local/lib/python3.11/dist-packages (from langsmith<0.4,>=0.1.125->langchain-core<1.0.0,>=0.3.34->langchain-openai) (1.0.0)\n",
            "Requirement already satisfied: zstandard<0.24.0,>=0.23.0 in /usr/local/lib/python3.11/dist-packages (from langsmith<0.4,>=0.1.125->langchain-core<1.0.0,>=0.3.34->langchain-openai) (0.23.0)\n",
            "Requirement already satisfied: annotated-types>=0.6.0 in /usr/local/lib/python3.11/dist-packages (from pydantic<3.0.0,>=2.5.2->langchain-core<1.0.0,>=0.3.34->langchain-openai) (0.7.0)\n",
            "Requirement already satisfied: pydantic-core==2.27.2 in /usr/local/lib/python3.11/dist-packages (from pydantic<3.0.0,>=2.5.2->langchain-core<1.0.0,>=0.3.34->langchain-openai) (2.27.2)\n",
            "Requirement already satisfied: charset-normalizer<4,>=2 in /usr/local/lib/python3.11/dist-packages (from requests>=2.26.0->tiktoken<1,>=0.7->langchain-openai) (3.4.1)\n",
            "Requirement already satisfied: urllib3<3,>=1.21.1 in /usr/local/lib/python3.11/dist-packages (from requests>=2.26.0->tiktoken<1,>=0.7->langchain-openai) (2.3.0)\n"
          ]
        }
      ]
    },
    {
      "cell_type": "code",
      "source": [
        "len(tab)"
      ],
      "metadata": {
        "colab": {
          "base_uri": "https://localhost:8080/"
        },
        "id": "V2qgrMvyiGms",
        "outputId": "aea3eac8-f1c9-40cb-b10e-352e177fefa4"
      },
      "execution_count": 22,
      "outputs": [
        {
          "output_type": "execute_result",
          "data": {
            "text/plain": [
              "5"
            ]
          },
          "metadata": {},
          "execution_count": 22
        }
      ]
    },
    {
      "cell_type": "code",
      "source": [
        "len(img)"
      ],
      "metadata": {
        "colab": {
          "base_uri": "https://localhost:8080/"
        },
        "id": "gl0bnLpriJQC",
        "outputId": "75dd332d-e541-4e13-b593-6bb645b56d69"
      },
      "execution_count": 23,
      "outputs": [
        {
          "output_type": "execute_result",
          "data": {
            "text/plain": [
              "4"
            ]
          },
          "metadata": {},
          "execution_count": 23
        }
      ]
    },
    {
      "cell_type": "code",
      "source": [
        "from langchain_core.output_parsers import StrOutputParser\n",
        "from langchain_core.prompts import ChatPromptTemplate\n",
        "from langchain_openai import ChatOpenAI\n"
      ],
      "metadata": {
        "id": "vTFWeOYNiNMJ"
      },
      "execution_count": 24,
      "outputs": []
    },
    {
      "cell_type": "code",
      "source": [
        "# Prompt\n",
        "prompt_text = \"\"\"You are an assistant tasked with summarizing tables for retrieval. \\\n",
        "    These summaries will be embedded and used to retrieve the raw table elements. \\\n",
        "    Give a concise summary of the table that is well optimized for retrieval. Table {element} \"\"\""
      ],
      "metadata": {
        "id": "T99IW2S7ipti"
      },
      "execution_count": 25,
      "outputs": []
    },
    {
      "cell_type": "code",
      "source": [
        "prompt = ChatPromptTemplate.from_template(prompt_text)\n"
      ],
      "metadata": {
        "id": "pDlkhWLMixno"
      },
      "execution_count": 26,
      "outputs": []
    },
    {
      "cell_type": "code",
      "source": [
        "import os\n",
        "from google.colab import userdata\n",
        "OPENAI_API_TOKEN=userdata.get('OPENAI_API_KEY')\n",
        "os.environ[\"OPENAI_API_KEY\"] = OPENAI_API_TOKEN"
      ],
      "metadata": {
        "id": "bk9YUzW4i7Gr"
      },
      "execution_count": 27,
      "outputs": []
    },
    {
      "cell_type": "code",
      "source": [
        "# Text summary chain\n",
        "model = ChatOpenAI(temperature=0, model=\"gpt-4\")\n"
      ],
      "metadata": {
        "id": "ocz_xs7Ti82I"
      },
      "execution_count": 28,
      "outputs": []
    },
    {
      "cell_type": "code",
      "source": [
        "summarize_chain = {\"element\": lambda x: x} | prompt | model | StrOutputParser()\n"
      ],
      "metadata": {
        "id": "4ROvnxj_jayQ"
      },
      "execution_count": 29,
      "outputs": []
    },
    {
      "cell_type": "code",
      "source": [
        "table_summaries = []\n"
      ],
      "metadata": {
        "id": "ZJt5vWcgjilp"
      },
      "execution_count": 30,
      "outputs": []
    },
    {
      "cell_type": "code",
      "source": [
        "table_summaries=summarize_chain.batch(tab,{\"max_concurrency\": 5})\n"
      ],
      "metadata": {
        "id": "rcZs3GPJkBdw"
      },
      "execution_count": 31,
      "outputs": []
    },
    {
      "cell_type": "code",
      "source": [
        "tab[0]\n"
      ],
      "metadata": {
        "colab": {
          "base_uri": "https://localhost:8080/",
          "height": 126
        },
        "id": "jz-e0CSskIm7",
        "outputId": "f2a794e0-84c3-43cc-aed0-0fd54be86392"
      },
      "execution_count": 32,
      "outputs": [
        {
          "output_type": "execute_result",
          "data": {
            "text/plain": [
              "'Model NQ TQA WQ CT Closed Book T5-11B [52] 34.5 T5-11B+SSM[52] 36.6 - - /50.1 37.4 /60.5 44.7 - - Model Jeopardy MSMARCO FVR3 FVR2 B-1 QB-1 R-L B-1 Label Acc. Open REALM [20] 40.4 - / - 40.7 46.8 SotA - - 49.8* 49.9* 76.8 92.2* Book DPR [26] 41.5 57.9/ - 41.1 50.6 BART 15.1 19.7 38.2 41.6 64.0 81.1 RAG-Token RAG-Seq. 44.1 55.2/66.1 45.5 50.0 44.5 56.8/68.0 45.2 52.2 RAG-Tok. 17.3 22.2 RAG-Seq. 14.7 21.4 40.1 40.8 41.5 44.2 72.5 89.5'"
            ],
            "application/vnd.google.colaboratory.intrinsic+json": {
              "type": "string"
            }
          },
          "metadata": {},
          "execution_count": 32
        }
      ]
    },
    {
      "cell_type": "code",
      "source": [
        "table_summaries[0]"
      ],
      "metadata": {
        "colab": {
          "base_uri": "https://localhost:8080/",
          "height": 163
        },
        "id": "Q2_g7PYwkfRy",
        "outputId": "199c490d-c2d5-4646-e905-04a4618a6a75"
      },
      "execution_count": 33,
      "outputs": [
        {
          "output_type": "execute_result",
          "data": {
            "text/plain": [
              "'The table presents the performance of various models on different tasks. The tasks include NQ, TQA, WQ, CT Closed Book, Jeopardy, MSMARCO, FVR3, FVR2, B-1, QB-1, and R-L. The models evaluated are T5-11B, T5-11B+SSM, REALM, DPR, BART, RAG-Token, RAG-Seq, and RAG-Tok. The performance is measured in terms of accuracy, with higher numbers indicating better performance. For instance, on the NQ task, T5-11B+SSM performs the best with a score of 36.6, while on the Jeopardy task, DPR leads with a score of 41.5. The table also includes some tasks where the best performing model is not specified (SotA).'"
            ],
            "application/vnd.google.colaboratory.intrinsic+json": {
              "type": "string"
            }
          },
          "metadata": {},
          "execution_count": 33
        }
      ]
    },
    {
      "cell_type": "code",
      "source": [
        "#text summaries # Prompt\n",
        "prompt_text = \"\"\"You are an assistant tasked with summarizing text for retrieval. \\\n",
        "    These summaries will be embedded and used to retrieve the raw text elements. \\\n",
        "    Give a concise summary of the table or text that is well optimized for retrieval.text: {element} \"\"\"\n",
        "\n",
        ""
      ],
      "metadata": {
        "id": "oCXiO1yWVDcp"
      },
      "execution_count": 34,
      "outputs": []
    },
    {
      "cell_type": "code",
      "source": [
        "prompt = ChatPromptTemplate.from_template(prompt_text)\n",
        "\n"
      ],
      "metadata": {
        "id": "ELB4KIx8VMdL"
      },
      "execution_count": 35,
      "outputs": []
    },
    {
      "cell_type": "code",
      "source": [
        "# Text summary chain\n",
        "model = ChatOpenAI(temperature=0, model=\"gpt-4\")\n",
        "summarize_chain = {\"element\": lambda x: x} | prompt | model | StrOutputParser()"
      ],
      "metadata": {
        "id": "cjLVnay4VRlE"
      },
      "execution_count": 36,
      "outputs": []
    },
    {
      "cell_type": "code",
      "source": [
        "# Initialize empty summaries\n",
        "\n",
        "text_summaries = []\n"
      ],
      "metadata": {
        "id": "xgrBHLO_VStj"
      },
      "execution_count": 37,
      "outputs": []
    },
    {
      "cell_type": "code",
      "source": [
        "text_summaries = summarize_chain.batch(Text, {\"max_concurrency\": 5})\n",
        ""
      ],
      "metadata": {
        "id": "pln2uBnKVWlM"
      },
      "execution_count": 38,
      "outputs": []
    },
    {
      "cell_type": "code",
      "source": [
        "text_summaries[0]"
      ],
      "metadata": {
        "colab": {
          "base_uri": "https://localhost:8080/",
          "height": 36
        },
        "id": "tmOjbl_IVbPp",
        "outputId": "db4eae3a-daf9-49aa-d66a-55cb2efa2c01"
      },
      "execution_count": 39,
      "outputs": [
        {
          "output_type": "execute_result",
          "data": {
            "text/plain": [
              "\"The text mentions two individuals, Patrick Lewis't and Ethan Perez*.\""
            ],
            "application/vnd.google.colaboratory.intrinsic+json": {
              "type": "string"
            }
          },
          "metadata": {},
          "execution_count": 39
        }
      ]
    },
    {
      "cell_type": "code",
      "source": [
        "img[0]"
      ],
      "metadata": {
        "colab": {
          "base_uri": "https://localhost:8080/",
          "height": 144
        },
        "id": "r4dGE3nmksSh",
        "outputId": "f2886d0e-7a4a-42d3-d7cd-094f3a360b7c"
      },
      "execution_count": 40,
      "outputs": [
        {
          "output_type": "execute_result",
          "data": {
            "text/plain": [
              "'@--- ee ee ee ee ee ee ee ee ee ee eee The middle ear includes End-to-End Backprop through q and pe the tympanic cavity and the three ossicles. (y) Define \"middle ear\" (x) Question Answering: Question Query Retriever py Document Generator pg “fnower Generation x (Non-Parametric) (Parametric) d(z) supports (y) Barack Obama was born in Hawaii. (x) q(x) Fact Verification: Fact Query Fact Verification: Label Generation The Divine This 14th century work Comedy (x) is divided into 3 Jeopardy Question Generation: Answer Query sections: \"Inferno\", \"purgatorio\" & \"Paradiso\" @) Question Generation'"
            ],
            "application/vnd.google.colaboratory.intrinsic+json": {
              "type": "string"
            }
          },
          "metadata": {},
          "execution_count": 40
        }
      ]
    },
    {
      "cell_type": "code",
      "source": [
        "#image summary\n",
        "import base64\n",
        "import os\n",
        "from langchain_core.messages import HumanMessage"
      ],
      "metadata": {
        "id": "Dh3igHAOljON"
      },
      "execution_count": 41,
      "outputs": []
    },
    {
      "cell_type": "code",
      "source": [
        "def encode_image(image_path):\n",
        "    \"\"\"Getting the base64 string\"\"\"\n",
        "    with open(image_path, \"rb\") as image_file:\n",
        "        return base64.b64encode(image_file.read()).decode(\"utf-8\")"
      ],
      "metadata": {
        "id": "74WAQJn5lmqI"
      },
      "execution_count": 42,
      "outputs": []
    },
    {
      "cell_type": "code",
      "source": [
        "def image_summarize(img_base64, prompt):\n",
        "    \"\"\"Make image summary\"\"\"\n",
        "\n",
        "\n",
        "    chat = ChatOpenAI(model=\"gpt-4o\", max_tokens=1024)\n",
        "\n",
        "    msg = chat.invoke(\n",
        "        [\n",
        "            HumanMessage(\n",
        "                content=[\n",
        "                    {\"type\": \"text\", \"text\": prompt},\n",
        "\n",
        "                     {\n",
        "                        \"type\": \"image_url\",\n",
        "                        \"image_url\": {\"url\": f\"data:image/jpeg;base64,{img_base64}\"},\n",
        "                    },\n",
        "                ]\n",
        "            )\n",
        "        ]\n",
        "    )\n",
        "    return msg.content\n"
      ],
      "metadata": {
        "id": "ZBJcPiy_ln8o"
      },
      "execution_count": 43,
      "outputs": []
    },
    {
      "cell_type": "code",
      "source": [
        "def generate_img_summaries(path):\n",
        "    \"\"\"\n",
        "    Generate summaries and base64 encoded strings for images\n",
        "    path: Path to list of .jpg files extracted by Unstructured\n",
        "    \"\"\"\n",
        "\n",
        "    # Store base64 encoded images\n",
        "    img_base64_list = []\n",
        "\n",
        "    # Store image summaries\n",
        "    image_summaries = []\n",
        "\n",
        "    # Prompt\n",
        "    prompt = \"\"\"You are an assistant tasked with summarizing images for retrieval. \\\n",
        "    These summaries will be embedded and used to retrieve the raw image. \\\n",
        "    Give a concise summary of the image that is well optimized for retrieval.\"\"\"\n",
        "\n",
        "    # Apply to images\n",
        "    for img_file in sorted(os.listdir(path)):\n",
        "        if img_file.endswith(\".jpg\"):\n",
        "            img_path = os.path.join(path, img_file)\n",
        "            base64_image = encode_image(img_path)\n",
        "            img_base64_list.append(base64_image)\n",
        "            image_summaries.append(image_summarize(base64_image, prompt))\n",
        "\n",
        "\n",
        "    return img_base64_list, image_summaries"
      ],
      "metadata": {
        "id": "lh-qKOu7b2gQ"
      },
      "execution_count": 44,
      "outputs": []
    },
    {
      "cell_type": "code",
      "source": [
        "fpath=\"/content/extracted_data/\""
      ],
      "metadata": {
        "id": "7e2ZUKzNnwKO"
      },
      "execution_count": 45,
      "outputs": []
    },
    {
      "cell_type": "code",
      "source": [
        "img_base64_list,image_summaries=generate_img_summaries(fpath)"
      ],
      "metadata": {
        "id": "X1ucJvkHn8DV"
      },
      "execution_count": 46,
      "outputs": []
    },
    {
      "cell_type": "code",
      "source": [
        "image_summaries[0]\n"
      ],
      "metadata": {
        "colab": {
          "base_uri": "https://localhost:8080/",
          "height": 144
        },
        "id": "005v-SCbqGjm",
        "outputId": "b205c002-4cbc-4f31-d6b0-b11f0d09186c"
      },
      "execution_count": 47,
      "outputs": [
        {
          "output_type": "execute_result",
          "data": {
            "text/plain": [
              "'Image of a quiz question about Ernest Hemingway. It asks which sentence is more factually true regarding Hemingway. Sentence A states: \"The Sun Also Rises\" is a novel by the author of \"A Farewell to Arms.\" Sentence B claims the author of \"The Sun Also Rises\" was born in Havana, Cuba, to Spanish immigrants. Options include: Sentence A is more true, Sentence B is more true, Both sentences are true, and Both sentences are completely untrue. The left section provides guidance and encourages internet verification for accuracy.'"
            ],
            "application/vnd.google.colaboratory.intrinsic+json": {
              "type": "string"
            }
          },
          "metadata": {},
          "execution_count": 47
        }
      ]
    },
    {
      "cell_type": "code",
      "source": [
        "img_base64_list[1]"
      ],
      "metadata": {
        "colab": {
          "base_uri": "https://localhost:8080/",
          "height": 235
        },
        "id": "8n_C6GDzXjvf",
        "outputId": "c1ada613-dc49-40bf-95ea-51395357b4eb"
      },
      "execution_count": 48,
      "outputs": [
        {
          "output_type": "execute_result",
          "data": {
            "text/plain": [
              "'/9j/4AAQSkZJRgABAQAAAQABAAD/2wBDAAgGBgcGBQgHBwcJCQgKDBQNDAsLDBkSEw8UHRofHh0aHBwgJC4nICIsIxwcKDcpLDAxNDQ0Hyc5PTgyPC4zNDL/2wBDAQkJCQwLDBgNDRgyIRwhMjIyMjIyMjIyMjIyMjIyMjIyMjIyMjIyMjIyMjIyMjIyMjIyMjIyMjIyMjIyMjIyMjL/wAARCAE9BDQDASIAAhEBAxEB/8QAHwAAAQUBAQEBAQEAAAAAAAAAAAECAwQFBgcICQoL/8QAtRAAAgEDAwIEAwUFBAQAAAF9AQIDAAQRBRIhMUEGE1FhByJxFDKBkaEII0KxwRVS0fAkM2JyggkKFhcYGRolJicoKSo0NTY3ODk6Q0RFRkdISUpTVFVWV1hZWmNkZWZnaGlqc3R1dnd4eXqDhIWGh4iJipKTlJWWl5iZmqKjpKWmp6ipqrKztLW2t7i5usLDxMXGx8jJytLT1NXW19jZ2uHi4+Tl5ufo6erx8vP09fb3+Pn6/8QAHwEAAwEBAQEBAQEBAQAAAAAAAAECAwQFBgcICQoL/8QAtREAAgECBAQDBAcFBAQAAQJ3AAECAxEEBSExBhJBUQdhcRMiMoEIFEKRobHBCSMzUvAVYnLRChYkNOEl8RcYGRomJygpKjU2Nzg5OkNERUZHSElKU1RVVldYWVpjZGVmZ2hpanN0dXZ3eHl6goOEhYaHiImKkpOUlZaXmJmaoqOkpaanqKmqsrO0tba3uLm6wsPExcbHyMnK0tPU1dbX2Nna4uPk5ebn6Onq8vP09fb3+Pn6/9oADAMBAAIRAxEAPwD3+ioftCejUfaE9GquVmftodyaioftCejUfaE9Go5WHtodyaioftCejUfaE9Go5WHtodyaioftCejUfaE9Go5WHtodyaioftCejUfaE9Go5WHtodyaioftCejUfaE9Go5WHtodyaioftCejUfaE9Go5WHtodyaioftCejUfaE9Go5WHtodyaioftCejUfaE9Go5WHtodyaioftCejUfaE9Go5WHtodyaioftCejUfaE9Go5WHtodyaioftCejUfaE9Go5WHtodyaiiipNAooooAKKKo6nrGn6Pb+fqF1HAnYMeW+g6n8KAL1FZmh6yuu2TXsNvJFbM5WFpMbpAOC2B0Gcj8K06ACiiigAooooAKKKKACiiigAooooAKKKKACiiigAooooAKKKKACiiigAooooAKKKKACiiigAooooAKKKKACiiigAooooAKKKKACiiigAooooAKKKKACiiigAooooAKKKKACiiigAooooAKKKKACiiigAooooAKKKKACiiigAooooAKKKKACiiigAooooAKKKKACiiigAooooAKKKKACimPII8ZB59KZ9oT0anZsh1IRdmyaioftCejUfaE9Gp8rF7aHcmoqH7Qno1H2hPRqOVh7aHcmoqH7Qno1H2hPRqOVh7aHcmoqH7Qno1H2hPRqOVh7aHcmoqH7Qno1H2hPRqOVh7aHcmoqH7Qno1H2hPRqOVh7aHcmoqH7Qno1H2hPRqOVh7aHcmoqH7Qno1H2hPRqOVh7aHcmoqH7Qno1H2hPRqOVh7aHcmoqH7Qno1H2hPRqOVh7aHcmoqH7Qno1H2hPRqOVh7aHcmoqH7Qno1FHKw9tDuVqKQ52naATjgE4rIsNYuriOwlu7KKCK+QGJopzJtYoXwwKrjgHkZ5H0rY8yxsUVSttWsryVY4ZHJcExs0Tqsg9UYgBvXgnjmqdrrUl7rNxaQwukVvJ5TtJbygsdgYkMVCj7wGCeevcUDszZoqnbXv2jUbu3BAECp8rRurZJYE/MACvy8EZ6GorbXNPu7gQQyyF2keIFoJFUuudy7ioGRtPGc8GgLM0aKorq9k9z5AkfdvMYfyn8ssOCofG0nIIxnqMdavUCCiudbXdVGvmxGk5tft62ouN5+4bczGTGOgI2detWx4m0oyFPOmBDOpzbSgfI21znbjCnAJ6DIyRmi4+VmvRVM3v8AxOI7FSB+4eRg0bgnBQDa2NpHzHIznke9UtZ8QW+m2t2UbdPbruOYnMYbGQrOBtUkEYBP8Q9RkCzNmisbW9ft9Lsrx1bdPbxlzmJ2jU4yFZwMKSMdSOoNXLq5nt9QsowIzBcSGI5B3AhHfOemPkxj3oCzLtFUrnV7K0maOaRwUAMhWJ3WMersAQvHPJHHPSrtAgoqndapaWcvlStIXC72EcLybV5wW2g7RweTjofSi51O1tI0kkMrRuu8PFA8i7fUlQQB9aAsy5RVK91ay0/yPtMxQTnbERGzBzjO0EA8kDgdT2zWfq2t3tr9ifT9Oe6juEnLlw0ZjKRsygqVyNzLt5x1oGk2btFZFxrY0/wm2t38JiMdoLiWEHlW25KA+ueKrt4otdMg02LXpBaahdweYY0ikZAwXcyhsEcYPBOa2hQqTjzQV/8AgK7+5bisb9Fc1d+LYBo2na3YL5+lT3SRTyujxskbnYHAYA4Dle3IJxXS0qlGdNXkrbr5rdeoF+iiiuI9cKKKKAOO8a614k0uFv7LsB9m25a7X94y/wDAf4fqcivHbq7uL64ae6nkmmbq8jFia+k65jXfAmj63ulEX2S6PPnQDGT/ALS9D+h96AMfwvrHik3GnWM2iQwaYFCeakTjCBeDksR6c139Y3hmwv8ASdJXTr6RJvs52wzIfvx9gQehHT6Y5rZoA8/uvEnjiO8njg0CJ4VkYIxgkO5QeD9/0rpvDF/q+o6bJNrVktpciYqsaoVymFIOCT3J/KtqigDF8T3+r6dpsc2i2S3dyZgrRshbCYYk4BHcD865m18SeOJLyCOfQIkhaRQ7CCQbVJ5P3/SvQKKACuI1nxB4xtNXuYNP0SKe0RsRymFyWGB3DAV29FAHOeFdU1/Uvtf9uacln5ezydsbLvzu3dSemB+daWvXV/ZaLcXGl2wubxNvlxMpYNlgDwCD0JNaNFAHnP8AwlHj3/oXYf8AwHk/+Lr0OFnaGNpF2uVBYehxzT6KAOQ8Sa34psNV8nR9IjurXywfMaJ2O7nIyGFP8Maz4m1HUpIda0qO0thCWWRYmXL5UAZLHsT+VdZRQBW1CW4g026mtIxLcxwu0UZGdzgEgYHqcVwX/CUePf8AoXYf/AeT/wCLr0aigCjo1xe3ekW0+owCC7dcyRBSApyexJNZPirVPEGmtajRNNS8DhvN3Rs23GMdCPU/lXSUUAcToeveL7zWbe31LRYrezcnzJRC6lflJHJYjriu2oooA88m8TeO1mkWPw9CyBiFP2eTkZ4/jrrPDd7ql/pXnaxaLa3XmEeWqFRt4wcEmteigDE8T6hrGnafFLotkt3cNKFdGRmwuDzwR3ArnLHxH43m1C2iudAijt3lVZXEDjapIyfv+ld9RQAVwuq+IfGdtqtzDY6HFNapIRFIYHJZexyGruqKAOf8Lalrmow3La3p6WboyiMLGy7hg56k1d1+71Cy0aa40u2W5vFK7ImUsDlgDwCD0zWnRQB5z/wlHj3/AKF2H/wHk/8Ai69FUkqCRg45paKAOO8Q654rsdXkg0nR47m0CqVlaF2JJHPIYCrHhfV/Emo3k8etaWlpCseUZYmXc2enLHtXU0UAVdSmubfTLqaziEtykTNFGQTuYDgYHvXB/wDCUePf+hdh/wDAeT/4uvRqKAKelT3VzpVtNfQiG6eMGWMAgK3cYNYvinVvEOnTWy6JpiXiOrGQtGzbTkY6MK6aigDi9B17xde61b2+qaLHbWb7vMlWF1K4UkcliOoArtKKKAPOf+Eo8e/9C7D/AOA8n/xddj4evNSvtIjn1a1W2uyzBolUqAAeOCSa1aKAMLxRqOtadZwSaLYrdzNJh1ZGbauOvBHeuf0/xH42n1K1hu9BiitpJkWWQQONqEgE5Ldhmu9ooAK4LUPEfjaDUrqG00GKW2jmdYpDA53ICQDkN3GK72igDC8L6jrWo2c8mtWK2kyyYRVRl3LjryT3qx4hvNSsdIkn0m1W5uwyhYmUsCCeeAQa1aKAPOf+Eo8e/wDQuw/+A8n/AMXXo1FFAHF69r3i6y1q4t9L0WO5s02+XK0LsWyoJ5DAdSRV7wtq3iHUZrldb0xLNEVTGVjZdxyc9WNdNRQBT1We6ttKuZrGETXSRkxRkEhm7DArhf8AhKPHv/Quw/8AgPJ/8XXo1FAFXTZrm40y1mvIhFcvErSxgEbWI5GD71geKNX8SadeQR6LpaXcLR5dmiZtrZ6cMO1dTRQBx3h7XPFd9q8cGraPHbWhVi0qwupBA45LEV2DEhSQMnHFLRQB5z/wlHj3/oXYf/AeT/4uuz0C71C90aG41S2W2vGLb4lUqBhiBwST0xWnRQBz/inUtc06G2bRNPS8d2YSBo2baMDHQisXSvEPjO51W2hvtDihtXkAlkEDgqvc5LV3VFABXA33iPxvDqFzFbaBFJbpKyxOYHO5QTg/f9K76igDE8MahrGo6fLLrVktpcLKVRFRlyuBzyT3JqTxJe6pYaV52j2i3V15gHlshYbecnAIrXooA88h8TeO2mjWTw9CqFgGP2eTgZ5/jr0OiigDidc17xfZ6zcW+m6LFcWaEeXKYXYt8oJ5DAdc1peFdU8Qak10Nb01LMIF8rbGy7s5z1J9B+ddJRQBT1We6ttKuZrGETXSRkxRkEhm7DArhf8AhKPHv/Quw/8AgPJ/8XXo1FAFbT5bifTbWa7jEVzJCjSxgY2uQCRg+hzXOeJ9Z8TadqUcOi6VHd2xhDNI0TNh8sCMhh2A/OusooA5Dw3rfim/1XydY0iO1tfLJ8xYnU7uMDJY11kzOsMjRrucKSo9Tjin0UAec/8ACUePf+hdh/8AAeT/AOLrtdBur+90W3uNUthbXj7vMiVSoXDEDgknoAa0aKACiiigAooooAguf4fxrCu9bFrfC0Wwu7hiypuiMYXcQWA+ZwegPat25/h/GsXVYL6aaxazit3EM3mv50zJ/CRgYRs/e9ulbR+E8+t/EZDB4jspHX7Q8dpHJbQ3ETXEqqWEm7jGeo284J61oXV/Z2Oz7XdwW+/O3zZAm7Hpk81QubC6l1G/nSG1ZJrFYImeQhtwLkgjacKdw5BPTpVKTRtQE0VypDyGzit5Y47towGQscg7DuB3HqB0754ZlZHSVUuNU060m8m5v7WGXbu2STKrY9cE9OD+VP0+3+x6dbW20L5MSx7Q5cDAxjcQCfqRWXqelXd3qEs0cdq0ZS22mSQgkxzeYwI2nAI75PI6UxJK5euNVtobWGeOe3kWeRUiPnqokywHyknBIGTgdcYqe6vLWxjEl3cw28ZO0NLIEBPpk1kT6fqY0p7SCK0dnu5Jtz3DKApm8wdEPODg+nqatXEF+bq0v0t7d544pInhMxAG4qcq23n7nTA6+3KHZD7bWbSTTVvrmaG2iMjx7pJl2kqzLw3AOdpIqE62W0SbU4rdZI4TIXVZRgohOWU4wcgZH1qlp+k6lp8VvL9nsmmhluj5McrKm2aTzAVJXgj7uMcgk5HSkTStWj8N3+npb6eJrp7kgLO6oglLN/zzJJBbB45xnjOADsjoLi6t7OIy3M8UEYON8rhRn6mnQzRXESywyJJG4yrowII9iKyNR0++vhZ3OEjuLdnzDHcsFIYYyH253YHp3I96t6RZvZWjrLGEeSRpGAnMvJ75IHJ6njrnr1pk20Lc9xDawtNcTRwxL1eRgqj8TUX9oWX2P7Z9st/sv/PbzRs64+9nHXiqutadNfx2rQORJbT+aF8wx7vlZcbgDj72eh6Y75FKPTNQisZREDHJNciWZReMzSJsC437flPC9B0HXnNIEka/9o2X2I3v2y3+yDrP5q7Bzj72cdeKfDd21zJLHBcRSvEdsio4YofQgdDwawU0nU10TWbTy7bzb0t5Ie7kcANGqfM7JnIxnvn2rbsI5IrVY5La3ttg2rHA5ZQo6Y+VfyxQDSJ5JI4YmlldUjQFmZjgKB3JqrBqMD6bHfTSQwxN/GZlZOTgfMODnj86szGVYWMCI8uPlV3Kg/UgHH5VgnTdUl8OXOnzW1iZXY7R9oZkYM5YhiY+OD6HPtTBI2be+s7uFpra6gmiQ4Z4pAyqcZ5I9qbb6jZ3qv8AYru2uXQZKxTK2PTOM4rPvNMu7u51BsW6xTwQJGC5O9kZmIcbfuncFPJyM1ahF80stxLY2cc3l7EKzFi/OcFtgwufY9egpBZDrXUo5NNa8utlqkbyJIZJBtQo5QndwMZWrK3MDTvAs8ZmRQzRhxuUHoSOwrJtdP1CTR76wvI7WH7R55R4Zmkx5ju3IKL03VFNp2p6i9wtzFa28Uti9sCkzSMGPcjaBt/HP58A7Iv2+tWl5qSWlpNBcK0LyGSGZXClSoIIHT74/WrNtqFles62t3bzsn3xFIGK/XB4rEudK1LUtQ82eCztIjYT2bPFMzyDzNhDL8g4Gzpx1zx0qXTdMu4L2Ka4iAMMTRq/2xpAM44C7BxwO/GBwetAWRebXtHRyr6tYqynBBuEBB/OismDTNVht44kg8kIgBSHUn8sHH8IZCQvoO1FAWR0pztO0gHsSM1i2miXK2tla317DPBaRhEWK3MRY7CmWJduxPAxz9K26KYrmDpvh46fc27FrR0twQjCBhIflKg534BwecDnJ6VcsbG+tb68mmvLeWK5l80olsyMp2KgG4ueyDt3rSooC7MyCx1CPWJb2S9tniljSMxLbMrAKXI+bzDz8/p2qKHSLuOO1Vr2FmhvZLpiLcgMrlyVHz8H94eeenStiigLs5+Dw0La6QobRoFn84eZCxkHzbsZ34yD0OOw4J5roKKKAbbCufk8PXMtvJG1/FueK8j3C3OB57hwcb/4SPx9q6CigE7GXNY6jJq8N4l7arHFG8Yja1YkhihPzeYOfk44796r6hot7c2t/Z219DBbXu4tvty7oWGDg7gCD155GTz0xuUUWC7MLUNEvru11G1gv4IYtQQiZmtyzIxQIxX5gMEAcHOOeT2sXthqVzcWcsd9aR/Zn8zDWjNubYyH/loMD5ice3U1q0UWC7MG+8O/aL24uIjak3ODILiFnwwULkYdeMKOD+dbkaCOJEAACgAYGBTqKAbbMTUNB+1ag95C1vvlRUdZ42cDbnBG1l9eR7DpzmK/8OPdxpEslp5S2q26pLbF0iIz80a7gASCB7bRya6CiiwczMebS79otMWK+tleyO4l7VmDt5bJwPMGBhj61rrkKNxBbHJAwM0tFAr3MrxJpJ13w3qGlhwj3MDIjHoG6qT7ZArD1nwvf+MdP01NWuVtLZYg93p3lb90+0jPmK44UnIA6459uxorpo4qpRS5HZptp9rqzt+HmraAcdf+HtZm8L6f4fnvF1HddRC6vPLEJSBGD/d3HLHYF49cmuxooqKteVRJS7t6aavf8lsBfooorhPXCiiigAooooAKKKKACiiigAooooAKKKKACiiigAooooAKKKKAMTxR4psfCWmRX9/FdTJLOlvHHax+Y7O2cALkZ6Vgf8LPtv8AoU/F/wD4J3/xqr8YTOvh/Q2tUR7ga7aGJZGwrPlsAkdBnFaVvffERrqIXOi6AkBcCRkvpCwXPJA2cnFAHZUV5rJaar4k+J3iTSW8Q6nY6VaW9pIIbKby33srfdfBKjgk4xk49KxovE+v6d4R1DR49Uln1EeJ/wDhH7PULgB5ERypDt/eYAtz9KAPUNW1200W40yG6EpbUbtbSHYoIDlSwzzwMKa068m8ReGrvQfEfgtv+Eh1TUbWTWY1ki1GYSsJNj4dWwCBjcCOnSuuTxbaa1q1z4cTT9ftJZPNg+2fY2ijQgMCyyngdPlPrigDe0vVrHWrL7Zp1ws9vvaPeoIG5SVYc+hBFXa8L8N3N/4d+GUX9l6jdC/1rXP7LhkuH8xLYtPIpkVSOpGSfU4NdTq1nf8AgHVPD17aeINX1C21DU4tOvLbUrkzhxLkB0yPlYEZwODQB6XXBR/FjTLhpfsnh/xNeRxStEZbbTGkQspwQGBx1rYsfGlpf+Im0VNK1qKVZJI/tE1iyQEpnJ3njBxwe+RXAfDu68ZxaBeJoml6PcWX9pXWJLq6eN8+Yc8BSMUAemeHvEEfiK0luI9N1OwEcmzZqFqYHbgHIB6jnrWxXnXjjVfFFj8Mrm8uDb6brIu4EQ2UzOgUzIOpAPIJBFQajY6p4Q8V+F7lPEuragup3ps72C8lDRPuQkMiAAR4I6D298gHplZnh/XbTxJo8eqWIlFvI8iASqA2UcoeAT3U1wuiWurePJtY1p/EuqaZHBfzWmnW9lIFjjWM4DyKQfMJPJB7cfTT+DwkHwz08TMrSie63lehP2iTOKALur/ECw0nxBNoi6TrWoXkMSTSLp9mZgqt0JweKteHfGul+JL25sIIr2z1G2QSS2d/bNBKEPAbaeoz6e3rXG3EniGP4066fD1tps8p0y280X0zxgLk4xtU5NSaJNqsHxgE3i62t7fUr3S2ttNNi5e3aJH8yQEt82/JB5AGKAPUaK8I1jXXTQtU1a08WeJdS1q3Msom0yKT+zYirHC4K+WUAABJJzzXXXl/qXi3xbpPhxdTutNs/wCxk1W9ksJPKlmZmCqgfqqg5Jx16UAdtr2u2fhzTDqF8JTD5scX7tcnc7BRxkdyK068i8c6bqvhrwFq6alq8upaXHqFlLZSXDmS5RPNQurtgbsEfKeT61s+DdbvvGet6prF1dXNhFpzm2h0TmNo8rkSzj+JmHQfdGD1PNAHolFeNeGdK8Q678LofE1x4w1mPVlt5Z7YRzgQjYW2iRMfvM7eS2euO1Tx6rrnjXxD4Zt4NZu9JttS8Pm7vRZttbdvXJjzna2cANgkLmgD16ivNrW0vvF/ivWtNl17VrPS9C8m0hWyujDLPKUDPJK4GSegA6d657UvEPiS20LUdEh1mZtQ0zxFbWMGoNjfJFJgqJMcMRnB9aAPaqhurqGxs57u5kEcEEbSSOf4VUZJ/IV55qVpqXgbxB4du4PEGq6la6nqCadeW2oT+apMisVkQYGwgqcgcV0/j20+2+A9cj+0XEG2ylk3QPtY7UJ2k+hxgjuCaAJ5/FelwnQyryTR624WzkjX5WBTeCc4IBX2rbrw+TSbkeFvhba2eq3cc91LFILiRhI0Aa25EeRgADO0HOPeup0+O/8AC/xJTQ01vVNR0++0qW526jP5zxSo4GVYjIBB6UAej0V4toWra7o/wjl8fahr19f332Fore0lf/R03ShFdlxl3zyWJ6EitTxNpmseBPCn/CVx+KNXvdQsmikvILu4321yGdVdRHjCfe429MUAeq0VxvhrUry6+I/jazmuZZLW1Nj9nhdiVi3wbm2jtk8muRXxRrh8O3Vpb6jIt7qXi6bSIbt/nNtCXPKg8cKpAHvQB7BWXouvWevf2h9jWUfYL2Wxm8xQMyR43Y5ORz1rhr7TtW8K+M/CdtbeJtWvdOv7uSO4gv5xKxZYmIIbAO0916ZAxWb4V8L3mv3HjKQeItW02GPxDerBFp8/k4kyCXcgZb+EbenB9aAPX6K5X4bazeeIPh5o2p38nmXc0JEsmMbyrMuT7nbmvP7g678RfitrmkReI9Q0bS9DUKiWMhRnfpk4Izzu69gB3JoA9qoryb4Qahrlx4m8b6frer3GpSafdxQo8jkqMNMCVXOFztBwP6V0/wAQr5LS002KbxDLo9tPc4m+yIzXVwoU4ji2qSDnGSBwKAOyoryvwdrN0njfVNGgvNel0v8AskXsS62rCZZPMKEoXAbYR69waw7O28Q3XwdXxlN4w1oarb2jXMKRzgQ7UY4V0x+8JAOSx7+goA9wrMtNdtL3X9S0WISi605IXmLKApEgJXBzz905riJr7UvGni6z0RNVvNKsINIi1C6awk8uWaWQ/KofBIUDnjrmneBLC60z4k+M7O71GbUDHDY+XcT48xk2ybQ5AAJHTPfGaAPSKK8p+MWpa3aat4NtND1WfT577UDCWjchWJaMLvXowBPQ8dayXHiH4dfFLw7YSeJ9Q1rTdcYxSxX0hcq2QMjJOMFlIxjoRQB7ZRXJ2/xE0W58QLpKR3wD3T2Ud60GLaS4UEtGr55bg9sHHBrrKACiiigAooooAKKKKACiiigAooooAKKKKACiiigAooooAKKKKACiiigCC5/h/GqZmjW4SAsBK6s6r6hSAT/48Pzq5c/w/jXNavplvNrFrfTaPHfqsEsTfuo2YEshX75HHyt9M+9bR+E86v8AxGayXaSX01oFcSRIkhJHBDFgMH/gJqeucvtO/tDULye40d5QdPRYPMMZxJlyVA3cN8y89OuDVW+0y9upre4u7WWdDZxp5RjhmMUoLb87mwCcrypP3ecYFMzsjrajeaOOSKN2AaViqD1IBP8AIGotPjkh062ilaVpEiVWMxBckD+IjIJ9cVn65psF3cWFzLpkd8IJW3qY0ZgpRhxu7ZI4piS1NmisLVVEFnZarFYBLmzYJFbtsDFXIQxggkAnKkYPUAdzWVqHhjEUUcOlpcSpZTlp0EaA3DujDbkgg5D4PRc4yKVxpI7KiuNuNKWK/son0VJoY7m4KW4MYDRFQRtGdpG452tjkZ6gZsz6ZcmzS3bTsWTzPKtukcUr24wAqqHOwZO8nGQM4HHNFw5V3OpqOeXyLeSXY8mxS2yNcs2BnAHc1zEOl3E9jo1vfaVJItveSmRZGiISLEgTIDYK/MnygdunAqeSxl/4Ri9sG0d5cyzrBb/uiApZijDLYAGRgdR6UXCyOjByoOCMjoaWsW6juLzTLTzdPmKRyg3Fo7RlpUCkY4YqRuKtgnnb+Bs6RbQ20Vx9n05rCOSXf5bbRk7QMhVJCjgccc5OOaYrGjRVDWIJbiw2RxGYCRGkhBAMqBgWXkgcjseD0PBrMeyC6fefYNE+zCYxo8TpGQ6g/MVj3bcgE9cZPY4AICR0VFcrp2htcaZqunXdlJDbyzCS1M6QkL8igMEj4BDKTjAzn3NXrGxYpe6lfaSn2y6URvbL5bN5ajbtJJCtk5PJ6EA9MUh2RqpdI1mbl1khQKWYSLhlA65H4VMrB0V1OVYZB9qwbGylufDdxplzpjW4KyIkc/lshDMxXAVmGBxUmn6faS6XLp76IbOCWIJMpSNRIcYI+RiSff8AI0CsjborA0G2a4na/uYovNtkNjDIqgblRiGcY6BmH3e23jrWxemcWNwbaNJLgRN5SP8AdZscA9OM0wa1sT0VyukafNZ391jTJxZy2u1laO3jV3BPy7EI6gkAt+eKTTdHubK2sYrSxNlO2lvDPOCh2z4TaXwxLkEOc89TzzSuPlXc6hnKnGxm9xRXNLYWAjQN4Nd3CgMdluxz3yzOC317/Wii4WR2uxP7i/lRsT+4v5U6isbnqcq7Ddif3F/KoLy5stPtXur2e3treMZeWZ1RF+pPAqzXHeJvs7+O/CsWpBDp7C5MQlwYzdgJ5ec8btvm7ffOOaLhyrsdHp2p6VrFuZ9MvbO9hB2mS2lWRQfTKk1c2J/cX8q8t8U6pFaeJNbv/DMyR31loF4dReFB+7lQqYN4IxuH7wjI5XPatHxb4u1DSr29XTrhZPL0iKdUAQ7HkuFj83njhSTyccc0XDlXY9B2J/cX8qQrGMZVRk4HHWvNH1TxRbDUdOS8njkK2rQ/2jc2guQzylXRTHlAXUHYXX7wPtiGee61ObQ7e51LVormy8RLDJFcxwCWLdbM4DMgZH4zhhjh8EZGaLhyrsenQSW1zEJYHiljJIDxkMMg4IyPQgj8Kk2J/cX8q820HUdT124tdLfV5tNiWC7ujLaRxI8zC7kjA+ZCMIqgnA5LDJ9XaLqeu+KrrTbd9bnsY5NIa4eS0ijBmkExRZBuVsKygNgeo7dS4cq7Ho+xP7i/lUMFxZ3LzJBNBK8L7JVjYMY264bHQ+xrntI8Tsvwxs/E2qENINMS6n2jG9tmSAPUnoPeuQ8Hf2j4c8SW6alpV7YPrlm5upbhois1+peUsux2IyryD5scIvHoXDlXY9W2J/cX8qNif3F/KvL9M1jX7XR/DWp3PiFppNW0uaacXkcawQutv5qP8qggAj5uTnJ6cUqa34gsNNv1uL3Ul1C1so9SMNytvKk0ccgMxiki6qy5XaygjIIouHKux6fsT+4v5UbE/uL+VeY6b4t1q/1xbEXRdNSvVvbEoi8WCmbcoOOdwgTnr+/HNHhjxD4jvp9B1C5kujDqwdporiS1EIHls48hVPm5QgAhs8Zzg0XDlXY9KeS2jmjhd4lllz5aMQGfHJwO+Kk2J/cX8q8rs9W1yLw94b1O61eS6u9Q0u5u3Z4IgI2FsGUJhcjnk88nPbgS3Wva/wCHNPtr99Vn1OS88PXN+0M8UYSOaJYSCgRQQv71sgk8Drmi4cq7Hp+xP7i/lRsT+4v5Vw9nPqFr4tj0hvFU17b3GizXZkljh3RSb4lWUFVA24ZiAcjg9e3a2wK2kIaczsEUGYgDzOPvccc9eOKLhyrsP2J/cX8qNif3F/KnUUXDlXYbsT+4v5UbE/uL+VOoouHKuwUUUhYKCWIAHUmkMWiqEmt6VE2G1C2z6CQH+VQf8JNowP8Ax/x/kf8ACixHtIrqa1FZP/CTaN/z/wAf5H/Cj/hJtG/5/wCP8j/hRYPaQ7o1qKyf+Em0b/n/AI/yP+FH/CTaN/z/AMf5H/Ciwe0h3RrUVk/8JNo3/P8Ax/kf8KP+Em0b/n/j/I/4UWD2kO6Naisn/hJtG/5/4/yP+FH/AAk2jf8AP/H+R/wosHtId0a1FZP/AAk2jf8AP/H+R/wo/wCEm0b/AJ/4/wAj/hRYPaQ7o1qKyf8AhJtG/wCf+P8AI/4Uf8JNo3/P/H+R/wAKLB7SHdGtRWT/AMJNo3/P/H+R/wAKP+Em0b/n/j/I/wCFFg9pDujWorJ/4SbRv+f+P8j/AIUf8JNo3/P/AB/kf8KLB7SHdFDxt4Wm8W6TaWltqQ0+e1vYryOcwedhkzgbdw7n17Vmf8I14+/6KHB/4Iov/jldF/wk2jf8/wDH+R/wo/4SbRv+f+P8j/hRYPaQ7or6b4cOn+LdZ11rzzTqUNvGYfK2+X5SsM5zznd6DHvWJP8ADeC50nXbKXUpBLqOrNq1vcRxbWtJfl245O7BXrxkE9OtdH/wk2jf8/8AH+R/wo/4SbRv+f8Aj/I/4UWD2kO6OZfwT4g1XVtG1HX/ABLDO+k3QnihtbLy45BgglsuTuPHPQYPHPHeVk/8JNo3/P8Ax/kf8KP+Em0b/n/j/I/4UWD2kO6OUg+Gci+HNQ0KfWi1q159t02WO3CS2Uu9nyTuIfkjsOM+vFyDwhrepazpl94p1u2vodLk8+2trS08lXmxhZJCWOSMnAGBmt//AISbRv8An/j/ACP+FH/CTaN/z/x/kf8ACiwe0h3RrV5zpfgDxXoUM9tpHjqK2tJLiS4ETaMkhUuxY/MZMmuw/wCEm0b/AJ/4/wAj/hR/wk2jf8/8f5H/AAosHtId0YN94N1vWvC1zo+t+J0vZZbmGaO5XTli8tY3V9u1X5yV654zWv4h8N/29f6Hdfa/I/su+F5t8vd5uFK7c5GOvXn6VP8A8JNo3/P/AB/kf8KP+Em0b/n/AI/yP+FFg9pDujnB4K1vS9R1L/hHfEUdhpmpztczQS2nmvBK332ibcAM9cEEA1t+DPDK+D/C9toiXbXS27ysJWTaSHkZ8EZPTdjPfGeKsf8ACTaN/wA/8f5H/Cj/AISbRv8An/j/ACP+FFg9pDujntV8Fa3L4xu/EWieKE0uS6t47eSJ9OW44TODkuPX0qXS/A1yuuHWvEevS61fpbvbW5FutvHAj/e2opPzHpnPStz/AISbRv8An/j/ACP+FH/CTaN/z/x/kf8ACiwe0h3Rxcfw21z/AIRWXwnJ4qRdCETxRCGxCzlSSVV33YIBIzgAsOMjNaMngfVYzo+p2GtwW+v6fZ/YZLg2m6G5gzkI0e7IwQCCG65/Do/+Em0b/n/j/I/4Uf8ACTaN/wA/8f5H/Ciwe0h3RzEvw4nvdH1GLUNce41TUry3urm8+z4QCFlKRpHu+VQAR1J5zzWveeFMeNIvE9he/ZJGtmt7+38rct2g+4Scjay/3sHjjpWh/wAJNo3/AD/x/kf8KP8AhJtG/wCf+P8AI/4UWD2kO6PLPh94X8R6v8KtNsrXxMtro99DIJojaB5o1LsHWOTcAA3PUEjJxXodn4Nt9P8AE2mapaT+XbafpR0yK18vPy7lIbfnsFxjHPrV5PEWhxIEjvIUQdFVSAP0p3/CTaN/z/x/kf8ACiwe0h3RiX/hLV7bxLe654Z1i3sZdRRFvbe7tjNFIyDCyLhlKtjj0Ncj408IjQ/A9taNqE0+oal4htp7y/ChHaV3xuUchQOMDnGK9J/4SbRv+f8Aj/I/4U1/EWhyAB7yFgDkBlJwfXpRYPaQ7ow7fwfrN9r2naj4l16HUIdLcyWlvb2nkK0pGBJJ8xywBOAMAGup1SwTVNJvdPkYpHdQPAzL1AZSpI/Oqn/CTaN/z/x/kf8ACj/hJtG/5/4/yP8AhRYPaQ7o53T/AAHfQWXheC+1uO4Ph+fdCyWmzzIhH5aofnOCBzu5z6d62Lzwz9r8Z2niH7Zs+z2Mtn5Hl53b2B3bs8Yx0x+NWv8AhJtG/wCf+P8AI/4Uf8JNo3/P/H+R/wAKLB7SHdGVp3gW0t/hwngy+uGu7YW7QPMqeWTliwYDJwQSCOT0rKfwL4g1W2s9K8ReJIL7RbWSN2iisvLluwhBVZW3EYyATgc4rqv+Em0b/n/j/I/4Uf8ACTaN/wA/8f5H/Ciwe0h3Rg3/AIP1mPxZf654f8QR6cdTjiS9imsxOCYxtV0O4YIXjByPrXP6t4O0zwj4AmttR1e/aNNYGoQanFAGks5WYbJHGSGC9GPGd3QV33/CTaN/z/x/kf8ACkPiXRWUq19EQRggg8/pRYPaQ7o8zgM+vfErwq48W23iOWyaaeU6fCqQWsXlkbm2s3zsxUcnt0FejeGvDn/CPLrA+1/aP7R1OfUP9Xs8vzMfJ1OcY68Z9KW31vw7Zqy209rArHJEUe0E/gKm/wCEm0b/AJ/4/wAj/hRYPaQ7og8G+HP+ER8JWGhfa/tf2RWXzvL8vfl2b7uTj72Otcrr3wy1GXxjP4m8L+JZNDvLxBHeL9nEqydBuAJxngcHvzkV2P8Awk2jf8/8f5H/AAo/4SbRv+f+P8j/AIUWD2kO6PMPgnZHTfF/xBsWuJblre+ijM8py8hDTgs3uetd74q8L3msapo+s6VqMdlqmlNL5LTQebE6yKFdWXIPQDkGr0ev6BE7vHdW6NIcuyoQWPvxzUn/AAk2jf8AP/H+R/wosHtId0c7p/gjV7bxgPEd54iW8uJ7JrO7jNoEXZnKiLDfIAcHncTzzzxatvA/2f4YN4M/tHdmze1+1+Rj72fm2bvfpmtkeJdGYgC/i/HI/pViHWNNnYLFf2zMei+YMn8KBqcXszl77wRfw6hpur6Bq8dlqtpYrp8zT2/mQ3UK4I3KGBBB5BB9qteFvCF1oOu6zrN9rLajeassPnEwCMI0YYfKAT8uGAA7bepzXV9aKCjxz442n2/W/Aln50kH2jUzF5sRw6bmiG5T2IzkVt6L8MdQTxlbeJPE/ieXXLixUrZobcRKnXDEAkZ5J4HXBya9EkgilZGkiRyhypZQdp9R6VJQB4LpfhPVo9d0nR2tdeE9h4jN/NJJu+wfZ1ZnEiH7u9sgYzn71e9UUUAFFVp9Qs7U7Z7qGNv7rOAfyqq3iHSVODfR/hk1ShJ7Ilyit2adFZn/AAkWk/8AP7H+R/wo/wCEi0n/AJ/Y/wAj/hT9lPsw549zTorM/wCEi0n/AJ/Y/wAj/hR/wkWk/wDP7H+R/wAKPZT7MOePc06KzP8AhItJ/wCf2P8AI/4Uf8JFpP8Az+x/kf8ACj2U+zDnj3NOisz/AISLSf8An9j/ACP+FH/CRaT/AM/sf5H/AAo9lPsw549zTorM/wCEi0n/AJ/Y/wAj/hR/wkWk/wDP7H+R/wAKPZT7MOePc06KzP8AhItJ/wCf2P8AI/4Uf8JFpP8Az+x/kf8ACj2U+zDnj3NOisz/AISLSf8An9j/ACP+FH/CRaT/AM/sf5H/AAo9lPsw549zTorM/wCEi0n/AJ/Y/wAj/hSr4g0ljgX0X45FHs59mHPHuaVFQQX1rdf8e9zFKfRHBNT1LTW5SdyC5/h/GqpdQ4QsN5BIXPJAxk/qPzq1c/w/jXMaxa2/9uWd3c/bhELeaMtbSTABi0ZUYjPfDfXHsK1j8J51dXqM2kuYXuZbZXzNEqs64PAbOD+h/Kpa5q9jW61S+nH9pRhdOjaMwpNHubMhxwBlhlfl689Kr301/PNbyzPcRWz2cbLtS4QiUlt4IjwQfuYDfh3p3M+U62ml1VlVmALHCgnqevFQaeZTp1sZ5DJN5S73MZQs2OTtPK/TtWZr1rDJdabcz/axFFMwc28kq7QY2wSIz64GffHemJLUv3UOm3d7Fb3dvbzXARpIxLEGIUEAkEj1K/pV2sC5jivdW0sAagsAtpxvVZoz1jwHfAIztJ5IJx371Li4nl8O6ezPq0U4nVS8UE3m7A+GLLtPVe7D3HNIdjo5rK1uJoppraGSWI5jd4wWQ+xPSp65rU454obEWsl2LAh2lMjTmQMcbNxB8wD7/XgcZqtK2pGxsd1xO1qGl8x/LnRxyPLBxiTAG4bj1wMk9SXDlOuorO0QzHTF86V5SGYKzxujbc8A7/mOOmT1xnnrTdZLhbbcbgWpl/0g227ft2nH3PmA3YyR+PGaYra2NOiuakeY6TMiy6hHbvdhbeUxSvIIwoJ34Ik2lg4znPI7U1Hm/sC4Uvfx7rkKkyrNKdvykkA4kCHBB5yMkg4waVx8p09R29xFd20VzA++GVBIjYxlSMg/lWJpjgaTefaRfGHz8KytO7su1eU48wDOe55zzim291cz+Erbat8LhI4Fud8MizYyvmEbgGJ27uRk56c0XCxvySLFE0j52qCTgE8fQUy3uIrqBJ4HDxv0bGKzNPktYDdTwSanJAFTKzLNIAct9wMCxPIzjI4HvVCOe6k8LSpZRXUVwk2XElvJG3lmYltuQCTsz93n05xQFjp6ZLFHPE0U0aSRuMMjqCCPcGubs5LhbDVMXN20ZiAj8uCd3jc7gWUyfMx+78oPG33qz4f8wXF2pa5kjCx7ZJGm2sfmzhZckHpnDEdOhBouFjZt7W3tIRDbQRQxA5CRoFH5CpaqafqCajDJLHDcwhJXiIuIjGSVOMgHqp7HvVumSwqv9utf7R/s/wA5ftfled5XcJnG76Z4qxXIadAs/jLxdaXEkkU9xFb+U8blHEBiK5QjkYffyOhrejSjNTcnsr/il+twOvorx/8A4SHxHYKNKg0bUdTl00ta3F2t5LiSQMSG4bnKMh55GcdAKK9H+xqvSS++P+Y7Ht9FFFfPnrBVXUNOsdVs3s9Rs4Lu2f70U8YdT+Bq1RQBj2HhTw/pbM1ho1lalomhfyYVUOjEEhgPvdO+e/rUL6b4T8MWEsklno2l2cimKR3jjhRg3VSTgEHHQ+lb1cbfC3k+K9jFqSxtGNKZtOEwG0zeZ+925/j2eX74J96ANPStI8J3ehywaTZaRPpVyf3i2qRvDKR67eCRx9MCrkfhzRItPSwTSLEWiSiZYfIXYJByHxj73v1rzq91iG08Watf+GrhIrJpNMh1B4lAQTteeW4II4fyzhu+NvfFaXiDxVqltqet2dhO77L6wskMIj3W/mrl9pf5dx4A3cAsPpQB2V54a0LULWK2vNHsJ4ImZ445LdSqMxyxAxxkkk+ueauJaWcEySpbwRyrF5KOqAMIxztB/uj06V5z/anigxXGmJdTiWPUIo0Sa6tBfSRmFneJWXMYcEBhuAJTPPem29xPqmv+F55NU1EzW02oQSpcQxRyBkH3JAoKscYUspwQMjBoA9Chs9KutIgtoLazl0wohhijRWh2jBTaB8uBgEY9BirFxZ2135X2m3hm8mQSx+YgbY4BAYZ6HBIyPU15loGq6rrWiI0muy6UNP0G0vAYIolEryRszSOGUjYCuNq4H3vbD21jxDrFjq1+NXudMaz0K11BLaCKMgTvFI7Bt6klcoBjj60Aeif2bp0UECfYrVIbRCkC+UoWFNu0hePlG3jjtxWN4fHgoy3Vr4dbQ2kdcXEVi0TEqOMMF7cng8c1neNbtrn4f2lzc/LZzzWbajt6C2aRPNz/ALO0kH2zVfxdJpK6p4YtNN+zprCajbSWiQKA32YsRKRjrH5YfOOOme1AHaQ6ZYW727wWNtE9tF5EDJEqmKPj5FwPlXgcDjgelQWvh/RrLUJtQtdKsoLybPmTxwKrvnk5IGeT19a4618T6g2i+G5HvN91d63cW0qgLuljRrj5MY4xsQZ9h61R8MeIfEd9PoOoXMl0YdWDtNFcSWohA8tnHkKp83KEAENnjOcGgD0T+ydN8iCD+z7XyreMxQx+Su2NCNpVRjgEcYHbikudLtp7bZFHHbzJbvb286RIWt1YAHZkEAfKvGMHaMjivPtM8Qatovhjwz4o1vWpruxvrfOoK8UapEXhDRsu1QR8ybTk8mT6Adx4YOpP4asJdXkL6hNH50wIA2Fzu2cD+EEL/wABoAx9A8DW+k3893dDTZWktmtfJs9NW1iZGILl13NvZtq5PAwMYrq4oo4IUhhjWOKNQqIgwFA4AAHQU+igAooooAKRmVELuwVVGSScAClJABJOAOprgNb1m58Q366XpwJty2OP+Wh9T/sj/wCv9Glcyq1VTXmX9X8aqjm30tBI+cecw4z/ALI7/wCetZ0ega/rhE19M0aE5Hnscj6IOn6V02h+G7XSI1kYCW7I+aUj7vsvp/OrmqX72UUSQRiW5ncRxITgZ9T7AU79jF0pSXNVfyOfh8BWqr+/vZnb/YUL/PNTf8IHp3/Pzdf99L/hV65n1nTYDdzPbXUKfNLHHGUZV7lTk5x71qRXkE7qkcgZ2jEoXvtPQ0rsuNKltynO/wDCB6d/z83X/fS/4Uf8IHp3/Pzdf99L/hXQm+tVglnadBFExR3JwFIOCKZbanZXccjwXCOIxl+xUe4PNF2P2NHsjB/4QPTv+fm6/wC+l/wo/wCED07/AJ+br/vpf8K24tY0+aVY47uNnYqAB3LDIH1wDVr7RF9p+zbx52zfs77c4z+dF2Co0Xskc1/wgenf8/N1/wB9L/hR/wAIHp3/AD83X/fS/wCFdTRRdj+r0+xy3/CB6d/z83X/AH0v+FH/AAgenf8APzdf99L/AIV1NFF2H1en2OW/4QPTv+fm6/76X/Cj/hA9O/5+br/vpf8ACupoouw+r0+xy3/CB6d/z83X/fS/4Uf8IHp3/Pzdf99L/hXU0UXYfV6fY5b/AIQPTv8An5uv++l/wo/4QPTv+fm6/wC+l/wrqaKLsPq9Psct/wAIHp3/AD83X/fS/wCFH/CB6d/z83X/AH0v+FbGs6vHo1mtzLE0itIEwp55BP8ASsg+NIkXfJpt4kfdioxRqZyjQi7NCf8ACB6d/wA/N1/30v8AhR/wgenf8/N1/wB9L/hXRWd5Df2kdzbtuikGQf6VPRdmioUnqkct/wAIHp3/AD83X/fS/wCFH/CB6d/z83X/AH0v+Fbn9qWv9q/2bub7Tt3428YxnrV2i7EqNJ7I5b/hA9O/5+br/vpf8KP+ED07/n5uv++l/wAK2TqZGtLp32WXBXd52PlHGcVoUXYKjSeyOW/4QPTv+fm6/wC+l/wo/wCED07/AJ+br/vpf8K6mii7H9Xp9jlv+ED07/n5uv8Avpf8KP8AhA9O/wCfm6/76X/Cupoouw+r0+xy3/CB6d/z83X/AH0v+FH/AAgenf8APzdf99L/AIV1NFF2H1en2OW/4QPTv+fm6/76X/Cj/hA9O/5+br/vpf8ACupoouw+r0+xy3/CB6d/z83X/fS/4Uf8IHp3/Pzdf99L/hXU0UXYfV6fY5b/AIQPTv8An5uv++l/wo/4QPTv+fm6/wC+l/wrqaKLsPq9Psct/wAIHp3/AD83X/fS/wCFH/CB6d/z83X/AH0v+FdTRRdh9Xp9jlv+ED07/n5uv++l/wAKP+ED07/n5uv++l/wrqaKLsPq9Psct/wgenf8/N1/30v+FH/CB6d/z83X/fS/4V1NFF2H1en2OW/4QPTv+fm6/wC+l/wo/wCED07/AJ+br/vpf8K2dbvZtP0mW5gCGRSoG8ZHLAf1qrc3WsabCbq5FpcW8fMiwqyuF7kZJBxRdkOnSTtylD/hA9O/5+br/vpf8KP+ED07/n5uv++l/wAK3rjVLK1SNprhVEo3IMElh64HOKcdQtBZfbDcR/ZsZ8zdxRdlexo9kc//AMIHp3/Pzdf99L/hR/wgenf8/N1/30v+Fbker6fLbyTpdIY4iA5OQVz0yDzVl54o5ooXcCSXOxf72Bk0XYKjRfRHNf8ACB6d/wA/N1/30v8AhR/wgenf8/N1/wB9L/hWz/bmmeYifbYtznA575xye3TvUtpqdlfSPHbXKSOgyQPT19x70XYlSovojB/4QPTv+fm6/wC+l/wo/wCED07/AJ+br/vpf8K3ItX0+a5+zx3cbSkkAA9T6A9DSXGs6dauyTXcaMjbWXkkHg/1FF2HsqNr2Rif8IHp3/Pzdf8AfS/4Uf8ACB6d/wA/N1/30v8AhWtda3bW1/ZW+9GW5BbeD0GPlI9cmtOi7GqNJ7I5b/hA9O/5+br/AL6X/Cj/AIQPTv8An5uv++l/wrqaKLsf1en2OW/4QPTv+fm6/wC+l/wqvceAYSP9GvnU+kiBv1GK7Gii7B4ek+h549h4j8N/vIJHe3Xk+Ud6Y91PT64/GtzRfGFvfssF6Ft5zwGz8jH8en4109czr/hOG/VrixVYrrqVHCyf4H3/AD9ad77mbpTp603ddjpqK4rwt4hlinGk6iWDA7Imfgqemw/0/Ku0ZlRSzEBQMknsKTRtTqKpG6K99fW+nWrXFw+1BwB3Y+g9646fWNX1+5NvYI8cX92M449Wao5XuPFWu+XGStumdueiJ649T/npXbWVlBp9stvboFRfzJ9T7112jQWqvL8jO8qr00Ry9t4JYgNd3mD3WJc/qf8ACrf/AAhVh/z8XP5r/hXQ3E8drbyTzNtjQbmNc9Hr2r3wabT9LVrYHAZ25P6j9M0o1a89U9PuG4Uo6WD/AIQqw/5+Ln81/wAKP+EKsP8An4ufzX/CtLRtZTVY5AYzDcRHEkZ7VomRA4QuoY9FzzUSrVouzY1TptXSOc/4Qqw/5+Ln81/wo/4Qqw/5+Ln81/wrpCQOpApA6FioYFh1GeRU/WKvcr2UOxzn/CFWH/Pxc/mv+FH/AAhVh/z8XP5r/hXRu6RjLsqj1JxS5BGcjHrR9Yq9w9lDsc3/AMIVYf8APxc/mv8AhR/whVh/z8XP5r/hXSb1yBuGT0560hkQOELqGPQE80/rFXuL2VPsc5/whVh/z8XP5r/hR/whVh/z8XP5r/hWrq+qx6RbJPJG0gZ9mFPsT/Sr+Rtznim61ZJO4ezp3tY5v/hCrD/n4ufzX/Cj/hCrD/n4ufzX/CuiSWOXPlyK+Ou05p24AkZHFL6xV7h7Kn2Ob/4Qqw/5+Ln81/wo/wCEKsP+fi5/Nf8ACukBDAFSCD0IoLqASWAA689KX1ir3H7GHY5v/hCrD/n4ufzX/Cj/AIQqw/5+Ln81/wAK6QEMAQQQe4paPrFX+YPYw7HG3XguWP57O7DMOQsg2n8xUNpr+p6LcfZdTjkkQdn++B6g9/8APNdxVPUdNt9TtTDOo/2XHVD6itI4jm92qroh0baw0YqzR39vFPbMJI2GQRR5Mn939a4/S7qfw5rbWV037h2Ab056OP6//Wru6mrF03Zap7EKnGq3J7lTyZP7v60eTJ/d/WrdFZc7H9Vh3ZU8mT+7+tHkyf3f1q3UF5dwafY3F7dSCO3t42llc9FVRkn8hRzsPqsO7I/Jk/u/rR5Mn939a5aXxnq9npa65f8AhowaGQsjyi8DXMUR6SPDswAAQSA5IGeOK6htW05IrmVr23Eds4SdzIMRsQpAY9iQyn8RRzsPqsO7F8mT+7+tHkyf3f1qCTxBo8WrLpMmqWaag2Nts0yiQkjIG3Ockc4pjeJtDW/msW1eyF1ArNJCZl3KFGWyM9hyfQUc7D6rDuy15Mn939aPJk/u/rWRoXjCw8QwWl1ZvCtrcWj3JMk6iSPayggoM8Ddy2cDgd6t2vinQL21nurbWbGWC3x50iTqRHk4BJzwD2PejnYfVYd2XPJk/u/rR5Mn939aj0zXNK1oTHS9RtbwQsFk8iUPsJ6Zx69vWsnxN4wg8NX+mWslq84u5B5zowAtot6R+a3tvkQfiT2o52H1WHdm15Mn939aPJk/u/rVXUvEuh6PMYdS1eytJQqtsnnVDhsgHBPT5W59jT7vxDo1jeQ2d3qtnDczhTHFJMoZgxwpxnueB69qOdh9Vh3ZP5Mn939aPJk/u/rTF1nTHa3Vb+2JuJXhhAlH7yRM71HqRtbI7YNQXfibQrC3juLvWLGCGV3jR5J1UMyEq4HP8JBB9O9HOw+qw7steTJ/d/WjyZP7v61Uv/Emk2J8p9RshdPF5sMD3CoZAQxUj2OxuenB9KhfxdoNqsC3+r6fa3EqI3lPdJwWAI57jkc9OR60c7D6rDuzR8mT+7+tHkyf3f1qtf8AiXQ9Kuxa6hrFja3BTzPLnuFRtvPOCenB/I1eju7aa5nt4p4nng2+dGrgtHuGRuHbI5GaOdh9Vh3ZF5Mn939arXOkQXZkaa2RnkhaBpB8r+WeqhhyB9DWpRTVWUXdB9Vh3ZzVh4N0rTIXis7OSJJHMjD7TIcscZJJb2FFdLRWksVWk7yk2/Vj+rQ7sKKKK5zoCiiigAqlqmj6brdr9m1Swtr2AHcI7iIOAfUZ6H3q7RQBj2/hPw9aW9xbW+i2EVvcxiKaFIFEcigkgMuMHqeSM1LD4c0S3sJrCHR7CO0mULLAlugSQDoGGMHqetadFAGV/wAIxoI0r+yxo9j9g3+Z9n8hdm/+9jH3vfrUiaBo6W9pbrpVkIbN/MtkEC4hb+8ox8p5PI9a0aKAMm68L6BepapdaLp8yWihLdXtkIiUdFUY4HA46cVeaws3a4Z7SBjcoI5yYwfNQAgK394YJ4PqfWrFFAEfkQ/Z/s/lJ5GzZ5e0bduMYx0xjtWNa+C/DFjcJcWegadbTpIJUkht1RlYdMEDI6njpya3aKAMyLw5ocOovqMWj2CXrv5jXC2yCQv/AHt2M55PNOtfD+jWWoTaha6VZQXk2fMnjgVXfPJyQM8nr61o0UAYWs+GodW02z0lGgttIikjaa0S3GJEjZWSNeQEXKjOAeOBit2iigAooooAKKKKAOX8aasbOwWyibEtwDuIPITv+fT86n8J6Kum6eLmVP8ASp1y2eqr2X+p/wDrVz9wv9u+O/Jf5oY5NhBHG1Oo/Eg/nXoNN6I5aa9pUc300QVj62rwT2GohGkjtZWMqqMkKy4LY9q2KKR0SjzKxzWseJLJ7KW2tnWdriFkV0YYQnj5s9BznJp0UtvpGsxLczrHF/Z8caSMflYqTnB9eldB5MRDAxph+GG0c/WnbFChdowvQY6U7kckm7tnGkvLpi3Ks0cK6q8kjNHnYCTglfYkVdjKXN9czpffa2js3RpIogqYPIBYHk98V01IqqowoAHoBRcSo+Zz62fmeDbX7OgWaKGO4jwP4wA368/nVjQ3+3SXWrFSBcMEiB7Rrx+pzWjeQTXFuYoLjyGbguE3HHt/jT7a3jtLWK3iGI41Cr9BQNQtJeRLRRRSNQooooAKKKKACiiigAooooA5jx1/yA4v+vhf/QWqjf63qn9hyRSaM8cLQ+WZmYkAEYz0rd8SaTPrGmpb27xq6yhyZCQMAEdgfWrN7YvdaJLZKyiRodgJ6Zx/Kmmc06cnKTTtocrcXj6P4PsYrG5y10xLTKCMDuB3Hp+BqqmojTL61l0/Uby6RmxPHMrYI9Rn8a3D4Ynl8N29hJNGl1bOzxSISV5JPPAPf9Klt7PxFcXcJvr2GGCI/MLfrJ9eKdzLkndfL5fiZTaczeOjB9tuQSvmeYH+b1259O2KBFqGq+JdTsYtRmt4FJZiGJwAegGeOta19o+of8JGmqWMlvjYEdZc8DocY9qm07R7i08QX9/I8RiuB8gUncOR14ouUqTva3X8Ch588HjeC1NxKYUt+V3HaSEPOKwk1Iao9xc32qXdtJuPkRwqxVfTp/8ArrrH0e4bxWmqb4vIEewrk7s4I6Yx39aoR6LrWkPPDpNxbm1mYsBLndGf84/LpQKUJ/K7M83uoaj4Pe48+ZLmzl5dWKl0wOuOvX9KtajqM+qtolpazyRPcgSTGNipA6Hp9G/KuhsbCaPTGtb+5a6kkBEjN0wRjA9qyPD3hq40q/e4upo5QqGOEISdoJyeo4/+uaLleznou+5lapqQvPEFxa3V9c2tlb/KqwAksw9cfjUmlapctp+sWhuZpo4bd5IJ3yGAAPfr6fStS80bUbXWJdS0iWHdOMSxTdCfUVNb6Xqj6Zfpf3qy3FzGyIgP7uPIPt70CUJ8z+f9bmf4WtL+8jtNSudRleKMuqQkk7hyMk565P6CtTxVNLB4duZIZHjcFMMjEEfMO4qfQdPl0vSIbSdkaRCxJQkjkk9wPWqvi/8A5Fm6+qf+hil1NOXlovvb9DDurDUotAh1n+1rgzrGj7Nx2hTjA+vIz6811mk3bX+k2104AeSMFseveuXj0nXdQ0W0tBeW/wBgkiRskEOFwDtPHOP6VNrdgkV94f0+N3SIboyynDEfLn8+fzpmcG4e8lpp9511FctoNuuneKNTsIGcW6xo6qzZwSAf6mupqWdMJcyuFFFFBYUUUUAFFFFABRRRQBj+KSF8PXBPADRk/wDfa1BqWs2l/p81np8ourm4QxKkYJxngknsBW/RTM5Qbbae5z1u8Gk61Kt7Ksam1iSCWQ4UhQQwye+cHFUQAqR37oRp51Npvu8BCMB8em7n8a65lVxhlDD0IzS0XJdLpc5nV7i0v7LUZLKIyskUe+4j5VgHB2j1wMmp5NRtb/xDpX2WUSqolLMvQZTgZ9fat4AKMAAD0FAAUYAAHtRcfs3e9/6vc5IxRnwNJ8g+efLcdf3+P5Ve1aOR9XEduMStp8ypjjnjFdBRRcPZaW9PwOOhaO40+wtBqIdw8e22itx5kbKec88Y5ya19OjQ3mtsVBLTbScdRsHH6mtkKoYsFAY9TjrS0XCNK2pyllKkMHhqWVgqBZF3N0yVwBXV0EA9aKRUIcugUUUUFhRRRQAUUUUAcd410YNGNVgXDpgTY7joG/Dp/wDqps2vteeDCzN/pLMLeQ+vfP4gfzrr54UuIJIZBlJFKsPUGvJmjktLi5tGP3JNre5Ukf1Nb4dc1RJnFWvTndfaO+8I2S2+kC4I/eXB3E/7I4A/mfxrfqlpChdGsQP+eCH/AMdFXairJym2zqpq0UjE8Wb/AOwJdvTcu76Z/wAcU+zknTwxavp0SSzCJMIxwCeN3ce9ak8EdzA8Mqho3G1ge4rnk8M3tqWjstXlht2OduDkfr/hWkJRcOVu1ncmSkpcyIrPWbkyamJbS2huLeB3LRLyWHqcnNY1vai7015msb+e8kJZbhBlc5/X3rqdP8OQafcTOJWkjmi8tkccn1Oc96qjw1dwo9tbarJHZucmMrkj8c/4VtGrTTfK7bdzJ05tK5mau13JoWli7Dx3AlKkuMNx0P5YqTWNNh0a+06ezeRZHkw7M2S3I5/HJravfD6XVnaWyXDRrbtu3Mu8t9eRU2r6R/aj2ref5XkPu+5u3dPcY6Uo14ppX01uN0nr30ObvX/tDxHdLdW11dQwfIkUH8Pual09Lu20/V7d7e5iszbu8QmXG3g8f59K2L3QpZNQa/sLxrW4cYf5chqda6G0NldxS3ck090jK0rDhcg9Bn3odaHKlfsCpy5r+pmeGdMjNlBqks8m+MOIwSNqLyDx+JNZMsFpLY3U0MF5eSgljeONij9ea7Gw0tbLSP7PeQyrhlLBduQxP19azIvDNylpJZHVGFo2SEWMZz7n09u9ONaPPKTfX8AdN8qSRi6pGs3hbTb2Qs1xu8reSfugt/hWhrcCwNpei27NFayv82DnOW/+ua0JvDnnaFDprXXML71kEf14Iz7+tSXehNfadBDc3bNdwklLgLg9fT8vype2jda7N/8AAYezlrp0Rj6vYReHrqxu9PLoS+10LZ3Dii8shqPjO4tmleON4xv2HBICjj88Vow+HriW9huNSv2uhCcom3Az71dTSNuvvqnn53Jt8vZ04A659vSj2yXW7s9Q9m300uXra3S0tYreMkpGoVc9cCuRsdLh1TX9WjuHfyklJKK2Nx3HBP05/OuzrjLKynu9e1Y2t49tMkpwyjIILHIIrOg3aTvb/hy6q1irE+hSNpup6pYh2e2gVpFBPTB/wP6VTiEt/plzqs2qSR3almjjWXAAHOMVvWGgrY2l2rTGa5uVYPIwx1B/xrmrUaTHoN0t3Eo1CPeihs7s9vyP8q3jKMm5R8jJpxST8zsNFvHv9It7iT/WMpDe5Bxn9Kv1leHLd7bQbZJAQxBYg+5JH6YrVriqJKbttc6YX5Vc5fxnZCSzivFHzxNsY/7J/wDr/wA61fD90bzRLaRjlwuxj7jim+JFD+H7sHsoP5MDVLwWSdGlBPSdgP8Avla3+LD69GZbVvVHRUUUVym4Vm+INKGu+HNT0kyeX9ttZIN/93cpGfwzWlRQB5n4gvfGOo+E30EeFZ1lmtmtdQuVlieMIQFaSHD7nONxCFQeRzxyur6LrkcPiXSLDRJrmLU7q3uLe6E8SxqixwoytuYNuHlHHBByORzXZ+J9d/4R3RXvktHvLhpEht7WNtrTSOwUKD265+gNJB4o0d9BsNZuL63tbS+iWSJp5AgOUL7cnuADx7GgDiZfC2snU76xli1Wa3utY+3rNFPbJbBPMWQMxKmUOmAoA67RggdLtnpGsW/imL7Np15Ba/2nNc3CXDwTWe1t5MsJP71JG3dBgAsw6cnq38VaAmmQ6k2s2IspmKRz+cu12GcgHuRg5HbBqZte0hbea4bU7QQwwJcSSecu1YmztcnP3Tg4PQ4NAHnEHg7X7nw9BYPYm2lh0CfTm82ZNry+bGwX5WJ2uqtz6HnHSr2v6Lq/ipry5TQZrFV00WQt7mSHdOzTxuR8rldqLGcEkZ3nAru7rW9Kso53utRtYUgRJJWklACK5IQn03EED1xULeJ9CTTI9SbWLFbGVmVLgzqEZgCSAc4yArEj2NAFa20y5h8eahqIhC2U2mW0CyAj5pEkmJGOvCunOMc+1YOpeCr7xRquv3Go6jeadb3UQ0+CGAQOJLZVzuO5GK5dnPBU4A7gY6XW9fh0fTIbtInu5bqVILSCIgGeR/ugE8AYyST0AJqvp2taw2rR6frGhCzM0bSQ3Frcm5hyuMq7bFKNzxkYODg0Ac9pWh67cjUrvWdOVb658PwWBYyI/mTKZxIAQTgNujbnj5h3BxmXnh/X7e1jjstMvFv5NOtYGZZLea0ndEwVuY5DkBTnlOSOhzxXf2/iXQ7q4ube31exlmtVZ50SdSY1X7xPPQd/Sl0/xHomq3Mtvp+rWV1NCu+RIZlYqvTJwemeKAOD1bwhrv8Abmq39haJKtjONQ0dTKq+bPI8TzIcn5c+U4yccTH3p83hXV9Fu9MntRqlxHHpC2Uo017cP5wcu7N54xtctyV7qMjHTtrbxToF7BczWus2E0VqN07xzqRGPU88D36Uybxd4dt7WK6l1vT0t5mdY5DcLtcocNg55APU9BQByml+D76wh1BPsQ3Hw3Bp9uzTK5EgM5aMNheBvjGcAHj04YvhPU/+Ed8V27WCm6v9FhtLcF0zJIlsU25zxhz1OB3966G+8b6Va6leabDPby3dvYrejfcpHG6sTgbznHADZxjDD1rUm8Q6Nb6smlTapZx6g5AW3aZQ5J6DHqew70AeZ+KftVh4e8bWDafHfvemNjcLcRfuGMESrHIpbeHBXKAKc7h05r1SB5Gv7tWsTCi7NlxuU+fxzwDkbenP4Vi3N54Mn8R24updEk1tJPKhMoja4VweFBPzA5zgV0lABRRRQAUUUUAFFV7m5+z7fk3bs98VB/af/TH/AMe/+tVqnJq6Ic4p2Zfoqh/af/TH/wAe/wDrUf2n/wBMf/Hv/rU/ZT7B7SPcv0VQ/tP/AKY/+Pf/AFqP7T/6Y/8Aj3/1qPZT7B7SPcv0VQ/tP/pj/wCPf/Wo/tP/AKY/+Pf/AFqPZT7B7SPcv0VQ/tP/AKY/+Pf/AFqP7T/6Y/8Aj3/1qPZT7B7SPcv0VQ/tP/pj/wCPf/Wo/tP/AKY/+Pf/AFqPZT7B7SPcv0VQ/tP/AKY/+Pf/AFqP7T/6Y/8Aj3/1qPZT7B7SPcv0VQ/tP/pj/wCPf/Wo/tP/AKY/+Pf/AFqPZT7B7SPcv0VQ/tP/AKY/+Pf/AFqP7T/6Y/8Aj3/1qPZT7B7SPcv0VQ/tP/pj/wCPf/Wo/tP/AKY/+Pf/AFqPZT7B7SPcv0VQ/tP/AKY/+Pf/AFqtwS+dCsmMZ7ZqZQlHVjU09jhPBZNx4iurgjrEzZ9yw/8Ar139cD4C/wCQldf9cf6iu+pS3MML/DOf8QzRx6jpiXF5LbWziXzGjkKZwFxnHvUmltpj3ZNnqdxcyIhYxvcM4x0zg/WpdViuxqmnXdraG4WASh1Dqp+YADqfrU9vd300vlzaXJAhBzIZkYD8Ac0dCre+7/k+xTj8RNJaQ3p0+ZbNyFaYuvyknGcdSM96sT6tKLmeK0sZLoW/+uZXCgHGcDPU4qmdNu/+EPjsPK/0lVQFNw7OCec46VKiX+mXN8sFk1ylzKZonV1AViACGyenHbNGgJz0uTtrPmNDHZWr3EskQmKlggRT03E989qT+3YhaeZ9nl+0+d9n+zcbvM9M9MY5z6VCIr+x1AXr25u/OgRJhCQCrrnkAkcc1WOm3wI1LyQbn7WZzb7x9zbt256bsc0A5TJ4dQmbxARdRSWqxWTO6M4ZfvD5gRweM1MmuMRDNLYzRWczBY52YHr90leoBqu9reanqE8stq1tby2L26l2UsGJHJAP+cVVt9LkKW1s2kFZEKiWaSYtHgd1AbJJxwMcUE3mtv6/A14tVafU5bOK0kbyX2yy7gFUEZB9/oK0qz9PtpoL3UZJE2rNMGQ5ByNoH8xWhSN4XtqFFFFBQUUUUAFFFFABRRRQAUUVh32p3Q0++ubUoPLmWCHcMgncFYn8SR+FBMpKKuzcorHbV5JNOt541EcxuY4Jo2GdjFgGFWJdZtIZZEbzSkbbZJVjJRD6Fv8AOKLC9pE0KKz7jWbW3nlhImeSIBnEcRbaCM5OO1XYpUmiSWNgyOoZWHcHpQUpJ6IfRWBFdajPBdXI1C3iWKaRFjkhyMKSBk7h6Vbh1qNrS1kkhmM80IlMUUZcqPX6U7EKomalFZ8us2UUVvJudxcKWiEcZYvjGQB1zzRLrNrDK6sJtsbBZJBESiE44J/EUiuePc0KKz7nWbS1mmifzmeEBpNkRbYpGcnHanW+r2lzOIkMi7kLozxlVdR1Kk9RyKA543tcvVDdWkF9btb3MYkibGVJIzg57VVh1m0mdVXzgJM+U7RMFlwM/Ke/9ar2uvwvYR3N0kkReVolAjb5iCcAevA/PinYTnB6NmrDEkEKQxLtjjUKq+gHSobiwtrq5t7iaLdLbkmJtxG0n6Hnp3quuqQp9rlmmIjiKfuzEQyblBC+5Of6UyXVQ9ncS26yLNbASSQyxlWKdTwfUA4PqKAco2sRWmn3MXirUL50At5o1VG3DJIC54/A1s01HWSNZEOVYAg+oNOpDjFR2CiiigoKKKKACiiigAooooAKKKKACsCLUjZDWrmYySxwXIAXdnAIUYH51v1ztzpl5JZ6zGsOWuLhXiG4fMBt568dD1poyqX3j5/kX4dWkN9Fb3NlJbCdWaJ3dTnAyQQOhxWZqutzzaJcz29pcR27DEd0HAPXGcZyAfWtPUbKW61HT3VcxR+aJGBHyhkIH61lTW+qHw82jpYFpUTy/O8xQjKDwRznJHagibnZo17jU5FvHtbS0e6ljUNLhwoTPQZPc+lR/wBuQ+TazmJ1gmkMTu3Hkv0ww+vGapXmmmPV7q6ewlvIrgKV8qXaUYDGCMjg8c0raZdS6ZDp32aOCKdy900bZCLnO0ZJJY8c9KNB807s1rC/XUEllijYQq5RJCf9ZjqR7Zq3Wdo8N1a2ps7lBtgOyKUEYkTscDoR0NaNI1g21qFFFFBQUUUUAFFFFABRRRQAV5l4iQR+Jr5QMZKt+ag/1r02vNfE3/I03v8AwD/0Ba6ML/FRy4r4V6nfaT/yBrH/AK94/wD0EVcqnpP/ACBrH/r3j/8AQRVysZ/EzpjsgoooqRhRRRQAUVn3OotEL5o0DLaRbmJ7vjOPyx+dQnUL+3jhnuoLcwSMqkxSNuXdwDgjnrVqnJkuaNaiqrajZpcfZ2uYxLkLtJ7+n1p5vbZbkW5nQTE42Z56Z/lU8r7Duieiq0Go2dzL5UNxG74zgHqPb1qP+1tP3bftkOcE/fHanyS7BzLuXaKrx39pLbPcJcRmFOGfdgL9fSoJtXtEsJruOVJViHIVuc9h7ZoUJPSwcyL9FVF1Kzbyh9ojDSbdq55Oen8jTV1GCOzjnuZ4U3kgFGyDz27mjkl2DmRdqNIIo3d0iRXflmVQC31qA3yedbbGR4LjKpIpz82MgfiAfyq3SaaC6YVXksLOWbzpLWF5f77Rgn86sUUJtbDauFFFFIDM8Rf8gC8/3B/MVn+C/wDkDTf9fDf+grWh4i/5AF5/uD+YrP8ABf8AyBpv+vhv/QVrpj/u79TF/wAVeh0dFFFcxsFFFFAHK+IND1LXvE2l+XdXFhp+nxvcrdQeUzPct8irtkVh8qGQ5K/xDByKxNM8J6tp91pOmywNdabpWuSXcF1K8WWge3lIJUYwVmkxgKOxAwOPRaKAPNrvw9qdte3F2unaiG/tW6uILnTLiETxJIkYB2SHYysVbIbkEA45JqObwdrOox+H472yt1hnh+zazHH5cYWJJhNF8qnBJIZWC5GZD2r02igDymHwf4jj0Oyu7tbg6la6lFJLHaSxGWSCGAwIyF8puz+9w3949DitHT/C1/JdaZeT2V0VOvNqE6300LyKgtXjWRhGAgYts4XcehJznHotFAHO+L9Mvr620y802JZ7zS79LxLdnCecArIyBjwCVdsE8ZArnW03WdW8W2OpWek6ppFqfPW9e7vwSxeF1QrCsrIFVsdMHJGBgE16JRQB5PpvhPWzp9jY3Fnqnm6Zp08CtPcWwtzI0JiCxbF3srE5+crjAzk1q6r4Q1O803SbKziS1aPw5eadJIGUCKWRIAinByRlH5GQMe4r0OigDye78K61q2l6gp0/VROujyWMSX9xagMzlD5aCIAFBs+8xHbA5NdD4n07WH1uJNOs7kWJsDBG+ni3jYSFvuSPJ8yxY2n5O+fYV29FAHkp8MeIW8Nix/sibz5fC0GmkGaLCTws2VJ39GDAgjI9cVq6housPaa3oKaRLKdT1P7VHqYkj8qONnRtzZbeHQLgAKc7VweuPRaKAOCuPDOotoesQx2S/arnxDDfx4dAWiW4hYvnPGERuDzxjFd7RRQAUUUUAFFFFAFDU/8All+P9Kz60NT/AOWX4/0rPrrpfAjlqfEyp/aunfaja/b7X7QG2GLzl37vTGc5q3XI6n9okl1iKJr1d8ylIVsHdJsRoMb9vAJG3IIx1yKk1q5vFvZZIVuo5IGj2JElxJ5o+UkgKQmBkjkNnH0q7k2OqorA1IrJr1qrSaolu0D+aLdJgjNuTYCVHynluQQeOTjiqviGW7jM62v2tJbeD9x5a3EhmbBIwEIXg4GW3e4xjJcLHU1EbiIXS2xf98yGQLjqoIBP5kfnWTfSI9/uu2v0tGgQwfZxMvzktuzs5zjZw3vjvVPU4rxvsKWpvHEdjJ50hVlmZMxZAcDAlODx7Hp1BcLHT1Bc3tpZKrXd1DArHCmWQKD9M0WbxyWcLRCYRlRtE6uHx/tB/mz9eaoTyrZa5Jc3EUrRSWyRxvHE0m1gzlh8oJGcp9ce1MRoi5ha4FuHBlKeYF9VzjIPf/69S1yAh8m905LuLUYbZLe4OLdJAIw8qmKNmj5BCgjAOOOe1WLiS6NjZwzfaowfNYTkTl9obCKyxEEsVIPzEHg8E5wrjsdPRXGztfXWm2ErHVkuk0t3kEaTJ++Ux4yoGC3+s4Oc+h4q3M88dv8AYz9sSJbmTbcP9oYqowVHyEM+dxxlscY6gCi4WOnorM0GaebSIzciYSo8iHzo2RiA5CnDcn5ccnOfU1Hrou0S0nslmaZJtm1C2351KguoPKhihOegBNF9BW1NeiuVWS+bTGluo7qGS6uiHy05FvtXaSFQ7tpZWIwQCGBz0y+Ce5k8NrHPJfxy/anj837NNu2B2ZSRkSbSoAznPIyetFx2OnorL0IyGzl3ifHnHY0ru24YHK7/AJgM54Oec4JGK1KYgrXsv+PSP8f5msitey/49I/x/maxrfCa0fiOJ8Bf8hK6/wCuP9RXfVwPgL/kJXX/AFx/qK76ueW4sL/CQUUUjMqqWYgAdyaR0i0VF9pg/wCe0f8A30KPtMH/AD2j/wC+hQK6JaKi+0wf89o/++hR9pg/57R/99CgLoloqL7TB/z2j/76FPR0kGUZWHqDmgdx1FFFABRRRQAUUUUAFFFFABRRRQAVzwtZpdGu7GNN00V5kjIGV80Pnn/ZNdDTRGgkaQKA7AAtjkgdP5mgmUeYxNV0u5fULe4s1DRyTxNcpkD7jAhxnvjIP4Ux7e9jsb3TEs2f7Q8myfcuwK5Jy3OcjJ7dq6Cincl0ldsy7exlhudROz5JY40jbI+bCY/nRp+liO1sXnMyTwwojIsx2ggdwDg1qUUrjUEYun6JbBZ5L2xgaZ7iRwzorEqWJH6Ut/DdtqPENzJa+UAi28wjAbJzuOQcYx0/KtmincPZq1kYGmWF1CdKEsBT7KkySEsDgkjBHPIPNV9QsdQuor6JoLmWVnYxMJwsOzPA2g8nHqOveunoouS6StYx2s7iQ6w/klTdQqsYJGSdhGDzxyaZc6ZcXAsIwu1UtJYZGyPkLIoH16HpW3RRcfs1/Xrc52y0+cyWUctrcr9nIZ3luS0YIGBsAbn8QMCn2tjdqljE9uV+zXkjsxZcFTvIYc/7Q9636KLiVJIwbrTrt7q8uI4gxF1DPEpYDzAigEe3fr6VPc3Nw1hfzz2nkR+TsiVsGR2II5wSMZIAFa9NeNJAodQwUhhkdCOhouP2e9mRWULW9hbwNy0cSofqABU9FFI0StoFFFFABRRRQAUUUUAFFeeeJ/idcaZ4t/4Rjw/4duNd1OKIS3KRzeWsSkA9cHnBHoPmHUnFcb8OfFIHiv4jeILqG5ghgiFy9rOcPEV3lkI7HIIoA91oryDwHe61p/gGfxlBokmu65r98008UcwiZYgWVcEg/Ku3gf7VXNA+Kd34m8ZnwdqHg97V3SRbwteCYQrsJO8BMYPC9erfhQB6nRXl/wAJNQmsL3xH4IuZGkGhXZFmznJNuzHaPwwD/wACx2r1CgAooooAKKKKACiiigAooooAKKKKACiiigAooooAK818Tf8AI03v/AP/AEBa9KrzXxN/yNN7/wAA/wDQFrowv8VHNivhXqd9pP8AyBrH/r3j/wDQRVyqek/8gax/694//QRVysZ/EzojsgoooqRhRRRQBhPG5stdgCs0rO7BVGSQyDGP5fhVu10i1RIJHWV3QBgJZWYK2PQnFXvJQXBnAxIV2E+ozkf1/Ons6oMswUepOK0dR2siFBbs5i8NzLb3Uey4V/PLGCK3+QgMDuLY5yBng/hWikci3Gr3CW5d5FXy96keZiMcc+/Faf2iH/ntH/30KPtEP/PaP/voVTqO1rf1p/kJQXcwLYytfabITdOke5WBtvLSIlcAAYz178gU+GzcaVpcZt23Jdh3UocjluT+lbn2iH/ntH/30KPtEP8Az2j/AO+hQ6j6L+tf8wUF3MG/tbh7i9kRJQguoZCVTJZQgBIB4bB/lQ8El1BqU0ZuZi9qY1aSIR7zycBcAnHr71vfaIf+e0f/AH0KerKwypBHqDR7VpbByJ9TLsk8zVnufJcKbWNVZ0K85bI5/CqNgkli1lcXEE3liCSPiNmMbF88gDPI710dFL2g+QxZhvt9PVLY27PeBxEeoALMSfTI5x71tVGYUadZiMuqlVPoD1/kKkqJSuNKwUUUVJQUUUUAZniL/kAXn+4P5is/wX/yBpv+vhv/AEFa0PEX/IAvP9wfzFZ/gv8A5A03/Xw3/oK10x/3d+pi/wCKvQ6OiiiuY2CiiigDOurqaO5dEfCjGBgelQ/bbj/np/46KL3/AI+5Pw/kKr12RjHlWhyyk7vUsfbbj/np/wCOij7bcf8APT/x0VXop8kexPNLuWPttx/z0/8AHRR9tuP+en/joqvRRyR7BzS7lj7bcf8APT/x0Ufbbj/np/46Kr0Uckewc0u5Y+23H/PT/wAdFH224/56f+Oiq9FHJHsHNLuWPttx/wA9P/HRR9tuP+en/joqvTFljd3RJFZozh1ByVOM8+nBFPkj2Dml3Lf224/56f8Ajoo+23H/AD0/8dFVJZY4YmlldY41GWZjgAepNPo5I9g5pdzTsZ5JvM8xs4xjj61cqhpn/LX8P61frkqK0nY6abvEKKKKgsKKKKAKGp/8svx/pWfWhqf/ACy/H+lZ9ddL4EctT4mNSRJN2x1baSp2nOCO31p1ci+orDf6+8GrxxTQzgxWqqh81/Jj4OQWbLDbhSDnjrV3UNSlilvydRFrLbgfZ7Uqh875ARkEbmyxK/KR0wOau5NjoaKwNRvymu2ln/bMdkstu7SRExlwwZNu3cOCdx65BA4A61DqV7cQXepqmseX9isEuPL2xfe+fJbIzg7V4469RRcLHS01pETbvdV3HaMnGT6UkUizRJIjBldQwKnIIPpWRrt9bWctk01/DAROn7qVo8OCwBb5hkY55BFMRtUViXt00+tWltBrH2eKW0knKxeWSwDJtYFgeMM31wOmDm9pF4dQ0ayvC6O08CSMU+7kgE4/GlcLF2isDVjGfElgqvZC4+yXBxcjJ25jzjnPTd+Gaz7TUEh8N6NDaXkVvutfMMiTRRxYUAMMsrc5PQD1yRRcdjr6K5U67ef2Zo2oQN9pe8t9n2eMrtluCFOM4yMASk/7tOGrSyaVbSrqDqbuSWWGeR4ok8kMdoJZD1UqR8pJ57A0cyCx00kiRRtJI6oigszMcAAdSTQ7rGjO7BUUZZmOAB6muYuNYjufBFzdzajBG4WePfujZZGTcApDDacgcjAznoK0dY1Czfw9dXEepQRxGNgsoeNlYgH5fmBU5x0ouFjYByMjpRVGPVLEaQ2oNdwG1hiLyzIwKqFGW6elTi5W4sBdWjLKskXmQsOjgjK/nxTWugiSOWOXd5civtYq205wR1B96JJY4YzJLIqIMAsxwOTgV5udU/sb4U6be2mrGzvp8S7vKWRrmdiS6NuBxlicntj8KuaTqX/CQeF/E0Wt34kni85bmzKIBYgbsKGUfPjGd2f4fY16UsulFOd/dUuXZ33te1rfj5biud/WvZf8ekf4/wAzXK+HJri58MaVPd5NxJaRNIT1LFAST711Vl/x6R/j/M15WKhyNxfRm1H4jifAX/ISuv8Arj/UV31cD4C/5CV1/wBcf6iu+rkluLC/wkIzBVLMcADJNeUazrNxrF40kjsIQf3cWeFH+PvXqdz/AMes3+4f5V41TiZY2TSSCiiiqOAKKKKACrNjf3Om3Kz2spRx1HZh6EdxVaigE2ndHsOn3a3+nwXSjAlQNjPQ9x+dWayfDH/It2X+4f8A0I1rVme3B3imwooooKM7VNf0fQ/K/tXVbKx804j+0zrHu+mTzTotc0mf7V5Gp2cptE33AjnVjEuM5YA8DAPWvHIdN0rxN+0J4htfFUcVwlraKLG2uWwmNqHgd+GY4/2ie1c1o8Nrp9l8XbfQpN9lFAI4CjbgIt0gIB7gLkZ9BQB694Q8ejW9Fu/EGsT6fpejzXjwaY08nlNJGuRudmbBYkHgAY2nrXVz6zpdtcW1vPqVnFPdY+zxyTqrTZ6bATlvwrznSbHQbr9na0h1thFpg07zJJAPmjfJIZf9rf0Hc8d64X4Gvb6p4zEviC4nl1Wy09E0iO5XAEHOSmepCnj2Zjz2APXfB/i+71bXde8PazFbw6tpM/8AywUqk0Dco4BJIOCM89x612NeRgtH+0832fgS6R/pOO4xxn8kr1ygAooooAKKKKACiiigAooooAKKKKACiiigAooooAKKKKACiiigAooooAKKKKACiiigDxfUG1b4ffGLV/ELaBqOraVrNuqpJYQmR43AX5SPqp4OMggjoRWb4d0HxDrFx8TZb/Q7zTZdXtC1tHNEQGYhyqhsYY8qDjua96ooA8P0bxRrlh+z7pLeF9Nur7VGd7I/ZoGla2wzkuVUHsBjPGWH0M/wkuW0BoNKk8F+JYdQ1By99q17ZsqF8E8sei54Huc9TXpfh/wpZeGr3VptOlnWDUrj7S9qxHlxSEYYoMZG7jIyegxitq4jaa2liSV4WdCokTG5CR1GeMj3oA8p+G8Laj8V/Huux/8AHqtwLJH7OynDY+mwf99CvWqxfC3hjT/COhRaTp3mNEjM7yynLyuxyWY9z/gK2qACvM9S0nTdZ+Pq2+qafaX0C+Fw6x3UKyqG+1EZAYEZwSM+5r0yvP8A/m4X/uVP/bugDoP+EE8H/wDQqaH/AOC6H/4mj/hBPB//AEKmh/8Aguh/+JroKKAOf/4QTwf/ANCpof8A4Lof/iaP+EE8H/8AQqaH/wCC6H/4mugooA5//hBPB/8A0Kmh/wDguh/+Jo/4QTwf/wBCpof/AILof/ia6CigDn/+EE8H/wDQqaH/AOC6H/4mj/hBPB//AEKmh/8Aguh/+JrW1DUrHSbN7zUbuC0tk+9LPIEUfia55fGc2oDdoPhzVdSiP3bl0W1hYeoaUqxHuFIoAt/8IJ4P/wChU0P/AMF0P/xNH/CCeD/+hU0P/wAF0P8A8TUH9reMA7FvCliYxnGzWMucdODEBz9aYfHENgQPEGkanoinrcXMayW4PvLEzKv1bbQBlzxfCi11NtNnsvCkd8sgiMDWsAcOei429ea3v+EE8H/9Cpof/guh/wDia4S6tNd1/wCIUOt3HhZdT0C0cHS2tb628pyTzcvl8uccqMcfXrN4e8VXeq/F/ZcXOpQ29xYXCQ6dLBNHHF5cibGIKhSzKHbf0G4LnOMgHW+ELCz0zUPFNnYWkFpax6qmyGCMRoubO2Jwo4GSSfxrnfE3/I03v/AP/QFrqvD3/Ic8Wf8AYVj/APSK1rlfE3/I03v/AAD/ANAWujC/xUc2K+Fep32k/wDIGsf+veP/ANBFXKp6T/yBrH/r3j/9BFXKxn8TOiOyCiiipGFFFFAEN3cLaWc1wwysSFiPXA6V5hfX9xqNy09zIWYngdlHoB2r0XXP+QHe/wDXI15jXo4GKs5dTjxLd0gooorvOUKKKKACr2mapcaXdLLC52Z+ePPDD/PeqNFKUVJWY02ndHrkbrLGsiHKsAwPsadVew/5B1r/ANcU/kKsV4LVnY9RbBRRRSGFFFFABRRRQBmeIv8AkAXn+4P5is/wX/yBpv8Ar4b/ANBWtDxF/wAgC8/3B/MVn+C/+QNN/wBfDf8AoK10x/3d+pi/4q9Do6KKK5jYKKKKAMi9/wCPuT8P5Cuf1y8kt5LWKK/itmk3sVaRUZwuPullZeNw4wM568HPQXv/AB9yfh/IVWZVdcMoYehGa7Y/Cjkl8TMGHU2WDSrie/KwTK6SSSiNAzAEg5HGeDjBwRzzVL+15JIdOk/tsxW0s9xFJcBIyCEZgpJK7VPAGcY5xjJGOrZVYYYAj0IqtcWXn3lvc/aJozBnCpt2tnGQcgnt2Ip2YrnPy6ncLLZh9XeGzeaSP7X5UeJUCghsldq/Nld2NpxwPmBqyNRnMMSSah5Vq87ouoFUBkUAFeo2jJLDdjB2cfeFa9xZefeW9z9omjMGcKm3a2cZByCe3YirJAYEEAg9QaLBc5y71WWHQp7hdUiTy7lY4Ltwm2cZXqOhHLA7cZ2kjFSagrSaCkyazJLH9qhkN1H5WAolXdyFxtGCefTk4roKKLBcxbu/SLR2NvrMLy+asf2mWRMBiQSpKrtU7cgZXuOtS6FdSXVvc+ZcPOY5ym5thA+VTgMgAYcnnAPYjitQKoXaFAXGMAcUKoVQqgADoBRYVxa4DT01STwLqN9pdy8Osm+uJ7gIiszskjAx4YEA7FUDjsO1d/WTdeH7aeC7jtp7qwa7m86eS0k2s7bdp6ggZAGcAZxXZhq0aaal3T2utOjXZ3/ARj6Hdv4mt9Y1C6upJPD90DDawTRoo8sLiR84zgncBk9j7VoeCZp7jwVpEtyWaU2y/M3VlHCk/UYNW7XQbK28OLoR82WyWEwEO+GZDxglcduOK0IokhiSKJAkaKFVVGAAOgFViK9OSlCC0ureiVvvfX0A09M/5a/h/Wr9UNM/5a/h/Wr9ePV+NnXT+FBRRRWZYUUUUAUNT/5Zfj/Ss+pR4j8M3txHbrrmlzTs+yONL1CzMTgAANknPatL7Fb/APPP/wAeNbwqqMbMxnTbdzHKgkEgEjocdKCoJBIBI6H0rYNnbKCSgAHUljUU8dhaxiS4eOFGZUDSSbQWJwBknqSQAKr20SfYyM2itKSOwhmhhleNJZiViRpMNIQMkKM84AJ4qX7Fb/8APP8A8eNHtoh7GRkUVenfSrXz/tFxbw+RGJZvMmC+WhzhmyeAcHk+hp9sunXiM9rJFOqkKxil3AEgNg4PoQfoRR7aIexkZ1Fa/wBit/8Ann/48ajnisLaGSado4oo1Lu8km0Ko6kknge9Htoh7GRmUhVWxuAODkZHQ1sCytiMiPI/3jR9it/+ef8A48aPbRD2MjIpGVWGGAIznkVsfYrf/nn/AOPGsmfXPCttcSW9xrWlxTRsVeOS9RWUjqCC2QaPbRD2MhKK1/sVv/zz/wDHjR9it/8Ann/48aPbRD2MjIIBBBGQaOla4s7ZgCEBB6EMazI9W8NzamdMi1XT3vwSptVu1MoI6jbuzmj20Q9jIpWWn2unRSRWkQijklaVlBJG5jliM9MnnA4ov7C21OxlsryPzbeUAOm4jcM5xx24roPsVv8A88//AB40fYrf/nn/AOPGr+te9z3d+4exkY4AAAAwB0ArYsv+PSP8f5mj7Fb/APPP/wAeNTIixoEQYUdBWNSopKyLhBxd2cH4C/5CV1/1x/qK76uB8Bf8hK6/64/1Fd9WUtzPC/wkRXP/AB6zf7h/lXjVey3P/HrN/uH+VeNU4mON3iFFFFUcIUUUUAFFFFAHqnhj/kW7L/cP/oRrWrJ8Mf8AIt2X+4f/AEI1rVmz2qfwL0Ciiigs5bxP8OvC/jC7iu9Z00TXMS7RKkjRsV/ukqRkfXpXI+BPAsuk+K/HFtc6SbbQtQCQWq5G2SL5wQOc9D39a9XooA8y8J+ADJ4QuPBvi7T3udO069ZrGZblkW5iJLKTsYHILNkNxyMdK6258EeHLrVtN1WTTVW90xFjtJYpXjMaL91cKwBA5GDngkd66CigDgfBXhrUV8YeIvF+uWv2a91CQW9pAWVmitkwBkqSMttU49veu+oooAKKKKACiiigAooooAKKKKACiiigAooooAKKKKACiiigAooooAKKKKACivLfit4S1+XTbvxB4Z8Sa3Z3NvGZJrGG9lEUqr1KKG+VsdhwcdAeT4v4FufHvjjxNBpVr4r11Ifv3M/9oTYhiB5P3uT2A7kjtk0AfVsurWMMzxPON6HDBVLYPpwKb/bWn/8APc/9+2/wrFsbdbOKS2SSWRYpGQPNIXdscZZjyT6k9atVlzyMudmh/bWn/wDPc/8Aftv8KP7a0/8A57n/AL9t/hWfRRzSDnZof21p/wDz3P8A37b/AAo/trT/APnuf+/bf4Vn0Uc0g52Ymv8AxU0fQfENvoa6ZrOp31xB58cenWokLDLZGCwYkbCTgdKh/wCFp/8AUheOf/BP/wDZ1ymof8nM+Ff+wZJ/6Bc17XWi2NE7o8//AOFp/wDUheOf/BP/APZ1y/8AwmF5/wALT/4Sj/hB/GX2H+xP7P8AL/sk+Z5nn+ZnG7G3HfOc9q9oopjPP/8Ahaf/AFIXjn/wT/8A2dc5F8SvFun3xVPB/inVrB3J/wBL0c208QJ6bo9yuB/uqfUmvY6KAPPx8VDgZ8BeOAe4GkZ/9no/4Wn/ANSF45/8E/8A9nXoFFAHn/8AwtP/AKkLxz/4J/8A7Os/V/itrC2ZGi/D3xW90xxuvdMdUQeuFJLfTK/UV6hRQB41p3iOCO/j1XW/Bvj3WdWTmOe40UCK3zj/AFMQfbH0HPLerGul/wCFp/8AUheOf/BP/wDZ16BXMeJPHuieE5jHq326NVRXaaOzkeIAnAy4G0HPbNAGN/wtP/qQvHP/AIJ//s62PCfjiz8XXep2cOl6rp9zp3lfaINStxE48wMV+UMT0XPOOoro7a5ju7WG4iJ2TRiRNwwcEZHB6da4Twl/yV74i/8AcM/9J2oA6jT/AAxpmk6tNqGnRyWnnqRNbQuVgdiQfMMfQPxjIxnJznjGkbO2N6t6beE3SxmJZyg3hCQSobrgkA49hU1FAHP+Hv8AkOeLP+wrH/6RWtcr4m/5Gm9/4B/6AtdV4e/5Dniz/sKx/wDpFa1yvib/AJGm9/4B/wCgLXRhf4qObFfCvU77Sf8AkDWP/XvH/wCgirlU9J/5A1j/ANe8f/oIq5WM/iZ0R2QUUUVIwooooAz9c/5Ad7/1yNeY16drn/IDvf8Arka8xr08D8D9TixXxIKKKK7TmCiiigAooooA9WsP+Qda/wDXFP5CrFcn4n8Y2vgjwjZ6rd2s9zGxigEcGN2WUkdT7VT1j4n6To/gTTfFb21zNbagUWKCPb5gJVmIPOONrZ+leBLdnqrY7iis3R9bttX8P2Gsr/o8F5AkyLMwBUMMgHtnmtHeoAO4YPQ560hi0VGZ4VjMjSoEBwWLDGc4xn61na/rL6JotxqEGn3OpSQlR9ltBukbLAcD2zn6CgDVoqJLhDAsshEWUDsrnBX61IrBlDKQQRkEd6AM3xF/yALz/cH8xWf4L/5A03/Xw3/oK1oeIv8AkAXn+4P5is/wX/yBpv8Ar4b/ANBWumP+7v1MX/FXodHRRRXMbBRRRQBQuLKSadnVkAOOpPpUf9nTf3k/M/4Vp15lJ4luZvEeu2l14vudMFrf/Z7e3h05JR5flRsCWMbc7mbqe1aKrJKxm6cW7ndf2dN/eT8z/hR/Z0395PzP+FZmqeLl0K4MV5p189rC8UM1+RGiF32gFVLBnALDJUEDkckEBw8XCTUZIbbR9QuLOO7Nk17EEKCYHBG3du2hvlLYwD7Amn7aQeyiaP8AZ0395PzP+FH9nTf3k/M/4VQ8Ia1f+JPDJvby2NlctNPCpG08LIyhgAWHGMHPdT2IrCj8UatdeE9JtUmWPxFc6iNLuHCA7Hic+fJtxjHlxsw7fMtHtpB7KJ1n9nTf3k/M/wCFH9nTf3k/M/4Vk2Xjqzvby1QWN3HZXsrQ2l8xj8uZ1DHoGLqCFbaWUZx7jOdH47fUbTTdQs9O1GCK8t5praGVIf8ASgsQfJ+fKgHp0z9MGj20g9lE6f8As6b+8n5n/Cj+zpv7yfmf8K5DQPGc1tolre67cXss7aRDeyRGCH52llKps2HqxKqqnttyc5rfHim5EE4m8OarHexSRoLYCNt4cEhhIG2BRtOSSMY9xk9tIPZRND+zpv7yfmf8KP7Om/vJ+Z/wrm7jx3cTrpLabpcrGfVzp15G7xkxFUZiAQ+CTgEEEjAOcHAqex8ZGW1toLOyv9XvpftEjIixRMkcczR5bLBeo2qAcnGTjmj20g9lE3f7Om/vJ+Z/wo/s6b+8n5n/AArDbx/bzmNdM0jUdQZrEX5EQjTZHuZSG3sMMChG3nnp3xvafrEeprZTWttcNaXlmt3HclQEw20qp5zuIbPTGAeaPbSD2USeztnt9+8qd2MYq1RRWcm27stKysgooopDCiiigDzX4bWOqDwvotzJbaJ9gEZff5L/AGjAJwc9M5qtpvinWF1XSLpbjULy01SC6mRbpYES4VIjIhijTLoOAPmOcHkZr062tbeytktrWCKCCMYSKJAqqPYDgVnW3hbw/Zzie20TT4ZhL5wkjtkDB+fmBA4PzH8z60Aeda5JfXfw2ubu48Vy3EmqaBPdyWnlx4JCKxMWFyqDcUIOchhyG5rvtY0I6z4LuNGa5kklltgsdxJjcJAAUc4AGQwU8AdKs23hvQ7NrtrbR7CE3ilbnZboPOU9Q3HIOTkH1q/bW0FlaxW1rDHBbxKEjijUKqKOgAHQUAeUT+KLvV7S78W28I87QtJWBUYAiK9mK+eSDx+7UL1P8Rqxe614o0y11K3F5dxuIbWSGTUHtZZone4WMkLCcFGUnqOoOD6elw6dY28U8UNnbxR3DtJMiRKolZvvMwA5J7k9aqWfhvQ9PtZbaz0ewggldXkjjt1CuynKkjHOCBj0xxQB574whvCusaTNqlzKkFtpTmdo4hJIz3cituITBHCkDGBtHqc3otS1KfxJLoC6lLaQzavNE11DHGspWO0gcIDtxuYsSTjOFIGO3fTabY3Mkkk9lbSvKEWRniVi4RiyAkjkKxJHoTkVDeaFpGoW80F5pdnPDNKJpUkgVg8gAAc8ctgAZ64AoA4q61a/l+x6baa/fahLFFcyyz2EdvCWRJdivJJL8oC4KkIvzEE8AYrm5NU1K906XxHLfyfbX8FtcsnlxmJn5/hK9M/Njpn24r1Wfw1oV1HaRz6NYSJZjFsr26EQj0UY4HA4HoKP+Ea0Ly44zounlI0kjRTbIQqSZ3qBjgNk5HQ5oA4rU9a1caf4j1yLV5reXRrkQ2+nKkZjlASMgOCu4mQvgYIxlcd8moalrkaa/q6a3cImmazFbQWaxR+U0ZMO5Xyu458xsYIxXbz+HtGutTi1K40qylvoseXcPApdcdMHGeO3pVhtNsXimieytmjnkEsyGJSJHGMMwxyflXk+g9KAEtEdbi8LXxuQ0uVjIUfZxtHycDP+1zz83piuB8L6fqtxe63JBbaJJZ/25dhzdQs02PN5wRx9K9Dhtbe3kmkgt4onnfzJmRApkbAG5iOpwAMnsBSwWtvaiQW8EUIkkaVxGgXc7HJY46knqaAPN7nxJqi6/a3dre38ljNrg0796tvHbMu8xtGicyswIPznGSD24q3p93qOq2MOqXHiaazkvry6tPsAjjKKFMqiNBt3CRQgbcSRwcjGMdZJ4W8Py3c11JomnvcTsHlla2Qs7Aggk465AOfUCpotB0iDVZNUi0uzj1CTO+6WBRI2euWxnmgDj9FW/tvgNbtp80819/YO+3PG9XMOVC4A6dB34GSao+JJPC8PwlggsPsymezDaR5Kje9yADHsI/5abyPc8+9ei2On2emWq2thaQWtupJEUEYRQScnAHHJNZMvgjwtPcTXEnh7TTPNkvKLZQxJ6kEDIPuOaAOb1DxLqdloni2SW/WO6sL+3ggOF+QPFbnAGOcs79c9faqV/wCIvEkmp6veWrXccWn6ktpHEZbVLUqCgxJvPmFn3ZBGPvLjPOe8ufDeh3t/9vutHsJ7vaE8+W3R3wOgyRmnzaBo9xqseqTaXZyahHjZcvApkXHT5sZ47elAHENqevQafq3iJ9YnkttN1iWN7MRRiMWccxWTJ27iwQk5z/APcnqfCd/d6vZXmqTzF7a6vJDZJgALbqdikY67tpfJ/virOr6Kb3RLzTdPlg0/7ZvE0i24fIfO84yBuOT8xzzyQav2VnBp1hb2VrGI7e3iWKJB/CqjAH5CgDiPAX/ISuv+uP8AUV31cD4C/wCQldf9cf6iu+py3ObC/wAJEVz/AMes3+4f5V41Xstz/wAes3+4f5V41TiY43eIUUUVRwhRRRQAUUUUAeqeGP8AkW7L/cP/AKEa1qyfDH/It2X+4f8A0I1rVmz2qfwL0CiiigsKKKpavqtpoelXGpXzlLaBdzkDJ64AHuSQPxpN21Ym0ldl2ivNv+F2+G/+fHVv+/Uf/wAcrtPDviGx8T6Qmpaf5ghZihWVdrKw6g9R6dCetRGrCTtFmcK1ObtF3NWiiitDUKKKKACiiigAooooAKKKKACiiigAooooAKKKKACiiigAorkfFXxI8OeE5RaXVy91qTEKmn2a+bOxOMAgcLnI6kZ7ZrZ1nTf+Ei8Oz2Ud7e6f9qjXE9uTFNHyD35B7EH1IoAtQ6pp9xqM+nw3tvJe26hpoEkBeMHoWA5Fch4q8PeM/EmttZWviGHR/DmxSz2aH7XKf4lLdhweQRweQa1fCfgLw94MiYaRZAXLrtlu5jvmkHBOWPQEgHAwMjpS654203QtQ+wzQXdxOEDuLdFITPTJZhzUTqRprmm7IUpKKuzUNg1v4dOnRSzXDx2nkJJMwLyEJtBY8Ak9zXP/AA48CWvgPwylkuyTUJ8SXtwo+++Pug/3VyQPxPUmoP8AhZ+lf9AzVf8Av3H/APF0f8LP0r/oGar/AN+4/wD4usfrlD+dEe2h3Ojm0OKWeSVLq6h8xtzLGy4z3PINM/sBf+gjff8AfSf/ABNc/wD8LP0r/oGar/37j/8Ai6P+Fn6V/wBAzVf+/cf/AMXUfWcN/Mieel3Og/sBf+gjff8AfSf/ABNH9gL/ANBG+/76T/4muf8A+Fn6V/0DNV/79x//ABdNf4o6YGiRNI1eSSWWOGNFSEFndwijJkAGSw6mnGvh5NJSVwUqbdkzov7AX/oI33/fSf8AxNH9gL/0Eb7/AL6T/wCJqt/wkOqf9CZrn/f6y/8Akij/AISHVP8AoTNc/wC/1l/8kV0eziaciPN9UsxZftN+FIxNLLnTJG3SkE/cueOAPSvaK8j1XS/E198ZdD8YReE9SGn2Fk1vLG1xaeaWImGVHn4x+8XqR0P495/wkOqf9CZrn/f6y/8AkiqSsUlY31ZWztYHBwcHoaWvGdV8G6xHrF1rfhKw8W6FqNzKZp0+0WU0EznJJZGue5PckDsK0NF8QfF+zUR6x4KtdRUcCWO/gt5D7n52XP0ApgerUVzNv4k11kU3PgfV43x8wju7NwPoTMM/lTLzxL4hSFjZeBNUmlH3VmvbOJT9SJmx+RoA6muR8WfEfQPCMi2lxLJeapIQsWnWa+ZMxPTI/hznv17Zritbu/jDr8/2WPQ20DTX4kewuLae5xjszSoPxG0j1rZ8JeHrPwcrS2HgTXpr+TPm39zPYvPIT1+b7RwD6DGe+aAIFv8A4s+KFMljYaX4XsnI2G9JmuQPXGCPwZRU/wDwh/xL27/+FlJ5nXb/AGRFtz/n2rqv+Eh1T/oTNc/7/WX/AMkUf8JDqn/Qma5/3+sv/kigDj3vfi14ZAkurLSfFFmmS5tSYLkj1xgLn2VWrmp/EN98SvGdlFaNpcC6Z86+Htbklgla4AJLsqoRJtwcDPAGSBk59NXxosfiPStDv9B1XT7rVPO+zPObdkbyk3vkxysRxjt3+tbcmj6bLq0OqyWFu2oQoUjujGPMVTwQG64/xPrQB5P4gksf+Fh6LLH5X/CQrqtquoRKz/aNpjA/cE/8u4BJbgZwc4NaGmalqWm/F7x9LZaLJqcB/s77QIJ0WWMC3OCqNgP3yNwPAxnNeqbV3bsDdjGcc1wHhL/kr3xF/wC4Z/6TtQB1Oi+JtK15pYrOdlu4MefZ3EbRTw5/vRsAwHvjB7GteqdxpOn3eoWt/cWcEl5aEmCdkG+PIIIB64IPSrlAHP8Ah7/kOeLP+wrH/wCkVrXK+Jv+Rpvf+Af+gLXVeHv+Q54s/wCwrH/6RWtcr4m/5Gm9/wCAf+gLXRhf4qObFfCvU77Sf+QNY/8AXvH/AOgirlU9J/5A1j/17x/+girlYz+JnRHZBRRRUjCiiigDP1z/AJAd7/1yNeY16drn/IDvf+uRrzGvTwPwP1OLFfEgooortOYKKKKACiiigCz8Y/8AknWi/wDYRtP/AEFq871FHmi1bwkyMIPC0Wr3IUjgxuAIT+Hmsa+hxptjqmj2cOoWVtdxKkcipcRLIoYDhgCDyPWnPoWkST3c76VYtNep5d1I1uhadMY2ucfMMAcHNeBLdnqrY8HuP7O1ePwVo9xZ21zPB4diuP8Aia35t7GNSMFtqjcz8diOAPQ4xLQSah8K/Ddm13IEHi4W8MkTnMSFeNhPIwWJFfRl14V8PXq2i3Wh6dMtmoW2V7ZCIVHQKMcD2HFPXw1oKxrGuiaaEW4+1BRapgTf89MY+/8A7XWkM8f8V+H/AA5o/j3wn4Y1c/ZfB0VpPLGlxcssTXBZy29yfdTye+Ohrj5105PBHxRTSJ2m05L2xW2cuXzGJiFwx5IA4B9AK918b+GdZ8QNZPpt3pTQwEmWw1awS4gmPZs43KR7Hn+dXwh8PItHsdXGvfYdUuNXnWa5hFqot1C/cRUbIwvb8PSgDjT4c0zxR8azYavA1xaL4bilMPmMquQ6AbtpGQN2ceoB7Uz4bXHi+DwFNa+FYtOufsusXMG3UpHxHEAhULtI7lvzr2OPS9Pivzfx2Nql6YhAbhYVEnlgghN2M7cgcdOKWx02w0uJ4tPsra0jkcyOlvEsYZz1YgAZJwOaAMu/a+fwYzaokCX5t0NwsBJjD8bguecZqLwX/wAgab/r4b/0Fa0PEX/IAvP9wfzFZ/gv/kDTf9fDf+grXTH/AHd+pi/4q9Do6KKK5jYKKKKACsrRtF/si51ib7R5v9o3xvMbNvl5jjTb1Of9XnPHXpxV+7YpZzspIYRsQR24rB8JahcSfDfR9RuWkurk6XFNIzyANK3lgnLMcZJ7k/WgDF1v4dz6rf6pOl/Yp9umSdZ57DzbmEoExGsm8YjymcAA/MwzzmtWy8M6pYXzpb60kelSXzX7wJbESl3Yu8fmb8eWXJONucHGa5jUvH91qHh7xBbRNZR3cWjy3sNzpd8ZxGR8pXftUbgSOVJH077Wo+Obzw99pHiDS4Ldxafa7YW93vV/3iR+W7Mq7WDSx5PIwSe1AG/4b0abQdMksJLpLiMXM0sLLEUKpI5fa3zHcQWbkYyMcetG28HxW3je58RC7Zo5UJSz2YWOZlRXlBz1KxoMY9fWuauvHU+p2ctnHNaR3cN5pz+fpl4Zonjku0Rk3bVIOMggjkMPUgdH4vvLsS6LpFpdSWZ1W98iW5iwHjjWN5GCE9GbZtB7ZJ60AZmifDqPRr20Eb6Z9isnZoDHpiLdOCCFWSYk5C56qFJwMnrm/beC/s+neHrT+0N39j2T2m7yceduiEe7G75emcc1lR6nYeFPEE6Nqmu/ZEtLiSW21GOeZJDEocyRTSeihsgEg5HTFMtPib5sNy8tvp0jjTZ7+FLO/wDOK+WoYxS/INrEHqMjhvTkAvS/D5ZbCG2OpsrwaXa2MUiwcrJbyCRJcbv7wHy+3Wnan4Q1fWrdG1PWLO5nS6jnW2eyJsyqoy7GiMhLZL7sluqrxxUM/j270mOabXNKht4zph1G3EF15jEB0Ty3yqhWzKnIJHJ54zVZfiWyWWqM9rYXdzZ2yXKDTr7zo5FZwhQsVXawJHbByPegC1Z+A7uxgRYtUtQ8errqke2x2Ip8vy3j2B/u4J24PHGd1S2ngzUNGeG50fVrdLxY5oZWurQyRyI87zLhQ6kMpdhnJByeB2i17xtqXh6Fft1no8Nwtq11JDJqZDSYZv3cShCzHaoyxULlgBnkjPvPFOqNceIppV/4lUNlYz26Q3JjmQyse4TjIznk/dAHU4AOg0bwZHoshaK9aQHTVsW3x8s3mSSNITnu0h4xx61oaHpF1othpeni/SW0sdPjtCnkbWkdAqiTduOBhT8vPXrxWNN4yvY/tOoppkDaFbX/ANhknNwROWEgiaQJtxtDkjG7JAJ9AY7bxpqcs9vPLpFvHpc2rSaWJRdEy7lleNZNmzG0lMEbs8n05AO1ooooAKKKKACiiigAooooAKKKKACiisrU5pI7lQkjqNgOAxHc1cIczsNK5q0Vz32mf/ntJ/30aPtM/wDz2k/76Na/V33K5DoaK577TP8A89pP++jR9pn/AOe0n/fRo+rvuHIdDRXPfaZ/+e0n/fRo+0z/APPaT/vo0fV33DkOhornvtM//PaT/vo0faZ/+e0n/fRo+rvuHIdDRXPfaZ/+e0n/AH0aPtM//PaT/vo0fV33DkOhornvtM//AD2k/wC+jR9pn/57Sf8AfRo+rvuHIdDRXPfaZ/8AntJ/30auaZNJJcsHkdhsJwWJ7ilKg4q9wcLGrRRRWBBwPgL/AJCV1/1x/qK76uB8Bf8AISuv+uP9RXfU5bnNhf4SIrn/AI9Zv9w/yrxqvZbn/j1m/wBw/wAq8apxMcbvEKKKKo4QooooAKKKKAPVPDH/ACLdl/uH/wBCNa1ZPhj/AJFuy/3D/wChGtas2e1T+BegUUUUFhXHfFP/AJJvq3/bH/0cldjXHfFP/km+rf8AbH/0clZ1f4cvRmVf+FL0Z8219A/Br/kRm/6+5P5LXz9X0D8Gv+RGb/r7k/ktefg/4h5WA/i/I9Cooor1D2gooooAKKKKACiiigAooooAKKKKACiiigAoqKK5t55Jo4Z4pHhbZKqOCUbGcMB0OCDg+tcDrGkfEHxJr9zbf2vb+HvD0Ev7uWyO+5uVGCCSfu9x2+jDmgDrPE3iCDwxoU2q3FrdXSRsqiG1j3yMzMFUAfUisvwZrPinXPtd5r+hRaPZPsNlA0hafHO4yDt2xwCOeO9dJbXtrdxq9tdQzoxKho5AwJU4YcdwevpXBt4s8daprxs9G8Gi0sILryp73VJtgkRWwxRRg8gHDDcOlAHYw6DpFtrFzrMWnWyalcACW62DzGAAGN3UDAHT0rjvGVgvjSG4Xwf4ra28QacoYrY3xCOCThJQpx1BwT078Gus8S+HLDxXokukal5v2WVkZvKfa3ysDjPocYPsTVHT/B+jeE9GvV8M6NBBdNbuEK8ySNglVLsSSM46nFAHzd4e+KHxNvtUtdL0vVpr65mbZHDJBFIW+rFc4HUnPbJr0jW49Ti12ZNZnt59R8mEzvboUj3FeignOB0z3xnA6V2Xw0+Glj4B0ve+y51m4UfaboDgDr5aZ6KPzJ5PYDp9R8N6Pq1yLi+sY5Zgu3fkqcehwRmuXGYd16XJF2MqsHONkeMUV65/wg/hz/oGJ/38f/Gj/hB/Dn/QMT/v4/8AjXk/2RV/mRzfVpdzyOivXP8AhB/Dn/QMT/v4/wDjR/wg/hz/AKBif9/H/wAaP7Iq/wAyD6tLueR0if8AIS0j/sK2P/pTHXrv/CD+HP8AoGJ/38f/ABrH8SeFdE03T7O7tLFYp49V07a4djjN5CD1PoTWlHK6kKkZuS0aZUcPJSTudxRRTRIhkMYdd4AYrnkA5wcfgfyr3DsHUUUUAFFFFABRWVrniPS/D0MbahcYlmO2C2iUyTTt/djjXLMenQcd8Vkrc+Mta+a2trLw/anOGvV+1XLDsdiMET8Wb6UAdXRXLjwtq74afxtrhcHP7mK0jXP08k8e2aRtH8W2OX0/xRFfY/5Y6rZJ83sJIdhX6lWoA2NdmnttDu57a+trGWKPf9puk3xRgcksMjIxnvXD+EPG+qnQ7rXvFtxbx6TNOkOlvDZyJLc5JG4RAsx3cbR1wCelaOp6rY6tZN4d8d6NJp0N4yoH88ta3DBgVCzptKnIHyuFJ6c1W1nwifC2iE+BtBNzqUs0agz3Rm+zKA371Fnk27gCQACPvc8A0AVNY1ax1z4mfDTUNNuFntZf7U2OARyIACCCAQQQQQRkV6ZXhOtaNrljrHw70/Qon0jWg+pyI2pyRzl3KK7tIY9y/ONw46bu2K63SPiLrGnazaaF458Py6de3cghtr2zUy21w5OABjJU9O598UAek15/4S/5K98Rf+4Z/wCk7V6BXh97rvhPRPi942/4SfVb6w877D9n+yXF3Fvxb/NnyCM4yv3vU470Ae4UV4//AMJ38KP+hr1z/wAGOq//ABVH/Cd/Cj/oa9c/8GOq/wDxVAHoHh7/AJDniz/sKx/+kVrXK+Jv+Rpvf+Af+gLUOk/FP4XaJFPHZa/P/pEvnTPPHeTu77VTJeRWb7qKOvauY134m+D7zXrq5t9X3wvs2t9mmGcKAeCnqK3wzSqJs58TFuKsup7XpP8AyBrH/r3j/wDQRVyvNtP+NHw/g021hk1/bJHCisPsc5wQAD/BVn/hdvw8/wChh/8AJK4/+N1lL4mbx2R6BRXn/wDwu34ef9DD/wCSVx/8brB8ZfFXwTrXhm6t9L8WS2mqRjzrKeK2uEKyryATs6NypzxhjUjPXqK+d/B37RFzB5dp4ts/tCcD7daqFce7p0P1XH0Ne7aHr+leJNMTUdHvY7u1c43png+hB5U8jggHmgB2uf8AIDvf+uRrzGvTtc/5Ad7/ANcjXmNengfgfqcWK+JBRRRXacwUUUUAFFFFAHq1h/yDrX/rin8hViq9h/yDrX/rin8hVivAluz1Vsef6z8WNN0e/wBRhGi6zeWemSCK9vreAGGFicYyWGcHg1WufFN7N8VorK11CT+xpvDZv0jRRyxZsOM85xjjNcd4m8E+Mtcm8T297ot1ql1cXDPpt5JqgS2hgyCqrFuA3YGORjJznjJ6Ww8Ia9H4y0zUZNPKW0PhNdOkYzRnbcDOUwGyfqOPekMseHfH8ln4B0fUWsPEfiIXQuGe7is03oEkI/eAPhfQcnhatWnxh0G88KNr62OppE14LK3tjCpmuZiAQIwGIPX17fSuIm8K/EO1+FugeErPRHMO6ZtVWK+hjkZDMzCIOWIAZTkkZ7A9wdTX/COv+IfCGkRQeD00h9BvUeHSl1NG+0w4G7bKmNjZ7k56nOaAO98LeObPxNfXumtY32mapZBWmsr6MJIEPRhgnI5H5j1FdTXmvw78MXFl4hv9bufC50QPALeH7RqUl3cSKSpO7LlQuVGOM/19KoAzPEX/ACALz/cH8xWf4L/5A03/AF8N/wCgrWh4i/5AF5/uD+YrP8F/8gab/r4b/wBBWumP+7v1MX/FXodHRRRXMbBRRRQAyWMSwvG2QrqVOPeuStfh/Hb6MNGfxFrdxpX2VrP7JK1vsMRQpjKxBuAcg56gZzXYUUAcfP8AD+C9E32/WtTumnsJNOkLeSg8lscALGACCM5A5zzkYAnbwPaXS3X9p6lqGoSTQC2ilnZFe3jDBxsKKPm3KjbjkkqvpXU0UAc5/wAIitxDIupaxqV/K81vL5krRrt8mQSIqqqBQCw+Y4yfXgY0Nc0O11+yS3uHmieGVZ4LiBtskMi9HUkEZ5I5BBBIIrTooA5UeBre6vo73WdV1DVriOGWBftBjRPLkUq67I0Ucg8nrwOccU+LwYhsrizvNb1W8t5LKSxjSV0AhicYJG1BufAHzPuPHuc9PRQBgaj4Q0zVCn2pp2VNPfTwocD5GaNt2QM7wYlIIPHpUL+D1u7K8t9T1rU783SJEZJWjXy0VtwCqiBck9WIJNdLRQBzereD4NV1C9uhqV9arf2y2t7FbmPE0a7sDLKWXh2HykdagPgOyeGeGTUb9o7iygtJlzGN/ktlH+5w3UccEHpnBrq6KAOYk8FW0l3If7RvV06W8F9LpoKeS824PnO3ftLgMV3YJ+pFWk8KWKWMFoJbny4NSbUlO5cmVpWlIPH3dzkY64xz3rdooAKKKKACiiigAooooAKKKKACiiigArH1X/j6X/cH8zWxWPqv/H0v+4P5mtqHxlQ3KNZes3Oo2sRmsvs6xJE7yNNGX+YFdoGGXHBb16VqVV1Gy/tGze2NxNAr/eaLbkj0+YEfpXYzUz5r3UrOSyE8fnPLcvCY7eMDzF2Myt8zfL93u39Knk1y2itoZSknmSu6LCSqsGQkPklgvBGM5x0xnIqxLYmaWyke6n3WrF+ifvCVK/N8voT0x1qr/YUXkKn2mZpElklSV1Qkb2LMuNuCuT6Z6c8UtQLljfQ6hbmWHI2sUdSQSrDqDgkfkSOaj1Se5t7aNrV4lkaaOMmWMuMMwXoGHPPrUtnbfZIPLMrSnJJZlVf0UAU2/svt8CRfaJoNsiyB4tucqcgfMCMZx2p9AIIru7X7VbzRCa5hVXU24C+YrZAIDNgEFW4Lds98Ui6n5WlWF00c1wLgRKXVVUgvgBmBYYySOmetSJpxjjl23tz58pBe4OwuQOgxt2gewHcnqSabb6SkOkHTZLme4h8ryg0m0Mq4wMFVH59aWoD4tQMzXix2dwxtn8vqn7w4B+X5vQjrj+dQx6mIPD9pfyrPcb44slI1DsX2jO3OByegJ9s1YisfIsBaw3MyNksZhtLsxO5mOV25JJzxjnjFVk0XZpUen/2hdmOIx7JCI96hCCo+5j+EdRRqA5tZhitria5hmt2gZUaOTbuJbAXBDEck46/XFSWGqQag8saKySxBSyMyscHODlSR2PfPFNn0eG5e7aWaZhceWdvy4jKHKlePXB5yPw4qSysTZmQm4aUvjgxooGP91R+ufwo1AuVe0r/j6b/cP8xVGqt94p0bwjAt/rl59ktZG8lX8p5MuQSBhAT0U/lU1fgYpbHYUV5//wALt+Hn/Qw/+SVx/wDG6P8Ahdvw8/6GH/ySuP8A43XAYjvAX/ISuv8Arj/UV31eI+Efin4M0u+uJLzWfKR49qn7LM2Tn2Q1geLfjD/Y3jBdU8Ga6NS0y7QNdafcwSiOOQcErvVSu4YPynqCT1pvcwwyappM+iLn/j1m/wBw/wAq8arb8KfGvw34rh+xXJbStTkXYsE7ZSRj0CSdD9DgntmsSnE58bvEKKKhu7qGxs5rq4bbDChdz6ACqOEmorhT8QbpdPfUn8PXAsCcQz+bwxzjnjjvzzzxXY6fd/b9MtbzZs+0QpLsznbuAOM/jRcuVOUdWWaKKKCD1Twx/wAi3Zf7h/8AQjWtXmelfFzwNpGnR6dfa55V3bFo5Y/sk7bWDHIyEIP4Grn/AAu34ef9DD/5JXH/AMbrNntU/gXoegUV5/8A8Lt+Hn/Qw/8Aklcf/G6P+F2/Dz/oYf8AySuP/jdBZ6ACCAQcg9CK474p/wDJN9W/7Y/+jkrwi7+KN14O8Y3h8G6wuo+G5n86OzuInEcW7lkUMFZMHONvGCOvNdtqnxb0jx38PNVsUtbmz1QJE7wMpkQgSpkiQDGP97b+NZ1f4cvRmVf+FL0Z5dX0D8Gv+RGb/r7k/ktfP1em/D74qeFfCfhx9L1a6njuluXcqkDOMELjkfSvPwf8Q8vAfxfke7UV5p/wvnwH/wA/91/4CP8A4VU174t/DzXtAvNNfX5oTcRkJKlpMGicco4IXqrAEe4r1D2T1aivmXwd8ftX0ZksvEcZ1eyT5Rcx/LcKB35wH/HB9TX0D4a8V6L4u037dot6lxECA64w8bejKeQf59s0AbNFfMvw0vbnTfitHeyTyNa32o3mnSBmJCnAdPzbH5U7Ub251P47afq4nk+yzeITYxqGO0i38lSQPQ7qAPpiivFfDc0h+MfxEQyOVWzbaCxwOF6Vwngfw34Q1jwPc6pr/iubTdUjkkCIL9EICqCp8s/M3JPTr2oA+paasiOSEdW2nBwc4r5nm8SeKL74BWk091fPbLqptrq6jJMptQoIBb03Erk+gBrR0nRPBVzqWl3nw48X/wBl6zHKvmQahK6eev8AcIIG4k8YGQQTQB9E0VzHjXx3pHgPTYrzVRcOZ2KQxQR7mkYdeThR17ke2azvht4/n8fWWoXM2kSaetvKoiyxZZEYcEMQMkEHOBjkUAaGu/ELwz4d1K30291FGv55UiFtAPMkUsQMsB90DOeecdAaT4hWk114Pu3i1fUNMith9ouJdPQNNJEoJZF5GMjuCOncZB8g8X/BrxHqHxA1S50Kyt00q7lE2+e5CRsWAMilVO/G/J/lXvGk215D4fsrXUHj+2pbJHM8DMV3hQCVLc4z680AecfCnNldS2uj+CNS0vRZk3y6nqU2J7iQfdLIccYLfdyOe1bnxI0Dw7qltZ3finX7vTdLhYxtAl15UVyx5AYYOSArdOevpUWj/Cq10/VrPVb/AMS+INWvLRxJH9rvN0e4d9uM/rXa6hpen6tbC21KxtryAMHEVxEsi7h0OCCM0AedaTp/w+8ceEL/AMKeFZSttYlZklRJQ1vMxbbIrSYJOVOeenHevE9O+I3j/wALa5No1trM2pSQXLW/kTD7SsrK23CE/NgkcYIr6umtTZ6VcRaRbW8U4iYQRhQib8HbnA4Gcdq5D4f/AAs0jwPELp8X+tOD5t9KvK56iMH7o9+p7nsACxpPibxJDolpJ4l0m0t9TuAX8mCUgIgxjdnOGOegJx654q4PFdwf+XCP/v8An/4mo/FpC39mWOAY3AJ+orEWWP8Avr+defWr1I1HFPQ5alSSk0joR4puT/y4Rf8Af8//ABNOHia6P/LhF/3/AD/8TWCssf8Az0T/AL6FSLNF/wA9E/76FQq9TuSqs+5uDxHdn/lwh/7/AJ/+Jpw8QXh/5cYf+/5/+JrGWeH/AJ6p/wB9CpVuIf8AntH/AN9CtFWn3K9pLuVPG3jrVvDfg++1e0sLMz2/l7RNIzr80iqcgBSeGPcUf8Xf/wCpG/8AJuua+K80T/DLV1WRCT5PAYf89kr2WuqlJuN2b022tTz/AP4u/wD9SN/5N1T1PTfizqtqlvO3gpUS4guAUN0DuilWVRyDxuQA+2enWvTKK1LPP/8Ai7//AFI3/k3WLrHhT4k63cpeXEHgmHUI12R31rLew3CD0DqQSOehyPavWqKAPMtMsPjNp9t5M+qeEtQPaS7E24D0/dooP4jNXf8Ai7//AFI3/k3XoFFAHn//ABd//qRv/JuoLyD4x3Nq8MV34NtHYYE0IuC6/TerL+YNej1SudY0yzYrdalZwEHBEs6rz6cmgDzLRfCvxN0OeS7iXwXdajMMTahdvdy3Eo9Cx6L0+VQFHYVtf8Xf/wCpG/8AJuu7huYLlS0E0cqg4JjYMB+VcD8Vtam0jT7FdP1y7stVuXaGztbcxAXDnb80hdTtROpPHX8gB/8Axd//AKkb/wAm6z9R8SfEfw5qOhf25H4Uex1LVbfT2+wrcGRfMJyRvIA4B555xxW3pniiHQLHw7o2sapJrGr6gwi+128WY2Zi5JLjC4BUr/e4zjrVT4p/8yV/2Ndj/wCz0Ad+yq4wyhh1wRmloooA8/8AFv8AyV74df8AcT/9J1rvyqtjIBwcjI6GvMPiRreneHPiP4B1bVrj7PYwf2j5kuxn27oUUcKCTyQOBWh/wu34ef8AQw/+SVx/8boA9Ary/RdC0fW/i98QP7W0qxv/ACf7O8v7XbpLszbnONwOM4HT0FaH/C7fh5/0MP8A5JXH/wAbrP8AhvreneI/iP4+1bSbj7RYz/2d5cuxk3bYXU8MARyCORQB2H/CCeD/APoVND/8F0P/AMTR/wAIJ4P/AOhU0P8A8F0P/wATXQUUAc//AMIJ4P8A+hU0P/wXQ/8AxNefeIfCvh2DxHeRRaDpcca7MIlnGAPkHbFew15r4m/5Gm9/4B/6Atb4ZXqq5zYptRVu50GmeB/CUmlWbv4W0RnaBCzHT4iSdo5+7Vr/AIQTwf8A9Cpof/guh/8Aia1NJ/5A1j/17x/+girlZT+JnRHZHP8A/CCeD/8AoVND/wDBdD/8TWD4x8C6W/hq6tvDvg/Q21S5HkQymyhRYN3BkJ28bRkjGTnHFd9RUjPH/B3wA0PR/LuvEMv9rXgwfJAK26H6dX/HAP8Adr1yC3htbeO3t4Y4YY1CpHGoVVHoAOAKkooAz9c/5Ad7/wBcjXmNena5/wAgO9/65GvMa9PA/A/U4sV8SCiiuHuPFHiG48Ualomk2FnK1sFZJJSwCjAJLc8nJwMYrqnNQ3MIxctjuKK5jwn4on1lb+21O3jtb+wfbOFPyY555PHQ966G2u7a9jMlrcRTxg43ROGGfTIpxmpK6FKLi7MmoopsjrFG8jfdUFj9BVCPWLD/AJB1r/1xT+QqxXl1p8dfAsVnBG99dBkjVT/or9QPpU3/AAvnwH/z/wB1/wCAj/4V4Et2eqtj0uivNP8AhfPgP/n/ALr/AMBH/wAKP+F8+A/+f+6/8BH/AMKQz0uivNP+F8+A/wDn/uv/AAEf/Cj/AIXz4D/5/wC6/wDAR/8ACgD0uivOU+Ofw/dAW1eVD/dazlz+imnf8Lx+H3/Qak/8A5v/AIigDsfEX/IAvP8AcH8xWX4SJXw9dkEgiVyCP9xa8M8efE+G18Rm/wDBWvNdafqEeb7T5oJBEso/iAcDG4YJ2d1JPWu2+GvxX0HVbF9HvGaw1Sdz5UcnMcrFQAFf1yOhx1AGa6ITj7Jw63M+V+0Uuh6H9pn/AOe0n/fRo+0z/wDPaT/vo1SvTdC2/wBCEfnl0AMi7lClhuOMjOBk9axTqOrLo17fSvAVigkkRoYSDuRmypBZs5C9sda6Wkuh1HT/AGmf/ntJ/wB9Gj7TP/z2k/76NZ1tf/aHmia1nhmiRXMUmzJVs4IIYjkqRye1MsLwyabJdTeb8sk25WQblCuw24UkHGMcHnGe9FkGhqfaZ/8AntJ/30aPtM//AD2k/wC+jWVpurR6mSYoJUQKGEhZGVvYFGYZ9q0D04osh6Ev2mf/AJ7Sf99Gj7TP/wA9pP8Avo1l6bNcu97HdyxyPBOEDImwYMaN0ye7HvVfTNRuL2/vCwBtfJiltkAwxVjIMk/7WwEdMAj3osuwtDc+0z/89pP++jR9pn/57Sf99GsjS9RuNSt3aSyntTudQ7GMjhioxhic8emKi0fV3vLWxW5t5o5Z4A4lZVCyMAN2ADkdcjIHFFo9g0Nz7TP/AM9pP++jR9pn/wCe0n/fRqKs+PVRNJF5dldNBK+xLgKpQ9efvbgOOpGOnqKLIehq/aZ/+e0n/fRo+0z/APPaT/vo1iQ+IbOe4SNQwjkfZHMWTax7cBtwz2JAB49Rl8OtJNMENndRxmdrfznCbN4JGOGzgkdcYotEWhsfaZ/+e0n/AH0aPtM//PaT/vo1kWepXFzqF3bPp86RwzeWJi0e3GxWyfnzzu7DuPen/wBqp5e8284AuRbN935WLBQT83Qkjpk89KLRDQ1PtM//AD2k/wC+jR9pn/57Sf8AfRrJk1bZqMliljdyyoqyEoq7djEjdksB1UjHX0BFE+rpAt6WtrgtalBsGzdLuxjYN3OScc4yQQOaLRDQ1vtM/wDz2k/76NH2mf8A57Sf99GoQcgHGPY1mT67bW32sSpIr25YBCU3S7UDnYN3OFIPOKLIehs/aZ/+e0n/AH0aPtM//PaT/vo1ky6sI2cCyupBEoacxhT5WRnB+bkgHOFz29RRcaukF3Dbx2lzcPPEZYjCFKuARnksMY3A5OAc8Enii0RaGt9pn/57Sf8AfRorJuxdvIjQ3clupQEx+WhwfxBoosuwHb0UUV5xiFFFFABWPqv/AB9L/uD+ZrYrH1X/AI+l/wBwfzNbUPjKhuUaq3d8LaWKFYJZ5pQzLHFtztGMnLEAAZHfvVqqN5Bci9hvLVY5GRHjeORyu5WKnIODyNvTvnrxXYzUWPVLc2f2q4Js0DmMi6IQhgSMZzjtxg806TVNPiWJpL62RZhujLTKN49Rzz1FV5YL95bW8MVs88QkUw+YQoDY5DY+8AMdB949Kz7nQ72eKVdtqDPBdKy+Y2I3lAxt+XkcHJ45JOO1K7EbQ1GxNqboXtubcHaZfNXYD6ZzinG+tBafazdQC2/57GQbOuPvdOtY9zo95LcPcL5akXInSOOdlyPJWMjO3ggg44ORxxnh8WmXUUMUyQxmeO6NwY5LhnD5Qp97bwec9COPfNF2MuW2s2k6TyNPBHFHOIUlMylZCVVhg++7GPUVbS5gknlgjmjeWLHmRqwLJnpkds1hfZTaWery6o9nZR3VwJ43ikJ8twiAE5AywaMNx1P66GiCSTT1vZ9n2i8xPJsbKrkDCg9wAAPc5PehMDSrGtPElhPZXN9cSx2llFcvbx3FxKqrLtOCwJ7bgwH0rZrh7bSNWk8CXXh63tbUXUM8ttvv1bynjLFhIuAdxwwx7g+mK7MPTpzT531XyTvd/l95Em1sdNPrVr9nvmsZYb65tIy720Myl84yAfQnHerVhewalp9vfWzboLiNZEPsRmuX0DSNR8IWOq+ZFFeWyhp4GiLSXUzY+6/yjcewrY8LabNpHhfTrG4x50UI8wDsx5I/AnFVXpUoRfI76qz7q2v3afeEW29TYpyaTpust9n1TT7S+gUb1juoVlUN0yAwIzgkZ9zTavaV/wAfTf7h/mK8+r8DKlsV/wDhBPB//QqaH/4Lof8A4mj/AIQTwf8A9Cpof/guh/8Aia6CiuAxPKfBXhLw3d6hcrc+H9KmURZAkso2AOR6isnxT8HZvF/jL/RLHTfDvh+zQRq9tbIst03VmCoBx/CCx425AOa67wF/yErr/rj/AFFd9Te5z4Vt01c5Dw38OvDPguxkOlWCm68pg15P88zcc/N/Dn0UAe1cJXstz/x6zf7h/lXjVOJhjd4hWZ4h0+TVPD99ZQkCWWIhMnAJ6gfpWnRVHEnZ3R5TfavfJ4Bk0SbRbyGW3RUmmkTEaqHGDk9SeB+Oa9E8O/8AIs6V/wBecP8A6AKfrOlx61pM+nyyPHHMACydRgg/0qextVsNPtrNGLJBEsSs3UhQBk/lRY1nUUo2StqWKKKKDE9U8Mf8i3Zf7h/9CNa1ZPhj/kW7L/cP/oRrWrNntU/gXoFFFFBZ4/N8Hp/GPi678SeMrxljmf8AcabbNzHEOEV37cdQvckhq3/HWhaV4e+FGqWWkWEFnbr5PyRJjcfNTlj1Y+5ya9Brjvin/wAk31b/ALY/+jkrOr/Dl6Myr/wpejPm2voH4Nf8iM3/AF9yfyWvn6voH4Nf8iM3/X3J/Ja8/B/xDysB/F+R6EQCCCMg9QaxvEkWojQLtNBtYX1SRPLt2k2qsbNxvYnsvXGDnGMVs0V6h7R454U/Z+0XTmW78S3L6vdk7jEpKQq3Xnnc/Pc4B7ivXbSztrC1jtbO3it7eIbUihQIij0AHAqaigD5wtvC/iK28H65qEGi6gNT0/xLHqNnC1q4eYA4yq4yy/Nk49KuWnhHWrM/C2R9Kv3nS+mu9RcW7nyWkljbMnHyfKO+PumvoOigDx/w9o2qQfFnx9ey6beR2t1aMtvO8DBJjheEbGGP0qj8Jvhfo954PM/irww66kLpwBexyRPswuPlOOOvavbqKAOH8bx+IfD/AIXtP+EH062eK0kAn06OBTvh7hF9c9hycmvKPFsMHxBS1sPDnw3v9L1lp1Mt7Lai3SIc53MBg/VsHjjmvo+igDG1TwxpXiDRYtM12zi1CNEALSr827GCysOVJ9QQag8I+ErTwbpk2nWN5fXFs0xkiS7m8zyVIA2J6KME/jzmugooA4q1+KPh5/El1oGpNcaRfwzNHGNQj8pJwCQHRjxg44zjOeM12tUdR0bTNX8j+0bC3ujbyLLCZowxjcHIKk9DxVHxZP4kttG87wtaWV3fpIpaC7cqHj5yFPA3HjGSB1+lAGyJYzM0IdTKqhimeQDkA49OD+VPr5o8UfF3UbP4h6Vq66VdabeWMBtNS064bh1LbiAe4wQQSByAeR19b8UfEAWvgzTNe8PG3uI9QlVI3mBIUbWY5AI+YFcEZ4OamclCLk9kTOahFylsjvKK8L/4W54o/wCeel/+A7//AByj/hbnij/nnpf/AIDv/wDHK5fr9HucX9pYfv8Age4yQxTLtljR19GUEVF9gs/+fSD/AL9ivE/+FueKP+eel/8AgO//AMco/wCFueKP+eel/wDgO/8A8cpfXaH9IX9pYfv+B7Z9gs/+fSD/AL9ij7BZ/wDPpB/37FeJ/wDC3PFH/PPS/wDwHf8A+OUf8Lc8Uf8APPS//Ad//jlH12h/SD+0cN3/AAPbPsFn/wA+kH/fsUfYLP8A59IP+/YrxP8A4W54o/556X/4Dv8A/HKP+FueKP8Annpf/gO//wAco+u0P6Qf2jhu/wCB13xptLaL4Sa48dvEjDyMMqAEfv469Grx3xtr9z4k/Z51bUbyOJLgvGjiIEKdtzGMgEnHGO9exV1xaaTXU7oSUoqS2ZzXiDx74e8LaxZ6ZrV4bSW7QvHI8ZMYAOOWHT8ePXFb1ne2uo2qXVlcw3NvIMpLC4dWHsRwaZqGm2OrWb2mo2cF3bP96KeMOp/A15/d/BjR4bl7vwzqureHLluv2G5byyfdScn6BgPaqKPSqK8y/wCEd+LOmttsfGelanGMADULPyjjnuik+nelNl8ZphsOqeFIBnBkRJWYD1AKEfnQB6YTgZPSvPfEPxWsbXUTonhezl8Ra42QILTmKI5xl3HAAJ5x07kVRb4W65r5A8ZeOdR1G3I+ays4xbRN7Njhh/wEGu68P+GNF8LWP2PRdPhs4Ty2wZZz6sxyWP1NAHBR/D7xd4s/0jxt4rubaFx/yC9Hbyo0z2Zud34g+zVp23wT+H9ugU6EZm27S8t1KSffG7GfoK9AooA82ufgf4RDLNpH9o6LdIPlnsbx9w/77LfpisLVNF8X+HJ4H13SLD4g6NF8ivNZo17bqcZwCDu9f4s45K9a9mooA5XVvCouovDUWkWtpp9rpeppevbKgjVU2SBlVUBXdufPp15rE+LsTz2vhCGOeSB5PE9kqzRgFoyRIAwyCMjryCPavRa8/wDin/zJX/Y12P8A7PQBpNfeK/Dg3ajbp4g09fvXNjF5d3GPVoc7ZO33CD6Ia6uGVZ4I5kDBJFDLvQqcEZ5BwQfY80+igDy/4k2VrqHxG8A2t7bQ3Nu/9o74pow6NiFCMg8HkA/hV/8A4Q3wt/0Lej/+AMX/AMTWL8XLvUrHxt4GudJsBf3sf28pbFwnmDy493J6HbuP4d+lS+HviLpWtX39l3kM+k6wDg2N6uxif9kng/Tgn0rqoONrM0haxq/8Ib4W/wChb0f/AMAYv/iaofDaytdP+I3j61sraG2t0/s7ZFDGERcwuTgDgckn8a6quc8Bf8lQ+IP/AHDv/RLU66SiE9j0miiiuQzCvNfE3/I03v8AwD/0Ba9KrzXxN/yNN7/wD/0Ba6ML/FRzYr4V6nfaT/yBrH/r3j/9BFXKp6T/AMgax/694/8A0EVcrGfxM6I7IKKKKkYUUUUAZ+uf8gO9/wCuRrzGvTtc/wCQHe/9cjXmNengfgfqcWK+JBXmUV1q1n8R/EE2lWKXzBEEkDSbCRhcEE+h7e9em1nW2iWNpq91qkMbC6ugBKxYkEDHbt0roqQcrWezMYSUb3PPrnRNWsfCXiTVtSRYb3UZI2eFDny4/MBbOPYn8BW74TWRPFWsKn2HyfIgLfYQRFuwcY98V2bokiMkiqyMMMrDII9DUNnYWenxGKytYbaMnJWGMICfXAqVR5ZJp7f8H/Mp1bppliiiitzI9WsP+Qda/wDXFP5CrFV7D/kHWv8A1xT+QqxXgS3Z6q2CiiikMKKKKAI/Ih/55R/98ikNtAwIMMZB4IKipaKAPFPiF8NdU8X+IJtRuHttL0HT4/Lt4YlBlnORufA4XJOASScKOOa6f4c+ENC0DQbuexsIhdbnQ3Ug3SkbBxuPQewwK7HxF/yALz/cH8xWV4T/AORcu/8Arq//AKAtdMIr2Tl1uZXftUgdS8bKrshIIDLjK+4zkVnLowGjz6ab66ZJtwMpEe9QxyQMJjueoPWtGSRIo2kkdURRlmY4AHqTUNrdpcWKXTGNEKliRIGUAd9w4xXSdhGNPIvJ7oXc4eaFYcYTC7SxDD5euWPXI9qittKa2tLi3Go3jrN5h3Hyw0bOSSylUHOWOM5qzbX1pehja3UE+zG7ypA2M9M4qckAEk4A6k0WQFK000W9493JcSTzMnl7mVF4znnaBk/Xp2xk5vHpWfBq9rdX629tNDOjRNJ5sUocAqVBBx0+8DUlvqNvPazXRmgW3jZh5omVk2j+IkcD+lCsAyz0w2k1zI97cXIuG3Okwjxnaq5+VR2UUyz0SzsNTnvrZFiaaNYjEkaKihSTxhQe56k/oKspqFlJJDGl5bs8y74lEoJkX1UZ5H0osr2O+WZ4mjeNJCivHKrhuAc8dOuMe1GgEVvp72ztsvZ/JLOwi2pgFiSedueCeOfrmo7fR1t005ReXLCxQom7Z+8BGPmwvYemPxpy6xay38VrbzQzl9wYxSqxQgZwQPofyqxDfWlxM8MF1BLKn30SQMy845A6UaAWKoW+mtbOix3twLaM5SDCbQOy527to7DP6Ujaxa/2hBZwzQzSSSNG6xygtGQrNyvX+EitCjcDMg0WO1nRobiRYUbcsXlx4Htu27sfjn3xxSro6rCkX2y5IW6N1k7MklixX7v3ck+/vVmG9jnvri2jaN/IVCxWVWIYlsqVHIxtHXrn2NJHqVhNcC3ivbZ5iSBGsqluM54znjB/KloAwae6XslxFeTRrK4kkiVUIYhQvUqSAQo6H8qgm0YTTMwvrmOJp0uDEgTG9Sp6lScZUcZ7n2xNb6zp11ezWcV5A1xFJ5ZjEi7iQoY4GcnAP6H0qY31oLv7IbqD7T/zx8wb+mfu9elPQCFdOZdTkvhfXOXVUaHEezapYgfd3fxHvVae1kuvENvM1rMkECNukLJtlbI2ZAOSFyxGRwTWvVG7v5bSdN9r/oxkSIy+YMlnIUYXuMkZyQfQGhgXqyb/AMPWeoXclzM8wd1RMIwAABy2OP4hhW9VAAx1rWooauBQuNM86WZ47u4t1nA85ItuHOMZyQSDgAZB6D15pJNK3XsFxFeXEAgjMSRRiPYFJUkcqT/CO9aFFFgKV3YSXUwkW/uYAFxsiEZH1+ZCf1oq7RRYDpqKKK80wCiiigArN1C1mnnVo03ALjOQO5rSoqoScXdDTsYf9n3X/PL/AMeH+NH9n3X/ADy/8eH+NV28VR2eua9b6gY4bLTYrV1kVWZ2aXeNuBkscqoAAyScc1KPGejfYZ7l5LmNoZUge2ktZFn8x/uKIiu4lu2Ac8+hrX6xIrnY/wDs+6/55f8Ajw/xo/s+6/55f+PD/Gon8baHHZJcyTXCF7r7F5DWsnnCcoXEZj27gSoyOOcjHUU7/hMtHNilyr3TO1wbUWy2shn84LuKGPbuBCjdyMY5zij6xIOdj/7Puv8Anl/48P8AGj+z7r/nl/48P8ahl8b6HFZ2dyZrhvtkkkUEKWsrStJGcOnlhdwYEHII7GqWp+PLKC9tbOw8yaSTUo7F5GtpfJJ3bZFSTAVnXngE9D6Gj6xIOdmn/Z91/wA8v/Hh/jR/Z91/zy/8eH+NTWviXSr2PSnt7guNVDNaARtlgq7myMfLgDnOOcDrVHVdX1WbxEug6ELOO4S2F1dXV4jSJEjMVRQispZmKt/EAAvfNH1iQc7LH9n3X/PL/wAeH+NH9n3X/PL/AMeH+NZ2n+LJ7PVLrRvEgt4r6GS3WKa1VvLuVnYrGQpyUO5WUgkgYzmta78TaVY/bRPcOHs5Y4JUSJmYySKGRFUAlyQw4GaPrEg52Rf2fdf88v8Ax4f40f2fdf8APL/x4f41H/wmejm0WdWumla4NqLUWkn2jzQu8qYtu4Hb82cYxznFU5/HVn/aWl2tpDPLDf29xMLhreQCJoiAVYbcgg7gwOCuBnqKPrEg52aH9n3X/PL/AMeH+NWtPtZoJ2aRNoK4zkHuKyR440m3sbSS6nkmd7OK7nktLSV44Y3XId8AlFOCRu5wDnoal1DxzoOmXNxBPcTubZEluHgtZJUhjYZV2ZVIC4759fQ0pVpSVmJybOjooBBAIOQehorEk4HwF/yErr/rj/UV31cD4C/5CV1/1x/qK76nLc5sL/CRFc/8es3+4f5V41Xstz/x6zf7h/lXjVOJjjd4hRRRVHCFFFFABRRRQB6p4Y/5Fuy/3D/6Ea1qyfDH/It2X+4f/QjWtWbPap/AvQKKKKCwrjvin/yTfVv+2P8A6OSuxrjvin/yTfVv+2P/AKOSs6v8OXozKv8AwpejPm2voH4Nf8iM3/X3J/Ja+fq+gfg1/wAiM3/X3J/Ja8/B/wAQ8rAfxfkehUUUV6h7QUUUUAFFFFABRRRQAUUUUAFFFFABWfrVhdanpctnaalNp0ko2m5gUGRR3254B9+o7c81oUUAeLSfs46JNK8suv6o8jsWZ2CEsT1JOOTVfxD8M5vB3hGO10m91LU7Q36zPA0QfyT5bqXAUZAOQD+Fe40VFSCnFxfUzq01Ug4PqfLX9m6j/wBA2/8A/AWT/Cj+zdR/6Bt//wCAsn+FfUtFcH9mw/mZ5v8AZNP+Zny1/Zuo/wDQNv8A/wABZP8ACj+zdR/6Bt//AOAsn+FfUtFH9mw/mYf2TT/mZ8tf2bqP/QNv/wDwFk/wo/s3Uf8AoG3/AP4Cyf4V9S0Uf2bD+Zh/ZNP+Zny1/Zuo/wDQNv8A/wABZP8ACj+zdR/6Bt//AOAsn+FfUtFH9mw/mYf2TT/mZ4dr1nc2X7NOqR3VvLBI0qOElUq203SYODyM17jXn/xt/wCSQ67/ANu//pRHXoFehCPLFRXQ9OnBQioroFFc34x8VT+E7K2vE0LUNUgeUrcGyXc0CAE7yO/6DrkjvD4d+JHhLxQqjTdZt/Pbj7POfKlz6BWxn8MiqLOqooooAKKiurq3sraS5u54oIIxl5ZXCqo9STwK841b4rHUL6TRvAOmP4g1MDDXC8WsHXln4z09QD2bPFAHpM00VvC008qRRIMs7sFAHuTXJ33xS8D6czLP4msWKgk+Qxm/9ABrnbT4TXOvTLf/ABC1261m5LbxYwSNFaRdsADBP1G33z1rsrLwP4U0+MJa+HNKjGMZ+yIWI92IyfxoAqWPxL8FalII7fxLp+8nAEsvlZPoN+M11COsiK6MGRhkMpyCK57UfAHhHVYyl54c0x8jG9LdY3x/vLgj864+f4Yax4Vla++Huvz2gBLNpN85ltpPYZ5X6nJ5+8KAPU687+Lk6Wtr4PuJd5ji8T2TtsRnbAEhOFUEk+wBJ7V2+kS6hPo9pLqtvFbX7xK1xDE+5Y3I5UHvj8fqetcR8XP+PXwh/wBjPZfykppXYG//AMJ3on/PPWP/AASXv/xqj/hO9E/556x/4JL3/wCNUlFdX1ddzTkOQ8RainiH4jeC7rTbTUmt7H7d9plm06eBI98IC5MiKOSCP/110s+nWVzeW95PaQSXVuSYZmQF48jBweo4NWqK0hBQVikrBXOeAv8AkqHxB/7h3/olq6Ouc8Bf8lQ+IP8A3Dv/AES1RiPhJnsek0UUVxmYV5r4m/5Gm9/4B/6AtelV5r4m/wCRpvf+Af8AoC10YX+KjmxXwr1O+0n/AJA1j/17x/8AoIq5VPSf+QNY/wDXvH/6CKuVjP4mdEdkFFFFSMKKKKAM/XP+QHe/9cjXmNena5/yA73/AK5GvMa9PA/A/U4sV8SCiiiu05gooooAKKKKAPVrD/kHWv8A1xT+QqxVew/5B1r/ANcU/kKsV4Et2eqtgooopDCiiigAooooAzPEX/IAvP8AcH8xWV4T/wCRcu/+ur/+gLWr4i/5AF5/uD+YrK8J/wDIuXf/AF1f/wBAWuuH8B+pi/4y9BJTKsTGFEeT+FXYqD9SAcflWTb2eoDRbizuLezLvvCqJ3ZHDMSQx2Ajg44zWzRW9jtMzS7S6guLiS4AVHVFRTKZWGN2cuQCRyMAk9+mas6jam906e2VgDIhUbhkH2I7g9D7VaoosBjR22ovrceoS2tnGqWzwELMxcksrDnZ93Kn6Zz3xU+mw38U139sgtkjmkMgMU7OeijBBRfQ1fhmjuII5om3RyKHRh3BGQaSKXzd/wC7kTY5X51xnHce1FgM7TtOuLSVmmaN1hj8i0AY8R5z83HBOEB6/cB7kUyCz1GT+047lLeBLwkrJBcM7IfLVOhRf7pOc+lbFFFgME6fqE97YO9tZW8VtG8RaKVtwDLj5Pl4AwOP8OW6bo91ay2aTLlLVCqyC6Yj7pX5U28cdiePfFdBRSsFjn4tM1FZNGjNvZCLTX5l81tzr5bR5UbeD82SCe2M966Cism38SabdaithFJIbhpZ4QDEwG6Hbv5xjjcOe/anogHxRaiutT3DwWot5I0iBFwxcBWc527Mc7xxn8arx6bepbovk2ok/tFrliJW5QsTnOz72DjHTjrV9NTtpL9rJRP568sDbyBQOcHcV24O04OecVcpWAzoor231C6aOGGSC4mWQu0pUqNiKRjacn5c9e/aqx068KNaCO38hrv7R5+87wPM8zG3b97+EHPv7VoSX8cd4LURyySYVm2JkIGJAJP4H8qtU7AFZOoWVxfXUQ+yWuIZFeG6Mh8yLpuwNvBPI64I6+la1FDAKKKyb/xJpum3r2lzJIsyrCxCxMwxLJ5acgd2GKG7Aa1FFFMAooooA6aiiivMMAooooAKoa3BqNxo9zFpNyltflQYZJBlQwIODweDjBODjNX6KAPPb3wbrGuJq9/fLaWt9dT2csFtDdSMgFuSQGlCqwLbm5UfLweSKSHwZqkcg1aG2soNRhvYbmK2kv57gSJHHIm15pASCRM5GEwDjrXodFAHmer6XrdrqWmarJDZHVL/AMQRyraiZjDGiWcqBTJszkgE7tvBI4OObc/hbxHNNNqDm38y9vzc3mnW+oS26FBCsUa+ci7iRsDHgA5x2Gek8R61daa2n2OmwxTanqU5htxMSI0CqXd3xyQqqeBySQOOtQ6ZqOt2+qTWmtPpk9ssDSi9s8xCNlIDI8bOxHByGBxwc44yAY3hvwbqml3WmPdGyVLK9vrgiGV2ys4yoG5c5BYg5PQZzzimweFvEEMGnaOo07+zNP1UXq3TTP5ssfmtJs2bMBhuPO4g47ZONqPx1oMltc3BnuYooLV73dNaSx+bAv3pI9yjeoyOmeo9RUtt4z0S5+1n7RLAtrb/AGqRrm3khDQ8/vF3Abl4PI/qKAOe8E6asvijWdSgnSfSLWWS30tk+6POYTXG31AchQR/dIrZ1XSdXtfE48QaGlpcyS2q2l3Z3MrRCRVYsjq4VsMCzDBGCD2xUn/CcaElnd3VxNcWiWixvMt1aywuqO21H2soJUnjI6d8Ulx440a1jEkwv1VYBcTf6BNm3iJYB5RtygO1jzg4BPSgDmE8J+LLyW91LVTp0usCexmtSkzCFo4JGfymOzIbLNlguCWGAMEVPe+C9b1U31/efYlvJdTg1CG1gu5UTbHD5RjaVVDAkEncB1xxitW78bRx6tq2nJGYPsC2jC6mgkaJ/OkCY+Ue4CkE5yT0U1pf8Jho41T7B5s+77R9l8/7PJ5Hn9PL83G3dnjGevHXigDmD4KvvsDyPpWnSzS3one2fUbgyKoj2KVujlxIPUKBg7e2TZh8LeIFXR5Li5guZreK+gmE9y7tHHOVKASFMyFAoUlgCetbMHjfQ7nUEs45rgs909mJTayCLz1LAx+YV27vlOBnnj1FbVnewXyStAXIileFt8bJ8ynBxuAyMjqOD2oA4W08KeI9G024sdPXTbj7fptvazyzTun2eWOERFlAQ+YmACB8pzn14uN4KuotF8T6dbzwldS0uOxtWkY5BS3MQL8cDJB4zXbUUAR28Zitoo2ILIgU49hUlFFAHA+Av+Qldf8AXH+orvq4HwF/yErr/rj/AFFd9Tluc2F/hIiuf+PWb/cP8q8ar2W5/wCPWb/cP8q8apxMcbvEKKKKo4QooooAKKKKAPVPDH/It2X+4f8A0I1rVk+GP+Rbsv8AcP8A6Ea1qzZ7VP4F6BRRRQWFUtW0q01vSrjTb6MvbTrtcA4PXIIPqCAfwq7RQ1fRiaTVmee/8Ka8Lf3r/wD7/j/4muu0DQLDw1pS6dpyOsCsXJdtzMx6kmtSiojThF3iiIUacHeKsFFFFWaBRRRQAUUUUAFFFFABRRRQAUUUUAFFFFABRRRQAUUUUAFFFFABRRRQAUUUUAef/G3/AJJDrv8A27/+lEdegV5/8bf+SQ67/wBu/wD6UR1W/wCE98c/9E1/8rsH/wATTUW9kFj0muY1/wCHnhPxMzSapolrJO3JnjBikJ92TBP45rnf+E98c/8ARNf/ACuwf/E0f8J745/6Jr/5XYP/AImnyS7DsyNfg7/ZwVdA8aeJNMjU/LCLrfGo9AvH65pV+HHjEnZJ8UNUMAJKqtoFf2y+/mn/APCe+Of+ia/+V2D/AOJo/wCE98c/9E1/8rsH/wATRyS7BZiQfBbRLiZJ/EOr61r8q87b68Ypn2A5H/fVd9pulafo1mtnpljb2dspyIoIwi59cDv71wX/AAnvjn/omv8A5XYP/iaP+E98c/8ARNf/ACuwf/E0ckuwWZ6TRXm3/Ce+Of8Aomv/AJXYP/iaP+E98c/9E1/8rsH/AMTRyS7BZnpNFebf8J745/6Jr/5XYP8A4mj/AIT3xz/0TX/yuwf/ABNHJLsFmek15n8adNh1nRvDGl3DSLBe+I7W3kaMgMFdZFJGQRnB9DT/APhPfHP/AETX/wArsH/xNc14r8TeJNa1Pwdbax4R/se3XxJZSLcf2lHcbnDMAm1QCOCTn296HCS3QWZz3xJ+E3g7wJ4Sl1OO/wBYlvZHENpDLPFtdzzk4jBwACe3QDPNV/hd8LfCHj7ww15c3+rRalbymK6hhmiCjPKsAYycEep6hq6b4teDvEXjK91LV55I7DQdBspntlk+aS5dULuwUfdBKhck9FBAOapfCbwd4j8K3mkeJLF0v9F1m2Rb2GM7ZIN3KvtJwwVscgk4LcVIje/4Zx8H/wDQS1z/AL/w/wDxqj/hnHwf/wBBLXP+/wDD/wDGq9gooA8f/wCGcfB//QS1z/v/AA//ABquw8C/DjR/h/8Ab/7Jub6b7d5fmfa3RsbN2MbVX++eue1dhRQAUUUUAFea+Jv+Rpvf+Af+gLXpVea+Jv8Akab3/gH/AKAtdGF/io5sV8K9TvtJ/wCQNY/9e8f/AKCKuVT0n/kDWP8A17x/+girlYz+JnRHZBRRWT4i8Q2fhfSjqmorMLFJFSaWJN/khjgOwHJXOBwCeRx1xIzWoqnperafrVil7pl7BeWz9JYXDDPpx0Pt1q5QBn65/wAgO9/65GvMa9O1z/kB3v8A1yNeY16eB+B+pxYr4kFFFFdpzBRRRQAUUUUAerWH/IOtf+uKfyFWKr2H/IOtf+uKfyFWK8CW7PVWwUUUUhhRRRQAUUUUAZniL/kAXn+4P5isrwn/AMi5d/8AXV//AEBa1fEX/IAvP9wfzFZXhP8A5Fy7/wCur/8AoC11w/gP1MX/ABl6FXVI2m0yeJIZJjIuwpG6qxBODgtxkDJweDjFYkWlXP8AZ2oQ2tt9mEnlbDsSN5ArZdSFO3kcZwM554ANdFc3MNnbS3NzKsUESl5JHOAqjkkn0qCLVtPmjnkjvYGS3x5zbxiPIDDce3BB/GtmkdpjWmm3MdrqCW0M9sZYQqoUjhQtz08snDY43fTrirtlYWbTuV0T7IjRGN96xhXBI+UqpIPTqf1rRtr20vQxtbqGcL94xSBsfXFT0JIDE0G1XTtPjtl0c20sduqyuixqJWUYxkNk55wTx702wguktNRtYNPk07zC7W7kx7EJUAcIxxzk9K3aKLAYFtZKs6vBozWkawutwhMf7/I4ThvmOedzfnyaZo2myac2mbNOMBFiUumDJky/JjeQ2WPD889evNdFSK6uoZGDKehByDRYLHOaJp0lrqEUw054B5DLK86x71JKnbvQ/P06kE8ZznIOhp9usWtatMNOltzK0RNy025bnCYyq5O3b06DPXmtSimlYAqtHYWkU4nS3jWUF2DhecvjcfxwM/SpUnjkmkiVsvFjeMdMjIqSgDLha5/4SC5drCdYHhjjWYtHtyrSEnAbdj5h2rOt9LaDy7iPSWju/wC0XcuDHuETOx3Z3fd2n7o568Vrx6xpst2LSO9ga4MrwiMON29AGZceoBBP1q9SsmBhQWKL4mubptEwHVAl2Vi+8N+W+9u5yO2apppV0mpmSWKdpvtZlFxHHF9zfkDeSGwFwpHpkDIrqMjdtyM9cUtHKFjAbTo5vEtxPPo7yQvHGqysYym9S+XK7s5wVAbGe1QzaW32jUbtNJY3JvoZYZAY9zIPLDFSW+X7r5BxnPfNdLRRyhY52/0+WWa+/wCJe013Mf8ARbzK/uflAHJO5drAnAHPXkkitmawtJ5TLLbxvI3l5ZlyTsben5NyPerNFOwGbNqcq+ILbS4bXzEeB555y+BCAQEGMfMWOe44UmtKiigAooopgdNRRRXmGAUUUUAFFFFABRRWZ4i1ddC8PX2plN7QRExx/wDPSQ8Iv1LED8aAKfiXRr3UJdM1LS5IF1LTJzNClwSI5VZCjoxAJXIbg4OCBxXMzeB9R1vWptQvLHR9HjuLG7tJksSZJXadQDI8mxNx46Y45OTni3pHi680nwxqbeJS13qmj3aW119ljAaYSMnlOqjA5Eij/gJq9L47t7S31A6hpd7Z3Vk9uhtpWiy/nttiIcOUAJBBJYYwaAOePgDVbvSry1mt7K3n/sqexgmbUrm53ySIF34fiJOOQAx5Hpzt+J/Btz4guLkpcRQxS6UbNSS2RKJVkUkD+H5cHBzV1fGMETwJqGnXtg0onyZwpUeUgkOGViGBQkgjI+VgcEYqtb/EPSZ9Kg1BobqKGSymvJFdBuhEcgjKMAfvlyVAGclTQBkHwPqV5BePLa2dncSLbxxhtRuLwlUnSVyXkHAOwYUL16nnifxf4T1zxBdapDHJDNZ3lmILbzr6aJLRtrBiYUG2UkkEFjxj0HN+bx/a2VtePqOlX9pPbRxTfZyY5HkjkkEYZdjsCQxGRnI98itDWfEM+k+DLvXJNPkhuIoSyWk7KWDk7UVipI5JGcE9aAMG88Ja1ePe8WKLe22nbiZ3Jjlt5Q7KBs+ZSpOG4OQBjnIePC2ti1GgEWX9jjVPt/2zzm88p9o+0eX5ezG7f8u7d05xnijWG8S+FdIXXrnxC2orbvG17ZvaxJE0bMFbyiqh1IzkbmbOOa2x4sszZ/afIn2f2r/ZeMDPmeb5W7r93PPrjtQBmx+E75NHs7Qy23mQ66+pMQzYMTXLygDj721gMdM55711NmbwpL9tSBW81xH5LFgY8/ITkDDYxkdM9Ca5+PxxZyahHELK6FhLdmxj1DMfltNuKY27t+0sCobbgn2INM0vx1b6nNY/8Sq/trS+ne2t7qcIEeRQ5IwGLD/VsASOT0oA6uis/RtXh1yye8to5FgE8sKM+P3mxyhYYP3SVOPatCgAooooA4HwF/yErr/rj/UV31cD4C/5CV1/1x/qK76nLc5sL/CRFc/8es3+4f5V41Xstz/x6zf7h/lXjVOJjjd4hRRRVHCFFFFABRRRQB6p4Y/5Fuy/3D/6Ea1qyfDH/It2X+4f/QjWtWbPap/AvQKKKKCwooooAKKKKACiiigAooooAKKKKACiiigAooooAKKKKACiiigAooooAKKKKACiiigAooooAKKKKAPP/jb/AMkh13/t3/8ASiOtqsX42/8AJIdd/wC3f/0ojrarpw/U0gFFYPiLxjo/hWeyj1eaSBLssElERZFK4+8R0zn9DWpYajY6pbC4sLuC6hPSSGQOPzFdN1exZaooopgFFFcV4g+JGnadef2Vo8Emt6yx2ra2fzKh6fOwyBjuBkjvjrSbS3C52tVLjVdOtH2XN/awt0xLMqn9TXBx+D/FvinE/izxBLY278/2ZpR2BR6M/Ofp831rStfhL4JtVH/EmErYwWlnkbP4bsfkKm8nshXZ11te2t4u61uYZ165ikDD9KnrhLn4Q+EZG8yztbrTrgHcs9pdOGU+24kD8qoPaePvBQEtpd/8JTpSZ3W8423SD/Zbkt+vstHM1uguz0quG+Jv2zyPC39neR9u/wCEitPs/wBoz5fmYfbvxztzjOOcV2lrM1xaQzPC8DyIrNFJjchIztOOMjpXJ+Pv+PrwZ/2M9j/NqVX4GEthPFn/AAtP/hDdc/tH/hDfsP8AZ9x9o+z/AGrzPL8tt2zPG7GcZ4zVfwN/ws//AIQbRf7K/wCEQ/s/7KnkfavtPm7McbtvGfpXoHjv/knniX/sFXX/AKKaqnwy/wCSZ+Hf+vGP+VcBiZX/ABd//qRv/Juj/i7/AP1I3/k3XoFFAHn/APxd/wD6kb/ybo/4u/8A9SN/5N16BRQB5/8A8Xf/AOpG/wDJuj/i7/8A1I3/AJN16BRQB5//AMXf/wCpG/8AJuuI13/hYn9vXX2v/hF/tHyb/K+0bPujGM89MV7vXmvib/kab3/gH/oC1vhleokc+Jdor1F0/wD4W3/Ztr5P/CE+V5KbN/2vdtwMZx3qz/xd/wD6kb/ybrtNJ/5A1j/17x/+girlZS+Jm8dkef8A/F3/APqRv/JuszxI3xNTwzqjaz/wgv8AZotZPtQP2vmPad2PfHT3r1OsvX/D9j4m0z+zdTEklk0ivLCjlBKF5CsRzjODwRyB2yKkZ8geAoPGkutBvBYvluhgSPAcRgdvMLfJjrw1fX3hxddXRYB4jksn1P8A5aGyVhHjt97v69B6VcsNOstKs47PT7SG1to/uRQoEUfgKs0AZ+uf8gO9/wCuRrzGvTtc/wCQHe/9cjXmNengfgfqcWK+JBRRRXacwUUUUAFFFFAHq1h/yDrX/rin8hViq9h/yDrX/rin8hVivAluz1VsFFFFIYUUUUAFFFFAGZ4i/wCQBef7g/mKyvCf/IuXf/XV/wD0Ba1fEX/IAvP9wfzFZXhP/kXLv/rq/wD6AtdcP4D9TF/xl6EV7Zw6hYXFlcLuguImikXOMqwwR+RqhdafbWGl6s9rA++6RndY1LlmEQjGAMnoijArVZlRSzEBRySTwKRZEfOx1bHXBzit7Hac+1pdXWkXN2ZpGuxZvFAIYHtmBxkcE7idyj268cmrFvdpcarfMq332ZrZDloplXcCwbZkcNjb93k/UVtUUrAc3piXD6JNLDLqT6iLdlX7UJEwxB2gBwFJGBzgn1PNNhl8rWd1quqSRJZSyCG4klAkkBTgBzknBx6c8c5rpqr29jb20jyxqxkfhnkkZ2x6ZYkgcnjpRYDC0l5/7U8hpLp7ea3csSlxtRwVwN8hPOC3Tb9MjiXRo1tLA21uLv7csTLtuDM0YYZxy2VHPp1HSt7zEEgj3rvI3Bc849cUK6OWCsrFTtbBzg+h/MUWAw9PZvtdr9nbUGcg/a/tXmbQNp/vfKG3Y4TjBPbFJoqrLdTM8uqF0mkMS3AmRAmcAfMAG655yfTAFb9FFgMfT7pf7YvIlW/8uTayGaGbYG+bdhnGAOnGcelVbRpvOtPmvzqBk/0tZPM8kDndgH5AP7pXk4HX5q31ljZtqyIW54DDPHWn0WAzo9C0+K/F6kGJxM84bJ++6hWP4hRWjRRTsBzUc08Xil91huNxKVM32dyYFVcA78YIfAxggA5zk5rpaKKErAFFFFMAooooAKKZJLHDG0krqiKMszHAH1NPoAKKrz39nauEuLuCFyMhZJApx680VSpzeqQro66iiivKMQooooAKKKKACsbxD4ei8RpY2146NYQ3InuLZ4g63IUHajZONu4qx4OduK2aKAOKu/hzYfa7htHa20m1uYoFntba0UI7wzrKr4UgZxuXp/ED2wdDU/C9xd3+q31tqEUUl9DaxeVNaiWPELSEq6k/MriTBAwRjrXS0UAcC/w0S40CfTpL2C1aa+F3tsrby4IVMflPHHGWO0OhcE56uTjtVyX4eWc48SpNdu0Ws7QieWP9FAJc4zkNmRmc5A6gdq7KigDznUvCtponh/U9Q1m+0qwgVYC8um6R5SRrHMshJVSzsWKgdcDjj17O/srDxT4bltZWaSx1C34dcq21hkMM9D0Iz3rnfi5/ySrxB/1wH/oa10Hhn/kVNH/68YP/AEAUAcvqPg7xTqyWtvf+JrW4srZ0LwCyaP7aquj4mPmEA/J1UDqexIqy/gnUGvNi61EmmDVxqywfZCZS/mCRkL78bc5xhcjI64we0ooA4ex+Hkdhq8UsTaZ9iivGvEJ0xDd5LFwhmJPyhjwQu7AAz3qPXvD9xp3w+t9EsGuLnU0uFaxuILc/u5vN8xXbqEUcgknGM+uK7yigClpGmQaNo9npltnybWFYUJ6kKMZPuetXaKKACiiigDgfAX/ISuv+uP8AUV31cB4FJj1m6hYfN5Jz+DD/ABrv6ctzmwv8Miuf+PWb/cP8q8ar2llDKVYZBGCK8o1nRbnR7t45EYwE/u5ccMO3Pr7U4mWNi2kzNoooqjgCiiigAooq1YafdalcrBaxF2J5OOFHqT2FAJNuyPSvDH/It2X+4f8A0I1rVXsLRbCwgtUOViQLn1Pc1YrM9uCtFJhRRRQUFFFFABRRRQAUUUUAFFFFABRRRQAUUUUAFFFFABRRRQAUUUUAFFFFABRRRQAUUUUAFFFFABRRRQB5/wDG3/kkOu/9u/8A6UR1tVi/G3/kkOu/9u//AKUR1h/8Ld8Df9Bz/wAlJ/8A4iuihJK92XBnY3NtBeW7291BHPC4w8cqBlYe4PBrib74UaA90bzSJr7Q7s5/eafOUBz7HOB7Lipf+Fu+Bv8AoOf+Sk//AMRR/wALd8Df9Bz/AMlJ/wD4it24Pdou6Kn/AAjXxEsF2WHjW3u0AIAvbJQf++gGJ/OlNj8VpCFbVfDkK55eOORj+RTFWv8Ahbvgb/oOf+Sk/wD8RR/wt3wN/wBBz/yUn/8AiKXufzfiLTuUW+Heua0AvinxlfXlufv2tnGtujexxwR/wEV12g+GdH8M2pt9IsIrZW++wyXf/eY8n865/wD4W74G/wCg5/5KT/8AxFH/AAt3wN/0HP8AyUn/APiKE6a1uPQ7aiuJ/wCFu+Bv+g5/5KT/APxFH/C3fA3/AEHP/JSf/wCIquePcLo7aiuJ/wCFu+Bv+g5/5KT/APxFH/C3fA3/AEHP/JSf/wCIo549wujtq47x9/x9eDP+xnsf5tUX/C3fA3/Qc/8AJSf/AOIrC8QeOvDfifWPCFlo+o/abhPEdlKyeRImEDEE5ZQOrD86ipOLi7MUmrHrPjv/AJJ54l/7BV1/6Kaqnwy/5Jn4d/68Y/5Vb8d/8k88S/8AYKuv/RTVU+GX/JM/Dv8A14x/yriMjq6KKKACiiigAooooAK818Tf8jTe/wDAP/QFr0qvNPEp3eKL4j/YH/ji10YX+KjlxXwr1O/0n/kDWP8A17x/+girlU9J/wCQNY/9e8f/AKCKuVjP4mdMdkFFFFSMKKKKAM/XP+QHe/8AXI15jXrF1brd2k1u/CyIVJHbNeY3+n3OnXDQ3MZUg8N/Cw9Qe9ejgZKzj1OPExd0yrRRRXecoUUUUAFFFX9L0q51W5WOFCI8/PIR8qj/AB9qUpKKuxpNuyPR7D/kHWv/AFxT+QqxTY0WKNY0GFUBQPYU6vBbu7nqLYKKKKQwooooAKKKKAMzxF/yALz/AHB/MVleE/8AkXLv/rq//oC1q+Iv+QBef7g/mKyvCf8AyLl3/wBdX/8AQFrrh/AfqYv+MvQrapp8Wq6TeadMSIrqB4XI6gMpBI9+ayrjRrDSNH1yRdoju0MsgkxtXbCsYH0+QH6k10FFbtXO05mx8q00+XU4ktILcW+zbp8gcO2R85JVVBHuMDJycVLpGqvLd6haXOowv5MCSiRZ43KAlwxJCKONqnkHGeTzXQ0iqFUKoAA6AUrAc9pGpmXSJdRm1cXvkwM8kUAj+UAEg4AzuwD3AJzwKhs9ZulnvYBdRXkyWhnhjEySMWGfl+RF68cc9uea6ikVVUYUAD0AoswOZt723/4SSwH9tR3oe1mPzeX8pyh4KgYBAbg5Py+xq7omoWk1xqEEeowXTpPuDK0e9l8tCSdgGeSRnHYCtkKFzgAZOTgdTS0WA5rR9TnuLyMNqC3olt3kVYXjZCcrg8KrJ1Iwc9eTkczafqEks9hjUhdSXAP2i3CoPJ+QkkADcuGAX5ieuOtbwVVJIUAnqQOtAUAkgAE9T60WAxLDwtY6fqiX8Rbzka6bnGCZ5Fkb8tuB7E1uUUU0rAFFFFMAooooAKKKKACiiigDmvGIEkWjW0v/AB6z6pClwD0ZfmZVPsXCCszxHqetaXq9zZQXk7NqcaJpQWKMrFMGAcE7Txghsntu7gV19/YW2p2b2l5EJIXIJXJHIIIII5BBAPFZ8nh2KbxBBrEt/fPLAWMUBkXyk3LtOBtz0969DD4ilGKVRXtfRq93o1+Ks/IzlFvYsNo9ncRQ/wBoRRXtxHGqNPNGu58d8AYGTk4HrRTdR0DTtVuFnu4pWkVNgKTugxknopA7misY1I21nJei0/8ASkNp9juaKKK8IzCiiigAooooAKKKKACiiigAooooA4r4uf8AJKvEH/XAf+hrXQeGf+RU0f8A68YP/QBXP/Fz/klXiD/rgP8A0Na6Dwz/AMipo/8A14wf+gCgDVooooAKKKKACiiigAooooA8/wBPf+yvHssTnakkrJ+D8r/7LXoFcV44090mg1SHIxhJCP4SOVP9PwFdLomppq2mRXII8zG2RR/Cw6/4/jTfc5qPuTlTfqaFIVDAhgCD1BpaKR0kX2aD/njH/wB8ij7NB/zxj/75FS0UCsiL7NB/zxj/AO+RR9mg/wCeMf8A3yKlooCyIvs0H/PGP/vkVIqKi4RQo9AMUtFA7BRRRQAUUUUAFFFFABRRRQAUUUUAFFFFABRRRQAUUUUAFFFFABRRRQAUUUUAFFFFABRRRQAUUUUAFFFFABRRRQAUUUUAFFFFABRRRQBm+INbtfDnh++1i9bEFpEZGGcFj2Ue5OAPc14P8FPiNdXXjrU9O1ifcNcla5jJPCXAH3R6AqMD/cUCvU/iH4M1Dx3DY6QNQWw0dJPPvGUFpZmH3UUdAOpJPfbwcV5B4V+EcOtXfiJ9J1a4sNS0LW5LexmkAdSI2+QtgD5sgcj8jQB9LUVBZNdNY25vkjS7Ma+csTFkD4+baTgkZzjPap6ACiiigAooooA5/wAd/wDJPPEv/YKuv/RTVU+GX/JM/Dv/AF4x/wAqt+O/+SeeJf8AsFXX/opqqfDL/kmfh3/rxj/lQB1dFFFABRRRQAUUUUABIAJJwBXkt5dfbdVu7kHKySEqfbPH6V3Xi3Vhp+lNAjf6Rcgoo9F7n+n41y6aM8PhP7e6kPJMrc9o8ED8yfyxXRhnaomzixD5pcq6as7zSedGsf8Ar3j/APQRVysjwzdC60K35+aIGNh6Y6fpitesqitNpnXB3imFFFFQUFFFFABSMquMMoI9CKWigCP7PD/zxj/75FH2eH/njH/3yKkop3YrEf2eH/njH/3yKPs8P/PGP/vkVJRRdhYj+zw/88Y/++RTwoUAKAAOwpaKVxhRRRQAUUUUAFFFFABRRRQBl+IiB4fvMn+EfzFZ/g1Q+iTqwyDOwI/4CtSeMLlYdF8nI3TuFA9hyT+g/OpvC1uYNBhLDBlJkP4nj9AK6lph/VmG9b0Ro/2fa/8APL/x4/40f2fa/wDPL/x4/wCNWaK5+eXc6Lsrf2fa/wDPL/x4/wCNH9n2v/PL/wAeP+NWaKOeXcLswNX1XQNDmhgvXk+0TAtHBBFLPKyjq2yMM2PfGKn0m40XXLL7XpsizwhyjEFlKMOqspwVYehANc8+rWPhz4iazca7cxWcV/aW/wBhubhwkbLHv3xB2wAwZt23PO7NctaeI7O81ufxRYXhtdDuNcs0nkd/KXi1cO0gzwpZo1yeCVB5GDRzy7hdnrP9n2v/ADy/8eP+NH9n2v8Azy/8eP8AjXlV9r9zfRXUtvfq2jTeI5IpriW9kt4hELZCi+aoJSNn5yODkDOG5Z9rnfSLIT69Zmy+33P2aOfUrmO3njVUwn2zAZirF9pIYEeu3IOeXcLs9Num0mzaRJ3RZI4HuGjDEv5a/eYKOSBkdB3FWY7KzljWRI8qwDA5YcGvI7m7gkFtq/2m+t7uTwpf/ZXuL5jI8keMFWBAkO3LA4yQAx5GRZ1LUkNnr01/q91b+ILeOIaJbpdujSZgQxlIwcS75S4bIPTB4FHPLuF2eq/2fa/88v8Ax4/41V1D+ydKsJb6/eO3toRl5JHIA7fnnjHevPdYjumt/GWsSX9+l7pt/B9lWO7kWOEiC3ZgEB2kEscggj8zXT+Pj5FtomoSoz2Fjq0Nxe4UtsiCuocgdldkY+mM9qOeXcLsuaVrPh3Wbt7SzeUXSp5nkXEE0DlM43BZApK8jkZHNbP9n2v/ADy/8eP+NcBdeJ/tnjnS00jUtJ1qOUXKxG3tg5tT5DOqmcORlynTAJCn0rnNG1LUJLaCePV4jfSaZcyalGmpzzzbhCTmSIoFgZZMAYIxyozRzy7hdnsX9n2v/PL/AMeP+NH9n2v/ADy/8eP+NeZSjU9DtdPn0e7v7nUL/wANXdw6z3Lz+bcRrAUcKxIDZkbgADnFZEmo3UeiaxLpWtxPGNFklmNrqs94wl3JskLOoEUn38rkE+ny0c8u4XZ7J/Z9r/zy/wDHj/jVK7l0ex88XEiq8EInkjUszrGSQG2jJxkEdOxrgPFxt9LvG0eK8uUe304zxSXuszRGSR3f5olT55pcr03ALlQAM1kajfI0F1rK6jKup3XhG2mjmS7YF5AziQqA2MjjOBwTngk0c8u4XZ7H/Z9r/wA8v/Hj/jR/Z9r/AM8v/Hj/AI15lquoKLjWZpNUuI/FUWqLDp1kLt1Jj3II1WHO10ZSSx2nq2T8vEl1HMltq2uf2hqH2y18SxQQD7XII0ia4hRk8vO0qVduoPX2FHPLuF2ek/2fa/8APL/x4/40f2fa/wDPL/x4/wCNWaKOeXcLsrf2fa/88v8Ax4/40VZoo55dwuwoooqRBRRRQAUUUUAFFFFABRRRQAUUUUAch8UrS5vvhprltaW8txcSQAJFEhdmO9egHJrmdH+KMmn6JYWUvgbxe0lvbRxMV03glVAOOenFeq0UAeb/APC3P+pE8Zf+C3/7Kj/hbn/UieMv/Bb/APZV6RRQB5v/AMLc/wCpE8Zf+C3/AOyo/wCFuf8AUieMv/Bb/wDZV6RRQB5v/wALc/6kTxl/4Lf/ALKj/hbn/UieMv8AwW//AGVekUUAeb/8Lc/6kTxl/wCC3/7Kj/hbn/UieMv/AAW//ZV6RRQB5ldfFOK8tZLefwF4xaKRdrD+zf8A7KuT034i3fhvUfMPhbxItvIcMk1iULqD1xnqK95qpqOm22qWjW90m5TyCOqn1BppmVSmpe8t0efQ/GSG5TfB4K8XSpnG5NPDDP4NUn/C3P8AqRPGX/gt/wDsqqPPd+G9Znhs7lj5bbTkcOPcV3Xh3W31q0eSSFY3Q7TtbIP+FDRFLEKb5XozkP8Ahbn/AFInjL/wW/8A2VH/AAtz/qRPGX/gt/8Asq9IopHQeb/8Lc/6kTxl/wCC3/7Kj/hbn/UieMv/AAW//ZV6RRQB5v8A8Lc/6kTxl/4Lf/sqP+Fuf9SJ4y/8Fv8A9lXpFFAHm/8Awtz/AKkTxl/4Lf8A7Kj/AIW5/wBSJ4y/8Fv/ANlXpFFAHm//AAtz/qRPGX/gt/8AsqP+Fuf9SJ4y/wDBb/8AZV6RRQB5v/wtz/qRPGX/AILf/sqP+Fuf9SJ4y/8ABb/9lXpFFAHm/wDwtz/qRPGX/gt/+yo/4W5/1InjL/wW/wD2VekUUAeb/wDC3P8AqRPGX/gt/wDsqP8Ahbn/AFInjL/wW/8A2VekUUAeb/8AC3P+pE8Zf+C3/wCyo/4W5/1InjL/AMFv/wBlXpFFAHm//C3P+pE8Zf8Agt/+yo/4W5/1InjL/wAFv/2VekUUAeb/APC3P+pE8Zf+C3/7Kj/hbn/UieMv/Bb/APZV6RRQB5v/AMLc/wCpE8Zf+C3/AOyo/wCFuf8AUieMv/Bb/wDZV6RRQB5v/wALc/6kTxl/4Lf/ALKj/hbn/UieMv8AwW//AGVekUUAeb/8Lc/6kTxl/wCC3/7Kj/hbn/UieMv/AAW//ZV6RRQB5v8A8Lc/6kTxl/4Lf/sqP+Fuf9SJ4y/8Fv8A9lXpFFAHm/8Awtz/AKkTxl/4Lf8A7Kj/AIW5/wBSJ4y/8Fv/ANlXpFFAHm//AAtz/qRPGX/gt/8AsqP+Fuf9SJ4y/wDBb/8AZV6RRQB5v/wtz/qRPGX/AILf/sqP+Fuf9SJ4y/8ABb/9lXpFFAHm/wDwtz/qRPGX/gt/+yo/4W5/1InjL/wW/wD2VekUUAeb/wDC3P8AqRPGX/gt/wDsqP8Ahbn/AFInjL/wW/8A2VekUUAeb/8AC3P+pE8Zf+C3/wCyo/4W5/1InjL/AMFv/wBlXpFFAHm//C3P+pE8Zf8Agt/+yo/4W5/1InjL/wAFv/2VekUUAeZP8YtjY/4QXxb/AMCsMH+dcr4H8a3fh298TXFz4M8Uyrquqy30Qg08nYjnIDZI5+le70UAeb/8Lc/6kTxl/wCC3/7Kj/hbn/UieMv/AAW//ZV6RRQB5v8A8Lc/6kTxl/4Lf/sqP+Fuf9SJ4y/8Fv8A9lXpFFAHm/8Awtz/AKkTxl/4Lf8A7Kj/AIW5/wBSJ4y/8Fv/ANlXpFFAHkniT4lS6z4W1fS4PA/i5Jr2ymt42k007QzoVBODnGTXa/Du2ns/h3oFvcwyQTx2aK8cqlWU46EHkGumooAKKKKACiiigAqhqur2ukWpmuGyx+5GPvOfb/GsrxN4jn0dkgt4UMkgJEjnIX8P/r1yukWsniXWiL65kY7d7N3IHYenWmkc1SvaXJDctabZXfizWWvbzP2ZD85HAwOiL/n+dd7cWsVzZSWrLiN02YHYe1OtraG0t0t7eMRxIMKoqWi+t0aUqXItdW9zg9GvZPD2sS2V58sTna57A9m+n+e1d2CGUMpBB5BHesPxNpUF5p8l0flngQsHA6gc4Nc7oPiG6s5YrRwJoGYKqscFM+h9PauyUPbx9pHfqZxl7J8j26Hf0UUVxHSFFFFABRRRQAUUUUAFFFFABRRRQAUUUUAFFFFABRRRQAU2SRIo2kkYKijLMTgAUrttRmxnAzXnWs6/daoxiOIrcH/Vqev1PetqNF1XpsZ1KigizdzSeKPECQw5FuvCnH3U7t+P+Fd3HGsUSRooVEAVQOwFZuhaVBptipj+aWVQzuRyfb6VqU69RSajHZCpQa96W7CiiisDUKKKKAGyRpKmyRFdfRhkU0QQhnYRIDIAHO0fNjpn1qSigBGVWUqygqRggjimtFG8fltGrJ/dIyPyp9FACYHHA46UhRGdWKqWXoSORTqKACiiigBqRpEu2NFReuFGBQEVWZlUBm6kDk06igApqoqZ2qFycnAxk06igBCisysVBZehI6UBVGMADHTilooAaUQuHKrvAwGxyKdRRQAUUUUAFFFFAH//2Q=='"
            ],
            "application/vnd.google.colaboratory.intrinsic+json": {
              "type": "string"
            }
          },
          "metadata": {},
          "execution_count": 48
        }
      ]
    },
    {
      "cell_type": "code",
      "source": [
        "!pip install chromadb\n"
      ],
      "metadata": {
        "colab": {
          "base_uri": "https://localhost:8080/"
        },
        "id": "DWrN-WvWqTPW",
        "outputId": "8b568eae-12ff-47c1-e6a4-7eccdc342769"
      },
      "execution_count": 49,
      "outputs": [
        {
          "output_type": "stream",
          "name": "stdout",
          "text": [
            "Requirement already satisfied: chromadb in /usr/local/lib/python3.11/dist-packages (0.6.3)\n",
            "Requirement already satisfied: build>=1.0.3 in /usr/local/lib/python3.11/dist-packages (from chromadb) (1.2.2.post1)\n",
            "Requirement already satisfied: pydantic>=1.9 in /usr/local/lib/python3.11/dist-packages (from chromadb) (2.10.6)\n",
            "Requirement already satisfied: chroma-hnswlib==0.7.6 in /usr/local/lib/python3.11/dist-packages (from chromadb) (0.7.6)\n",
            "Requirement already satisfied: fastapi>=0.95.2 in /usr/local/lib/python3.11/dist-packages (from chromadb) (0.115.8)\n",
            "Requirement already satisfied: uvicorn>=0.18.3 in /usr/local/lib/python3.11/dist-packages (from uvicorn[standard]>=0.18.3->chromadb) (0.34.0)\n",
            "Requirement already satisfied: numpy>=1.22.5 in /usr/local/lib/python3.11/dist-packages (from chromadb) (1.26.4)\n",
            "Requirement already satisfied: posthog>=2.4.0 in /usr/local/lib/python3.11/dist-packages (from chromadb) (3.13.0)\n",
            "Requirement already satisfied: typing_extensions>=4.5.0 in /usr/local/lib/python3.11/dist-packages (from chromadb) (4.12.2)\n",
            "Requirement already satisfied: onnxruntime>=1.14.1 in /usr/local/lib/python3.11/dist-packages (from chromadb) (1.20.1)\n",
            "Requirement already satisfied: opentelemetry-api>=1.2.0 in /usr/local/lib/python3.11/dist-packages (from chromadb) (1.30.0)\n",
            "Requirement already satisfied: opentelemetry-exporter-otlp-proto-grpc>=1.2.0 in /usr/local/lib/python3.11/dist-packages (from chromadb) (1.30.0)\n",
            "Requirement already satisfied: opentelemetry-instrumentation-fastapi>=0.41b0 in /usr/local/lib/python3.11/dist-packages (from chromadb) (0.51b0)\n",
            "Requirement already satisfied: opentelemetry-sdk>=1.2.0 in /usr/local/lib/python3.11/dist-packages (from chromadb) (1.30.0)\n",
            "Requirement already satisfied: tokenizers>=0.13.2 in /usr/local/lib/python3.11/dist-packages (from chromadb) (0.21.0)\n",
            "Requirement already satisfied: pypika>=0.48.9 in /usr/local/lib/python3.11/dist-packages (from chromadb) (0.48.9)\n",
            "Requirement already satisfied: tqdm>=4.65.0 in /usr/local/lib/python3.11/dist-packages (from chromadb) (4.67.1)\n",
            "Requirement already satisfied: overrides>=7.3.1 in /usr/local/lib/python3.11/dist-packages (from chromadb) (7.7.0)\n",
            "Requirement already satisfied: importlib-resources in /usr/local/lib/python3.11/dist-packages (from chromadb) (6.5.2)\n",
            "Requirement already satisfied: grpcio>=1.58.0 in /usr/local/lib/python3.11/dist-packages (from chromadb) (1.70.0)\n",
            "Requirement already satisfied: bcrypt>=4.0.1 in /usr/local/lib/python3.11/dist-packages (from chromadb) (4.2.1)\n",
            "Requirement already satisfied: typer>=0.9.0 in /usr/local/lib/python3.11/dist-packages (from chromadb) (0.15.1)\n",
            "Requirement already satisfied: kubernetes>=28.1.0 in /usr/local/lib/python3.11/dist-packages (from chromadb) (32.0.0)\n",
            "Requirement already satisfied: tenacity>=8.2.3 in /usr/local/lib/python3.11/dist-packages (from chromadb) (9.0.0)\n",
            "Requirement already satisfied: PyYAML>=6.0.0 in /usr/local/lib/python3.11/dist-packages (from chromadb) (6.0.2)\n",
            "Requirement already satisfied: mmh3>=4.0.1 in /usr/local/lib/python3.11/dist-packages (from chromadb) (5.1.0)\n",
            "Requirement already satisfied: orjson>=3.9.12 in /usr/local/lib/python3.11/dist-packages (from chromadb) (3.10.15)\n",
            "Requirement already satisfied: httpx>=0.27.0 in /usr/local/lib/python3.11/dist-packages (from chromadb) (0.28.1)\n",
            "Requirement already satisfied: rich>=10.11.0 in /usr/local/lib/python3.11/dist-packages (from chromadb) (13.9.4)\n",
            "Requirement already satisfied: packaging>=19.1 in /usr/local/lib/python3.11/dist-packages (from build>=1.0.3->chromadb) (24.2)\n",
            "Requirement already satisfied: pyproject_hooks in /usr/local/lib/python3.11/dist-packages (from build>=1.0.3->chromadb) (1.2.0)\n",
            "Requirement already satisfied: starlette<0.46.0,>=0.40.0 in /usr/local/lib/python3.11/dist-packages (from fastapi>=0.95.2->chromadb) (0.45.3)\n",
            "Requirement already satisfied: anyio in /usr/local/lib/python3.11/dist-packages (from httpx>=0.27.0->chromadb) (3.7.1)\n",
            "Requirement already satisfied: certifi in /usr/local/lib/python3.11/dist-packages (from httpx>=0.27.0->chromadb) (2025.1.31)\n",
            "Requirement already satisfied: httpcore==1.* in /usr/local/lib/python3.11/dist-packages (from httpx>=0.27.0->chromadb) (1.0.7)\n",
            "Requirement already satisfied: idna in /usr/local/lib/python3.11/dist-packages (from httpx>=0.27.0->chromadb) (3.10)\n",
            "Requirement already satisfied: h11<0.15,>=0.13 in /usr/local/lib/python3.11/dist-packages (from httpcore==1.*->httpx>=0.27.0->chromadb) (0.14.0)\n",
            "Requirement already satisfied: six>=1.9.0 in /usr/local/lib/python3.11/dist-packages (from kubernetes>=28.1.0->chromadb) (1.17.0)\n",
            "Requirement already satisfied: python-dateutil>=2.5.3 in /usr/local/lib/python3.11/dist-packages (from kubernetes>=28.1.0->chromadb) (2.8.2)\n",
            "Requirement already satisfied: google-auth>=1.0.1 in /usr/local/lib/python3.11/dist-packages (from kubernetes>=28.1.0->chromadb) (2.27.0)\n",
            "Requirement already satisfied: websocket-client!=0.40.0,!=0.41.*,!=0.42.*,>=0.32.0 in /usr/local/lib/python3.11/dist-packages (from kubernetes>=28.1.0->chromadb) (1.8.0)\n",
            "Requirement already satisfied: requests in /usr/local/lib/python3.11/dist-packages (from kubernetes>=28.1.0->chromadb) (2.32.3)\n",
            "Requirement already satisfied: requests-oauthlib in /usr/local/lib/python3.11/dist-packages (from kubernetes>=28.1.0->chromadb) (2.0.0)\n",
            "Requirement already satisfied: oauthlib>=3.2.2 in /usr/local/lib/python3.11/dist-packages (from kubernetes>=28.1.0->chromadb) (3.2.2)\n",
            "Requirement already satisfied: urllib3>=1.24.2 in /usr/local/lib/python3.11/dist-packages (from kubernetes>=28.1.0->chromadb) (2.3.0)\n",
            "Requirement already satisfied: durationpy>=0.7 in /usr/local/lib/python3.11/dist-packages (from kubernetes>=28.1.0->chromadb) (0.9)\n",
            "Requirement already satisfied: coloredlogs in /usr/local/lib/python3.11/dist-packages (from onnxruntime>=1.14.1->chromadb) (15.0.1)\n",
            "Requirement already satisfied: flatbuffers in /usr/local/lib/python3.11/dist-packages (from onnxruntime>=1.14.1->chromadb) (25.2.10)\n",
            "Requirement already satisfied: protobuf in /usr/local/lib/python3.11/dist-packages (from onnxruntime>=1.14.1->chromadb) (5.29.3)\n",
            "Requirement already satisfied: sympy in /usr/local/lib/python3.11/dist-packages (from onnxruntime>=1.14.1->chromadb) (1.13.1)\n",
            "Requirement already satisfied: deprecated>=1.2.6 in /usr/local/lib/python3.11/dist-packages (from opentelemetry-api>=1.2.0->chromadb) (1.2.18)\n",
            "Requirement already satisfied: importlib-metadata<=8.5.0,>=6.0 in /usr/local/lib/python3.11/dist-packages (from opentelemetry-api>=1.2.0->chromadb) (8.5.0)\n",
            "Requirement already satisfied: googleapis-common-protos~=1.52 in /usr/local/lib/python3.11/dist-packages (from opentelemetry-exporter-otlp-proto-grpc>=1.2.0->chromadb) (1.66.0)\n",
            "Requirement already satisfied: opentelemetry-exporter-otlp-proto-common==1.30.0 in /usr/local/lib/python3.11/dist-packages (from opentelemetry-exporter-otlp-proto-grpc>=1.2.0->chromadb) (1.30.0)\n",
            "Requirement already satisfied: opentelemetry-proto==1.30.0 in /usr/local/lib/python3.11/dist-packages (from opentelemetry-exporter-otlp-proto-grpc>=1.2.0->chromadb) (1.30.0)\n",
            "Requirement already satisfied: opentelemetry-instrumentation-asgi==0.51b0 in /usr/local/lib/python3.11/dist-packages (from opentelemetry-instrumentation-fastapi>=0.41b0->chromadb) (0.51b0)\n",
            "Requirement already satisfied: opentelemetry-instrumentation==0.51b0 in /usr/local/lib/python3.11/dist-packages (from opentelemetry-instrumentation-fastapi>=0.41b0->chromadb) (0.51b0)\n",
            "Requirement already satisfied: opentelemetry-semantic-conventions==0.51b0 in /usr/local/lib/python3.11/dist-packages (from opentelemetry-instrumentation-fastapi>=0.41b0->chromadb) (0.51b0)\n",
            "Requirement already satisfied: opentelemetry-util-http==0.51b0 in /usr/local/lib/python3.11/dist-packages (from opentelemetry-instrumentation-fastapi>=0.41b0->chromadb) (0.51b0)\n",
            "Requirement already satisfied: wrapt<2.0.0,>=1.0.0 in /usr/local/lib/python3.11/dist-packages (from opentelemetry-instrumentation==0.51b0->opentelemetry-instrumentation-fastapi>=0.41b0->chromadb) (1.17.2)\n",
            "Requirement already satisfied: asgiref~=3.0 in /usr/local/lib/python3.11/dist-packages (from opentelemetry-instrumentation-asgi==0.51b0->opentelemetry-instrumentation-fastapi>=0.41b0->chromadb) (3.8.1)\n",
            "Requirement already satisfied: monotonic>=1.5 in /usr/local/lib/python3.11/dist-packages (from posthog>=2.4.0->chromadb) (1.6)\n",
            "Requirement already satisfied: backoff>=1.10.0 in /usr/local/lib/python3.11/dist-packages (from posthog>=2.4.0->chromadb) (2.2.1)\n",
            "Requirement already satisfied: annotated-types>=0.6.0 in /usr/local/lib/python3.11/dist-packages (from pydantic>=1.9->chromadb) (0.7.0)\n",
            "Requirement already satisfied: pydantic-core==2.27.2 in /usr/local/lib/python3.11/dist-packages (from pydantic>=1.9->chromadb) (2.27.2)\n",
            "Requirement already satisfied: markdown-it-py>=2.2.0 in /usr/local/lib/python3.11/dist-packages (from rich>=10.11.0->chromadb) (3.0.0)\n",
            "Requirement already satisfied: pygments<3.0.0,>=2.13.0 in /usr/local/lib/python3.11/dist-packages (from rich>=10.11.0->chromadb) (2.18.0)\n",
            "Requirement already satisfied: huggingface-hub<1.0,>=0.16.4 in /usr/local/lib/python3.11/dist-packages (from tokenizers>=0.13.2->chromadb) (0.28.1)\n",
            "Requirement already satisfied: click>=8.0.0 in /usr/local/lib/python3.11/dist-packages (from typer>=0.9.0->chromadb) (8.1.8)\n",
            "Requirement already satisfied: shellingham>=1.3.0 in /usr/local/lib/python3.11/dist-packages (from typer>=0.9.0->chromadb) (1.5.4)\n",
            "Requirement already satisfied: httptools>=0.6.3 in /usr/local/lib/python3.11/dist-packages (from uvicorn[standard]>=0.18.3->chromadb) (0.6.4)\n",
            "Requirement already satisfied: python-dotenv>=0.13 in /usr/local/lib/python3.11/dist-packages (from uvicorn[standard]>=0.18.3->chromadb) (1.0.1)\n",
            "Requirement already satisfied: uvloop!=0.15.0,!=0.15.1,>=0.14.0 in /usr/local/lib/python3.11/dist-packages (from uvicorn[standard]>=0.18.3->chromadb) (0.21.0)\n",
            "Requirement already satisfied: watchfiles>=0.13 in /usr/local/lib/python3.11/dist-packages (from uvicorn[standard]>=0.18.3->chromadb) (1.0.4)\n",
            "Requirement already satisfied: websockets>=10.4 in /usr/local/lib/python3.11/dist-packages (from uvicorn[standard]>=0.18.3->chromadb) (14.2)\n",
            "Requirement already satisfied: cachetools<6.0,>=2.0.0 in /usr/local/lib/python3.11/dist-packages (from google-auth>=1.0.1->kubernetes>=28.1.0->chromadb) (5.5.1)\n",
            "Requirement already satisfied: pyasn1-modules>=0.2.1 in /usr/local/lib/python3.11/dist-packages (from google-auth>=1.0.1->kubernetes>=28.1.0->chromadb) (0.4.1)\n",
            "Requirement already satisfied: rsa<5,>=3.1.4 in /usr/local/lib/python3.11/dist-packages (from google-auth>=1.0.1->kubernetes>=28.1.0->chromadb) (4.9)\n",
            "Requirement already satisfied: filelock in /usr/local/lib/python3.11/dist-packages (from huggingface-hub<1.0,>=0.16.4->tokenizers>=0.13.2->chromadb) (3.17.0)\n",
            "Requirement already satisfied: fsspec>=2023.5.0 in /usr/local/lib/python3.11/dist-packages (from huggingface-hub<1.0,>=0.16.4->tokenizers>=0.13.2->chromadb) (2024.10.0)\n",
            "Requirement already satisfied: zipp>=3.20 in /usr/local/lib/python3.11/dist-packages (from importlib-metadata<=8.5.0,>=6.0->opentelemetry-api>=1.2.0->chromadb) (3.21.0)\n",
            "Requirement already satisfied: mdurl~=0.1 in /usr/local/lib/python3.11/dist-packages (from markdown-it-py>=2.2.0->rich>=10.11.0->chromadb) (0.1.2)\n",
            "Requirement already satisfied: charset-normalizer<4,>=2 in /usr/local/lib/python3.11/dist-packages (from requests->kubernetes>=28.1.0->chromadb) (3.4.1)\n",
            "Requirement already satisfied: sniffio>=1.1 in /usr/local/lib/python3.11/dist-packages (from anyio->httpx>=0.27.0->chromadb) (1.3.1)\n",
            "Requirement already satisfied: humanfriendly>=9.1 in /usr/local/lib/python3.11/dist-packages (from coloredlogs->onnxruntime>=1.14.1->chromadb) (10.0)\n",
            "Requirement already satisfied: mpmath<1.4,>=1.1.0 in /usr/local/lib/python3.11/dist-packages (from sympy->onnxruntime>=1.14.1->chromadb) (1.3.0)\n",
            "Requirement already satisfied: pyasn1<0.7.0,>=0.4.6 in /usr/local/lib/python3.11/dist-packages (from pyasn1-modules>=0.2.1->google-auth>=1.0.1->kubernetes>=28.1.0->chromadb) (0.6.1)\n"
          ]
        }
      ]
    },
    {
      "cell_type": "code",
      "source": [
        "!pip install langchain-community # Install the langchain-community package\n",
        "import uuid\n",
        "from langchain.retrievers.multi_vector import MultiVectorRetriever\n",
        "from langchain.storage import InMemoryStore\n",
        "from langchain_community.vectorstores import Chroma\n",
        "from langchain_core.documents import Document\n",
        "from langchain_openai import OpenAIEmbeddings\n"
      ],
      "metadata": {
        "colab": {
          "base_uri": "https://localhost:8080/"
        },
        "id": "xBatqurdtyWe",
        "outputId": "79e343b0-9a28-432b-88e9-793ea43691e5"
      },
      "execution_count": 50,
      "outputs": [
        {
          "output_type": "stream",
          "name": "stdout",
          "text": [
            "Requirement already satisfied: langchain-community in /usr/local/lib/python3.11/dist-packages (0.3.17)\n",
            "Requirement already satisfied: langchain-core<1.0.0,>=0.3.34 in /usr/local/lib/python3.11/dist-packages (from langchain-community) (0.3.35)\n",
            "Requirement already satisfied: langchain<1.0.0,>=0.3.18 in /usr/local/lib/python3.11/dist-packages (from langchain-community) (0.3.18)\n",
            "Requirement already satisfied: SQLAlchemy<3,>=1.4 in /usr/local/lib/python3.11/dist-packages (from langchain-community) (2.0.38)\n",
            "Requirement already satisfied: requests<3,>=2 in /usr/local/lib/python3.11/dist-packages (from langchain-community) (2.32.3)\n",
            "Requirement already satisfied: PyYAML>=5.3 in /usr/local/lib/python3.11/dist-packages (from langchain-community) (6.0.2)\n",
            "Requirement already satisfied: aiohttp<4.0.0,>=3.8.3 in /usr/local/lib/python3.11/dist-packages (from langchain-community) (3.11.12)\n",
            "Requirement already satisfied: tenacity!=8.4.0,<10,>=8.1.0 in /usr/local/lib/python3.11/dist-packages (from langchain-community) (9.0.0)\n",
            "Requirement already satisfied: dataclasses-json<0.7,>=0.5.7 in /usr/local/lib/python3.11/dist-packages (from langchain-community) (0.6.7)\n",
            "Requirement already satisfied: pydantic-settings<3.0.0,>=2.4.0 in /usr/local/lib/python3.11/dist-packages (from langchain-community) (2.7.1)\n",
            "Requirement already satisfied: langsmith<0.4,>=0.1.125 in /usr/local/lib/python3.11/dist-packages (from langchain-community) (0.3.8)\n",
            "Requirement already satisfied: httpx-sse<1.0.0,>=0.4.0 in /usr/local/lib/python3.11/dist-packages (from langchain-community) (0.4.0)\n",
            "Requirement already satisfied: numpy<2,>=1.26.4 in /usr/local/lib/python3.11/dist-packages (from langchain-community) (1.26.4)\n",
            "Requirement already satisfied: aiohappyeyeballs>=2.3.0 in /usr/local/lib/python3.11/dist-packages (from aiohttp<4.0.0,>=3.8.3->langchain-community) (2.4.6)\n",
            "Requirement already satisfied: aiosignal>=1.1.2 in /usr/local/lib/python3.11/dist-packages (from aiohttp<4.0.0,>=3.8.3->langchain-community) (1.3.2)\n",
            "Requirement already satisfied: attrs>=17.3.0 in /usr/local/lib/python3.11/dist-packages (from aiohttp<4.0.0,>=3.8.3->langchain-community) (25.1.0)\n",
            "Requirement already satisfied: frozenlist>=1.1.1 in /usr/local/lib/python3.11/dist-packages (from aiohttp<4.0.0,>=3.8.3->langchain-community) (1.5.0)\n",
            "Requirement already satisfied: multidict<7.0,>=4.5 in /usr/local/lib/python3.11/dist-packages (from aiohttp<4.0.0,>=3.8.3->langchain-community) (6.1.0)\n",
            "Requirement already satisfied: propcache>=0.2.0 in /usr/local/lib/python3.11/dist-packages (from aiohttp<4.0.0,>=3.8.3->langchain-community) (0.2.1)\n",
            "Requirement already satisfied: yarl<2.0,>=1.17.0 in /usr/local/lib/python3.11/dist-packages (from aiohttp<4.0.0,>=3.8.3->langchain-community) (1.18.3)\n",
            "Requirement already satisfied: marshmallow<4.0.0,>=3.18.0 in /usr/local/lib/python3.11/dist-packages (from dataclasses-json<0.7,>=0.5.7->langchain-community) (3.26.1)\n",
            "Requirement already satisfied: typing-inspect<1,>=0.4.0 in /usr/local/lib/python3.11/dist-packages (from dataclasses-json<0.7,>=0.5.7->langchain-community) (0.9.0)\n",
            "Requirement already satisfied: langchain-text-splitters<1.0.0,>=0.3.6 in /usr/local/lib/python3.11/dist-packages (from langchain<1.0.0,>=0.3.18->langchain-community) (0.3.6)\n",
            "Requirement already satisfied: pydantic<3.0.0,>=2.7.4 in /usr/local/lib/python3.11/dist-packages (from langchain<1.0.0,>=0.3.18->langchain-community) (2.10.6)\n",
            "Requirement already satisfied: jsonpatch<2.0,>=1.33 in /usr/local/lib/python3.11/dist-packages (from langchain-core<1.0.0,>=0.3.34->langchain-community) (1.33)\n",
            "Requirement already satisfied: packaging<25,>=23.2 in /usr/local/lib/python3.11/dist-packages (from langchain-core<1.0.0,>=0.3.34->langchain-community) (24.2)\n",
            "Requirement already satisfied: typing-extensions>=4.7 in /usr/local/lib/python3.11/dist-packages (from langchain-core<1.0.0,>=0.3.34->langchain-community) (4.12.2)\n",
            "Requirement already satisfied: httpx<1,>=0.23.0 in /usr/local/lib/python3.11/dist-packages (from langsmith<0.4,>=0.1.125->langchain-community) (0.28.1)\n",
            "Requirement already satisfied: orjson<4.0.0,>=3.9.14 in /usr/local/lib/python3.11/dist-packages (from langsmith<0.4,>=0.1.125->langchain-community) (3.10.15)\n",
            "Requirement already satisfied: requests-toolbelt<2.0.0,>=1.0.0 in /usr/local/lib/python3.11/dist-packages (from langsmith<0.4,>=0.1.125->langchain-community) (1.0.0)\n",
            "Requirement already satisfied: zstandard<0.24.0,>=0.23.0 in /usr/local/lib/python3.11/dist-packages (from langsmith<0.4,>=0.1.125->langchain-community) (0.23.0)\n",
            "Requirement already satisfied: python-dotenv>=0.21.0 in /usr/local/lib/python3.11/dist-packages (from pydantic-settings<3.0.0,>=2.4.0->langchain-community) (1.0.1)\n",
            "Requirement already satisfied: charset-normalizer<4,>=2 in /usr/local/lib/python3.11/dist-packages (from requests<3,>=2->langchain-community) (3.4.1)\n",
            "Requirement already satisfied: idna<4,>=2.5 in /usr/local/lib/python3.11/dist-packages (from requests<3,>=2->langchain-community) (3.10)\n",
            "Requirement already satisfied: urllib3<3,>=1.21.1 in /usr/local/lib/python3.11/dist-packages (from requests<3,>=2->langchain-community) (2.3.0)\n",
            "Requirement already satisfied: certifi>=2017.4.17 in /usr/local/lib/python3.11/dist-packages (from requests<3,>=2->langchain-community) (2025.1.31)\n",
            "Requirement already satisfied: greenlet!=0.4.17 in /usr/local/lib/python3.11/dist-packages (from SQLAlchemy<3,>=1.4->langchain-community) (3.1.1)\n",
            "Requirement already satisfied: anyio in /usr/local/lib/python3.11/dist-packages (from httpx<1,>=0.23.0->langsmith<0.4,>=0.1.125->langchain-community) (3.7.1)\n",
            "Requirement already satisfied: httpcore==1.* in /usr/local/lib/python3.11/dist-packages (from httpx<1,>=0.23.0->langsmith<0.4,>=0.1.125->langchain-community) (1.0.7)\n",
            "Requirement already satisfied: h11<0.15,>=0.13 in /usr/local/lib/python3.11/dist-packages (from httpcore==1.*->httpx<1,>=0.23.0->langsmith<0.4,>=0.1.125->langchain-community) (0.14.0)\n",
            "Requirement already satisfied: jsonpointer>=1.9 in /usr/local/lib/python3.11/dist-packages (from jsonpatch<2.0,>=1.33->langchain-core<1.0.0,>=0.3.34->langchain-community) (3.0.0)\n",
            "Requirement already satisfied: annotated-types>=0.6.0 in /usr/local/lib/python3.11/dist-packages (from pydantic<3.0.0,>=2.7.4->langchain<1.0.0,>=0.3.18->langchain-community) (0.7.0)\n",
            "Requirement already satisfied: pydantic-core==2.27.2 in /usr/local/lib/python3.11/dist-packages (from pydantic<3.0.0,>=2.7.4->langchain<1.0.0,>=0.3.18->langchain-community) (2.27.2)\n",
            "Requirement already satisfied: mypy-extensions>=0.3.0 in /usr/local/lib/python3.11/dist-packages (from typing-inspect<1,>=0.4.0->dataclasses-json<0.7,>=0.5.7->langchain-community) (1.0.0)\n",
            "Requirement already satisfied: sniffio>=1.1 in /usr/local/lib/python3.11/dist-packages (from anyio->httpx<1,>=0.23.0->langsmith<0.4,>=0.1.125->langchain-community) (1.3.1)\n"
          ]
        }
      ]
    },
    {
      "cell_type": "code",
      "source": [
        "def create_multi_vector_retriever(vectorstore, text_summaries, texts, table_summaries, tables, image_summaries, images):\n",
        "    \"\"\"\n",
        "    Create retriever that indexes summaries, but returns raw images or texts\n",
        "    \"\"\"\n",
        "\n",
        "    # Initialize the storage layer\n",
        "    store = InMemoryStore()\n",
        "    id_key = \"doc_id\"\n",
        "\n",
        "    # Create the multi-vector retriever\n",
        "    retriever = MultiVectorRetriever(\n",
        "        vectorstore=vectorstore,\n",
        "        docstore=store,\n",
        "        id_key=id_key,\n",
        "    )\n",
        "\n",
        "\n",
        "    # Helper function to add documents to the vectorstore and docstore\n",
        "    def add_documents(retriever, doc_summaries, doc_contents):\n",
        "\n",
        "      doc_ids = [str(uuid.uuid4()) for _ in doc_contents]\n",
        "\n",
        "      summary_docs = [\n",
        "              Document(page_content=s, metadata={id_key: doc_ids[i]})\n",
        "              for i, s in enumerate(doc_summaries)\n",
        "          ]\n",
        "\n",
        "      retriever.vectorstore.add_documents(summary_docs)\n",
        "      retriever.docstore.mset(list(zip(doc_ids, doc_contents)))\n",
        "\n",
        "      # Add texts, tables, and images\n",
        "      # Check that text_summaries is not empty before adding\n",
        "      if text_summaries:\n",
        "          add_documents(retriever, text_summaries, texts)\n",
        "      # Check that table_summaries is not empty before adding\n",
        "      if table_summaries:\n",
        "          add_documents(retriever, table_summaries, tab)\n",
        "      # Check that image_summaries is not empty before adding\n",
        "      if image_summaries:\n",
        "          add_documents(retriever, image_summaries, img)\n",
        "\n",
        "    return retriever\n",
        "\n",
        "vectorstore = Chroma(\n",
        "    collection_name=\"mm_rag\", embedding_function=OpenAIEmbeddings()\n",
        ")\n",
        "\n",
        "# Create retriever\n",
        "retriever_multi_vector_img = create_multi_vector_retriever(\n",
        "    vectorstore,\n",
        "    text_summaries,\n",
        "    Text,\n",
        "    table_summaries,\n",
        "    tab,\n",
        "    image_summaries,\n",
        "    img_base64_list,\n",
        ")"
      ],
      "metadata": {
        "id": "e0rSDyAyu3qK",
        "colab": {
          "base_uri": "https://localhost:8080/"
        },
        "outputId": "3dd89c1c-4dd7-4977-9c61-1faf97585b06"
      },
      "execution_count": 51,
      "outputs": [
        {
          "output_type": "stream",
          "name": "stderr",
          "text": [
            "<ipython-input-51-774abcc1f032>:44: LangChainDeprecationWarning: The class `Chroma` was deprecated in LangChain 0.2.9 and will be removed in 1.0. An updated version of the class exists in the :class:`~langchain-chroma package and should be used instead. To use it run `pip install -U :class:`~langchain-chroma` and import as `from :class:`~langchain_chroma import Chroma``.\n",
            "  vectorstore = Chroma(\n"
          ]
        }
      ]
    },
    {
      "cell_type": "code",
      "source": [
        "retriever_multi_vector_img"
      ],
      "metadata": {
        "colab": {
          "base_uri": "https://localhost:8080/"
        },
        "id": "GlTEsBUYKPIk",
        "outputId": "dd8c9da3-6bb8-4208-f2a2-a9b421c74a06"
      },
      "execution_count": 52,
      "outputs": [
        {
          "output_type": "execute_result",
          "data": {
            "text/plain": [
              "MultiVectorRetriever(vectorstore=<langchain_community.vectorstores.chroma.Chroma object at 0x78d6850ae690>, docstore=<langchain_core.stores.InMemoryStore object at 0x78d685d2cd10>, search_kwargs={})"
            ]
          },
          "metadata": {},
          "execution_count": 52
        }
      ]
    },
    {
      "cell_type": "code",
      "source": [
        "import io\n",
        "import re\n",
        "\n",
        "from IPython.display import HTML, display\n",
        "from PIL import Image\n",
        ""
      ],
      "metadata": {
        "id": "Hs7bYUPFNV1w"
      },
      "execution_count": 53,
      "outputs": []
    },
    {
      "cell_type": "code",
      "source": [
        "def plt_img_base64(img_base64):\n",
        "    \"\"\"Disply base64 encoded string as image\"\"\"\n",
        "    # Create an HTML img tag with the base64 string as the source\n",
        "    image_html = f''\n",
        "    # Display the image by rendering the HTML\n",
        "    display(HTML(image_html))\n"
      ],
      "metadata": {
        "id": "d6joAK3iNXVG"
      },
      "execution_count": 54,
      "outputs": []
    },
    {
      "cell_type": "code",
      "source": [
        "plt_img_base64(img_base64_list[1])"
      ],
      "metadata": {
        "colab": {
          "base_uri": "https://localhost:8080/",
          "height": 17
        },
        "id": "Bmj3UYBrNjR_",
        "outputId": "d43cdabb-59d4-4a73-cf7a-4801da5271cb"
      },
      "execution_count": 55,
      "outputs": [
        {
          "output_type": "display_data",
          "data": {
            "text/plain": [
              "<IPython.core.display.HTML object>"
            ],
            "text/html": []
          },
          "metadata": {}
        }
      ]
    },
    {
      "cell_type": "code",
      "source": [
        "image_summaries[1]"
      ],
      "metadata": {
        "colab": {
          "base_uri": "https://localhost:8080/",
          "height": 126
        },
        "id": "INFh4JKCNrl3",
        "outputId": "35e79513-cf8c-4912-ba30-02a90fdcd89d"
      },
      "execution_count": 56,
      "outputs": [
        {
          "output_type": "execute_result",
          "data": {
            "text/plain": [
              "'Diagram illustrating an end-to-end machine learning model for question answering and fact verification. It includes a query encoder for processing input queries, a non-parametric retriever that uses MIPS for document indexing, and a parametric generator for answer and label generation. The workflow involves backpropagation through the encoder and generator parts. Queries shown include defining \"middle ear\" and verifying facts about Barack Obama and \"The Divine Comedy.\"'"
            ],
            "application/vnd.google.colaboratory.intrinsic+json": {
              "type": "string"
            }
          },
          "metadata": {},
          "execution_count": 56
        }
      ]
    },
    {
      "cell_type": "code",
      "source": [
        "def looks_like_base64(sb):\n",
        "    \"\"\"Check if the string looks like base64\"\"\"\n",
        "    return re.match(\"^[A-Za-z0-9+/]+[=]{0,2}$\", sb) is not None"
      ],
      "metadata": {
        "id": "OaDwlNtlORzF"
      },
      "execution_count": 57,
      "outputs": []
    },
    {
      "cell_type": "code",
      "source": [
        "def is_image_data(b64data):\n",
        "    \"\"\"\n",
        "    Check if the base64 data is an image by looking at the start of the data\n",
        "    \"\"\"\n",
        "    image_signatures = {\n",
        "        b\"\\xFF\\xD8\\xFF\": \"jpg\",\n",
        "        b\"\\x89\\x50\\x4E\\x47\\x0D\\x0A\\x1A\\x0A\": \"png\",\n",
        "        b\"\\x47\\x49\\x46\\x38\": \"gif\",\n",
        "        b\"\\x52\\x49\\x46\\x46\": \"webp\",\n",
        "    }\n",
        "    try:\n",
        "        header = base64.b64decode(b64data)[:8]  # Decode and get the first 8 bytes\n",
        "        for sig, format in image_signatures.items():\n",
        "            if header.startswith(sig):\n",
        "                return True\n",
        "        return False\n",
        "    except Exception:\n",
        "        return False"
      ],
      "metadata": {
        "id": "XNT_ILEzOTLN"
      },
      "execution_count": 58,
      "outputs": []
    },
    {
      "cell_type": "code",
      "source": [
        "def resize_base64_image(base64_string, size=(128, 128)):\n",
        "    \"\"\"\n",
        "    Resize an image encoded as a Base64 string\n",
        "    \"\"\"\n",
        "    # Decode the Base64 string\n",
        "    img_data = base64.b64decode(base64_string)\n",
        "    img = Image.open(io.BytesIO(img_data))\n",
        "\n",
        "    # Resize the image\n",
        "    resized_img = img.resize(size, Image.LANCZOS)\n",
        "\n",
        "    # Save the resized image to a bytes buffer\n",
        "    buffered = io.BytesIO()\n",
        "    resized_img.save(buffered, format=img.format)\n",
        "\n",
        "    # Encode the resized image to Base64\n",
        "    return base64.b64encode(buffered.getvalue()).decode(\"utf-8\")"
      ],
      "metadata": {
        "id": "RHin_1EpOYFn"
      },
      "execution_count": 59,
      "outputs": []
    },
    {
      "cell_type": "code",
      "source": [
        "def split_image_text_types(docs):\n",
        "    \"\"\"\n",
        "    Split base64-encoded images and texts\n",
        "    \"\"\"\n",
        "    b64_images = []\n",
        "    texts = []\n",
        "\n",
        "    for doc in docs:\n",
        "        # Check if the document is of type Document and extract page_content if so\n",
        "        if isinstance(doc, Document):\n",
        "            doc = doc.page_content\n",
        "        if looks_like_base64(doc) and is_image_data(doc):\n",
        "            doc = resize_base64_image(doc, size=(1300, 600))\n",
        "            b64_images.append(doc)\n",
        "        else:\n",
        "            texts.append(doc)\n",
        "\n",
        "    return {\"images\": b64_images, \"texts\": texts}\n",
        ""
      ],
      "metadata": {
        "id": "AZxYPLUtceYN"
      },
      "execution_count": 60,
      "outputs": []
    },
    {
      "cell_type": "code",
      "source": [
        "def img_prompt_func(data_dict):\n",
        "    \"\"\"\n",
        "    Join the context into a single string\n",
        "    \"\"\"\n",
        "    #print(data_dict)\n",
        "    formatted_texts = \"\\n\".join(data_dict[\"context\"][\"texts\"])\n",
        "    messages = []\n",
        "\n",
        "    # Adding image(s) to the messages if present\n",
        "    if data_dict[\"context\"][\"images\"]:\n",
        "        for image in data_dict[\"context\"][\"images\"]:\n",
        "            image_message = {\n",
        "                \"type\": \"image_url\",\n",
        "                \"image_url\": {\"url\": f\"data:image/jpeg;base64,{image}\"},\n",
        "            }\n",
        "            messages.append(image_message)\n",
        "\n",
        "    # Adding the text for analysis\n",
        "    text_message = {\n",
        "        \"type\": \"text\",\n",
        "        \"text\": (\n",
        "            \"You are a helpful assistant.\\n\"\n",
        "            \"You will be given a mixed info(s) .\\n\"\n",
        "            \"Use this information to provide relevant information to the user question. \\n\"\n",
        "            f\"User-provided question: {data_dict['question']}\\n\\n\"\n",
        "            \"Text and / or tables:\\n\"\n",
        "            f\"{formatted_texts}\"\n",
        "        ),\n",
        "    }\n",
        "    messages.append(text_message)\n",
        "    return [HumanMessage(content=messages)]\n",
        ""
      ],
      "metadata": {
        "id": "RZ6jcAGnPvOu"
      },
      "execution_count": 61,
      "outputs": []
    },
    {
      "cell_type": "code",
      "source": [
        "from langchain_core.runnables import RunnableLambda, RunnablePassthrough\n",
        ""
      ],
      "metadata": {
        "id": "0sUmuvPjPz3T"
      },
      "execution_count": 62,
      "outputs": []
    },
    {
      "cell_type": "code",
      "source": [
        "def multi_modal_rag_chain(retriever):\n",
        "    \"\"\"\n",
        "    Multi-modal RAG chain\n",
        "    \"\"\"\n",
        "\n",
        "    # Multi-modal LLM\n",
        "    model = ChatOpenAI(temperature=0, model=\"gpt-4o\", max_tokens=1024)\n",
        "\n",
        "\n",
        "    # RAG pipeline\n",
        "    chain = (\n",
        "        {\n",
        "            \"context\": retriever | RunnableLambda(split_image_text_types),\n",
        "            \"question\": RunnablePassthrough(),\n",
        "        }\n",
        "        | RunnableLambda(img_prompt_func)\n",
        "        | model\n",
        "        | StrOutputParser()\n",
        "    )\n",
        "\n",
        "    return chain"
      ],
      "metadata": {
        "id": "leB7SUbRP4rC"
      },
      "execution_count": 63,
      "outputs": []
    },
    {
      "cell_type": "code",
      "source": [
        "# Create RAG chain\n",
        "chain_multimodal_rag = multi_modal_rag_chain(retriever_multi_vector_img)\n",
        ""
      ],
      "metadata": {
        "id": "Sp7fEoYYQBAe"
      },
      "execution_count": 64,
      "outputs": []
    },
    {
      "cell_type": "code",
      "source": [
        "chain_multimodal_rag\n",
        ""
      ],
      "metadata": {
        "colab": {
          "base_uri": "https://localhost:8080/"
        },
        "id": "aZFtWdEJQGvW",
        "outputId": "efff7f84-ecc7-4939-ed3e-43a5ebd3a363"
      },
      "execution_count": 65,
      "outputs": [
        {
          "output_type": "execute_result",
          "data": {
            "text/plain": [
              "{\n",
              "  context: MultiVectorRetriever(vectorstore=<langchain_community.vectorstores.chroma.Chroma object at 0x78d6850ae690>, docstore=<langchain_core.stores.InMemoryStore object at 0x78d685d2cd10>, search_kwargs={})\n",
              "           | RunnableLambda(split_image_text_types),\n",
              "  question: RunnablePassthrough()\n",
              "}\n",
              "| RunnableLambda(img_prompt_func)\n",
              "| ChatOpenAI(client=<openai.resources.chat.completions.Completions object at 0x78d6847ae950>, async_client=<openai.resources.chat.completions.AsyncCompletions object at 0x78d6858b7c10>, root_client=<openai.OpenAI object at 0x78d68501a150>, root_async_client=<openai.AsyncOpenAI object at 0x78d6854caa50>, model_name='gpt-4o', temperature=0.0, model_kwargs={}, openai_api_key=SecretStr('**********'), max_tokens=1024)\n",
              "| StrOutputParser()"
            ]
          },
          "metadata": {},
          "execution_count": 65
        }
      ]
    },
    {
      "cell_type": "code",
      "source": [
        "# Check retrieval\n",
        "query = \"Why We combine a pre-trained retriever (Query Encoder + Document Index) with a pre-trained seq2seq model (Generator) and fine-tune end-to-end?\"\n",
        "docs = retriever_multi_vector_img.invoke(query)\n",
        "\n"
      ],
      "metadata": {
        "id": "OHdJRkJmQK0x"
      },
      "execution_count": 66,
      "outputs": []
    },
    {
      "cell_type": "code",
      "source": [
        "docs"
      ],
      "metadata": {
        "colab": {
          "base_uri": "https://localhost:8080/"
        },
        "id": "6JPtAInYcnoZ",
        "outputId": "e58ba465-a4fa-4d0d-f8fa-d5ce39e94bcb"
      },
      "execution_count": 67,
      "outputs": [
        {
          "output_type": "execute_result",
          "data": {
            "text/plain": [
              "[]"
            ]
          },
          "metadata": {},
          "execution_count": 67
        }
      ]
    },
    {
      "cell_type": "code",
      "source": [
        "query=\"Open-Domain QA Test Scores. For TQA,\\\n",
        "left column uses the standard test set for Open-\\\n",
        "Domain QA, right column uses the TQA-Wiki\\\n",
        "test set. See Appendix D for further details.\"\n",
        "\n"
      ],
      "metadata": {
        "id": "d-rsHAxwct-C"
      },
      "execution_count": 68,
      "outputs": []
    },
    {
      "cell_type": "code",
      "source": [
        "docs = retriever_multi_vector_img.invoke(query)\n",
        ""
      ],
      "metadata": {
        "id": "03MgnlcxcvpN"
      },
      "execution_count": 69,
      "outputs": []
    },
    {
      "cell_type": "code",
      "source": [
        "docs\n",
        ""
      ],
      "metadata": {
        "colab": {
          "base_uri": "https://localhost:8080/"
        },
        "id": "L6WA-AZmc4FR",
        "outputId": "6fc3cad0-4ad1-4a1d-abb0-fd9107e591a8"
      },
      "execution_count": 70,
      "outputs": [
        {
          "output_type": "execute_result",
          "data": {
            "text/plain": [
              "[]"
            ]
          },
          "metadata": {},
          "execution_count": 70
        }
      ]
    },
    {
      "cell_type": "code",
      "source": [
        "query1=\"Explain any images / figures in the paper with Left: NQ performance as more documents are retrieved. Center: Retrieval recall performance\\\n",
        "in NQ. Right: MS-MARCO Bleu-1 and Rouge-L as more documents are retrieved.\""
      ],
      "metadata": {
        "id": "3d1LX0JGdBBv"
      },
      "execution_count": 71,
      "outputs": []
    },
    {
      "cell_type": "code",
      "source": [
        "# Run RAG chain\n",
        "chain_multimodal_rag.invoke(query1)"
      ],
      "metadata": {
        "colab": {
          "base_uri": "https://localhost:8080/",
          "height": 235
        },
        "id": "fAdfb-7qdCdC",
        "outputId": "30ae9e47-fc0b-4a42-f7b6-4e9816fb5c83"
      },
      "execution_count": 72,
      "outputs": [
        {
          "output_type": "execute_result",
          "data": {
            "text/plain": [
              "\"To explain the images or figures described in the paper, let's break down each component based on the provided descriptions:\\n\\n1. **Left: NQ performance as more documents are retrieved**:\\n   - This figure likely shows a graph or chart that illustrates how the performance of a system on the Natural Questions (NQ) dataset changes as the number of retrieved documents increases.\\n   - The x-axis probably represents the number of documents retrieved, while the y-axis represents a performance metric, such as accuracy or F1 score.\\n   - The trend in the graph might show whether performance improves, plateaus, or declines as more documents are retrieved, providing insights into the optimal number of documents needed for best performance.\\n\\n2. **Center: Retrieval recall performance in NQ**:\\n   - This figure likely focuses on the recall metric, which measures the ability of the retrieval system to find all relevant documents in the Natural Questions dataset.\\n   - The x-axis might represent different configurations or numbers of documents retrieved, while the y-axis represents the recall percentage.\\n   - A higher recall indicates that the system is successfully retrieving a larger proportion of relevant documents, which is crucial for comprehensive information retrieval.\\n\\n3. **Right: MS-MARCO Bleu-1 and Rouge-L as more documents are retrieved**:\\n   - This figure probably shows how the Bleu-1 and Rouge-L scores, which are metrics for evaluating the quality of text generation or summarization, change as more documents are retrieved in the MS-MARCO dataset.\\n   - The x-axis likely represents the number of documents retrieved, while the y-axis shows the scores for Bleu-1 and Rouge-L.\\n   - The graph might illustrate whether retrieving more documents leads to better text generation quality, as indicated by higher Bleu-1 and Rouge-L scores, or if there is a point of diminishing returns.\\n\\nOverall, these figures collectively provide insights into the trade-offs and benefits of retrieving more documents in different datasets and tasks, helping to understand the impact on performance and quality.\""
            ],
            "application/vnd.google.colaboratory.intrinsic+json": {
              "type": "string"
            }
          },
          "metadata": {},
          "execution_count": 72
        }
      ]
    }
  ]
}